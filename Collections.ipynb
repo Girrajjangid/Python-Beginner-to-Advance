{
 "cells": [
  {
   "cell_type": "markdown",
   "metadata": {},
   "source": [
    "# Collection\n",
    "1. namedtuple\n",
    "2. Counter\n",
    "3. deque\n",
    "4. OrderedDict\n",
    "5. defaultDict"
   ]
  },
  {
   "cell_type": "code",
   "execution_count": 1,
   "metadata": {
    "collapsed": true
   },
   "outputs": [],
   "source": [
    "from collections import namedtuple"
   ]
  },
  {
   "cell_type": "code",
   "execution_count": 2,
   "metadata": {
    "collapsed": true
   },
   "outputs": [],
   "source": [
    "Point = namedtuple('point','x,y')"
   ]
  },
  {
   "cell_type": "code",
   "execution_count": 3,
   "metadata": {},
   "outputs": [
    {
     "name": "stdout",
     "output_type": "stream",
     "text": [
      "60\n"
     ]
    }
   ],
   "source": [
    "pt1 = Point(5,10)\n",
    "pt2 = Point(2,5)\n",
    "dot_product = ( pt1.x * pt2.x) + ( pt1.y * pt2.y)\n",
    "print(dot_product)"
   ]
  },
  {
   "cell_type": "code",
   "execution_count": 4,
   "metadata": {},
   "outputs": [
    {
     "name": "stdout",
     "output_type": "stream",
     "text": [
      "Car(Price=100000, Mileage=30, Colour='Cyan', Class='Y')\n",
      "Y\n"
     ]
    }
   ],
   "source": [
    "Car = namedtuple('Car','Price Mileage Colour Class')\n",
    "xyz = Car(Price = 100000, Mileage = 30, Colour = 'Cyan', Class = 'Y')\n",
    "print (xyz)\n",
    "print (xyz.Class)"
   ]
  },
  {
   "cell_type": "code",
   "execution_count": 21,
   "metadata": {},
   "outputs": [
    {
     "name": "stdout",
     "output_type": "stream",
     "text": [
      "5\n",
      "ID MARKS NA C\n",
      "1 97 as 1\n",
      "2 50 st 4\n",
      "3 91 wd 6\n",
      "4 72 dsf 9\n",
      "5 80 ef 3\n",
      "6 0 qs 9\n",
      "65.0\n"
     ]
    }
   ],
   "source": [
    "s = 0\n",
    "for i in range((int(input()))):\n",
    "    if i==0:\n",
    "        l = list(input().split()).index('MARKS')\n",
    "    s += int(list(input().split())[l])\n",
    "print((s/(i+1)))\n",
    "    \n",
    "    "
   ]
  },
  {
   "cell_type": "code",
   "execution_count": 5,
   "metadata": {},
   "outputs": [
    {
     "name": "stdout",
     "output_type": "stream",
     "text": [
      "{'a': 1, 'c': 3, 'b': 2, 'd': 4, 'e': 5}\n",
      "OrderedDict([('a', 1), ('c', 3), ('b', 2), ('d', 4), ('e', 5)])\n"
     ]
    }
   ],
   "source": [
    "# collection.orderdict\n",
    "from collections import OrderedDict\n",
    "od = {}  # unordered dictionary\n",
    "od['a'] = 1\n",
    "od['c'] = 3\n",
    "od['b'] = 2\n",
    "od['d'] = 4\n",
    "od['e'] = 5\n",
    "print(od)\n",
    "od = OrderedDict() # ordered dictionary\n",
    "od['a'] = 1\n",
    "od['c'] = 3\n",
    "od['b'] = 2\n",
    "od['d'] = 4\n",
    "od['e'] = 5\n",
    "print(od)"
   ]
  },
  {
   "cell_type": "code",
   "execution_count": 69,
   "metadata": {},
   "outputs": [
    {
     "name": "stdout",
     "output_type": "stream",
     "text": [
      "9\n",
      "APPLE JUICE 10\n",
      "BANANA FRIES 12\n",
      "POTATO CHIPS 30\n",
      "APPLE JUICE 10\n",
      "CANDY 5\n",
      "CANDY 5 \n",
      "CANDY 5\n",
      "POTATO CHIPS 30\n",
      "CANDY 5\n",
      "OrderedDict([('APPLE JUICE', 20), ('BANANA FRIES', 12), ('POTATO CHIPS', 60), ('CANDY', 20)])\n"
     ]
    }
   ],
   "source": [
    "from collections import OrderedDict\n",
    "d = OrderedDict()\n",
    "for i in range(int(input())):\n",
    "    x =  input().split()\n",
    "    if (' '.join(x[0:-1])) in d:\n",
    "        d[' '.join(x[0:-1])] += int(x[-1])\n",
    "    else:\n",
    "        d[' '.join(x[0:-1])] = int(x[-1])\n",
    "print(d)"
   ]
  },
  {
   "cell_type": "markdown",
   "metadata": {},
   "source": []
  },
  {
   "cell_type": "code",
   "execution_count": 75,
   "metadata": {},
   "outputs": [
    {
     "name": "stdout",
     "output_type": "stream",
     "text": [
      "APPLE JUICE 20\n",
      "BANANA FRIES 12\n",
      "POTATO CHIPS 60\n",
      "CANDY 20\n"
     ]
    }
   ],
   "source": [
    "for i in range(len(d)):\n",
    "    print(\"{} {}\".format(list(d.keys())[i],list(d.values())[i]))"
   ]
  },
  {
   "cell_type": "code",
   "execution_count": 76,
   "metadata": {},
   "outputs": [
    {
     "name": "stdout",
     "output_type": "stream",
     "text": [
      "4\n",
      "bcdef\n",
      "abcdefg\n",
      "bcde\n",
      "bcdef\n",
      "OrderedDict([('bcdef', 2), ('abcdefg', 1), ('bcde', 1)])\n"
     ]
    }
   ],
   "source": [
    "from collections import OrderedDict\n",
    "d = OrderedDict()\n",
    "for i in range(int(input())):\n",
    "    x =  input()\n",
    "    if x in d:\n",
    "        d[x] += 1\n",
    "    else:\n",
    "        d[x] = 1\n"
   ]
  },
  {
   "cell_type": "code",
   "execution_count": 78,
   "metadata": {},
   "outputs": [
    {
     "name": "stdout",
     "output_type": "stream",
     "text": [
      "3\n",
      "2 1 1\n"
     ]
    }
   ],
   "source": [
    "print(len(d))\n",
    "print(*(list(d.values())))\n"
   ]
  },
  {
   "cell_type": "markdown",
   "metadata": {},
   "source": [
    "# collection counter and deque"
   ]
  },
  {
   "cell_type": "code",
   "execution_count": 81,
   "metadata": {},
   "outputs": [
    {
     "name": "stdout",
     "output_type": "stream",
     "text": [
      "one\n",
      "two\n",
      "three\n",
      "two\n",
      "three\n",
      "four\n",
      "three\n",
      "Counter({'three': 3, 'two': 2, 'one': 1, 'four': 1})\n"
     ]
    }
   ],
   "source": [
    "# counter\n",
    "# Tally occurrences of words in a list\n",
    "from collections import Counter\n",
    "cnt = Counter()\n",
    "l = ['one','two','three','two','three','four','three']\n",
    "for i in l:\n",
    "    print(i)\n",
    "    cnt[i] += 1\n",
    "print(cnt)"
   ]
  },
  {
   "cell_type": "code",
   "execution_count": 108,
   "metadata": {},
   "outputs": [
    {
     "data": {
      "text/plain": [
       "deque(['3', '1', 9, 8, 7, 6, 5, 4, 3, 2, 1])"
      ]
     },
     "execution_count": 108,
     "metadata": {},
     "output_type": "execute_result"
    }
   ],
   "source": [
    "# deque\n",
    "from collections import deque\n",
    "d = deque()\n",
    "\n",
    "d.append(1)\n",
    "\n",
    "d.appendleft(2)\n",
    "\n",
    "d.clear()\n",
    "\n",
    "d.extend('1')\n",
    "d.extendleft('1234')\n",
    "\n",
    "d.count('1')\n",
    "d.pop()\n",
    "d.popleft()\n",
    "d.remove('2')\n",
    "d.reverse()\n",
    "d.extend([1,2,3,4,5,6,7,8,9]) # extend take iterator\n",
    "d.reverse()\n",
    "d\n",
    "d.rotate(2) # rotate toward right 2 indices\n",
    "d"
   ]
  },
  {
   "cell_type": "code",
   "execution_count": 112,
   "metadata": {},
   "outputs": [
    {
     "name": "stdout",
     "output_type": "stream",
     "text": [
      "4\n",
      "append 5\n",
      "append 6\n",
      "append 1\n",
      "append 7\n"
     ]
    }
   ],
   "source": [
    "from collections import deque\n",
    "d  = deque()\n",
    "for i in range(int(input())):\n",
    "    x = list(input().split())\n",
    "    if x[0]=='append':\n",
    "        d.append(int(x[1]))\n",
    "    elif x[0]=='appendleft':\n",
    "        d.appendleft(int(x[1]))\n",
    "    elif x[0]=='pop':\n",
    "        d.pop()\n",
    "    elif x[0]=='popleft':\n",
    "        d.popleft()\n"
   ]
  },
  {
   "cell_type": "code",
   "execution_count": 114,
   "metadata": {},
   "outputs": [
    {
     "name": "stdout",
     "output_type": "stream",
     "text": [
      "5 6 1 7\n"
     ]
    }
   ],
   "source": [
    "print(*d)"
   ]
  },
  {
   "cell_type": "code",
   "execution_count": 148,
   "metadata": {},
   "outputs": [
    {
     "name": "stdout",
     "output_type": "stream",
     "text": [
      "2\n",
      "6\n",
      "4 3 2 1 3 4 \n",
      "Yes\n",
      "3\n",
      "1 3 2 \n",
      "No\n"
     ]
    }
   ],
   "source": [
    "k = 0\n",
    "from collections import deque\n",
    "for i in range(int(input())):\n",
    "    n = []\n",
    "    l = int(input())\n",
    "    c = deque(map(int,input().split()))\n",
    "    for j in range(l-1):\n",
    "        if (c[k] >= c[-1]) and (c[k] >= c[k+1]): \n",
    "            n.append(c.popleft())\n",
    "        elif c[-1] >= c[k] and (c[k] >= c[k+1]):\n",
    "            n.append(c.pop())\n",
    "        else:\n",
    "            print('No')\n",
    "            break\n",
    "        if len(c)==1:\n",
    "            if c[0] >= n[-1]:\n",
    "                print('No')\n",
    "                break\n",
    "            else:\n",
    "                print('Yes')\n",
    "                break"
   ]
  },
  {
   "cell_type": "code",
   "execution_count": 152,
   "metadata": {},
   "outputs": [
    {
     "name": "stdout",
     "output_type": "stream",
     "text": [
      "2\n",
      "6\n",
      "4 3 2 1 3 4\n",
      "Yes\n",
      "3\n",
      "1 3 2\n",
      "No\n"
     ]
    }
   ],
   "source": [
    "for t in range(int(input())):\n",
    "    input()\n",
    "    lst = list(map(int, input().split()))\n",
    "    l = len(lst)\n",
    "    i = 0\n",
    "    while i < l - 1 and lst[i] >= lst[i+1]:\n",
    "        i += 1\n",
    "    while i < l - 1 and lst[i] <= lst[i+1]:\n",
    "        i += 1\n",
    "    print (\"Yes\" if i == l - 1 else \"No\")"
   ]
  },
  {
   "cell_type": "code",
   "execution_count": 153,
   "metadata": {},
   "outputs": [
    {
     "name": "stdout",
     "output_type": "stream",
     "text": [
      "aabbbccde\n",
      "b 3\n",
      "a 2\n",
      "c 2\n"
     ]
    },
    {
     "data": {
      "text/plain": [
       "[None, None, None]"
      ]
     },
     "execution_count": 153,
     "metadata": {},
     "output_type": "execute_result"
    }
   ],
   "source": [
    "from collections import Counter, OrderedDict\n",
    "\n",
    "class OrderedCounter(Counter, OrderedDict):\n",
    "    pass\n",
    "[print(*c) for c in OrderedCounter(sorted(input())).most_common(3)]"
   ]
  },
  {
   "cell_type": "code",
   "execution_count": 154,
   "metadata": {},
   "outputs": [
    {
     "name": "stdout",
     "output_type": "stream",
     "text": [
      "0\n",
      "Stuart 1\n"
     ]
    }
   ],
   "source": [
    "# MINIONS PROBLEMS\n",
    "s = input()\n",
    "vowels = 'AEIOU'\n",
    "kevsc = 0\n",
    "stusc = 0\n",
    "for i in range(len(s)):\n",
    "    if s[i] in vowels:\n",
    "        kevsc += (len(s)-i)\n",
    "    else:\n",
    "        stusc += (len(s)-i)\n",
    "if kevsc > stusc:\n",
    "    print (\"Kevin\", kevsc)\n",
    "elif kevsc < stusc:\n",
    "    print (\"Stuart\", stusc)\n",
    "else:\n",
    "    print (\"Draw\")"
   ]
  },
  {
   "cell_type": "code",
   "execution_count": 155,
   "metadata": {},
   "outputs": [
    {
     "ename": "SyntaxError",
     "evalue": "invalid syntax (<ipython-input-155-151c347645bc>, line 2)",
     "output_type": "error",
     "traceback": [
      "\u001b[1;36m  File \u001b[1;32m\"<ipython-input-155-151c347645bc>\"\u001b[1;36m, line \u001b[1;32m2\u001b[0m\n\u001b[1;33m    5 2\u001b[0m\n\u001b[1;37m      ^\u001b[0m\n\u001b[1;31mSyntaxError\u001b[0m\u001b[1;31m:\u001b[0m invalid syntax\n"
     ]
    }
   ],
   "source": [
    "# STRING PROBLEM\n",
    "5 2\n",
    "a\n",
    "a\n",
    "b\n",
    "a\n",
    "b\n",
    "a\n",
    "b\n",
    "input()"
   ]
  },
  {
   "cell_type": "code",
   "execution_count": 156,
   "metadata": {},
   "outputs": [
    {
     "name": "stdout",
     "output_type": "stream",
     "text": [
      "5 2\n",
      "a\n",
      "a\n",
      "b\n",
      "a\n",
      "b\n",
      "a\n",
      "b\n",
      "1 2 4 \n",
      "3 5 \n"
     ]
    }
   ],
   "source": [
    "x=input().split()\n",
    "a=[]\n",
    "b=[]\n",
    "for i in range(int(x[0])):\n",
    "    a.append(input().strip())\n",
    "for i in range(int(x[1])):\n",
    "    b.append(input().strip())\n",
    "for i in range(len(b)):\n",
    "    if b[i] in a:\n",
    "        for j in range(a.count(b[i])):\n",
    "            print('{} '.format( a.index( b[i] ) + 1), end = '' )\n",
    "            a[a.index(b[i])] = '*'\n",
    "        print()\n",
    "    else:\n",
    "\n",
    "        print('{}'.format(-1))"
   ]
  },
  {
   "cell_type": "code",
   "execution_count": 158,
   "metadata": {},
   "outputs": [
    {
     "name": "stdout",
     "output_type": "stream",
     "text": [
      "5 2\n",
      "a\n",
      "a\n",
      "b\n",
      "a\n",
      "b\n",
      "a\n",
      "1 2 4\n",
      "b\n",
      "3 5\n"
     ]
    }
   ],
   "source": [
    "# DEfault Dict\n",
    "\n",
    "from collections import defaultdict\n",
    "d = defaultdict(list)\n",
    "n, m = list(map(int, input().split()))\n",
    "\n",
    "for i in range(n):\n",
    "    d[input()].append(i + 1)\n",
    "\n",
    "for i in range(m):\n",
    "    print(' '.join(map(str, d[input()])) or -1)"
   ]
  },
  {
   "cell_type": "code",
   "execution_count": 159,
   "metadata": {},
   "outputs": [
    {
     "name": "stdout",
     "output_type": "stream",
     "text": [
      "\n"
     ]
    },
    {
     "ename": "ValueError",
     "evalue": "invalid literal for int() with base 10: ''",
     "output_type": "error",
     "traceback": [
      "\u001b[1;31m---------------------------------------------------------------------------\u001b[0m",
      "\u001b[1;31mValueError\u001b[0m                                Traceback (most recent call last)",
      "\u001b[1;32m<ipython-input-159-f255d3d9b351>\u001b[0m in \u001b[0;36m<module>\u001b[1;34m()\u001b[0m\n\u001b[1;32m----> 1\u001b[1;33m \u001b[0mk\u001b[0m\u001b[1;33m,\u001b[0m\u001b[0marr\u001b[0m \u001b[1;33m=\u001b[0m \u001b[0mint\u001b[0m\u001b[1;33m(\u001b[0m\u001b[0minput\u001b[0m\u001b[1;33m(\u001b[0m\u001b[1;33m)\u001b[0m\u001b[1;33m)\u001b[0m\u001b[1;33m,\u001b[0m\u001b[0mlist\u001b[0m\u001b[1;33m(\u001b[0m\u001b[0mmap\u001b[0m\u001b[1;33m(\u001b[0m\u001b[0mint\u001b[0m\u001b[1;33m,\u001b[0m \u001b[0minput\u001b[0m\u001b[1;33m(\u001b[0m\u001b[1;33m)\u001b[0m\u001b[1;33m.\u001b[0m\u001b[0msplit\u001b[0m\u001b[1;33m(\u001b[0m\u001b[1;33m)\u001b[0m\u001b[1;33m)\u001b[0m\u001b[1;33m)\u001b[0m\u001b[1;33m\u001b[0m\u001b[0m\n\u001b[0m\u001b[0;32m      2\u001b[0m \u001b[1;33m\u001b[0m\u001b[0m\n\u001b[0;32m      3\u001b[0m \u001b[0mmyset\u001b[0m \u001b[1;33m=\u001b[0m \u001b[0mset\u001b[0m\u001b[1;33m(\u001b[0m\u001b[0marr\u001b[0m\u001b[1;33m)\u001b[0m\u001b[1;33m\u001b[0m\u001b[0m\n\u001b[0;32m      4\u001b[0m \u001b[1;33m\u001b[0m\u001b[0m\n\u001b[0;32m      5\u001b[0m \u001b[0mprint\u001b[0m\u001b[1;33m(\u001b[0m\u001b[1;33m(\u001b[0m\u001b[1;33m(\u001b[0m\u001b[0msum\u001b[0m\u001b[1;33m(\u001b[0m\u001b[0mmyset\u001b[0m\u001b[1;33m)\u001b[0m\u001b[1;33m*\u001b[0m\u001b[0mk\u001b[0m\u001b[1;33m)\u001b[0m\u001b[1;33m-\u001b[0m\u001b[1;33m(\u001b[0m\u001b[0msum\u001b[0m\u001b[1;33m(\u001b[0m\u001b[0marr\u001b[0m\u001b[1;33m)\u001b[0m\u001b[1;33m)\u001b[0m\u001b[1;33m)\u001b[0m\u001b[1;33m//\u001b[0m\u001b[1;33m(\u001b[0m\u001b[0mk\u001b[0m\u001b[1;33m-\u001b[0m\u001b[1;36m1\u001b[0m\u001b[1;33m)\u001b[0m\u001b[1;33m)\u001b[0m\u001b[1;33m\u001b[0m\u001b[0m\n",
      "\u001b[1;31mValueError\u001b[0m: invalid literal for int() with base 10: ''"
     ]
    }
   ],
   "source": [
    "k,arr = int(input()),list(map(int, input().split()))\n",
    "\n",
    "myset = set(arr)\n",
    "\n",
    "print(((sum(myset)*k)-(sum(arr)))//(k-1))\n"
   ]
  },
  {
   "cell_type": "code",
   "execution_count": 174,
   "metadata": {},
   "outputs": [
    {
     "name": "stdout",
     "output_type": "stream",
     "text": [
      "3 2\n",
      "1 5 3\n",
      "1 3\n",
      "5 7\n",
      "1\n"
     ]
    }
   ],
   "source": [
    "n,m =  input().split(); n = int(n); m = int(m)\n",
    "a = list(map(int,input().split()))\n",
    "b = list(map(int,input().split()))\n",
    "x = 0\n",
    "for i in list(map(int,input().split())):\n",
    "    if i in a:\n",
    "        x += 1\n",
    "    elif i in b:\n",
    "        x -= 1\n",
    "print(x)\n",
    "\n"
   ]
  },
  {
   "cell_type": "code",
   "execution_count": 177,
   "metadata": {},
   "outputs": [
    {
     "name": "stdout",
     "output_type": "stream",
     "text": [
      "3 2\n",
      "1 5 3 \n",
      "3 1\n",
      "5 7\n",
      "1\n"
     ]
    }
   ],
   "source": [
    "n, m = input().split()\n",
    "sc_ar = input().split()\n",
    "A = set(input().split())\n",
    "B = set(input().split())\n",
    "print (sum([(i in A) - (i in B) for i in sc_ar]))\n"
   ]
  },
  {
   "cell_type": "code",
   "execution_count": null,
   "metadata": {
    "collapsed": true
   },
   "outputs": [],
   "source": []
  }
 ],
 "metadata": {
  "kernelspec": {
   "display_name": "Python 3",
   "language": "python",
   "name": "python3"
  },
  "language_info": {
   "codemirror_mode": {
    "name": "ipython",
    "version": 3
   },
   "file_extension": ".py",
   "mimetype": "text/x-python",
   "name": "python",
   "nbconvert_exporter": "python",
   "pygments_lexer": "ipython3",
   "version": "3.6.5"
  }
 },
 "nbformat": 4,
 "nbformat_minor": 2
}
