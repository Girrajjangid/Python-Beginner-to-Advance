{
 "cells": [
  {
   "cell_type": "markdown",
   "metadata": {},
   "source": [
    "1) Write a program that accepts multiple number of sentences as input and prints the lines after making all characters in the sentence capitalized.\n",
    "\n",
    "Suppose the following input is supplied to the program:\n",
    "\n",
    "Hello world\n",
    "Practice makes perfect\n",
    "\n",
    "Then, the output should be:\n",
    "\n",
    "HELLO WORLD\n",
    "PRACTICE MAKES PERFECT\n",
    "\n",
    "\n",
    "2) Write a program that accepts a sequence of whitespace separated words as input and prints the words after removing all duplicate words and sorting them alphanumerically.\n",
    "\n",
    "Suppose the following input is supplied to the program:\n",
    "\n",
    "hello world and practice makes perfect and hello world again\n",
    "\n",
    "Then, the output should be:\n",
    "\n",
    "again and hello makes perfect practice world\n",
    "\n",
    "\n",
    "3) We have a count 35 heads and 94 legs among the chickens and rabbits in a farm. How many rabbits and how many chickens do we have? Write a program to get the answer,\n",
    "\n",
    "\n",
    "4) Create a function that accepts single list containing letters or may be words. Total number of elements in a list may vary. In turn, it counts the number of occurrences in a list for each element and returns user a dictionary with total number of counts for each element. Please remember to include case-sensitive match i.e. 'user1' is not equal to 'User1' word.\n",
    "\n",
    "\n",
    "Lets say, user provides a list as:\n",
    "\n",
    "    ['python', 'pyhton3', 'user1', 'assignment', 'user', 'user1', 'python', 'User1']\n",
    "\n",
    "\n",
    "Your function should return:\n",
    "\n",
    "    {\n",
    "      \"python\": 2,\n",
    "      \"pyhton3\": 1,\n",
    "      \"user1\": 2,\n",
    "      \"assignment\": 1,\n",
    "      \"user\": 1,\n",
    "      \"User1\":1\n",
    "    }\n",
    "\n",
    "\n",
    "5) Create a function that accepts a list containing integers. Total number of elements in list may vary. Your method should return back the list removing duplicates from list. So lets say if user passes a following list to your function as input:\n",
    "\n",
    "    [1,2,55,1,3,2,34,55]\n",
    "\n",
    "it's output should be:\n",
    "\n",
    "    [1, 2, 55, 3, 34]\n",
    "\n",
    "If you have any doubts or queries, please feel free to contact us back.\n",
    "\n",
    "\n",
    "Note: Please don't use any predefined functions like sort(), upper() etc.. or third party library to solve this assignment. Neither you should copy solution from anywhere.\n"
   ]
  },
  {
   "cell_type": "code",
   "execution_count": 93,
   "metadata": {},
   "outputs": [
    {
     "name": "stdout",
     "output_type": "stream",
     "text": [
      "HELLO WORLD \n",
      "PRACTICE MAKES PERFECT\n"
     ]
    }
   ],
   "source": [
    "# First \n",
    "def toUppercase(s):\n",
    "    alpha1 = 'abcdefghijklmnopqrstuvwxyz'\n",
    "    alpha2 = 'ABCDEFGHIJKLMNOPQRSTUVWXYZ'\n",
    "    result = ''\n",
    "    loc = 0\n",
    "    skiper = False\n",
    "    escape = ['n','r','t','\\\\',\"'\",'\"',\"a\",'b','f']\n",
    "    for q,x in enumerate(s):\n",
    "        if x not in alpha1 :\n",
    "            if s[q] == '\\\\' and s[q+1] in escape:\n",
    "                result += x\n",
    "                skiper = True\n",
    "                continue\n",
    "            result += x\n",
    "        else:\n",
    "            for i in range(len(alpha1)):\n",
    "                if alpha1[i] == x:\n",
    "                    loc = i\n",
    "                    break\n",
    "            if skiper:\n",
    "                skiper = False\n",
    "                result += x\n",
    "                continue\n",
    "            else:\n",
    "                result += alpha2[i]\n",
    "    return str(result)\n",
    "print(toUppercase('Hello world \\nPractice makes perfect'))"
   ]
  },
  {
   "cell_type": "code",
   "execution_count": 155,
   "metadata": {},
   "outputs": [],
   "source": [
    "def sortting(sentence):\n",
    "    def quicksort(lst):\n",
    "        if not lst:\n",
    "            return []\n",
    "        return (quicksort([x for x in lst[1:] if x <  lst[0]]) + [lst[0]] +\n",
    "                quicksort([x for x in lst[1:] if x >= lst[0]]))    \n",
    "    l = []\n",
    "    st = ''\n",
    "    for i,j in enumerate(sentence):\n",
    "        if j == ' ':\n",
    "            if st in l:\n",
    "                st = ''\n",
    "                continue\n",
    "            l.append(st)\n",
    "            st =''\n",
    "        else:\n",
    "            st+=j\n",
    "    return quicksort(l)"
   ]
  },
  {
   "cell_type": "code",
   "execution_count": 157,
   "metadata": {},
   "outputs": [
    {
     "data": {
      "text/plain": [
       "['again', 'and', 'hello', 'makes', 'perfect', 'practice', 'world']"
      ]
     },
     "execution_count": 157,
     "metadata": {},
     "output_type": "execute_result"
    }
   ],
   "source": [
    "z = 'hello world and practice makes perfect and hello world again'\n",
    "z = z+' ' # add whitespace at the end so it split from that also\n",
    "sortting(z)\n",
    "#again and hello makes perfect practice world"
   ]
  }
 ],
 "metadata": {
  "kernelspec": {
   "display_name": "Python 3",
   "language": "python",
   "name": "python3"
  },
  "language_info": {
   "codemirror_mode": {
    "name": "ipython",
    "version": 3
   },
   "file_extension": ".py",
   "mimetype": "text/x-python",
   "name": "python",
   "nbconvert_exporter": "python",
   "pygments_lexer": "ipython3",
   "version": "3.6.5"
  }
 },
 "nbformat": 4,
 "nbformat_minor": 2
}
