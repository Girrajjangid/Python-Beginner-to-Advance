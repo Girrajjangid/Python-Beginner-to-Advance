{
 "cells": [
  {
   "cell_type": "code",
   "execution_count": null,
   "metadata": {
    "collapsed": true
   },
   "outputs": [],
   "source": [
    "from functools import reduce\n",
    "def miniMaxSum(arr):\n",
    "    arr.sort()\n",
    "    l = len(arr)\n",
    "    mini = arr[0:l-1]\n",
    "    maxx = arr[1:l]\n",
    "    mine  = reduce(lambda x,y : x + y,mini)\n",
    "    maxa  = reduce(lambda x,y : x + y,maxx)\n",
    "    print(mine,\"\",maxa)\n",
    "    print(dir(1))\n",
    "    print(mine.__sizeof__())\n",
    "    \n",
    "    \n",
    "miniMaxSum([5,4,3,2,1])"
   ]
  },
  {
   "cell_type": "code",
   "execution_count": null,
   "metadata": {
    "collapsed": true
   },
   "outputs": [],
   "source": [
    "l=[1,2,3,4,88,77]\n",
    "max(l)\n",
    "l.count(max(l))\n",
    "import time\n",
    "print(dir(time))\n",
    "strs='12:05:22PM'\n",
    "x=strs.split('P')\n",
    "print(x)\n"
   ]
  },
  {
   "cell_type": "code",
   "execution_count": null,
   "metadata": {
    "collapsed": true
   },
   "outputs": [],
   "source": [
    "def timeConversion(s):\n",
    "    pm = s[-2]\n",
    "    l = s.split(':')\n",
    "    if pm == 'P' and l[0] == '12':\n",
    "        x = l[0] + ':' + l[1] + ':' + l[2][0] + l[2][1]\n",
    "    elif pm == 'P' or l[0] != '12 ':\n",
    "        x = str(int(l[0]) + 12) + ':' + l[1] + ':' + l[2][0] + l[2][1]\n",
    "    elif l[0] == '12' :\n",
    "        l[0] = '00'\n",
    "        x = l[0] + ':' + l[1] + ':' + l[2][0] + l[2][1]\n",
    "    else :\n",
    "        x = l[0] + ':' + l[1] + ':' + l[2][0] + l[2][1]\n",
    "    return x\n",
    "timeConversion('07:05:45PM')"
   ]
  },
  {
   "cell_type": "code",
   "execution_count": null,
   "metadata": {
    "collapsed": true
   },
   "outputs": [],
   "source": [
    "7 11   s  t   1   1\n",
    "5 15   a  b  locations\n",
    "3 2    m  n  no of a and o  \n",
    "-2 2 1   apples\n",
    "5 -6     oranges\n",
    "\n",
    "2 3\n",
    "1 5   0  0\n",
    "1 1\n",
    "-2\n",
    "-1\n",
    "\n",
    "2 3\n",
    "1 5\n",
    "1 1     1  1\n",
    "2\n",
    "-2\n"
   ]
  },
  {
   "cell_type": "code",
   "execution_count": null,
   "metadata": {
    "collapsed": true
   },
   "outputs": [],
   "source": [
    "def fun(s,t,a,b,m,n,apples,oranges):\n",
    "    ca = 0\n",
    "    cm = 0\n",
    "    for i in apples:\n",
    "        x = a + i\n",
    "        if x >= s :\n",
    "            ca = ca + 1\n",
    "    for j in oranges:\n",
    "        y = b + j\n",
    "        if  y <= t :\n",
    "            cm = cm + 1\n",
    "    print(ca)\n",
    "    print(cm)\n",
    "fun(2,3,1,5,1,1,[-2],[-1])\n",
    "\n"
   ]
  },
  {
   "cell_type": "code",
   "execution_count": null,
   "metadata": {
    "collapsed": true
   },
   "outputs": [],
   "source": [
    "s=132456\n",
    "x=str(s)\n",
    "x"
   ]
  },
  {
   "cell_type": "code",
   "execution_count": null,
   "metadata": {
    "collapsed": true
   },
   "outputs": [],
   "source": [
    "x=5\n",
    "def one():\n",
    "    global x\n",
    "    x=12\n",
    "def two():\n",
    "    global x\n",
    "    x=15\n",
    "one()\n",
    "two()\n",
    "print(x)"
   ]
  },
  {
   "cell_type": "code",
   "execution_count": null,
   "metadata": {
    "collapsed": true
   },
   "outputs": [],
   "source": [
    "x=int(input())\n",
    "l=list(map(int,input().strip().split()))\n",
    "n=int(input())\n",
    "d={}\n",
    "l2 =[]\n",
    "l3=[]\n",
    "for i in range(n):\n",
    "    d[i]=input().strip().split()\n",
    "    "
   ]
  },
  {
   "cell_type": "code",
   "execution_count": null,
   "metadata": {
    "collapsed": true
   },
   "outputs": [],
   "source": [
    "for i in d:\n",
    "    l2.append(d[i][0])\n",
    "for i in d:\n",
    "    l3.append(d[i][1])\n"
   ]
  },
  {
   "cell_type": "code",
   "execution_count": null,
   "metadata": {
    "collapsed": true
   },
   "outputs": [],
   "source": [
    "l4=[]\n",
    "for i in l:\n",
    "    if i in l2:\n",
    "        index=l2.index(i)\n",
    "        if l3[index] in l4:\n",
    "            pass\n",
    "        else:\n",
    "            l4.append(l3[index])\n",
    "    else:\n",
    "        pass\n",
    "print(d)\n",
    "print(l2)\n",
    "print(l3)\n",
    "t=[]\n",
    "print(list(s))"
   ]
  },
  {
   "cell_type": "code",
   "execution_count": null,
   "metadata": {
    "collapsed": true
   },
   "outputs": [],
   "source": [
    "string='ABCDCDC'\n",
    "sub_string='CDC'\n",
    "if sub_string[-1] == sub_string[0]:\n",
    "    print(string.count(sub_string[0:2]))\n",
    "else:\n",
    "    print(string.count(sub_string))\n",
    "print(string)"
   ]
  },
  {
   "cell_type": "code",
   "execution_count": null,
   "metadata": {
    "collapsed": true
   },
   "outputs": [],
   "source": [
    "s = 'WWWWWWWWWWWWWWWWWWWWWWWWWWWWWWWWWWWWWWWWWWWWWWWWWWWWWWWWWWWWWWWWWWWWWWWWWWWWWWWWWWWWWWWWWWWWWWWWWWWWW'\n",
    "a=1\n",
    "alpha= 0\n",
    "alnum = 0\n",
    "digit = 0\n",
    "upper = 0\n",
    "lower = 0\n",
    "l=[]\n",
    "while a==1:    \n",
    "    a=2\n",
    "    for i in s:\n",
    "        if i.isalnum() and a==2 :\n",
    "            l.append('True')\n",
    "            a=3\n",
    "            break\n",
    "    if a==2:\n",
    "        l.append('False')\n",
    "        a=3\n",
    "    for i in s:\n",
    "        if i.isalpha() and a==3:\n",
    "            l.append('True')\n",
    "            a=4\n",
    "            break\n",
    "    if a==3:\n",
    "        l.append('False')\n",
    "        a=4\n",
    "    for i in s:\n",
    "        if i.isdigit() and a==4 :\n",
    "            l.append('True')\n",
    "            a=5\n",
    "            break\n",
    "    if a==4:\n",
    "        l.append('False')\n",
    "        a=5\n",
    "    for i in s:\n",
    "        if i.isupper() and a==5:\n",
    "            l.append('True')\n",
    "            a=6\n",
    "            break\n",
    "    if a==5:\n",
    "        l.append('False')\n",
    "        a=6\n",
    "    for i in s:\n",
    "        if i.islower() and a==6:\n",
    "            l.append('True')\n",
    "            a=7\n",
    "            break\n",
    "    if a==6:\n",
    "        l.append('False')\n",
    "        a=7\n",
    "    \n",
    "for i in l:\n",
    "    print(i)"
   ]
  },
  {
   "cell_type": "code",
   "execution_count": null,
   "metadata": {
    "collapsed": true
   },
   "outputs": [],
   "source": [
    "c = 'H'\n",
    "thickness=5\n",
    "#Top Cone\n",
    "for i in range(thickness):\n",
    "    print((c*i).rjust(thickness-1)+c+(c*i).ljust(thickness-1))\n",
    "\n",
    "#Top Pillars\n",
    "for i in range(thickness+1):\n",
    "    print((c*thickness).center(thickness*2)+(c*thickness).center(thickness*6))\n",
    "\n",
    "#Middle Belt\n",
    "for i in range((thickness+1)//2):\n",
    "    print((c*thickness*5).center(thickness*6))    \n",
    "\n",
    "#Bottom Pillars\n",
    "for i in range(thickness+1):\n",
    "    print((c*thickness).center(thickness*2)+(c*thickness).center(thickness*6))    \n",
    "\n",
    "#Bottom Cone\n",
    "for i in range(thickness):\n",
    "    print(((c*(thickness-i-1)).rjust(thickness)+c+(c*(thickness-i-1)).ljust(thickness)).rjust(thickness*6))"
   ]
  },
  {
   "cell_type": "code",
   "execution_count": null,
   "metadata": {
    "collapsed": true
   },
   "outputs": [],
   "source": [
    "s=\"ABCDEFGHIJKLIMNOQRSTUVWXYZ\"\n",
    "a=4\n",
    "t=0\n",
    "for i in s:\n",
    "    if t<a-1:\n",
    "        print(i,end='')\n",
    "        t+=1\n",
    "    else:\n",
    "        print(i,end='')\n",
    "        print()\n",
    "        t=0"
   ]
  },
  {
   "cell_type": "code",
   "execution_count": null,
   "metadata": {
    "collapsed": true
   },
   "outputs": [],
   "source": [
    "c='.|.'\n",
    "s=list(map(int,input().strip().split()))\n",
    "thickness = s[1]\n",
    "a = s[0]\n",
    "for i in range(a//2):\n",
    "    print((c*i).rjust(thickness//2-1,'-')+c+(c*i).ljust(thickness//2-1,'-'))\n",
    "print('WELCOME'.center(thickness,'-'))\n",
    "\n",
    "for i in range(a//2-1,-1,-1):\n",
    "    print((c*i).rjust(thickness//2-1,'-')+c+(c*i).ljust(thickness//2-1,'-'))\n",
    "\n",
    "\n"
   ]
  },
  {
   "cell_type": "code",
   "execution_count": null,
   "metadata": {
    "collapsed": true
   },
   "outputs": [],
   "source": [
    "number=17\n",
    "for i in range(number):\n",
    "    print(str(i+1).rjust(len(bin(number)[2:])),\n",
    "          oct(i+1)[2:].rjust(len(bin(number)[2:])),\n",
    "          hex(i+1)[2:].upper().rjust(len(bin(number)[2:])),\n",
    "          bin(i+1)[2:].rjust(len(bin(number)[2:])))"
   ]
  },
  {
   "cell_type": "code",
   "execution_count": null,
   "metadata": {
    "collapsed": true
   },
   "outputs": [],
   "source": [
    "n=5\n",
    "for i in range(1,n):\n",
    "    for j in range(0,n-i):\n",
    "        print(\"-\",end=\"-\")\n",
    "    for j in range(n,n-i,-1):\n",
    "        print('{}-'.format(chr(96+j)),end=\"\")\n",
    "    for j in range(n-i+2,n+1):\n",
    "        print('{}-'.format(chr(96+j)),end=\"\")\n",
    "    for j in range(0,n-i):\n",
    "        print(\"-\",end=\"-\")\n",
    "    print()\n",
    "\n",
    "print()\n",
    "\n",
    "for j in range(n,n-i,-1):\n",
    "        print(chr(96+j),end=\"-\")\n",
    "for j in range(n-i+2,n):\n",
    "        print(chr(96+j),end=\"-\")\n",
    "print(chr(96+j+1))\n",
    "print()\n",
    "for i in range(n-1,0,-1):\n",
    "    for j in range(0,n-i):\n",
    "        print(\"-\",end=\"-\")\n",
    "    for j in range(n,n-i,-1):\n",
    "        print(chr(96+j),end=\"-\")\n",
    "    for j in range(n-i+2,n+1):\n",
    "        print(chr(96+j),end=\"-\")\n",
    "    for j in range(0,n-i):\n",
    "        print(\"-\",end=\"-\")\n",
    "    print()\n"
   ]
  },
  {
   "cell_type": "code",
   "execution_count": null,
   "metadata": {
    "collapsed": true
   },
   "outputs": [],
   "source": [
    "n=-12\n",
    "if n>1:\n",
    "        for i in range(1,n):\n",
    "            for j in range(0,n-i):\n",
    "                print(\"-\",end=\"-\")\n",
    "            for j in range(n,n-i,-1):\n",
    "                print('{}-'.format(chr(96+j)),end=\"\")\n",
    "            for j in range(n-i+2,n+1):\n",
    "                print('{}-'.format(chr(96+j)),end=\"\")\n",
    "            for j in range(0,n-i-1):\n",
    "                print(\"-\",end=\"-\")\n",
    "            print('-')\n",
    "        for j in range(n,n-i-1,-1):\n",
    "                print('{}-'.format(chr(96+j)),end=\"\")\n",
    "        for j in range(n-i+1,n):\n",
    "                print('{}-'.format(chr(96+j)),end=\"\")\n",
    "        print(chr(96+j+1))\n",
    "        for i in range(n-1,0,-1):\n",
    "            for j in range(0,n-i):\n",
    "                print(\"-\",end=\"-\")\n",
    "            for j in range(n,n-i,-1):\n",
    "                print('{}-'.format(chr(96+j)),end=\"\")\n",
    "            for j in range(n-i+2,n+1):\n",
    "                print('{}-'.format(chr(96+j)),end=\"\")\n",
    "            for j in range(0,n-i-1):\n",
    "                print(\"-\",end=\"-\")\n",
    "            print('-')\n",
    "elif n==1:\n",
    "            print('a')\n",
    "elif n==0:\n",
    "            print('')\n",
    "else:\n",
    "    print('')"
   ]
  },
  {
   "cell_type": "code",
   "execution_count": null,
   "metadata": {
    "collapsed": true
   },
   "outputs": [],
   "source": [
    "s='hello      world    total   0as  lol'\n",
    "a=''\n",
    "l=s.split(' ')\n",
    "for i in l:\n",
    "    if i=='':\n",
    "        a = a + ' '\n",
    "    else:\n",
    "        if i[0].isdigit():\n",
    "            a=a+i\n",
    "        else:\n",
    "            a = a + i.title()\n",
    "        a = a+' '\n",
    "\n",
    "\n"
   ]
  },
  {
   "cell_type": "code",
   "execution_count": null,
   "metadata": {
    "collapsed": true
   },
   "outputs": [],
   "source": [
    "from functools import reduce\n",
    "def minion_game(string):\n",
    "    word = string\n",
    "    vowel=['A','E','I','O','U']\n",
    "    try:\n",
    "        kevin=[]\n",
    "        stuart=[]\n",
    "        c=0\n",
    "        for i in word:\n",
    "            index=c\n",
    "            if i in vowel:\n",
    "                for j in range(index,len(word)+1):\n",
    "                    kevin.append(word[index:j+1])\n",
    "            else:\n",
    "                for j in range(index,len(word)):\n",
    "                    stuart.append(word[index:j+1])\n",
    "            c+=1\n",
    "        ks=set(kevin)\n",
    "        ss=set(stuart)\n",
    "        ks2=[]\n",
    "        ss2=[]\n",
    "        for i in ks:\n",
    "            if len(i)==1:\n",
    "                ks2.append(word.count(i))\n",
    "            else:\n",
    "                if i[0]==i[-1] and len(i) != 2:\n",
    "                    ks2.append(word.count(i[0:len(i)-1]))\n",
    "                else:\n",
    "                    ks2.append(word.count(i))\n",
    "        for i in ss:\n",
    "            if len(i)==1:\n",
    "                ss2.append(word.count(i))\n",
    "            else:\n",
    "                if i[0]==i[-1] and len(i) != 2:\n",
    "                    ss2.append(word.count(i[0:len(i)]))\n",
    "                else:\n",
    "                    ss2.append(word.count(i))\n",
    "        a=reduce(lambda x,y:x+y,ks2)\n",
    "        b=reduce(lambda x,y:x+y,ss2)\n",
    "        if a==b:\n",
    "            print('Draw')\n",
    "        elif a>b:\n",
    "            print('Kevin {}'.format(a))\n",
    "        else:\n",
    "            print('Stuart {}'.format(b))\n",
    "    except Exception:\n",
    "        if a==b:\n",
    "            print('Draw')\n",
    "        elif a>b:\n",
    "            print('Kevin {}'.format(a))\n",
    "        else:\n",
    "            print('Stuart {}'.format(b))\n",
    "minion_game('BANANA')\n",
    "    "
   ]
  },
  {
   "cell_type": "code",
   "execution_count": null,
   "metadata": {
    "collapsed": true
   },
   "outputs": [],
   "source": [
    "x = int ( input()) \n",
    "y = int ( input()) \n",
    "z = int ( input())\n",
    "n = int ( input()) \n",
    "ar = [] \n",
    "for i in range ( x + 1 ) : \n",
    "    for j in range( y + 1) :\n",
    "        for k in range( z + 1) :\n",
    "            if i+j+k != n:\n",
    "                ar.append([ i , j , k ])  \n",
    "print(ar)"
   ]
  },
  {
   "cell_type": "code",
   "execution_count": null,
   "metadata": {
    "collapsed": true
   },
   "outputs": [],
   "source": [
    "arr = list(map(int, input().split()))\n",
    "arr.sort()\n",
    "print(arr)\n",
    "newarr=arr[0:arr.index(max(arr))]\n",
    "print(newarr)\n",
    "print(max(newarr))\n"
   ]
  },
  {
   "cell_type": "code",
   "execution_count": null,
   "metadata": {
    "collapsed": true
   },
   "outputs": [],
   "source": [
    "stu=[['Harry',37.21],['Berry',37.21],[\"Tina\",37.2],['Akriti',41],['Harsh',39]]\n",
    "#stu=list(map(int,input().strip().split()))\n",
    "stu.sort()\n",
    "ma=[]\n",
    "for i in stu:\n",
    "    ma.append(i[1])\n",
    "ma.sort()\n",
    "index=ma.index(min(ma))\n",
    "count=ma.count(min(ma))\n",
    "newma=ma[(index+count):]\n",
    "final=[]\n",
    "index1=newma.index(min(newma))\n",
    "count1=newma.count(min(newma))\n",
    "final.append(newma[0:(index1+count1)])\n",
    "final=final[0]\n",
    "print(final)\n",
    "name=[]\n",
    "for j in final:\n",
    "        for i in stu:\n",
    "            if j == i[1]:\n",
    "                name.append(i[0])\n",
    "for i in set(name):\n",
    "    print(i)\n",
    "                "
   ]
  },
  {
   "cell_type": "code",
   "execution_count": null,
   "metadata": {
    "collapsed": true
   },
   "outputs": [],
   "source": [
    "#third lowest grade\n",
    "newma=newma[(index1+count1):]\n",
    "\n",
    "index2=newma.index(min(newma))\n",
    "count2=newma.count(min(newma))\n",
    "final.append(newma[0:(index2+count2)])\n",
    "print(ma)\n",
    "\n",
    "newma=newma[(index1+count1):]\n",
    "\n",
    "index2=newma.index(min(newma))\n",
    "count2=newma.count(min(newma))\n",
    "final.append(newma[0:(index2+count2)])\n",
    "print(ma)\n"
   ]
  },
  {
   "cell_type": "code",
   "execution_count": null,
   "metadata": {
    "collapsed": true
   },
   "outputs": [],
   "source": [
    "stu=[['Harry',37.21],['Berry',37.21],[\"Tina\",37.2],['Akriti',41],['Harsh',39]]\n",
    "for _ in range(int(input())):\n",
    "        name = input()\n",
    "        score = float(input())\n",
    "        stu.append([name,score])\n",
    "print(stu)    "
   ]
  },
  {
   "cell_type": "code",
   "execution_count": null,
   "metadata": {
    "collapsed": true
   },
   "outputs": [],
   "source": [
    "stu=[['Harry',37.21],['Berry',37.21],[\"Tina\",37.2],['Akriti',41],['Harsh',39]]\n",
    "print(stu)"
   ]
  },
  {
   "cell_type": "code",
   "execution_count": null,
   "metadata": {
    "collapsed": true
   },
   "outputs": [],
   "source": [
    "#2\n",
    "#Harsh 25 26.5 28\n",
    "##Anurag 26 28 30\n",
    "#Harsh\n",
    "n = int(input())\n",
    "student_marks = {}\n",
    "for _ in range(n):\n",
    "        name, *line = input().split()\n",
    "        scores = list(map(float, line))\n",
    "        student_marks[name] = scores\n",
    "query_name = input()"
   ]
  },
  {
   "cell_type": "code",
   "execution_count": null,
   "metadata": {
    "collapsed": true
   },
   "outputs": [],
   "source": [
    "print(student_marks)\n",
    "l=student_marks[query_name]\n",
    "s=reduce(lambda x,y:x+y,l)\n",
    "print(s)\n",
    "n=s/3\n",
    "print('%.2f'%n)"
   ]
  },
  {
   "cell_type": "code",
   "execution_count": null,
   "metadata": {
    "collapsed": true
   },
   "outputs": [],
   "source": [
    "s='aaabacbbccddaazzz'\n",
    "\n",
    "l={}\n",
    "o=[]\n",
    "v=[]\n",
    "z=[]\n",
    "for i in set(s):\n",
    "        o.append(s.count(i))\n",
    "        v.append(i)\n",
    "        l[i]=s.count(i)\n",
    "\n",
    "print(o)\n",
    "print(v)\n",
    "print(l)\n",
    "o.sort(reverse=True)\n",
    "t=0\n",
    "for i in o: \n",
    "        for j in l:\n",
    "            if i == l[j]:\n",
    "                z.append([j,l[j]])\n",
    "                t+=1\n",
    "print(z)\n",
    "single=[]\n",
    "q=0\n",
    "multi=[]\n",
    "for i in z:\n",
    "    if q<3:\n",
    "        if o.count(i[1]) < 2:\n",
    "            single.append(i)\n",
    "            o.remove(i[1])\n",
    "            v.remove(i[0])\n",
    "            q+=1\n",
    "        elif o.count(i[1]) >= 2 :\n",
    "            multi.append(i)\n",
    "            q+=1\n",
    "        \n",
    "print(o)\n",
    "print(v)\n",
    "print(single)\n",
    "print(multi)    "
   ]
  },
  {
   "cell_type": "code",
   "execution_count": null,
   "metadata": {
    "collapsed": true
   },
   "outputs": [],
   "source": [
    "w=0\n",
    "for i in z:\n",
    "       if w<3:\n",
    "            print('{} {}'.format(i[0],i[1]))\n",
    "            w+=1"
   ]
  },
  {
   "cell_type": "code",
   "execution_count": null,
   "metadata": {
    "collapsed": true
   },
   "outputs": [],
   "source": [
    "from math import log10\n",
    "x=10#int(input('enter a value '))\n",
    "i=1\n",
    "while True:\n",
    "    if (2 ** i) <= x:\n",
    "        i+=1\n",
    "    else:\n",
    "        break\n",
    "print(i)\n",
    "\n",
    "z= 1 + round(3.223*log10(x))\n",
    "print(z)\n",
    "# c= class of size\n",
    "# c=range/1+3.22log10 N\n",
    "d={1:28,5:1,2:0}\n",
    "print(d)"
   ]
  },
  {
   "cell_type": "code",
   "execution_count": null,
   "metadata": {
    "collapsed": true
   },
   "outputs": [],
   "source": [
    "l=[[0,10],[10,20],[20,30],[30,40],[40,50]]\n",
    "print('enter numbers in required ranges\\n')\n",
    "v=[]\n",
    "for i in l:\n",
    "    v.append(int(input('{}-{} '.format(i[0],i[1]))))\n",
    "    \n",
    "    "
   ]
  },
  {
   "cell_type": "code",
   "execution_count": null,
   "metadata": {
    "collapsed": true
   },
   "outputs": [],
   "source": [
    "v\n",
    "cum_down=[]\n",
    "s=0\n",
    "cum_up=[]\n",
    "for i in v:\n",
    "    s+=i\n",
    "    cum_down.append(s)\n",
    "print(cum_down)\n",
    "    \n",
    "##   cum_up.append()\n",
    "    "
   ]
  },
  {
   "cell_type": "code",
   "execution_count": null,
   "metadata": {
    "collapsed": true
   },
   "outputs": [],
   "source": [
    "d={}\n",
    "d['a']=45\n",
    "d['z']=12\n",
    "d"
   ]
  },
  {
   "cell_type": "code",
   "execution_count": null,
   "metadata": {
    "collapsed": true
   },
   "outputs": [],
   "source": []
  },
  {
   "cell_type": "code",
   "execution_count": null,
   "metadata": {
    "collapsed": true
   },
   "outputs": [],
   "source": [
    "12\n",
    "insert 0 5\n",
    "insert 1 10\n",
    "insert 0 6\n",
    "print\n",
    "remove 6\n",
    "append 9\n",
    "append 1\n",
    "sort\n",
    "print\n",
    "pop\n",
    "reverse\n",
    "print"
   ]
  },
  {
   "cell_type": "code",
   "execution_count": null,
   "metadata": {
    "collapsed": true
   },
   "outputs": [],
   "source": [
    "n=int(input())\n",
    "l=[]\n",
    "for i in range(n):\n",
    "    a=input().split()\n",
    "    if a[0]=='print':\n",
    "        print(l)\n",
    "    elif a[0]=='insert':\n",
    "        l.insert(int(a[1]),int(a[2]))\n",
    "    elif a[0]=='remove':\n",
    "        l.remove(int(a[1]))\n",
    "    elif a[0]=='append':\n",
    "        l.append(int(a[1]))\n",
    "    elif a[0]=='sort':\n",
    "        l.sort()\n",
    "    elif a[0]=='pop':\n",
    "        l.pop()\n",
    "    elif a[0]=='reverse':\n",
    "        l.reverse()\n",
    "        \n",
    "        "
   ]
  },
  {
   "cell_type": "code",
   "execution_count": null,
   "metadata": {
    "collapsed": true
   },
   "outputs": [],
   "source": [
    "integer_list = map(int, input().split())\n",
    "t=tuple(integer_list)\n",
    "print(hash(t))"
   ]
  },
  {
   "cell_type": "code",
   "execution_count": null,
   "metadata": {
    "collapsed": true
   },
   "outputs": [],
   "source": [
    "import numpy\n",
    "def arrays(arr):\n",
    "    l=list(map(float,arr))\n",
    "    l.reverse()\n",
    "    return numpy.array(l,float)\n",
    "arr=input().strip().split(' ')\n",
    "result=arrays(arr)\n",
    "print(result)"
   ]
  },
  {
   "cell_type": "code",
   "execution_count": null,
   "metadata": {
    "collapsed": true
   },
   "outputs": [],
   "source": [
    "import numpy as np\n",
    "a = list(map(int,input().split()))\n",
    "nparray=np.array(a)\n",
    "nparray.shape = (3,3)\n",
    "print(nparray)\n"
   ]
  },
  {
   "cell_type": "code",
   "execution_count": null,
   "metadata": {
    "collapsed": true
   },
   "outputs": [],
   "source": [
    "import numpy as np\n",
    "rowandc = list(map(int,input().split()))\n",
    "values=[]\n",
    "for i in range(rowandc[0]):\n",
    "    values.append(list(map(int,input().split())))\n",
    "x = np.array(values)\n",
    "print(np.transpose(x))\n",
    "print(x.flatten())"
   ]
  },
  {
   "cell_type": "code",
   "execution_count": null,
   "metadata": {
    "collapsed": true
   },
   "outputs": [],
   "source": [
    "import numpy as np\n",
    "rowandc = list(map(int,input().split()))\n",
    "values1=[]\n",
    "values2=[]\n",
    "for i in range(rowandc[0]):\n",
    "    values1.append(list(map(int,input().split())))\n",
    "for i in range(rowandc[1]):\n",
    "    values2.append(list(map(int,input().split())))\n",
    "\n",
    "x1 = np.array(values1)\n",
    "x2 = np.array(values2)\n",
    "print(np.concatenate((x1,x2),axis=0))\n"
   ]
  },
  {
   "cell_type": "code",
   "execution_count": null,
   "metadata": {
    "collapsed": true
   },
   "outputs": [],
   "source": [
    "from collections import Counter\n",
    "l=[1,2,3,4,5,6,1,2,3,4,5,6]\n",
    "print(Counter(l).values())"
   ]
  },
  {
   "cell_type": "code",
   "execution_count": null,
   "metadata": {
    "collapsed": true
   },
   "outputs": [],
   "source": [
    "x=int(input())\n",
    "l=list(map(int,input().strip().split()))\n",
    "n=int(input())\n",
    "d={}\n",
    "cust=[]\n",
    "rs=[]\n",
    "for i in range(n):\n",
    "    d[i]=input().strip().split()\n",
    "for i in d:\n",
    "    cust.append(int(d[i][0]))\n",
    "    rs.append(int(d[i][1]))\n",
    "s=0\n",
    "c=0\n",
    "for i in cust:\n",
    "    if i in l:\n",
    "        l.remove(i)\n",
    "        s+=rs[c]\n",
    "        c+=1\n",
    "    else:\n",
    "        c+=1\n",
    "print(s)\n",
    "\n"
   ]
  },
  {
   "cell_type": "code",
   "execution_count": null,
   "metadata": {
    "collapsed": true
   },
   "outputs": [],
   "source": [
    "5 2\n",
    "a\n",
    "a\n",
    "b\n",
    "a\n",
    "b\n",
    "a\n",
    "b\n",
    "\n",
    "1 2 4\n",
    "3 5\n",
    "\n"
   ]
  },
  {
   "cell_type": "code",
   "execution_count": null,
   "metadata": {
    "collapsed": true
   },
   "outputs": [],
   "source": [
    "x=input().split()\n",
    "a=[]\n",
    "b=[]\n",
    "for i in range(int(x[0])):\n",
    "    a.append(input().strip())\n",
    "for i in range(int(x[1])):\n",
    "    b.append(input().strip())\n",
    "for i in range(len(b)):\n",
    "    if b[i] in a:\n",
    "        for j in range(a.count(b[i])):\n",
    "            print(a.index(b[i])+1,end=' ')\n",
    "            a[a.index(b[i])]='.'\n",
    "        print()\n",
    "    else:\n",
    "        print('-1')\n",
    "\n"
   ]
  },
  {
   "cell_type": "code",
   "execution_count": null,
   "metadata": {
    "collapsed": true
   },
   "outputs": [],
   "source": [
    "from functools import reduce\n",
    "b=[1, 2,4,4 ,3,5, 2,4, 7, 8, 5, 8 ,9 ,6, 5 ,2 ,3 ,6]\n",
    "list(enumerate(b))\n",
    "n = reduce(lambda x,y:x+y,list(map(int,input().strip().split()))) \n",
    "print(n)"
   ]
  },
  {
   "cell_type": "code",
   "execution_count": null,
   "metadata": {
    "collapsed": true
   },
   "outputs": [],
   "source": [
    "def average(array):\n",
    "    N=len(array)\n",
    "    n = reduce(lambda x,y:x+y,set(array)) \n",
    "    return n/N\n",
    "n = int(input())\n",
    "arr = list(map(int, input().split()))\n",
    "result = average(arr)\n",
    "print(result)    \n"
   ]
  },
  {
   "cell_type": "code",
   "execution_count": null,
   "metadata": {
    "collapsed": true
   },
   "outputs": [],
   "source": [
    "4\n",
    "2 4 5 9\n",
    "4\n",
    "2 4 11 12"
   ]
  },
  {
   "cell_type": "code",
   "execution_count": null,
   "metadata": {
    "collapsed": true
   },
   "outputs": [],
   "source": [
    "m = int(input())\n",
    "a = set(map(int,input().split()))\n",
    "n = int(input())\n",
    "b = set(map(int,input().split()))\n",
    "    "
   ]
  },
  {
   "cell_type": "code",
   "execution_count": null,
   "metadata": {
    "collapsed": true
   },
   "outputs": [],
   "source": [
    "uni=a.intersection(b)\n",
    "uni\n",
    "z=[]\n",
    "for i in a:\n",
    "    if i in uni:\n",
    "        pass\n",
    "    else:\n",
    "        z.append(i)\n",
    "        \n",
    "for i in b:\n",
    "    if i in uni:\n",
    "        pass\n",
    "    else:\n",
    "        z.append(i)\n",
    "z.sort()\n",
    "for i in z:\n",
    "    print(i)"
   ]
  },
  {
   "cell_type": "code",
   "execution_count": null,
   "metadata": {
    "collapsed": true
   },
   "outputs": [],
   "source": [
    "a=[1,2,3,4,5]\n",
    "a[0:-2]\n"
   ]
  },
  {
   "cell_type": "code",
   "execution_count": null,
   "metadata": {
    "collapsed": true
   },
   "outputs": [],
   "source": [
    "from math import log10\n",
    "from random import randint\n",
    "l=[]\n",
    "di={}\n",
    "ranges=[]\n",
    "mid=[]\n",
    "N=int(input('Enter the quantity of numbers you want :-  '))\n",
    "for i in range(N):\n",
    "    l.append(randint(1,500))\n",
    "new=list(set(l))\n",
    "new.sort()\n",
    "\n",
    "classes  = round((1+(3.22 * log10(len(new)))))\n",
    "interval = round((max(l)-min(l))/classes)\n",
    "\n",
    "t=min(new)\n",
    "for i in range(classes+1):\n",
    "    ranges.append([t,t+interval])\n",
    "    mid.append((t+t+interval)/2)\n",
    "    t+=interval\n",
    "for i in range(classes+1):\n",
    "    s=0\n",
    "    for j in range(ranges[i][0],ranges[i][1]+1):\n",
    "        s += l.count(j)\n",
    "    di[i] = s\n",
    "\n",
    "print('  Range\\t\\tFrequency\\t  Mid')\n",
    "\n",
    "t=min(new)\n",
    "mean=0\n",
    "for i in range(classes+1):\n",
    "    print('%4d' % t ,' -', '%4d' % (t+interval),'\\t' ,di[i],'\\t\\t',mid[i])\n",
    "    mean+=di[i]*mid[i]\n",
    "    t+=interval\n",
    "print('\\n\\tMean =',(mean/N))\n",
    "from math import sqrt\n",
    "print('\\tDeviation = ','%.3f'%sqrt(mean/N))\n",
    "    "
   ]
  },
  {
   "cell_type": "code",
   "execution_count": null,
   "metadata": {
    "collapsed": true
   },
   "outputs": [],
   "source": [
    "9\n",
    "10 5 20 20 4 5 2 25 1\n",
    "2 4"
   ]
  },
  {
   "cell_type": "code",
   "execution_count": null,
   "metadata": {
    "collapsed": true
   },
   "outputs": [],
   "source": [
    "l=\"171645 4199460 1792941 7634143 5126340 8930592 3440006 6437607 3736481 3236750 5410071 17094 8636427 5856681 4534760 666362 511247 2277874 4070151 7072691 9130059 8311177 6651100 8537755 3390569 516039 93759 3338879 8624243 6066083 345618 4511761 1714620 3593758 7118005 4981262 1786085 4050835 8557577 9057470 9879447 997843 696642 2333744 8548635 7996240 5448625 167471 4597637 2964368 9444031 8296411 1670774 4683653 5152188 239202 3614632 4528194 2660120 9148511 5694470 5119362 9569105 8522692 4264415 6015088 4649043 54914 1775098 6764521 8796042 7558923 2613472 1754652 9365408 1598701 3180618 1535678 2337600 7132817 1561783 626813 7875758 7963348 5652998 2178143 4034296 1892418 6856888 7037713 4882937 6614879 5687181 5813279 8225281 9743149 6410355 1514243 1384394 4336969 9338164 652785 121235 436580 2358626 4613124 21643412 10321472 29478561 10355376 24297200 2777259 1551192 25410020 18731797 19039332 21394807 16975125 9470025 5770518 15218703 4286568 1627997 2929062 1175495 9026753 24895667 16412955 16088218 17682447 26786318 13122680 12596600 1579871 22642215 8911630 1880383 19839386 8138942 14831292 3729238 973485 5841114 14138118 18455769 1782052 18775048 8439564 20035242 3554626 15746177 25654727 6080806 1451293 14858914 3750538 20589687 22345763 20186816 18192837 18537150 2891024 9812326 188198 6890024 17741377 15337433 20479113 926570 15954340 18562048 23069990 18775254 5398888 2215986 27837360 23682967 8481686 14578973 13659213 24969413 24237902 19913047 6774143 16996478 351454 22766066 19626614 17219901 25536094 28766285 2065375 25228191 11360898 161650 6325217 1553406 17126966 20529190 935126 26945945 181548 1140729 11486035 1311721 12912870 10611936 14633611 7921659 26196347 26163676 16443429 1341035 4716239 7787857 16688598 1544299 9878517 22849013 15222011 863033 28251445 12169480 10887800 13912269 4747153 19722063 18225732 5077329 7186028 389689 22648044 14080125 16191721 29091113 23228928 9964966 12541820 14698133 17341938 5446472 19119052 23696025 28424338 1063107 16687597 1491345 14175841 22262203 16259664 6897647 14496519 1651670 14013412 203665 5042910 3760793 26232025 11823098 6462876 15783082 17371706 1272467 4898601 7031462 11750690 16179562 16224427 2321902 3997387 679541 24966056 18618611 18243504 26154446 32619 22873206 12538308 27336225 26156695 24027879 3729501 9387299 1285025 2538119 26424472 11275414 22920698 17788611 5468439 1093287 1013289 4557735 19784870 11321211 21794353 29098006 20672883 25894135 16023563 629376 3668971 39054917 22131520 48086576 51119289 4151721 13015412 408528 28286121 29174551 263533 30937033 41690567 32087028 53182478 20478519 24937547 3657471 679668 1991730 30966614 25194239 22679259 51998660 33349210 21178559 54362120 59245511 24079464 13999523 14365296 24213392 19527830 154614 5047614 34499159 2289795 19812606 4064518 46687139 80829 49922824 10297643 48748342 30833579 1739051 47542259 59534422 4156011 43640291 57745380 20234206 52749200 41276933 27074431 22556503 46046124 47954562 11980366 5653579 14583473 38229172 8477778 19428525 14118982 56870118 31440970 7652241 32383841 32792945 27225952 44833532 42845127 9548547 4467351 47955791 22527461 11632909 39181262 18788084 44579307 40380959 43095231 15343153 47211432 25037344 18418251 27725812 17875324 3115224 2725542 36889852 20478684 31474595 54633253 28076543 16037235 5565542 6623408 24711539 44077498 43588576 34936112 14075479 23637803 5610464 14674424 26816350 6072134 9745758 33986329 50250652 31612509 59472383 26941242 743461 49265509 23747193 37439129 27245762 33219728 37840278 5045599 58079964 13396630 32315825 31164377 47739228 28699023 16329155 21744589 41691709 49841005 45444424 53477927 38757066 20762765 49724512 5643029 7662450 41146551 7515323 12861104 50387814 27998866 12133097 5582289 35869905 9412765 823428 9220869 474699 346896 41168351 52550040 20142289 39125428 2127520 8444867 8695715 28561360 123540 24986323 39766944 8820479 1246132 10063571 58341335 21972747 23896745 38773191 58635730 21929350 20217855 41787641 17034302 158735 1949002 41060343 9876850 22395375 53438523 49826517 21062118 6438600 1538403 39130601 48626762 55150088 41734168 48174540 4703082 27522664 23711037 40720735 8780182 31087221 45891409 29047620 69879 45707 86221 45094 84110 98012 75695 90948 24775 35646 41037 85744 69814 95118 60284 54636 14553 9911 93652 59342 20948 93011 96429 25187 89546 12540 28760 40956 20301 58851 88576 90180 4558 91149 51626 5020 89162 27321 95969 30289 62967 53358 32385 49133 64828 92670 20121 95733 18933 30125 55075 56234 23136 51505 81421 29034 80397 26534 69990 17050 85385 58567 23582 89943 49716 75208 11315 55230 2529 7284 1871 81848 76994 34257 47333 41823 43279 83806 53908 78564 13931 8984 34798 53419 76841 32572 82454 57238 59106 52444 90640 44491 27363 14222 50786 93432 5782 78453 48662 24663 85738 66886 22863 79084 17495 70196 37259 60774 54002 91168 39338 84285 152 90489 37704 93345 23061 20158 50583 98519 72603 57575 59362 16318 71797 26500 9750 93931 4953 74765 18594 7043 41651 41457 86128 59146 28005 23387 36272 98359 14555 91962 82644 31059 82451 20348 24404 21864 56859 91339 36735 29462 48914 96097 45780 37063 22597 71883 47346 43903 46648 65940 50946 88299 23749 53426 47445 51754 76814 69 50113 7721 92031 49109 55133 74483 69458 95889 12699 26317 87229 49435 72131 52495 45532 34263 5911 84482 6146 53257 28385 52794 35550 79331 57445 59299 32758 21242 11054 25924 21311 77519 49997 13343 26629 5130 4178 12439 1020 16877 55108 4601 66312 43591 57096 28197 77854 79359 29031 353 32617 57416 69499 68167 53099 26945 43818 2209 64539 54872 44485 85851 48744 94483 99194 75373 99613 19724 4164 16985 36601 59272 21586 19266 2863 95035 63815 97069 90746 92846 13774 23363 50262 83274 7882 19713 26571 51701 38275 91110 22925 82760 93313 71669 77243 8859 63394 93209 28583 67558 26546 81537 43182 48133 803 62397 59520 80970 75819 50266 73816 89593 89982 40430 89219 14216 76495 32142 82269 14770 23253 5195 97531 32918 93216 74774 41778 56611 84335 70361 40521 10882 68250 56 75367 85405 62453 51239 66375 54624 1505 40191 44218 7839 96973 49789 22056 73469 81932 4325 88239 21537 25872 85770 54455 19089 76897 96233 92052 77584 82947 48925 88466 51197 48981 80185 36603 27787 31424 2978 82411 49282 59522 26629 73473 72847 76419 11881 46316 74703 32559 50908 96240 58431 53030 50695 93872 46279 63281 2276 23864 62580 51202 28682 13777 183 8868 66732 27970 56644 86063 10382 22278 45585 53363 95752 34784 46134 7633 81101 20837 40192 48361 33429 14976 1391 477 8848 47671 63758 27477 71535 26338 78679 16569 56467 78862 25437 23200 23185 98434 9263 49919 20712 71200 3282 16464 5984 65769 40450 3437 86606 96994 51798 20036 11970 69542 20513 37171 17213 623 64648 5100 43313 43327 21669 99780 38541 63459 39332 61726 78245 48595 27997 98957 19795 31280 31774 42132 97049 72224 45569 7 69218 13720 36395 97541 83262 73260 34712 16827 73883 15712 38279 17196 59039 76300 33329 13932 56111 72661 92011 34356 37609 20008 49666 73756 67640 81440 15888 81041 70016 77810 81049 39234 7882 33796 53127 7496 7057 87839 40675 97292 3551 78954 30841 78942 71606 64170 92875 27718 53183 1238 78426 90792 21246 28092 64549 5239 25884\"\n",
    "l=list(map(int,l.split()))\n",
    "hc= 0\n",
    "lc=0\n",
    "high = l[0]\n",
    "low = l[0]\n",
    "for i in l:\n",
    "    if high < i :\n",
    "        high = i\n",
    "        hc+=1\n",
    "    elif low > i:\n",
    "        low = i\n",
    "        lc+=1\n",
    "print(type(hc,'',lc))\n",
    "        "
   ]
  },
  {
   "cell_type": "code",
   "execution_count": null,
   "metadata": {
    "collapsed": true
   },
   "outputs": [],
   "source": [
    "l=\"171645 4199460 1792941 7634143 5126340 8930592 3440006 6437607 3736481 3236750 5410071 17094 8636427 5856681 4534760 666362 511247 2277874 4070151 7072691 9130059 8311177 6651100 8537755 3390569 516039 93759 3338879 8624243 6066083 345618 4511761 1714620 3593758 7118005 4981262 1786085 4050835 8557577 9057470 9879447 997843 696642 2333744 8548635 7996240 5448625 167471 4597637 2964368 9444031 8296411 1670774 4683653 5152188 239202 3614632 4528194 2660120 9148511 5694470 5119362 9569105 8522692 4264415 6015088 4649043 54914 1775098 6764521 8796042 7558923 2613472 1754652 9365408 1598701 3180618 1535678 2337600 7132817 1561783 626813 7875758 7963348 5652998 2178143 4034296 1892418 6856888 7037713 4882937 6614879 5687181 5813279 8225281 9743149 6410355 1514243 1384394 4336969 9338164 652785 121235 436580 2358626 4613124 21643412 10321472 29478561 10355376 24297200 2777259 1551192 25410020 18731797 19039332 21394807 16975125 9470025 5770518 15218703 4286568 1627997 2929062 1175495 9026753 24895667 16412955 16088218 17682447 26786318 13122680 12596600 1579871 22642215 8911630 1880383 19839386 8138942 14831292 3729238 973485 5841114 14138118 18455769 1782052 18775048 8439564 20035242 3554626 15746177 25654727 6080806 1451293 14858914 3750538 20589687 22345763 20186816 18192837 18537150 2891024 9812326 188198 6890024 17741377 15337433 20479113 926570 15954340 18562048 23069990 18775254 5398888 2215986 27837360 23682967 8481686 14578973 13659213 24969413 24237902 19913047 6774143 16996478 351454 22766066 19626614 17219901 25536094 28766285 2065375 25228191 11360898 161650 6325217 1553406 17126966 20529190 935126 26945945 181548 1140729 11486035 1311721 12912870 10611936 14633611 7921659 26196347 26163676 16443429 1341035 4716239 7787857 16688598 1544299 9878517 22849013 15222011 863033 28251445 12169480 10887800 13912269 4747153 19722063 18225732 5077329 7186028 389689 22648044 14080125 16191721 29091113 23228928 9964966 12541820 14698133 17341938 5446472 19119052 23696025 28424338 1063107 16687597 1491345 14175841 22262203 16259664 6897647 14496519 1651670 14013412 203665 5042910 3760793 26232025 11823098 6462876 15783082 17371706 1272467 4898601 7031462 11750690 16179562 16224427 2321902 3997387 679541 24966056 18618611 18243504 26154446 32619 22873206 12538308 27336225 26156695 24027879 3729501 9387299 1285025 2538119 26424472 11275414 22920698 17788611 5468439 1093287 1013289 4557735 19784870 11321211 21794353 29098006 20672883 25894135 16023563 629376 3668971 39054917 22131520 48086576 51119289 4151721 13015412 408528 28286121 29174551 263533 30937033 41690567 32087028 53182478 20478519 24937547 3657471 679668 1991730 30966614 25194239 22679259 51998660 33349210 21178559 54362120 59245511 24079464 13999523 14365296 24213392 19527830 154614 5047614 34499159 2289795 19812606 4064518 46687139 80829 49922824 10297643 48748342 30833579 1739051 47542259 59534422 4156011 43640291 57745380 20234206 52749200 41276933 27074431 22556503 46046124 47954562 11980366 5653579 14583473 38229172 8477778 19428525 14118982 56870118 31440970 7652241 32383841 32792945 27225952 44833532 42845127 9548547 4467351 47955791 22527461 11632909 39181262 18788084 44579307 40380959 43095231 15343153 47211432 25037344 18418251 27725812 17875324 3115224 2725542 36889852 20478684 31474595 54633253 28076543 16037235 5565542 6623408 24711539 44077498 43588576 34936112 14075479 23637803 5610464 14674424 26816350 6072134 9745758 33986329 50250652 31612509 59472383 26941242 743461 49265509 23747193 37439129 27245762 33219728 37840278 5045599 58079964 13396630 32315825 31164377 47739228 28699023 16329155 21744589 41691709 49841005 45444424 53477927 38757066 20762765 49724512 5643029 7662450 41146551 7515323 12861104 50387814 27998866 12133097 5582289 35869905 9412765 823428 9220869 474699 346896 41168351 52550040 20142289 39125428 2127520 8444867 8695715 28561360 123540 24986323 39766944 8820479 1246132 10063571 58341335 21972747 23896745 38773191 58635730 21929350 20217855 41787641 17034302 158735 1949002 41060343 9876850 22395375 53438523 49826517 21062118 6438600 1538403 39130601 48626762 55150088 41734168 48174540 4703082 27522664 23711037 40720735 8780182 31087221 45891409 29047620 69879 45707 86221 45094 84110 98012 75695 90948 24775 35646 41037 85744 69814 95118 60284 54636 14553 9911 93652 59342 20948 93011 96429 25187 89546 12540 28760 40956 20301 58851 88576 90180 4558 91149 51626 5020 89162 27321 95969 30289 62967 53358 32385 49133 64828 92670 20121 95733 18933 30125 55075 56234 23136 51505 81421 29034 80397 26534 69990 17050 85385 58567 23582 89943 49716 75208 11315 55230 2529 7284 1871 81848 76994 34257 47333 41823 43279 83806 53908 78564 13931 8984 34798 53419 76841 32572 82454 57238 59106 52444 90640 44491 27363 14222 50786 93432 5782 78453 48662 24663 85738 66886 22863 79084 17495 70196 37259 60774 54002 91168 39338 84285 152 90489 37704 93345 23061 20158 50583 98519 72603 57575 59362 16318 71797 26500 9750 93931 4953 74765 18594 7043 41651 41457 86128 59146 28005 23387 36272 98359 14555 91962 82644 31059 82451 20348 24404 21864 56859 91339 36735 29462 48914 96097 45780 37063 22597 71883 47346 43903 46648 65940 50946 88299 23749 53426 47445 51754 76814 69 50113 7721 92031 49109 55133 74483 69458 95889 12699 26317 87229 49435 72131 52495 45532 34263 5911 84482 6146 53257 28385 52794 35550 79331 57445 59299 32758 21242 11054 25924 21311 77519 49997 13343 26629 5130 4178 12439 1020 16877 55108 4601 66312 43591 57096 28197 77854 79359 29031 353 32617 57416 69499 68167 53099 26945 43818 2209 64539 54872 44485 85851 48744 94483 99194 75373 99613 19724 4164 16985 36601 59272 21586 19266 2863 95035 63815 97069 90746 92846 13774 23363 50262 83274 7882 19713 26571 51701 38275 91110 22925 82760 93313 71669 77243 8859 63394 93209 28583 67558 26546 81537 43182 48133 803 62397 59520 80970 75819 50266 73816 89593 89982 40430 89219 14216 76495 32142 82269 14770 23253 5195 97531 32918 93216 74774 41778 56611 84335 70361 40521 10882 68250 56 75367 85405 62453 51239 66375 54624 1505 40191 44218 7839 96973 49789 22056 73469 81932 4325 88239 21537 25872 85770 54455 19089 76897 96233 92052 77584 82947 48925 88466 51197 48981 80185 36603 27787 31424 2978 82411 49282 59522 26629 73473 72847 76419 11881 46316 74703 32559 50908 96240 58431 53030 50695 93872 46279 63281 2276 23864 62580 51202 28682 13777 183 8868 66732 27970 56644 86063 10382 22278 45585 53363 95752 34784 46134 7633 81101 20837 40192 48361 33429 14976 1391 477 8848 47671 63758 27477 71535 26338 78679 16569 56467 78862 25437 23200 23185 98434 9263 49919 20712 71200 3282 16464 5984 65769 40450 3437 86606 96994 51798 20036 11970 69542 20513 37171 17213 623 64648 5100 43313 43327 21669 99780 38541 63459 39332 61726 78245 48595 27997 98957 19795 31280 31774 42132 97049 72224 45569 7 69218 13720 36395 97541 83262 73260 34712 16827 73883 15712 38279 17196 59039 76300 33329 13932 56111 72661 92011 34356 37609 20008 49666 73756 67640 81440 15888 81041 70016 77810 81049 39234 7882 33796 53127 7496 7057 87839 40675 97292 3551 78954 30841 78942 71606 64170 92875 27718 53183 1238 78426 90792 21246 28092 64549 5239 25884\"\n",
    "l=list(map(int,l.split()))\n",
    "l"
   ]
  },
  {
   "cell_type": "code",
   "execution_count": null,
   "metadata": {
    "collapsed": true
   },
   "outputs": [],
   "source": [
    "from math import gcd\n",
    "print(dir(gcd))"
   ]
  },
  {
   "cell_type": "code",
   "execution_count": null,
   "metadata": {
    "collapsed": true
   },
   "outputs": [],
   "source": [
    "num=[2,2,1,2]\n",
    "s = sum(num)\n",
    "num=list(set(num))\n",
    "num.sort()\n",
    "for i in range(len(num)):\n",
    "    x=num[i]\n",
    "    if (x * 4) > s :\n",
    "        print('hello')\n",
    "        print(x,s)\n",
    "        break\n",
    "    else :\n",
    "        x = max(num) + 1\n",
    "print('%d'%x)  \n"
   ]
  },
  {
   "cell_type": "code",
   "execution_count": null,
   "metadata": {
    "collapsed": true
   },
   "outputs": [],
   "source": [
    "a=[1,2,5,4,6,2,3,5,1,4]\n",
    "sum(a)"
   ]
  },
  {
   "cell_type": "code",
   "execution_count": null,
   "metadata": {
    "collapsed": true
   },
   "outputs": [],
   "source": [
    "n = int(input())\n",
    "l = list(map(int,input().split(',')))\n",
    "b = []\n",
    "for i in l:\n",
    "    b.append((bin(i)[2:]))\n",
    "l = []\n",
    "for i in b:\n",
    "    l.append(i.count('1'))\n",
    "b = []\n",
    "for i in range(len(l)):\n",
    "    for j in range(1,len(l)):\n",
    "        if l[i] > l[j] and i < j:\n",
    "            b.append((l[i],l[j]))\n",
    "print(b)\n",
    "print(len(b))            "
   ]
  },
  {
   "cell_type": "code",
   "execution_count": null,
   "metadata": {
    "collapsed": true
   },
   "outputs": [],
   "source": [
    "from itertools import combinations \n",
    "n = list(map(int,input().split(',')))\n",
    "l = list(map(int,input().split(',')))\n",
    "z = list(combinations(l,3))\n",
    "s = list(map(lambda z :(z[0]+z[1]+z[2]),z))\n",
    "c = 0\n",
    "for i in s:\n",
    "    if i%n[1]==0:\n",
    "        c += 1\n",
    "print(c)\n"
   ]
  },
  {
   "cell_type": "code",
   "execution_count": null,
   "metadata": {
    "collapsed": true
   },
   "outputs": [],
   "source": [
    "from itertools import combinations \n",
    "n = list(map(int,input().split(',')))\n",
    "l = list(map(int,input().split(',')))\n",
    "z = list(combinations(l,3))\n",
    "s = list(map(lambda z :(z[0]+z[1]+z[2]),z))\n",
    "c = 0\n",
    "for i in s:\n",
    "    if i%n[1]==0:\n",
    "        c += 1\n",
    "print(c)\n"
   ]
  },
  {
   "cell_type": "code",
   "execution_count": 17,
   "metadata": {},
   "outputs": [
    {
     "name": "stdout",
     "output_type": "stream",
     "text": [
      "1\n",
      "2\n",
      "4\n",
      "8\n",
      "16\n",
      "32\n",
      "64\n",
      "[1, 2, 4, 8, 16, 32, 64]\n",
      "[(1, 2, 32), (1, 4, 16), (1, 16, 4), (1, 32, 2), (2, 1, 32), (2, 4, 8), (2, 8, 4), (2, 32, 1), (4, 1, 16), (4, 2, 8), (4, 8, 2), (4, 16, 1), (8, 2, 4), (8, 4, 2), (16, 1, 4), (16, 4, 1), (32, 1, 2), (32, 2, 1)]\n"
     ]
    }
   ],
   "source": [
    "from itertools import combinations,permutations\n",
    "a = 64\n",
    "l = []\n",
    "for i in range(1, a+1):\n",
    "        if a % i == 0:\n",
    "            l.append(i)\n",
    "            print(i)        \n",
    "print(l)\n",
    "p = list(permutations(l,3))\n",
    "p2 = list(filter(lambda p :True if p[0]*p[1]*p[2]== a else False,p))\n",
    "print(p2)"
   ]
  },
  {
   "cell_type": "code",
   "execution_count": 47,
   "metadata": {},
   "outputs": [
    {
     "name": "stdout",
     "output_type": "stream",
     "text": [
      "AB\n",
      "AC\n",
      "DA\n"
     ]
    }
   ],
   "source": [
    "s = 'AABACADAA'\n",
    "l = list(s)\n",
    "k = 3\n",
    "n = len(s)//k\n",
    "t = []\n",
    "j = 0\n",
    "for i in range(n):\n",
    "    a = (list((s[int(k*i):int(k*(i+1))])))\n",
    "    s1 = ''\n",
    "    for j in a:\n",
    "        if j in s1:\n",
    "            continue\n",
    "        else:\n",
    "            s1 += j\n",
    "    t.append(s1)\n",
    "    print(t[i])"
   ]
  },
  {
   "cell_type": "code",
   "execution_count": 17,
   "metadata": {},
   "outputs": [
    {
     "name": "stdout",
     "output_type": "stream",
     "text": [
      "5 3\n",
      "89 90 78 93 80\n",
      "90 91 85 88 86\n",
      "91 92 83 89 90.5\n"
     ]
    },
    {
     "ename": "TypeError",
     "evalue": "unsupported operand type(s) for /: 'tuple' and 'int'",
     "output_type": "error",
     "traceback": [
      "\u001b[1;31m---------------------------------------------------------------------------\u001b[0m",
      "\u001b[1;31mTypeError\u001b[0m                                 Traceback (most recent call last)",
      "\u001b[1;32m<ipython-input-17-56ef588fc91e>\u001b[0m in \u001b[0;36m<module>\u001b[1;34m()\u001b[0m\n\u001b[0;32m      3\u001b[0m \u001b[0ms\u001b[0m \u001b[1;33m=\u001b[0m \u001b[0mlist\u001b[0m\u001b[1;33m(\u001b[0m\u001b[0mzip\u001b[0m\u001b[1;33m(\u001b[0m\u001b[1;33m*\u001b[0m\u001b[1;33m[\u001b[0m\u001b[0mlist\u001b[0m\u001b[1;33m(\u001b[0m\u001b[0mmap\u001b[0m\u001b[1;33m(\u001b[0m\u001b[0mfloat\u001b[0m\u001b[1;33m,\u001b[0m\u001b[0minput\u001b[0m\u001b[1;33m(\u001b[0m\u001b[1;33m)\u001b[0m\u001b[1;33m.\u001b[0m\u001b[0msplit\u001b[0m\u001b[1;33m(\u001b[0m\u001b[1;33m)\u001b[0m\u001b[1;33m)\u001b[0m\u001b[1;33m)\u001b[0m \u001b[1;32mfor\u001b[0m \u001b[0mi\u001b[0m \u001b[1;32min\u001b[0m \u001b[0mrange\u001b[0m\u001b[1;33m(\u001b[0m\u001b[0mx\u001b[0m\u001b[1;33m)\u001b[0m\u001b[1;33m]\u001b[0m\u001b[1;33m)\u001b[0m\u001b[1;33m)\u001b[0m\u001b[1;33m\u001b[0m\u001b[0m\n\u001b[0;32m      4\u001b[0m \u001b[1;32mfor\u001b[0m \u001b[0mi\u001b[0m \u001b[1;32min\u001b[0m \u001b[0mrange\u001b[0m\u001b[1;33m(\u001b[0m\u001b[0mn\u001b[0m\u001b[1;33m)\u001b[0m\u001b[1;33m:\u001b[0m\u001b[1;33m\u001b[0m\u001b[0m\n\u001b[1;32m----> 5\u001b[1;33m     \u001b[0mprint\u001b[0m\u001b[1;33m(\u001b[0m\u001b[0msum\u001b[0m\u001b[1;33m(\u001b[0m\u001b[0ms\u001b[0m\u001b[1;33m[\u001b[0m\u001b[1;36m0\u001b[0m\u001b[1;33m]\u001b[0m\u001b[1;33m/\u001b[0m\u001b[0mx\u001b[0m\u001b[1;33m)\u001b[0m\u001b[1;33m)\u001b[0m\u001b[1;33m\u001b[0m\u001b[0m\n\u001b[0m",
      "\u001b[1;31mTypeError\u001b[0m: unsupported operand type(s) for /: 'tuple' and 'int'"
     ]
    }
   ],
   "source": [
    "n,x = input().split()\n",
    "n,x = int(n),int(x)\n",
    "s = list(zip(*[list(map(float,input().split())) for i in range(x)]))\n",
    "for i in range(n):\n",
    "    print(sum(s[0]/x))"
   ]
  },
  {
   "cell_type": "code",
   "execution_count": 21,
   "metadata": {},
   "outputs": [
    {
     "name": "stdout",
     "output_type": "stream",
     "text": [
      "90.0\n",
      "91.0\n",
      "82.0\n",
      "90.0\n",
      "85.5\n"
     ]
    }
   ],
   "source": [
    "for i in range(n):\n",
    "    print(sum(s[i])/x)"
   ]
  },
  {
   "cell_type": "markdown",
   "metadata": {},
   "source": [
    "# Random number Prime number"
   ]
  },
  {
   "cell_type": "code",
   "execution_count": 130,
   "metadata": {},
   "outputs": [
    {
     "name": "stdout",
     "output_type": "stream",
     "text": [
      "[1, 1, 3, 3, 5, 11, 13, 19, 23, 23, 29, 37, 37, 41, 41, 41, 43, 43, 47, 61, 61, 67, 71, 79, 83, 83, 97]\n"
     ]
    }
   ],
   "source": [
    "import numpy as np\n",
    "from math import sqrt\n",
    "l = list(np.random.randint(1,100,100))\n",
    "p = []\n",
    "for i in l:\n",
    "    a = True\n",
    "    for j in range(2,(int(sqrt(i)) + 1)):\n",
    "        if i%j==0:\n",
    "            a = False\n",
    "            break\n",
    "    if a:\n",
    "        p.append(i)\n",
    "for i in range(len(p)):\n",
    "    for j in range(len(p)):\n",
    "        if p[i] < p[j]:\n",
    "            t = p[j]\n",
    "            p[j] = p[i]\n",
    "            p[i] = t\n",
    "print((p))"
   ]
  },
  {
   "cell_type": "code",
   "execution_count": null,
   "metadata": {},
   "outputs": [],
   "source": []
  },
  {
   "cell_type": "code",
   "execution_count": null,
   "metadata": {},
   "outputs": [],
   "source": []
  },
  {
   "cell_type": "code",
   "execution_count": null,
   "metadata": {
    "collapsed": true
   },
   "outputs": [],
   "source": []
  }
 ],
 "metadata": {
  "kernelspec": {
   "display_name": "Python 3",
   "language": "python",
   "name": "python3"
  },
  "language_info": {
   "codemirror_mode": {
    "name": "ipython",
    "version": 3
   },
   "file_extension": ".py",
   "mimetype": "text/x-python",
   "name": "python",
   "nbconvert_exporter": "python",
   "pygments_lexer": "ipython3",
   "version": "3.6.5"
  }
 },
 "nbformat": 4,
 "nbformat_minor": 2
}
