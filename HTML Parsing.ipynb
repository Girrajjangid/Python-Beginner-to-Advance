{
 "cells": [
  {
   "cell_type": "markdown",
   "metadata": {},
   "source": [
    "# HTMLParser & XML\n",
    "\n",
    "An HTMLParser instance is fed HTML data and calls handler methods when start tags, end tags, text, comments, and other markup elements are encountered."
   ]
  },
  {
   "cell_type": "code",
   "execution_count": 6,
   "metadata": {},
   "outputs": [],
   "source": [
    "from html.parser import HTMLParser"
   ]
  },
  {
   "cell_type": "code",
   "execution_count": 8,
   "metadata": {},
   "outputs": [
    {
     "name": "stdout",
     "output_type": "stream",
     "text": [
      "found an start tag: html\n",
      "found an start tag: head\n",
      "found an start tag: title\n",
      "found an end tag: title\n",
      "found an end tag: head\n",
      "found an start tag: body\n",
      "found an start tag: h1\n",
      "found an end tag: h1\n",
      "found a empty tag: br\n",
      "found an end tag: body\n",
      "found an end tag: html\n"
     ]
    }
   ],
   "source": [
    "#creating a subclass and overide the Handler method\n",
    "class myHTMLParser(HTMLParser):\n",
    "    def handle_starttag(self,tag,attrs):\n",
    "        print(\"found an start tag:\",tag)\n",
    "    def handle_endtag(self,tag):\n",
    "        print(\"found an end tag:\",tag)\n",
    "    def handle_startendtag(self,tag,attrs):\n",
    "        print(\"found a empty tag:\",tag)\n",
    "# instantiate the parser and fed it some HTML\n",
    "parser = myHTMLParser()\n",
    "parser.feed(\"<html><head><title>HTML Parser - I</title></head>\"\n",
    "            +\"<body><h1>HackerRank</h1><br /></body></html>\")\n"
   ]
  },
  {
   "cell_type": "markdown",
   "metadata": {},
   "source": [
    "1   handle_starttag(tag, attrs)\n",
    "\n",
    "This method is called to handle the start tag of an element. (For example: <div class='marks'>) \n",
    "The tag argument is the name of the tag converted to lowercase. \n",
    "The attrs argument is a list of (name, value) pairs containing the attributes found inside the tag’s <> brackets. \n",
    "\n",
    "\n",
    "2   handle_endtag(tag)\n",
    "\n",
    "This method is called to handle the end tag of an element. (For example: </div>) \n",
    "The tag argument is the name of the tag converted to lowercase. \n",
    "\n",
    "\n",
    "3   handle_startendtag(tag,attrs)\n",
    "\n",
    "This method is called to handle the empty tag of an element. (For example: <br />) \n",
    "The tag argument is the name of the tag converted to lowercase. \n",
    "The attrs argument is a list of (name, value) pairs containing the attributes found inside the tag’s <> brackets.\n",
    "\n",
    "4   handle_comment(data) \n",
    "This method is called when a comment is encountered (e.g. <!--comment-->). \n",
    "The data argument is the content inside the comment tag:\n",
    "\n",
    "5   handle_data(data) \n",
    "This method is called to process arbitrary data (e.g. text nodes and the content of <script>...</script> and <style>...</style>). \n",
    "The data argument is the text content of HTML."
   ]
  },
  {
   "cell_type": "code",
   "execution_count": 17,
   "metadata": {},
   "outputs": [
    {
     "name": "stdout",
     "output_type": "stream",
     "text": [
      "Start : html\n",
      "Start : head\n",
      "Start : title\n",
      "Data : HTML Parser - I\n",
      "End  : title\n",
      "End  : head\n",
      "Start : body\n",
      "->  data-modal-target  >  None\n",
      "->  class  >  1\n",
      "Start : h1\n",
      "Data : HackerRank\n",
      "End  : h1\n",
      "Empty : br\n",
      "End  : body\n",
      "End  : html\n"
     ]
    }
   ],
   "source": [
    "#creating a subclass and overide the Handler method\n",
    "class myHTMLParser(HTMLParser):\n",
    "    def handle_starttag(self,tag,attrs):\n",
    "        print(\"Start :\",tag)\n",
    "\n",
    "    def handle_endtag(self,tag):\n",
    "        print(\"End  :\",tag)\n",
    "    \n",
    "    def handle_startendtag(self,tag,attrs):\n",
    "        print(\"Empty :\",tag)\n",
    "    \n",
    "    def handle_comment(self,cmt):\n",
    "        print(\"Comments :\" , cmt)\n",
    "    \n",
    "    def handle_data(self,data):\n",
    "        print(\"Data :\",data)\n",
    "parser = myHTMLParser()\n",
    "parser.feed(\"<html><head><title>HTML Parser - I</title></head>\"+\n",
    "\"<body data-modal-target class='1'><h1>HackerRank</h1><br /></body></html>\")\n"
   ]
  },
  {
   "cell_type": "code",
   "execution_count": 41,
   "metadata": {},
   "outputs": [
    {
     "name": "stdout",
     "output_type": "stream",
     "text": [
      ">>> Multi-line Comment\n",
      "[if IE 9]>IE9-specific content\n",
      "<![endif]\n",
      ">>> Data \n",
      " Welcome to HackerRank\n",
      ">>> Single-line Comment\n",
      "[if IE 9]>IE9-specific content<![endif]\n"
     ]
    }
   ],
   "source": [
    "from html.parser import HTMLParser\n",
    "\n",
    "class MyHTMLParser(HTMLParser):\n",
    "    def handle_comment(self,cmt):\n",
    "        number_of_line = len(cmt.split('\\n'))\n",
    "        if number_of_line>1:\n",
    "            print('>>> Multi-line Comment')\n",
    "        else:\n",
    "            print('>>> Single-line Comment')\n",
    "        if cmt.strip():\n",
    "            print(cmt)    \n",
    "    def handle_data(self,data):\n",
    "        if data!='\\n':\n",
    "            print(\">>> Data \")\n",
    "            print(data)  \n",
    "html = \"<!--[if IE 9]>IE9-specific content\\n<![endif]-->\\n<div> Welcome to HackerRank</div>\\n<!--[if IE 9]>IE9-specific content<![endif]-->\"       \n",
    "parser = MyHTMLParser()\n",
    "parser.feed(html)\n",
    "parser.close()"
   ]
  },
  {
   "cell_type": "code",
   "execution_count": 45,
   "metadata": {},
   "outputs": [
    {
     "name": "stdout",
     "output_type": "stream",
     "text": [
      "head\n",
      "title\n",
      "object\n",
      "-> type > application/x-flash\n",
      "-> data > your-file.swf\n",
      "-> width > 0\n",
      "-> height > 0\n",
      "param\n",
      "-> name > quality\n",
      "-> value > high\n"
     ]
    }
   ],
   "source": [
    "# print all attribute and values and tags\n",
    "class myHTMLParser(HTMLParser):\n",
    "    def handle_starttag(self,tag,attrs):\n",
    "        print(tag)\n",
    "        for i,j in attrs:\n",
    "            print('->',i,'>',j)\n",
    "\n",
    "    def handle_startendtag(self,tag,attrs):\n",
    "        print(tag)\n",
    "        for i,j in attrs:\n",
    "            print('->',i,'>',j)\n",
    "html = \"\"\"\n",
    "<head>\n",
    "<title>HTML</title>\n",
    "</head>\n",
    "<object type=\"application/x-flash\" \n",
    "  data=\"your-file.swf\" \n",
    "  width=\"0\" height=\"0\">\n",
    "  <!-- <param name=\"movie\" value=\"your-file.swf\" /> -->\n",
    "  <param name=\"quality\" value=\"high\"/>\n",
    "</object>\n",
    "\"\"\"\n",
    "parser = myHTMLParser()\n",
    "parser.feed(html)"
   ]
  },
  {
   "cell_type": "markdown",
   "metadata": {},
   "source": [
    "# XML"
   ]
  },
  {
   "cell_type": "code",
   "execution_count": 109,
   "metadata": {},
   "outputs": [
    {
     "name": "stdout",
     "output_type": "stream",
     "text": [
      "<Element 'TextView' at 0x00952CF0>\n",
      "<Element 'TextView' at 0x009528A0>\n",
      "<Element 'TableRow' at 0x00952C00>\n",
      "<Element 'TableRow' at 0x00952E70>\n",
      "<Element 'TableRow' at 0x0095A090>\n",
      "<Element 'TableRow' at 0x0095A270>\n",
      "<Element 'TableRow' at 0x0095A450>\n"
     ]
    }
   ],
   "source": [
    "import xml.etree.ElementTree as etree\n",
    "tree = etree.parse(\"F:\\\\android\\\\Projects\\\\Calculator\\\\app\\\\src\\\\main\\\\res\\\\layout\\\\activity_main2.xml\")\n",
    "root = tree.getroot()\n",
    "list(root)\n",
    "for child in root:\n",
    "    print(child)"
   ]
  },
  {
   "cell_type": "code",
   "execution_count": 64,
   "metadata": {},
   "outputs": [
    {
     "data": {
      "text/plain": [
       "dict_keys(['{http://schemas.android.com/apk/res/android}background', '{http://schemas.android.com/apk/res/android}layout_height', '{http://schemas.android.com/apk/res/android}id', '{http://schemas.android.com/apk/res/android}layout_width', '{http://schemas.android.com/apk/res/android}textAlignment', '{http://schemas.android.com/apk/res/android}textColor', '{http://schemas.android.com/apk/res/android}textSize', '{http://schemas.android.com/apk/res/android}textStyle'])"
      ]
     },
     "execution_count": 64,
     "metadata": {},
     "output_type": "execute_result"
    }
   ],
   "source": [
    "root.attrib  # root attribute\n",
    "root[0].attrib.keys()"
   ]
  },
  {
   "cell_type": "code",
   "execution_count": 141,
   "metadata": {},
   "outputs": [
    {
     "name": "stdout",
     "output_type": "stream",
     "text": [
      "8\n"
     ]
    }
   ],
   "source": [
    "import xml.etree.ElementTree as etree\n",
    "xml = \"\"\"\n",
    "<feed xml:lang='en'>\n",
    "  <title>HackerRank</title>\n",
    "  <subtitle lang='en'>Programming challenges</subtitle>\n",
    "  <link rel='alternate' type='text/html' href='http://hank.com/'/>\n",
    "  <updated>2013-12-25T12:00:00</updated>\n",
    "  <entry>\n",
    "  \t<author gender='male'>Harsh</author>\n",
    "    <question type='hard'>XML 1</question>\n",
    "    <description type='text'>This is related to XML parsing</description>\n",
    "  </entry>\n",
    "</feed>\"\"\"\n",
    "tree = etree.ElementTree(etree.fromstring(xml))\n",
    "root = tree.getroot()\n",
    "print(sum([len(elem.items()) for elem in tree.iter()]))"
   ]
  },
  {
   "cell_type": "code",
   "execution_count": 152,
   "metadata": {},
   "outputs": [
    {
     "name": "stdout",
     "output_type": "stream",
     "text": [
      "[<Element 'title' at 0x00AE2DE0>, <Element 'subtitle' at 0x00AE2EA0>, <Element 'link' at 0x00ADE780>, <Element 'updated' at 0x00ADE4E0>]\n"
     ]
    },
    {
     "ename": "TypeError",
     "evalue": "depth() missing 1 required positional argument: 'level'",
     "output_type": "error",
     "traceback": [
      "\u001b[1;31m---------------------------------------------------------------------------\u001b[0m",
      "\u001b[1;31mTypeError\u001b[0m                                 Traceback (most recent call last)",
      "\u001b[1;32m<ipython-input-152-91b74e115a09>\u001b[0m in \u001b[0;36m<module>\u001b[1;34m()\u001b[0m\n\u001b[0;32m     18\u001b[0m \"\"\"\n\u001b[0;32m     19\u001b[0m \u001b[0mtree\u001b[0m \u001b[1;33m=\u001b[0m \u001b[0metree\u001b[0m\u001b[1;33m.\u001b[0m\u001b[0mElementTree\u001b[0m\u001b[1;33m(\u001b[0m\u001b[0metree\u001b[0m\u001b[1;33m.\u001b[0m\u001b[0mfromstring\u001b[0m\u001b[1;33m(\u001b[0m\u001b[0mxml\u001b[0m\u001b[1;33m)\u001b[0m\u001b[1;33m)\u001b[0m\u001b[1;33m\u001b[0m\u001b[0m\n\u001b[1;32m---> 20\u001b[1;33m \u001b[0mdepth\u001b[0m\u001b[1;33m(\u001b[0m\u001b[0mtree\u001b[0m\u001b[1;33m.\u001b[0m\u001b[0mgetroot\u001b[0m\u001b[1;33m(\u001b[0m\u001b[1;33m)\u001b[0m \u001b[1;33m,\u001b[0m \u001b[1;33m-\u001b[0m\u001b[1;36m1\u001b[0m\u001b[1;33m)\u001b[0m\u001b[1;33m\u001b[0m\u001b[0m\n\u001b[0m\u001b[0;32m     21\u001b[0m \u001b[0mprint\u001b[0m\u001b[1;33m(\u001b[0m\u001b[0mmaxdepth\u001b[0m\u001b[1;33m)\u001b[0m\u001b[1;33m\u001b[0m\u001b[0m\n",
      "\u001b[1;32m<ipython-input-152-91b74e115a09>\u001b[0m in \u001b[0;36mdepth\u001b[1;34m(elem, level)\u001b[0m\n\u001b[0;32m      8\u001b[0m             \u001b[0mmaxdepth\u001b[0m \u001b[1;33m+=\u001b[0m \u001b[1;36m1\u001b[0m\u001b[1;33m\u001b[0m\u001b[0m\n\u001b[0;32m      9\u001b[0m             \u001b[0mprint\u001b[0m\u001b[1;33m(\u001b[0m\u001b[0melem\u001b[0m\u001b[1;33m.\u001b[0m\u001b[0mgetchildren\u001b[0m\u001b[1;33m(\u001b[0m\u001b[1;33m)\u001b[0m\u001b[1;33m)\u001b[0m\u001b[1;33m\u001b[0m\u001b[0m\n\u001b[1;32m---> 10\u001b[1;33m             \u001b[0mdepth\u001b[0m\u001b[1;33m(\u001b[0m\u001b[0melem\u001b[0m\u001b[1;33m.\u001b[0m\u001b[0mgetchildren\u001b[0m\u001b[1;33m(\u001b[0m\u001b[1;33m)\u001b[0m\u001b[1;33m)\u001b[0m\u001b[1;33m\u001b[0m\u001b[0m\n\u001b[0m\u001b[0;32m     11\u001b[0m xml = \"\"\"\n\u001b[0;32m     12\u001b[0m \u001b[1;33m<\u001b[0m\u001b[0mfeed\u001b[0m \u001b[0mxml\u001b[0m\u001b[1;33m:\u001b[0m\u001b[0mlang\u001b[0m\u001b[1;33m=\u001b[0m\u001b[1;34m'en'\u001b[0m\u001b[1;33m>\u001b[0m\u001b[1;33m\u001b[0m\u001b[0m\n",
      "\u001b[1;31mTypeError\u001b[0m: depth() missing 1 required positional argument: 'level'"
     ]
    }
   ],
   "source": [
    "maxdepth = 0\n",
    "def depth(elem, level):\n",
    "    global maxdepth\n",
    "    for i in elem:\n",
    "        if len(i.getchildren())==0:\n",
    "            print(i.getchildren())\n",
    "            pass\n",
    "        else :\n",
    "            maxdepth += 1\n",
    "            print(i.getchildren())\n",
    "            depth(i.getchildren())\n",
    "print(maxdepth)\n",
    "xml = \"\"\"\n",
    "<feed xml:lang='en'>\n",
    "    <title>HackerRank</title>\n",
    "    <subtitle lang='en'>Programming challenges</subtitle>\n",
    "    <link rel='alternate' type='text/html' href='http://hackerrank.com/'/>\n",
    "    <updated>2013-12-25T12:00:00</updated>\n",
    "</feed>\n",
    "\"\"\"\n",
    "tree = etree.ElementTree(etree.fromstring(xml))\n",
    "depth(tree.getroot() , -1)\n",
    "print(maxdepth)"
   ]
  },
  {
   "cell_type": "code",
   "execution_count": null,
   "metadata": {
    "collapsed": true
   },
   "outputs": [],
   "source": []
  }
 ],
 "metadata": {
  "kernelspec": {
   "display_name": "Python 3",
   "language": "python",
   "name": "python3"
  },
  "language_info": {
   "codemirror_mode": {
    "name": "ipython",
    "version": 3
   },
   "file_extension": ".py",
   "mimetype": "text/x-python",
   "name": "python",
   "nbconvert_exporter": "python",
   "pygments_lexer": "ipython3",
   "version": "3.6.3"
  }
 },
 "nbformat": 4,
 "nbformat_minor": 2
}
