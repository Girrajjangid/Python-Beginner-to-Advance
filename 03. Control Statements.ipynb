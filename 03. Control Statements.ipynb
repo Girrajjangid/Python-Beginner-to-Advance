{
 "cells": [
  {
   "cell_type": "markdown",
   "metadata": {},
   "source": [
    "# Control Statements\n"
   ]
  },
  {
   "cell_type": "code",
   "execution_count": 1,
   "metadata": {},
   "outputs": [
    {
     "name": "stdout",
     "output_type": "stream",
     "text": [
      "[1, 2, 3, 3, 3, 3, 3, 2, 2, 2]\n"
     ]
    }
   ],
   "source": [
    "#data types\n",
    "q=[1,2,3,3,3,3,3,2,2,2]\n",
    "print(q)"
   ]
  },
  {
   "cell_type": "code",
   "execution_count": 2,
   "metadata": {},
   "outputs": [
    {
     "name": "stdout",
     "output_type": "stream",
     "text": [
      "{1, 2, 3, 4, 5}\n",
      "{'o', 'n', 'y', 'h', 't', 'p'}\n",
      "{1, 2, 'three'}\n",
      "{1, 2, 3, 5, 6, 21}\n"
     ]
    }
   ],
   "source": [
    "l = set([1,2,3,4,5,1])\n",
    "print(l)\n",
    "\n",
    "k = set('python')\n",
    "print(k)\n",
    "\n",
    "p = set({1:'one',2:'two','three':3})\n",
    "print(p)\n",
    "\n",
    "t=[1,5,2,3,6,5,2,2,5,5,21,2,5]\n",
    "a=set(t)\n",
    "print(a)"
   ]
  },
  {
   "cell_type": "markdown",
   "metadata": {},
   "source": [
    "## The following objects are evaluated by Python as False:\n",
    "\n",
    "1. numerical zero values (0, 0.0, 0.0+0.0j),\n",
    "2. the Boolean value False,\n",
    "3. empty strings,\n",
    "4. empty lists and empty tuples,\n",
    "5. empty dictionaries.\n",
    "6. plus the special value None.\n",
    "\n",
    "All other values are considered to be True."
   ]
  },
  {
   "cell_type": "code",
   "execution_count": 3,
   "metadata": {},
   "outputs": [
    {
     "name": "stdout",
     "output_type": "stream",
     "text": [
      "['__add__', '__class__', '__contains__', '__delattr__', '__dir__', '__doc__', '__eq__', '__format__', '__ge__', '__getattribute__', '__getitem__', '__getnewargs__', '__gt__', '__hash__', '__init__', '__init_subclass__', '__iter__', '__le__', '__len__', '__lt__', '__mod__', '__mul__', '__ne__', '__new__', '__reduce__', '__reduce_ex__', '__repr__', '__rmod__', '__rmul__', '__setattr__', '__sizeof__', '__str__', '__subclasshook__', 'capitalize', 'casefold', 'center', 'count', 'encode', 'endswith', 'expandtabs', 'find', 'format', 'format_map', 'index', 'isalnum', 'isalpha', 'isdecimal', 'isdigit', 'isidentifier', 'islower', 'isnumeric', 'isprintable', 'isspace', 'istitle', 'isupper', 'join', 'ljust', 'lower', 'lstrip', 'maketrans', 'partition', 'replace', 'rfind', 'rindex', 'rjust', 'rpartition', 'rsplit', 'rstrip', 'split', 'splitlines', 'startswith', 'strip', 'swapcase', 'title', 'translate', 'upper', 'zfill']\n"
     ]
    }
   ],
   "source": [
    "if 0: \n",
    "    print('hey')\n",
    "print(dir('hello'))"
   ]
  },
  {
   "cell_type": "code",
   "execution_count": 4,
   "metadata": {},
   "outputs": [],
   "source": [
    "while():\n",
    "    print(True)"
   ]
  },
  {
   "cell_type": "code",
   "execution_count": 6,
   "metadata": {},
   "outputs": [
    {
     "name": "stdout",
     "output_type": "stream",
     "text": [
      " Enter value foo\n",
      "bar\n"
     ]
    }
   ],
   "source": [
    "temp=input(' Enter value ')\n",
    "x=temp.strip().lower()\n",
    "if x=='foo':\n",
    "    print('bar')\n",
    "elif x=='bar':\n",
    "    print('foo')\n",
    "else:\n",
    "    print('wrong input')"
   ]
  },
  {
   "cell_type": "code",
   "execution_count": 8,
   "metadata": {},
   "outputs": [
    {
     "name": "stdout",
     "output_type": "stream",
     "text": [
      "enter year20152\n",
      "leap year\n"
     ]
    }
   ],
   "source": [
    "# Leap year\n",
    "temp = int(input('enter year'))\n",
    "if (temp % 4 == 0) and (temp % 100 or temp % 400 == 0):\n",
    "    print('leap year')\n",
    "else:\n",
    "    print('not a leap year')\n"
   ]
  },
  {
   "cell_type": "code",
   "execution_count": 9,
   "metadata": {},
   "outputs": [
    {
     "name": "stdout",
     "output_type": "stream",
     "text": [
      "[1, 2, 5, 4, 2, 5, 8, 1, 5, 4, 4, 51, 52]\n",
      "[52, 51, 4, 4, 5, 1, 8, 5, 2]\n"
     ]
    }
   ],
   "source": [
    "l=[1,2,5,4,2,5,8,1,5,4,4,51,52]\n",
    "print(l)\n",
    "print(l[-1:3:-1])"
   ]
  },
  {
   "cell_type": "code",
   "execution_count": 10,
   "metadata": {},
   "outputs": [
    {
     "data": {
      "text/plain": [
       "10"
      ]
     },
     "execution_count": 10,
     "metadata": {},
     "output_type": "execute_result"
    }
   ],
   "source": [
    "# The Ternary if\n",
    "a = 10\n",
    "b = 5\n",
    "maxi = a if ( a > b ) else b\n",
    "maxi"
   ]
  },
  {
   "cell_type": "markdown",
   "metadata": {},
   "source": [
    "# Loops"
   ]
  },
  {
   "cell_type": "code",
   "execution_count": 12,
   "metadata": {},
   "outputs": [
    {
     "name": "stdout",
     "output_type": "stream",
     "text": [
      "sum 10 : 100\n"
     ]
    }
   ],
   "source": [
    "n = 10\n",
    "s = 0\n",
    "c = 1\n",
    "while c<=n:\n",
    "    s = s + n\n",
    "    c = c + 1\n",
    "print(\"sum %d : %d\"%(n,s))"
   ]
  },
  {
   "cell_type": "markdown",
   "metadata": {},
   "source": [
    "Python has these three channels as well:\n",
    "1. standard input\n",
    "2. standard output\n",
    "3. standard error\n",
    "\n",
    "They are contained in the module sys. Their names are:\n",
    "1. sys.stdin\n",
    "2. sys.stdout\n",
    "3. sys.stderror\n"
   ]
  },
  {
   "cell_type": "markdown",
   "metadata": {},
   "source": [
    "## How you can read a input without input() ??"
   ]
  },
  {
   "cell_type": "code",
   "execution_count": 25,
   "metadata": {},
   "outputs": [
    {
     "ename": "KeyboardInterrupt",
     "evalue": "",
     "output_type": "error",
     "traceback": [
      "\u001b[1;31m---------------------------------------------------------------------------\u001b[0m",
      "\u001b[1;31mKeyboardInterrupt\u001b[0m                         Traceback (most recent call last)",
      "\u001b[1;32m<ipython-input-25-16ebdbf72c5f>\u001b[0m in \u001b[0;36m<module>\u001b[1;34m()\u001b[0m\n\u001b[0;32m      3\u001b[0m \u001b[0mtext\u001b[0m \u001b[1;33m=\u001b[0m \u001b[1;34m\"\"\u001b[0m\u001b[1;33m\u001b[0m\u001b[0m\n\u001b[0;32m      4\u001b[0m \u001b[1;32mwhile\u001b[0m \u001b[1;36m1\u001b[0m\u001b[1;33m:\u001b[0m\u001b[1;33m\u001b[0m\u001b[0m\n\u001b[1;32m----> 5\u001b[1;33m     \u001b[0mc\u001b[0m \u001b[1;33m=\u001b[0m \u001b[0msys\u001b[0m\u001b[1;33m.\u001b[0m\u001b[0mstdin\u001b[0m\u001b[1;33m.\u001b[0m\u001b[0mreadline\u001b[0m\u001b[1;33m(\u001b[0m\u001b[1;36m1\u001b[0m\u001b[1;33m)\u001b[0m\u001b[1;33m\u001b[0m\u001b[0m\n\u001b[0m\u001b[0;32m      6\u001b[0m     \u001b[0mtext\u001b[0m \u001b[1;33m=\u001b[0m \u001b[0mtext\u001b[0m \u001b[1;33m+\u001b[0m \u001b[0mc\u001b[0m\u001b[1;33m\u001b[0m\u001b[0m\n\u001b[0;32m      7\u001b[0m     \u001b[1;32mif\u001b[0m \u001b[0mc\u001b[0m \u001b[1;33m==\u001b[0m \u001b[1;34m'\\n'\u001b[0m\u001b[1;33m:\u001b[0m\u001b[1;33m\u001b[0m\u001b[0m\n",
      "\u001b[1;32m~\\Anaconda3\\lib\\encodings\\cp1252.py\u001b[0m in \u001b[0;36mdecode\u001b[1;34m(self, input, final)\u001b[0m\n\u001b[0;32m     20\u001b[0m \u001b[1;33m\u001b[0m\u001b[0m\n\u001b[0;32m     21\u001b[0m \u001b[1;32mclass\u001b[0m \u001b[0mIncrementalDecoder\u001b[0m\u001b[1;33m(\u001b[0m\u001b[0mcodecs\u001b[0m\u001b[1;33m.\u001b[0m\u001b[0mIncrementalDecoder\u001b[0m\u001b[1;33m)\u001b[0m\u001b[1;33m:\u001b[0m\u001b[1;33m\u001b[0m\u001b[0m\n\u001b[1;32m---> 22\u001b[1;33m     \u001b[1;32mdef\u001b[0m \u001b[0mdecode\u001b[0m\u001b[1;33m(\u001b[0m\u001b[0mself\u001b[0m\u001b[1;33m,\u001b[0m \u001b[0minput\u001b[0m\u001b[1;33m,\u001b[0m \u001b[0mfinal\u001b[0m\u001b[1;33m=\u001b[0m\u001b[1;32mFalse\u001b[0m\u001b[1;33m)\u001b[0m\u001b[1;33m:\u001b[0m\u001b[1;33m\u001b[0m\u001b[0m\n\u001b[0m\u001b[0;32m     23\u001b[0m         \u001b[1;32mreturn\u001b[0m \u001b[0mcodecs\u001b[0m\u001b[1;33m.\u001b[0m\u001b[0mcharmap_decode\u001b[0m\u001b[1;33m(\u001b[0m\u001b[0minput\u001b[0m\u001b[1;33m,\u001b[0m\u001b[0mself\u001b[0m\u001b[1;33m.\u001b[0m\u001b[0merrors\u001b[0m\u001b[1;33m,\u001b[0m\u001b[0mdecoding_table\u001b[0m\u001b[1;33m)\u001b[0m\u001b[1;33m[\u001b[0m\u001b[1;36m0\u001b[0m\u001b[1;33m]\u001b[0m\u001b[1;33m\u001b[0m\u001b[0m\n\u001b[0;32m     24\u001b[0m \u001b[1;33m\u001b[0m\u001b[0m\n",
      "\u001b[1;31mKeyboardInterrupt\u001b[0m: "
     ]
    }
   ],
   "source": [
    "import sys \n",
    "\n",
    "text = \"\"\n",
    "while 1:\n",
    "    c = sys.stdin.readline(1)\n",
    "    text = text + c\n",
    "    if c == '\\n':\n",
    "        break\n",
    "\n",
    "print(\"Input: %s\" % text)"
   ]
  },
  {
   "cell_type": "code",
   "execution_count": 32,
   "metadata": {},
   "outputs": [
    {
     "name": "stdout",
     "output_type": "stream",
     "text": [
      "0\n",
      "1\n",
      "2\n",
      "3\n",
      "4\n",
      "5\n",
      "6\n",
      "7\n",
      "8\n",
      "9\n",
      "else call\n"
     ]
    }
   ],
   "source": [
    "# while loop also contains a else part\n",
    "l = [1,2,3,4,5,6,7,8,9]\n",
    "i=0\n",
    "while i <= len(l):\n",
    "    print(i)\n",
    "    i+=1\n",
    "else:\n",
    "    print('else call')"
   ]
  },
  {
   "cell_type": "code",
   "execution_count": 2,
   "metadata": {},
   "outputs": [
    {
     "name": "stdout",
     "output_type": "stream",
     "text": [
      "0\n",
      "1\n",
      "2\n",
      "3\n",
      "4\n"
     ]
    }
   ],
   "source": [
    "# while loop also contains a else part\n",
    "l = [1,2,3,4,5,6,7,8,9]\n",
    "i=0\n",
    "while i <= len(l):\n",
    "    print(i)\n",
    "    i+=1\n",
    "    if i==5:\n",
    "        break\n",
    "else:  # else called when while loop run completly\n",
    "    print('else call')"
   ]
  },
  {
   "cell_type": "markdown",
   "metadata": {},
   "source": [
    "Different kinds of for loops:\n",
    "\n",
    "1. Count-controlled for loop (Three-expression for loop)\n",
    "\n",
    "This is by far the most common type. This statement is the one used by C. The header of this kind of for loop consists of a three-parameter loop control expression. Generally it has the form: \n",
    "for (A; Z; I) \n",
    "\n",
    "A is the initialisation part, Z determines a termination expression and I is the counting expression, where the loop variable is incremented or dcremented. An example of this kind of loop is the for-loop of the programming language C: \n",
    "for (i=0; i <= n; i++) \n",
    "This kind of for loop is not implemented in Python!\n",
    "\n",
    "2. Numeric Ranges \n",
    "\n",
    "This kind of for loop is a simplification of the previous kind. It's a counting or enumerating loop. Starting with a start value and counting up to an end value, like for i = 1 to 100 \n",
    "Python doesn't use this either.\n",
    "\n",
    "3. Vectorized for loops \n",
    "\n",
    "They behave as if all iterations are executed in parallel. This means, for example, that all expressions on the right side of assignment statements get evaluated before the assignments.\n",
    "\n",
    "4. Iterator-based for loop \n",
    "\n",
    "Finally, we come to the one used by Python. This kind of a for loop iterates over an enumeration of a set of items. It is usually characterized by the use of an implicit or explicit iterator. In each iteration step a loop variable is set to a value in a sequence or other data collection. This kind of for loop is known in most Unix and Linux shells and it is the one which is implemented in Python."
   ]
  },
  {
   "cell_type": "code",
   "execution_count": 4,
   "metadata": {},
   "outputs": [
    {
     "ename": "SyntaxError",
     "evalue": "invalid syntax (<ipython-input-4-2d477c099128>, line 1)",
     "output_type": "error",
     "traceback": [
      "\u001b[1;36m  File \u001b[1;32m\"<ipython-input-4-2d477c099128>\"\u001b[1;36m, line \u001b[1;32m1\u001b[0m\n\u001b[1;33m    i = 1 to 100\u001b[0m\n\u001b[1;37m           ^\u001b[0m\n\u001b[1;31mSyntaxError\u001b[0m\u001b[1;31m:\u001b[0m invalid syntax\n"
     ]
    }
   ],
   "source": [
    "i = 1 to 100"
   ]
  },
  {
   "cell_type": "code",
   "execution_count": 6,
   "metadata": {},
   "outputs": [
    {
     "name": "stdout",
     "output_type": "stream",
     "text": [
      "one\n",
      "two\n",
      "spam\n",
      "please no !! more spam\n",
      "three\n",
      "finally called\n"
     ]
    }
   ],
   "source": [
    "l = ['one','two','spam','three']\n",
    "for i in l:\n",
    "    print(i)\n",
    "    if i == 'spam':\n",
    "        print ('please no !! more spam')\n",
    "        continue  # if terminate\n",
    "        print('asdfasdfasdfasdfasdf')\n",
    "else:\n",
    "    print('finally called')"
   ]
  },
  {
   "cell_type": "code",
   "execution_count": 24,
   "metadata": {},
   "outputs": [
    {
     "name": "stdout",
     "output_type": "stream",
     "text": [
      "0 1 2 3 4 5 6 7 8 9\n"
     ]
    }
   ],
   "source": [
    "print(*range(10))"
   ]
  },
  {
   "cell_type": "code",
   "execution_count": 26,
   "metadata": {},
   "outputs": [
    {
     "name": "stdout",
     "output_type": "stream",
     "text": [
      "0 0\n",
      "1 1\n",
      "2 1\n",
      "3 2\n",
      "4 3\n",
      "5 5\n",
      "6 8\n",
      "7 13\n",
      "8 21\n"
     ]
    }
   ],
   "source": [
    "fibo = [0,1,1,2,3,5,8,13,21]\n",
    "for i in range(len(fibo)):\n",
    "    print(i,fibo[i])"
   ]
  },
  {
   "cell_type": "code",
   "execution_count": 28,
   "metadata": {},
   "outputs": [
    {
     "name": "stdout",
     "output_type": "stream",
     "text": [
      "0 0\n",
      "1 1\n",
      "2 1\n",
      "3 2\n",
      "4 3\n",
      "5 5\n",
      "6 8\n",
      "7 13\n",
      "8 21\n"
     ]
    }
   ],
   "source": [
    "for i,j in enumerate(fibo):\n",
    "    print(i,j)"
   ]
  },
  {
   "cell_type": "markdown",
   "metadata": {},
   "source": [
    "# list iteration with side effect"
   ]
  },
  {
   "cell_type": "code",
   "execution_count": 77,
   "metadata": {},
   "outputs": [
    {
     "name": "stdout",
     "output_type": "stream",
     "text": [
      "2234734733328\n",
      "2234765555656\n",
      "2234764831968\n",
      "2234765555656\n",
      "2234764891392\n",
      "2234765555656\n",
      "['red', 'black', 'white']\n"
     ]
    }
   ],
   "source": [
    "color = ['red']\n",
    "for i in color:\n",
    "    print(id(i))\n",
    "    print(id(color))\n",
    "    if i == 'red':\n",
    "        color+=['black']  # add as an iterator\n",
    "    if i == 'black':\n",
    "        color+=['white']\n",
    "print(color)"
   ]
  },
  {
   "cell_type": "code",
   "execution_count": 79,
   "metadata": {},
   "outputs": [
    {
     "name": "stdout",
     "output_type": "stream",
     "text": [
      "2234734733328\n",
      "2234765555656\n",
      "['red', 'black']\n"
     ]
    }
   ],
   "source": [
    "color = ['red']\n",
    "for i in color[:]:\n",
    "    print(id(i))\n",
    "    print(id(color))\n",
    "    if i == 'red':\n",
    "        color+=['black']  # add as an iterator\n",
    "    if i == 'black':\n",
    "        color+=['white']\n",
    "print(color)"
   ]
  },
  {
   "cell_type": "markdown",
   "metadata": {},
   "source": [
    "# Difference between iterator and iterable"
   ]
  },
  {
   "cell_type": "markdown",
   "metadata": {},
   "source": [
    "This form of looping can be seen as iteration. Iteration is not restricted to explicit for loops. If you call the function sum, - e.g. on a list of integer values, - you do iteration as well.\n",
    "\n",
    "So what is the difference between an iterable and an iterator?\n",
    "\n",
    "In one perspective they are the same: You can iterate with a for loop over iterators and iterables. Every iterator is also an iterable, but not every iterable is an iterator. E.g. a list is iterable but a list is not an iterator! An iterator can be created from an iterable by using the function 'iter'. To make this possible the class of an object needs either a method '__iter__', which returns an iterator, or a '__getitem__' method with sequential indexes starting with 0.\n",
    "\n",
    "Iterators are objects with a '__next__' method, which will be used when the function 'next' is called.\n",
    "\n",
    "So what is going on behind the scenes, when a for loop is executed? The for statement calls iter() on the object ( which should be a so-called container object), which it is supposed to loop over. If this call is successful, the iter call will return return an iterator object that defines the method __next__() which accesses elements of the object one at a time. The __next__() method will raise a StopIteration exception, if there are no further elements available. The for loop whill terminate as soon as it catches a StopIteration exception. You can call the __next__() method using the next() built-in function. This is how it works:"
   ]
  },
  {
   "cell_type": "code",
   "execution_count": 81,
   "metadata": {},
   "outputs": [
    {
     "name": "stdout",
     "output_type": "stream",
     "text": [
      "<list_iterator object at 0x00000208527452B0>\n",
      "jaipur\n",
      "ajmer\n",
      "bikaner\n"
     ]
    },
    {
     "ename": "StopIteration",
     "evalue": "",
     "output_type": "error",
     "traceback": [
      "\u001b[1;31m---------------------------------------------------------------------------\u001b[0m",
      "\u001b[1;31mStopIteration\u001b[0m                             Traceback (most recent call last)",
      "\u001b[1;32m<ipython-input-81-0eac918951e6>\u001b[0m in \u001b[0;36m<module>\u001b[1;34m()\u001b[0m\n\u001b[0;32m      5\u001b[0m \u001b[0mprint\u001b[0m\u001b[1;33m(\u001b[0m\u001b[0mnext\u001b[0m\u001b[1;33m(\u001b[0m\u001b[0miter_obj\u001b[0m\u001b[1;33m)\u001b[0m\u001b[1;33m)\u001b[0m\u001b[1;33m\u001b[0m\u001b[0m\n\u001b[0;32m      6\u001b[0m \u001b[0mprint\u001b[0m\u001b[1;33m(\u001b[0m\u001b[0mnext\u001b[0m\u001b[1;33m(\u001b[0m\u001b[0miter_obj\u001b[0m\u001b[1;33m)\u001b[0m\u001b[1;33m)\u001b[0m\u001b[1;33m\u001b[0m\u001b[0m\n\u001b[1;32m----> 7\u001b[1;33m \u001b[0mprint\u001b[0m\u001b[1;33m(\u001b[0m\u001b[0mnext\u001b[0m\u001b[1;33m(\u001b[0m\u001b[0miter_obj\u001b[0m\u001b[1;33m)\u001b[0m\u001b[1;33m)\u001b[0m\u001b[1;33m\u001b[0m\u001b[0m\n\u001b[0m",
      "\u001b[1;31mStopIteration\u001b[0m: "
     ]
    }
   ],
   "source": [
    "city = ['jaipur','ajmer','bikaner']\n",
    "iter_obj = iter(city)\n",
    "print(iter_obj)\n",
    "print(next(iter_obj))\n",
    "print(next(iter_obj))\n",
    "print(next(iter_obj))\n",
    "print(next(iter_obj))"
   ]
  },
  {
   "cell_type": "code",
   "execution_count": 82,
   "metadata": {},
   "outputs": [
    {
     "name": "stdout",
     "output_type": "stream",
     "text": [
      "34 iterable:  False\n",
      "[4, 5] iterable:  True\n",
      "(4, 5) iterable:  True\n",
      "{'a': 4} iterable:  True\n",
      "dfsdf iterable:  True\n",
      "4.5 iterable:  False\n"
     ]
    }
   ],
   "source": [
    "def iterable(obj):\n",
    "     try:\n",
    "        iter(obj)\n",
    "        return True\n",
    "     except TypeError:\n",
    "        return False \n",
    "        \n",
    "for element in [34, [4, 5], (4, 5), {\"a\":4}, \"dfsdf\", 4.5]:\n",
    "    print(element, \"iterable: \", iterable(element))"
   ]
  },
  {
   "cell_type": "code",
   "execution_count": 85,
   "metadata": {},
   "outputs": [
    {
     "name": "stdout",
     "output_type": "stream",
     "text": [
      "(0, 'a')\n"
     ]
    }
   ],
   "source": [
    "for i in enumerate({'a':3}):  # dictionary always return its keys\n",
    "    print(i) "
   ]
  },
  {
   "cell_type": "markdown",
   "metadata": {},
   "source": [
    "We have described how an iterator works. So if you want to add an iterator behavior to your class, you have to add the __iter__ and the __next__ method to your class. The __iter__ method returns an iterator object. If the class contains a __next__, it is enough for the __iter__ method to return self, i.e. a reference to itself:"
   ]
  },
  {
   "cell_type": "code",
   "execution_count": 99,
   "metadata": {},
   "outputs": [
    {
     "name": "stdout",
     "output_type": "stream",
     "text": [
      "5\n",
      "4\n",
      "3\n",
      "2\n",
      "1\n"
     ]
    }
   ],
   "source": [
    "class Reverse:\n",
    "    \"\"\"creating iterator for reverse sequence\"\"\"\n",
    "    def __init__(self,data):\n",
    "        self.data = data\n",
    "        self.index = len(data)\n",
    "        \n",
    "    def __iter__(self):\n",
    "        return self\n",
    "    \n",
    "    def __next__(self):\n",
    "        if self.index == 0:\n",
    "            raise StopIteration\n",
    "        self.index = self.index - 1\n",
    "        return self.data[self.index]\n",
    "    \n",
    "l = [1,2,3,4,5]\n",
    "obj = Reverse(l)\n",
    "\n",
    "# next()  for iter(data): something like this happening in background\n",
    "for i in obj:  # i is obj of Reverse(l)\n",
    "    print(i)"
   ]
  },
  {
   "cell_type": "code",
   "execution_count": 100,
   "metadata": {},
   "outputs": [],
   "source": [
    "# why stopiteration dont raise???because it handle by 'for'"
   ]
  },
  {
   "cell_type": "code",
   "execution_count": 2,
   "metadata": {},
   "outputs": [
    {
     "name": "stdout",
     "output_type": "stream",
     "text": [
      "1 2 3 4 5 6 7 8 9 10 11 12 13 14 15 16 17 18 19 20 21 22 23 24 25 26 27 28 29 30 31 32 33 34 35 36 37 38 39 40 41 42 43 44 45 46 47 48 49 50 51 52 53 54 55 56 57 58 59 60 61 62 63 64 65 66 67 68 69 70 71 72 73 74 75 76 77 78 79 80 81 82 83 84 85 86 87 88 89 90 91 92 93 94 95 96 97 98 99 100\n"
     ]
    }
   ],
   "source": [
    "print(*list(range(1,101)))"
   ]
  },
  {
   "cell_type": "code",
   "execution_count": 16,
   "metadata": {},
   "outputs": [
    {
     "name": "stdout",
     "output_type": "stream",
     "text": [
      "99 97 95 93 91 89 87 85 83 81 79 77 75 73 71 69 67 65 63 61 59 57 55 53 51 49 47 45 43 41 39 37 35 33 31 29 27 25 23 21 19 17 15 13 11 9 7 5 3 {1, 2, 3, 4, 5, 6, 8, 9}\n"
     ]
    },
    {
     "data": {
      "text/plain": [
       "{0, 1, 2, 3, 4, 5, 6, 7, 8, 9, 10, 11, 12, 13, 14, 15, 16, 17, 18, 19, 20, 21}"
      ]
     },
     "execution_count": 16,
     "metadata": {},
     "output_type": "execute_result"
    }
   ],
   "source": [
    "x=100\n",
    "while x>1:\n",
    "    if x%2:\n",
    "        print(x,end=\" \")\n",
    "    x-=1\n",
    "x2=set([1,5,3,6,9,2,5,8,4])\n",
    "print(x2)  # set sort the elements\n",
    "set(range(22))\n"
   ]
  },
  {
   "cell_type": "code",
   "execution_count": 17,
   "metadata": {},
   "outputs": [
    {
     "name": "stdout",
     "output_type": "stream",
     "text": [
      "Enter your guess 2\n",
      "try again\n",
      "number is  26\n",
      "you have remaining 4 chance\n",
      "Enter your guess 12\n",
      "try again\n",
      "number is  23\n",
      "you have remaining 3 chance\n",
      "Enter your guess 18\n",
      "try again\n",
      "number is  8\n",
      "you have remaining 2 chance\n",
      "Enter your guess 4\n",
      "try again\n",
      "number is  9\n",
      "you have remaining 1 chance\n",
      "Enter your guess 5\n",
      "try again\n",
      "number is  4\n",
      "you have remaining 0 chance\n",
      "looser\n"
     ]
    }
   ],
   "source": [
    "from random import randint\n",
    "x=randint(1,50)\n",
    "i=1\n",
    "while i<=5:\n",
    "    y=int(input('Enter your guess '))\n",
    "    if x==y:\n",
    "        print('Winner jackpot')\n",
    "    elif y>50:\n",
    "        print('you entered wrong number')\n",
    "    else:\n",
    "        print('try again')\n",
    "        print('number is ',x)\n",
    "        print('you have remaining '+ str(5-i) +\" chance\")\n",
    "        x=randint(1,50)\n",
    "    i+=1\n",
    "print('looser')"
   ]
  },
  {
   "cell_type": "code",
   "execution_count": 21,
   "metadata": {},
   "outputs": [
    {
     "name": "stdout",
     "output_type": "stream",
     "text": [
      "rock =  0\n",
      "paper =  1\n",
      "scisor = 2 1\n",
      "****Match Draw****\n",
      "\n",
      "computer choose  paper\n",
      "rock =  0\n",
      "paper =  1\n",
      "scisor = 2 0\n",
      "****Match Draw****\n",
      "\n",
      "computer choose  rock\n",
      "rock =  0\n",
      "paper =  1\n",
      "scisor = 2 0\n",
      "****YOU WIN****\n",
      "\n",
      "computer choose  scisor\n"
     ]
    }
   ],
   "source": [
    "#ROCK PAPER SCISOR\n",
    "\n",
    "from random import randint\n",
    "#lis\n",
    "i=1\n",
    "li=['rock','paper','scisor']\n",
    "#also we can do this if li[a] in li: return true if li[a] is present in li\n",
    "while i<=3: \n",
    "    one=randint(0,2)\n",
    "    a=int(input(\"rock =  0\\npaper =  1\\nscisor = 2 \"))\n",
    "    if a==one:\n",
    "        print('****Match Draw****\\n')\n",
    "    elif (li[one]=='rock' and a==1) or (li[one]=='rock' and a==2) or (li[one]=='scisor' and a==1):\n",
    "        print('computer win\\n')\n",
    "    elif (li[one]=='paper' and a==0) or (li[one]=='scisor' and a==0) or (li[one]=='paper' and a==2):\n",
    "        print('****YOU WIN****\\n')\n",
    "    else:\n",
    "        print('wrong input\\n')\n",
    "    print('computer choose ',li[one])\n",
    "    i+=1"
   ]
  },
  {
   "cell_type": "code",
   "execution_count": 34,
   "metadata": {},
   "outputs": [
    {
     "data": {
      "text/plain": [
       "6"
      ]
     },
     "execution_count": 34,
     "metadata": {},
     "output_type": "execute_result"
    }
   ],
   "source": [
    "from random import choice\n",
    "l =[*range(10)]\n",
    "choice(l)# choose a random number from the passing list"
   ]
  },
  {
   "cell_type": "code",
   "execution_count": 46,
   "metadata": {},
   "outputs": [
    {
     "name": "stdout",
     "output_type": "stream",
     "text": [
      "[0, 1, 2, 3, 4, 5, 6, 7, 8, 9]\n",
      "45.0\n"
     ]
    }
   ],
   "source": [
    "# sum of n numbers\n",
    "print(l)\n",
    "print( (l[-1] * ( l[-1] + 1 ))/2)"
   ]
  },
  {
   "cell_type": "code",
   "execution_count": 47,
   "metadata": {},
   "outputs": [
    {
     "name": "stdout",
     "output_type": "stream",
     "text": [
      "\n",
      "\n",
      "Press a number to place your turn\n",
      "Your choice is X\n",
      "\n",
      "_ _ _ \t\t7  8  9\n",
      "_ _ _ \t\t4  5  6\n",
      "_ _ _ \t\t1  2  3\n",
      "\n",
      "\n",
      "Enter 5\n",
      "_ _ _ \t\t7  8  9\t\t Score\n",
      "O X _ \t\t4  5  6\t\t C   U\n",
      "_ _ _ \t\t1  2  3\t\t 0   0\n",
      "\n",
      "\n",
      "Enter 1\n",
      "_ _ _ \t\t7  8  9\t\t Score\n",
      "O X O \t\t4  5  6\t\t C   U\n",
      "X _ _ \t\t1  2  3\t\t 0   0\n",
      "\n",
      "\n",
      "Enter 9\n",
      "_ _ X \t\t7  8  9\t\t Score\n",
      "O X O \t\t4  5  6\t\t C   U\n",
      "X _ O \t\t1  2  3\t\t 0   0\n",
      "you win\n",
      "\n",
      "Press any key to play again or Press \"n\" to quit\n",
      "\n",
      "n\n"
     ]
    }
   ],
   "source": [
    "# tic tac too\n",
    "import os\n",
    "from random import choice\n",
    "print('\\n\\nPress a number to place your turn\\nYour choice is ' 'X\\n')\n",
    "s=[0,0]\n",
    "while True:\n",
    "    l=['_','_','_','_','_','_','_','_','_']\n",
    "    #    0   1   2   3   4   5   6   7   8 \n",
    "    lc=[0,1,2,3,4,5,6,7,8]\n",
    "    print(l[6],l[7],l[8],\"\\t\\t7  8  9\") \n",
    "    print(l[3],l[4],l[5],\"\\t\\t4  5  6\")\n",
    "    print(l[0],l[1],l[2],\"\\t\\t1  2  3\")\n",
    "    while True:\n",
    "        x=int(input(\"\\n\\nEnter \"))\n",
    "        os.system('cls')\n",
    "        l[x-1]='X'\n",
    "        lc.remove(x-1)\n",
    "        if lc.__len__()!=0:\n",
    "            com=choice(lc)\n",
    "            l[com]=\"O\"\n",
    "            lc.remove(com)\n",
    "        print(l[6],l[7],l[8],\"\\t\\t7  8  9\\t\\t Score\") \n",
    "        print(l[3],l[4],l[5],\"\\t\\t4  5  6\\t\\t C   U\")\n",
    "        print(l[0],l[1],l[2],\"\\t\\t1  2  3\\t\\t\",s[0],\" \",s[1])\n",
    "        if (l[6]==l[3]==l[0]=='O') or (l[7]==l[4]==l[1]=='O') or (l[8]==l[5]==l[2]=='O') or (l[6]==l[7]==l[8]=='O') or (l[4]==l[3]==l[5]=='O') or (l[2]==l[1]==l[0]=='O') or (l[6]==l[2]==l[4]=='O') or (l[8]==l[4]==l[0]=='O') :\n",
    "            print('computer Wins')\n",
    "            s[0]+=1\n",
    "            break\n",
    "        elif (l[6]==l[3]==l[0]=='X') or (l[7]==l[4]==l[1]=='X') or (l[8]==l[5]==l[2]=='X') or (l[6]==l[7]==l[8]=='X') or (l[4]==l[3]==l[5]=='X') or (l[2]==l[1]==l[0]=='X') or (l[6]==l[2]==l[4]=='X') or (l[8]==l[4]==l[0]=='X') : \n",
    "            print('you win')\n",
    "            s[1]+=1\n",
    "            break\n",
    "        elif lc.__len__()==0:\n",
    "            print('Draw')\n",
    "            break\n",
    "    play=input('\\nPress any key to play again or Press \"n\" to quit\\n\\n').strip().lower()\n",
    "    if play=='no' or play =='n':\n",
    "        break\n"
   ]
  },
  {
   "cell_type": "code",
   "execution_count": 55,
   "metadata": {},
   "outputs": [
    {
     "data": {
      "text/plain": [
       "[1, 2, 3, 4, 5]"
      ]
     },
     "execution_count": 55,
     "metadata": {},
     "output_type": "execute_result"
    }
   ],
   "source": [
    "list([*iter([1,2,3,4,5])])"
   ]
  },
  {
   "cell_type": "code",
   "execution_count": 56,
   "metadata": {},
   "outputs": [
    {
     "name": "stdout",
     "output_type": "stream",
     "text": [
      "(1, 2)\n",
      "(3, 4)\n",
      "('ser', 'asda')\n",
      "1\n",
      "2\n",
      "3\n",
      "4\n",
      "ser\n",
      "asda\n"
     ]
    }
   ],
   "source": [
    "l=[(1,2),(3,4),('ser','asda')]\n",
    "for i1 in l:\n",
    "    print(i1)\n",
    "for a,b in l:\n",
    "    print(a)\n",
    "    print(b)"
   ]
  },
  {
   "cell_type": "code",
   "execution_count": 59,
   "metadata": {},
   "outputs": [
    {
     "name": "stdout",
     "output_type": "stream",
     "text": [
      "1 = 1\n",
      "2 = 2\n",
      "3 = 3\n",
      "4 = 4\n",
      "1 = 1 \n",
      "2 = 2 \n",
      "3 = 3 \n",
      "4 = 4 \n"
     ]
    }
   ],
   "source": [
    "d={1:1,2:2,3:3,4:4}\n",
    "for i in d:\n",
    "    print(i,'=',d[i])\n",
    "    \n",
    "for k,v in d.items():\n",
    "    print(\"{} = {} \".format(k,v))"
   ]
  },
  {
   "cell_type": "code",
   "execution_count": 60,
   "metadata": {},
   "outputs": [
    {
     "name": "stdout",
     "output_type": "stream",
     "text": [
      "<zip object at 0x0000029AE8EB3108>\n",
      "[('h', 'i'), ('i', 'h')]\n",
      "[1, 5, 3, 6, 2, 9, 78, 8]\n",
      "[5, 7, 9, 4, 9, 1, 34, 7]\n",
      "l1 =  1\n",
      "l2 =  5\n",
      "\n",
      "l1 =  5\n",
      "l2 =  7\n",
      "\n",
      "l1 =  3\n",
      "l2 =  9\n",
      "\n",
      "l1 =  6\n",
      "l2 =  4\n",
      "\n",
      "l1 =  2\n",
      "l2 =  9\n",
      "\n",
      "l1 =  9\n",
      "l2 =  1\n",
      "\n",
      "l1 =  78\n",
      "l2 =  34\n",
      "\n",
      "l1 =  8\n",
      "l2 =  7\n",
      "\n"
     ]
    }
   ],
   "source": [
    "l1=[1,5,3,6,2,9,78,8]\n",
    "l2=[5,7,9,4,9,1,34,7]\n",
    "s='hi'\n",
    "s2='iha'# if lenth is not same then unused character ignored\n",
    "k=zip(s,s2)  # zip take one by one element from passed values as parameters\n",
    "print(k)\n",
    "k=list(k)\n",
    "print(k)\n",
    "print(l1)\n",
    "print(l2)\n",
    "for l3,l4 in zip(l1,l2):\n",
    "    print(\"l1 = \",l3)\n",
    "    print(\"l2 = \",l4)\n",
    "    print()\n"
   ]
  },
  {
   "cell_type": "code",
   "execution_count": 62,
   "metadata": {},
   "outputs": [
    {
     "name": "stdout",
     "output_type": "stream",
     "text": [
      "[1, 2, 3, 5, 6, 8, 9, 78]\n"
     ]
    }
   ],
   "source": [
    "#sorting without sort function\n",
    "li=[1,5,3,6,2,9,78,8]\n",
    "for i in range(0,li.__len__()):\n",
    "    for j in range(i+1,len(li)):\n",
    "        if li[i]>=li[j]:\n",
    "            li[i],li[j]=li[j],li[i] # swaping\n",
    "print(li)"
   ]
  },
  {
   "cell_type": "code",
   "execution_count": null,
   "metadata": {},
   "outputs": [],
   "source": []
  }
 ],
 "metadata": {
  "kernelspec": {
   "display_name": "Python 3",
   "language": "python",
   "name": "python3"
  },
  "language_info": {
   "codemirror_mode": {
    "name": "ipython",
    "version": 3
   },
   "file_extension": ".py",
   "mimetype": "text/x-python",
   "name": "python",
   "nbconvert_exporter": "python",
   "pygments_lexer": "ipython3",
   "version": "3.6.5"
  }
 },
 "nbformat": 4,
 "nbformat_minor": 2
}
