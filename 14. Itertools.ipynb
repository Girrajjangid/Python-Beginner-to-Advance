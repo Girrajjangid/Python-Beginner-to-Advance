{
 "cells": [
  {
   "cell_type": "code",
   "execution_count": 2,
   "metadata": {},
   "outputs": [
    {
     "name": "stdout",
     "output_type": "stream",
     "text": [
      "6 6\n",
      "6\n"
     ]
    }
   ],
   "source": [
    "from itertools import combinations\n",
    "s,n = input().split()\n",
    "for i in range(1, int(n)+1):\n",
    "    for j in combinations(sorted(s), i):\n",
    "        print (''.join(j))"
   ]
  },
  {
   "cell_type": "code",
   "execution_count": 3,
   "metadata": {},
   "outputs": [
    {
     "name": "stdout",
     "output_type": "stream",
     "text": [
      "[('1', '1'), ('1', '2'), ('1', '3'), ('1', '4'), ('1', '5'), ('2', '2'), ('2', '3'), ('2', '4'), ('2', '5'), ('3', '3'), ('3', '4'), ('3', '5'), ('4', '4'), ('4', '5'), ('5', '5')]\n",
      "\n",
      "[('1', '2'), ('1', '3'), ('1', '4'), ('2', '3'), ('2', '4'), ('3', '4')]\n",
      "\n",
      "[('1', '2'), ('1', '3'), ('1', '4'), ('2', '1'), ('2', '3'), ('2', '4'), ('3', '1'), ('3', '2'), ('3', '4'), ('4', '1'), ('4', '2'), ('4', '3')]\n",
      "\n",
      "[('1', '1'), ('1', '2'), ('1', '3'), ('1', '4'), ('1', '5'), ('2', '1'), ('2', '2'), ('2', '3'), ('2', '4'), ('2', '5'), ('3', '1'), ('3', '2'), ('3', '3'), ('3', '4'), ('3', '5'), ('4', '1'), ('4', '2'), ('4', '3'), ('4', '4'), ('4', '5'), ('5', '1'), ('5', '2'), ('5', '3'), ('5', '4'), ('5', '5')]\n"
     ]
    }
   ],
   "source": [
    "from itertools import combinations_with_replacement,combinations,permutations,product \n",
    "\n",
    "print(list(combinations_with_replacement('12345',2)))\n",
    "print()\n",
    "\n",
    "print(list(combinations('1234',2))) # teminate same ocuurence (1,2)  (2,1)\n",
    "print()\n",
    "\n",
    "print(list(permutations('1234',2)))# termination  same value (1,1) (2,2)\n",
    "\n",
    "print()\n",
    "print(list(product('12345',repeat = 2))) # all possible combinations\n"
   ]
  },
  {
   "cell_type": "code",
   "execution_count": 4,
   "metadata": {},
   "outputs": [
    {
     "name": "stdout",
     "output_type": "stream",
     "text": [
      "[(1, 1), (1, 1), (1, 3), (1, 3), (1, 3), (1, 1), (1, 3), (1, 3), (1, 3), (3, 3), (3, 3), (3, 3), (3, 3), (3, 3), (3, 3)]\n"
     ]
    }
   ],
   "source": [
    "a = [1,1,3,3,3]\n",
    "print(list(combinations_with_replacement(a,2)))\n"
   ]
  },
  {
   "cell_type": "code",
   "execution_count": 5,
   "metadata": {},
   "outputs": [
    {
     "name": "stdout",
     "output_type": "stream",
     "text": [
      "4 5 \n",
      "44444\n"
     ]
    }
   ],
   "source": [
    "s , n = input().split()\n",
    "s = sorted(s)\n",
    "x = list(combinations_with_replacement(s,int(n)))\n",
    "for i in x:\n",
    "    print(''.join(i))\n",
    "    "
   ]
  },
  {
   "cell_type": "code",
   "execution_count": 6,
   "metadata": {},
   "outputs": [
    {
     "name": "stdout",
     "output_type": "stream",
     "text": [
      "1 <itertools._grouper object at 0x000002993E055CC0>\n",
      "2 <itertools._grouper object at 0x000002993E055CF8>\n",
      "3 <itertools._grouper object at 0x000002993E055D68>\n",
      "1 <itertools._grouper object at 0x000002993E055CF8>\n"
     ]
    }
   ],
   "source": [
    "import itertools as i\n",
    "x = '1222311'\n",
    "for i ,j  in i.groupby(x):\n",
    "    print(i,j)"
   ]
  },
  {
   "cell_type": "code",
   "execution_count": 7,
   "metadata": {},
   "outputs": [
    {
     "name": "stdout",
     "output_type": "stream",
     "text": [
      "4 5\n",
      "4 ['4']\n",
      "  [' ']\n",
      "5 ['5']\n"
     ]
    }
   ],
   "source": [
    "from itertools import groupby\n",
    "s  = input()\n",
    "k = groupby(s)\n",
    "for i,j in k:\n",
    "    print(i,list(j))"
   ]
  },
  {
   "cell_type": "code",
   "execution_count": 9,
   "metadata": {},
   "outputs": [
    {
     "name": "stdout",
     "output_type": "stream",
     "text": [
      "78945\n",
      "(1, 7) (1, 8) (1, 9) (1, 4) (1, 5)\n"
     ]
    }
   ],
   "source": [
    "print(*[(len(list(c)), int(k)) for k, c in groupby(input())])"
   ]
  },
  {
   "cell_type": "code",
   "execution_count": 20,
   "metadata": {},
   "outputs": [
    {
     "name": "stdout",
     "output_type": "stream",
     "text": [
      "789456\n",
      "(1, 7) (2, 8) (3, 9) (4, 4) (5, 5) (6, 6)\n"
     ]
    }
   ],
   "source": [
    "print(*[(i+1,int(j)) for i,j in enumerate(input())])"
   ]
  },
  {
   "cell_type": "code",
   "execution_count": 23,
   "metadata": {},
   "outputs": [
    {
     "name": "stdout",
     "output_type": "stream",
     "text": [
      "7 8\n",
      "4 5 \n",
      "9 5 \n",
      " 5 8\n",
      "4 5 \n",
      "4  5\n",
      "4 9 \n",
      "4 9 \n",
      "7\n"
     ]
    }
   ],
   "source": [
    "from itertools import product\n",
    "a , b =  input().split()\n",
    "b = int(b)\n",
    "l = []\n",
    "s = 0\n",
    "for i in range(int(a)):\n",
    "    l.append(list(map(int,input().split())))\n",
    "for i in list(product(*l))[0]:\n",
    "    s = s + i*i\n",
    "mod  = s % b\n",
    "maxa = mod\n",
    "index = 0\n",
    "for i in list(product(*l)):\n",
    "    s = 0\n",
    "    for j in i:\n",
    "        s = s + j*j\n",
    "    index += 1\n",
    "    mod  = s % b\n",
    "    if mod > maxa :\n",
    "        maxa = mod\n",
    "print(maxa)"
   ]
  },
  {
   "cell_type": "markdown",
   "metadata": {},
   "source": [
    "# Common factor"
   ]
  },
  {
   "cell_type": "code",
   "execution_count": 24,
   "metadata": {},
   "outputs": [
    {
     "name": "stdout",
     "output_type": "stream",
     "text": [
      "[2, 3, 5, 6, 7, 10, 11, 13, 15, 17, 19, 23, 29]\n"
     ]
    }
   ],
   "source": [
    "def computeHCF(x, y):\n",
    "    while(y):\n",
    "        x, y = y, x % y\n",
    "    return x\n",
    "z = 30\n",
    "l = []\n",
    "for i in range(2,z):\n",
    "    if computeHCF(i,z) != 1 and z%i!=0:\n",
    "        continue\n",
    "    else:\n",
    "        l.append(i)\n",
    "print(l)"
   ]
  },
  {
   "cell_type": "markdown",
   "metadata": {},
   "source": [
    "# First n prime numbers"
   ]
  },
  {
   "cell_type": "code",
   "execution_count": 25,
   "metadata": {},
   "outputs": [
    {
     "name": "stdout",
     "output_type": "stream",
     "text": [
      "{3, 5, 7, 9, 11, 13, 15, 17, 19}\n"
     ]
    }
   ],
   "source": [
    "def computeHCF(x, y):\n",
    "    while(y):\n",
    "        x, y = y, x % y\n",
    "    return x\n",
    "def prime(n):\n",
    "    l = []\n",
    "    if n>1:\n",
    "        for i in range(2,n+1):\n",
    "            for j in range(2,i):\n",
    "                if i%j==0 :\n",
    "                    break\n",
    "                else :\n",
    "                    #if computeHCF(i,j) != 1 :\n",
    "                    l.append(i)\n",
    "    l = set(l)\n",
    "    return l\n",
    "print(prime(20))"
   ]
  },
  {
   "cell_type": "code",
   "execution_count": 28,
   "metadata": {},
   "outputs": [
    {
     "name": "stdout",
     "output_type": "stream",
     "text": [
      "Enter upper limit: 20\n",
      "2\n",
      "3\n",
      "5\n",
      "7\n",
      "11\n",
      "13\n",
      "17\n",
      "19\n"
     ]
    }
   ],
   "source": [
    "from math import sqrt\n",
    "r=int(input(\"Enter upper limit: \"))\n",
    "for a in range(2,r+1):\n",
    "    k=0\n",
    "    for i in range(2,(round(sqrt(a))) + 1 ):\n",
    "        if(a % i==0):\n",
    "            k = k+1\n",
    "    if(k<=0):\n",
    "        print(a)"
   ]
  }
 ],
 "metadata": {
  "kernelspec": {
   "display_name": "Python 3",
   "language": "python",
   "name": "python3"
  },
  "language_info": {
   "codemirror_mode": {
    "name": "ipython",
    "version": 3
   },
   "file_extension": ".py",
   "mimetype": "text/x-python",
   "name": "python",
   "nbconvert_exporter": "python",
   "pygments_lexer": "ipython3",
   "version": "3.6.5"
  }
 },
 "nbformat": 4,
 "nbformat_minor": 2
}
