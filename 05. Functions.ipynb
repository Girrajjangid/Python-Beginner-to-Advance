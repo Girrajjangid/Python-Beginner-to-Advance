{
 "cells": [
  {
   "cell_type": "markdown",
   "metadata": {},
   "source": [
    "# Function: \n",
    "Predefined tasks or block of statements or collection of statements which used to perform some specific task.\n",
    "\n",
    "Why we use functions ?? because of reusibilty\n",
    "\n",
    "it work discretly\n",
    "for loop work continuosly\n",
    "':' = indendation\n"
   ]
  },
  {
   "cell_type": "markdown",
   "metadata": {},
   "source": [
    "Defination : what do to?\n",
    "\n",
    "Calling : repeat defination whenever needed\n",
    "\n",
    "Return: always get something whenever we call a function"
   ]
  },
  {
   "cell_type": "code",
   "execution_count": 1,
   "metadata": {},
   "outputs": [
    {
     "name": "stdout",
     "output_type": "stream",
     "text": [
      "hello world\n",
      "Heelo boy\n",
      "None\n"
     ]
    }
   ],
   "source": [
    "def funtion():\n",
    "    print('hello world')\n",
    "    x=90\n",
    "    \n",
    "    return print(\"Heelo boy\") # print() returns nothing\n",
    "    \n",
    "print(funtion())\n",
    "# print function return 'None'"
   ]
  },
  {
   "cell_type": "code",
   "execution_count": 2,
   "metadata": {},
   "outputs": [
    {
     "name": "stdout",
     "output_type": "stream",
     "text": [
      "Enter number 45\n",
      "Not a Prime number.\n"
     ]
    }
   ],
   "source": [
    "from math import sqrt\n",
    "def primeno(no):\n",
    "    for i in range(2,round(sqrt(no))+1):\n",
    "            if no % i == 0:#if nnumber is divided with i then that no. is not prime no \n",
    "                return False\n",
    "    return True\n",
    "def main():\n",
    "    if primeno(int(input('Enter number '))):\n",
    "        print('Prime number. ')\n",
    "    else :\n",
    "        print('Not a Prime number.')\n",
    "main()\n",
    "        "
   ]
  },
  {
   "cell_type": "code",
   "execution_count": 3,
   "metadata": {},
   "outputs": [
    {
     "name": "stdout",
     "output_type": "stream",
     "text": [
      "Enter starting and ending number : 1 45\n",
      "1,2,3,5,7,11,13,17,19,23,29,31,37,41,43,"
     ]
    }
   ],
   "source": [
    "# first 'n' prime numbers\n",
    "def prime_range(start,end):\n",
    "    for i in range(int(start),int(end)+1):\n",
    "        if primeno(i):\n",
    "            print(i,end=\",\")\n",
    "        else :\n",
    "            continue\n",
    "o,t = input('Enter starting and ending number : ').strip().split()\n",
    "prime_range(o,t)"
   ]
  },
  {
   "cell_type": "code",
   "execution_count": 4,
   "metadata": {},
   "outputs": [
    {
     "name": "stdout",
     "output_type": "stream",
     "text": [
      "enter values as , seprated1,2,78\n",
      "before calling ['1', '2', '78']\n",
      "after calling [1.0, 2.0, 78.0]\n"
     ]
    }
   ],
   "source": [
    "## defined map funtion\n",
    "def mapp(funt,seq):              # 3     [3==2]\n",
    "    r=[]\n",
    "    for v in seq:\n",
    "        k=funt(v)\n",
    "        r.append(k)\n",
    "    return r\n",
    "\n",
    "x=input('enter values as , seprated').split(',')\n",
    "print(\"before calling\",x)\n",
    "\n",
    "x=mapp(float,x)\n",
    "print(\"after calling\",x)\n",
    "    "
   ]
  },
  {
   "cell_type": "code",
   "execution_count": 5,
   "metadata": {},
   "outputs": [
    {
     "name": "stdout",
     "output_type": "stream",
     "text": [
      "enter values as , seperate : 1 4 5 \n"
     ]
    },
    {
     "data": {
      "text/plain": [
       "[1.0, 4.0, 5.0]"
      ]
     },
     "execution_count": 5,
     "metadata": {},
     "output_type": "execute_result"
    }
   ],
   "source": [
    "list(map(float , input('enter values as , seperate : ').strip().split(','))) # 2nd parameter's values passed in 1st parameter"
   ]
  },
  {
   "cell_type": "markdown",
   "metadata": {},
   "source": [
    "## Type of function arguments\n",
    "1. positioned argument\n",
    "2. default argument\n",
    "3. keyword argument\n",
    "4.  var length arguments\n",
    "5. key with argument"
   ]
  },
  {
   "cell_type": "code",
   "execution_count": 6,
   "metadata": {},
   "outputs": [
    {
     "name": "stdout",
     "output_type": "stream",
     "text": [
      "10 0\n",
      "10 20\n"
     ]
    }
   ],
   "source": [
    "# default argument\n",
    "def asd(a,b=0):\n",
    "    print(a,b)\n",
    "\n",
    "asd(10)  # default argument\n",
    "asd(10,20)\n"
   ]
  },
  {
   "cell_type": "code",
   "execution_count": 7,
   "metadata": {},
   "outputs": [
    {
     "name": "stdout",
     "output_type": "stream",
     "text": [
      "a = 14\n",
      "b = 12\n",
      "c = 90\n",
      "\n",
      "a = 45\n",
      "b = 111\n",
      "c = 77\n",
      "\n"
     ]
    }
   ],
   "source": [
    "# keyword argument\n",
    "def asd1(a,b=12,c=90):\n",
    "    print('a =',a)\n",
    "    print('b =',b)\n",
    "    print('c =',c)\n",
    "    print()\n",
    "asd1(14)\n",
    "asd1(45,111,c=77) # keyword argument\n"
   ]
  },
  {
   "cell_type": "code",
   "execution_count": 8,
   "metadata": {},
   "outputs": [
    {
     "name": "stdout",
     "output_type": "stream",
     "text": [
      "enter SPACE seperated number\"s 1  3 5 8 4 \n",
      "<class 'tuple'>\n",
      "8,4,\n",
      "1 2 3 4 5 6\n"
     ]
    }
   ],
   "source": [
    "# var length argument\n",
    "def even(*num): # passing list or tuples  also called 'ARBITARY PARAMETER' it is tuple reference\n",
    "    print(type(num))\n",
    "    for i in num:\n",
    "        if i%2==0:\n",
    "            print(i,end=\",\")\n",
    "\n",
    "even(*map(int,input('enter SPACE seperated number\"s ').split()))\n",
    "print()\n",
    "print(*map(str,[1,2,3,4,5,6])) # map is a object  \n",
    "\n",
    "#next((iter(map(int,input('enter SPACE seperated number\"s ').split()))))"
   ]
  },
  {
   "cell_type": "markdown",
   "metadata": {},
   "source": [
    "# * represent list of parameters ** represent keyword of that list parameters like if you also want to assign some key's to that list parameters"
   ]
  },
  {
   "cell_type": "code",
   "execution_count": 9,
   "metadata": {},
   "outputs": [
    {
     "name": "stdout",
     "output_type": "stream",
     "text": [
      "<class 'dict'>\n",
      "name = python\n",
      "ver = 12\n",
      "<class 'dict'>\n",
      "name = python\n",
      "ver = 12\n",
      "<class 'dict'>\n",
      "1 = 1\n",
      "2 = 2\n",
      "3 = 3\n",
      "4 = 4\n",
      "<class 'dict'>\n",
      "suraj = suraj\n",
      "\n",
      "<class 'dict'>\n",
      "kwargs = {1, 2, 3, 4, 5}\n",
      "<class 'dict'>\n",
      "likethis = {1, 2, 3, 4, 5}\n"
     ]
    }
   ],
   "source": [
    "def mydata(**kwargs): # passing dictionary \n",
    "    print(type(kwargs))\n",
    "    for key,value in kwargs.items():\n",
    "        print('{} = {}'.format(key,value))\n",
    "mydata(name='python',ver=12)\n",
    "d={'1':1,'2':2,'3':3,'4':4}\n",
    "mydata(name='python',ver=12)\n",
    "mydata(** d ) # ** indicates as kwargs passing\n",
    "\n",
    "mydata(suraj = 'suraj' ,)\n",
    "\n",
    "print()\n",
    "\n",
    "mydata(kwargs = {1,2,3,4,5})  # it work as keyword argument\n",
    "mydata(likethis = {1,2,3,4,5})  # it work as keyword argument\n",
    "\n",
    "#mydata({1,2,3,4,5}) not valid"
   ]
  },
  {
   "cell_type": "code",
   "execution_count": 10,
   "metadata": {},
   "outputs": [
    {
     "name": "stdout",
     "output_type": "stream",
     "text": [
      "position argument\n",
      "15\n",
      "args = [2, 3, 4, 5, 2.4, 'sd']\n",
      "kwargs = {1, 2, 3, 4, 'asdfasdf', 'asdsdf'}\n"
     ]
    }
   ],
   "source": [
    "# all types of arguments\n",
    "def newfunction(pos,key=10,*args,**kwargs):  # ** means key with argument (key=value)\n",
    "    \"\"\"it is a doc string \"\"\"    # doc string    newfunction.__doc__\n",
    "    print(pos)\n",
    "    print(key)\n",
    "    for i in args:\n",
    "        print(i)\n",
    "    for i,j in kwargs.items():\n",
    "        print(i,\"=\",j)\n",
    "newfunction('position argument',key = 15 , args = [2,3,4,5,2.4,'sd'] , kwargs = {1,3,4,2,3,'asdsdf','asdfasdf'})"
   ]
  },
  {
   "cell_type": "code",
   "execution_count": 11,
   "metadata": {},
   "outputs": [
    {
     "name": "stdout",
     "output_type": "stream",
     "text": [
      "555\n",
      "[1, 2, 3, 4, 5, 6]\n",
      "{'a': 1}\n",
      "\n",
      "10\n",
      "45\n",
      "asd\n",
      "asfadffd\n",
      "wrtww\n",
      "sfggfgf\n",
      "name = 45\n",
      "asdas = asdasd\n"
     ]
    }
   ],
   "source": [
    "newfunction(555,[1,2,3,4,5,6],{'a':1})\n",
    "print()\n",
    "newfunction(10,45,'asd','asfadffd','wrtww','sfggfgf',name=45,asdas='asdasd') #key=90"
   ]
  },
  {
   "cell_type": "code",
   "execution_count": 12,
   "metadata": {},
   "outputs": [
    {
     "name": "stdout",
     "output_type": "stream",
     "text": [
      "12\n",
      "0\n",
      "12\n"
     ]
    }
   ],
   "source": [
    "x=0   #  global scope /global variable\n",
    "def asd():\n",
    "    x=12 # local scope /local variable\n",
    "    print(x)\n",
    "asd()\n",
    "print(x)\n",
    "asd()"
   ]
  },
  {
   "cell_type": "code",
   "execution_count": 13,
   "metadata": {},
   "outputs": [
    {
     "name": "stdout",
     "output_type": "stream",
     "text": [
      "90\n",
      "8100\n",
      "8100\n"
     ]
    }
   ],
   "source": [
    "x=90\n",
    "def xx():\n",
    "    global x\n",
    "    x=x**2\n",
    "    print(x)\n",
    "print(x)\n",
    "xx()\n",
    "print(x)"
   ]
  },
  {
   "cell_type": "code",
   "execution_count": 14,
   "metadata": {},
   "outputs": [
    {
     "name": "stdout",
     "output_type": "stream",
     "text": [
      "90\n"
     ]
    },
    {
     "ename": "UnboundLocalError",
     "evalue": "local variable 'x' referenced before assignment",
     "output_type": "error",
     "traceback": [
      "\u001b[1;31m---------------------------------------------------------------------------\u001b[0m",
      "\u001b[1;31mUnboundLocalError\u001b[0m                         Traceback (most recent call last)",
      "\u001b[1;32m<ipython-input-14-c9ab0bf418fb>\u001b[0m in \u001b[0;36m<module>\u001b[1;34m()\u001b[0m\n\u001b[0;32m      5\u001b[0m     \u001b[0mprint\u001b[0m\u001b[1;33m(\u001b[0m\u001b[0mx\u001b[0m\u001b[1;33m)\u001b[0m\u001b[1;33m\u001b[0m\u001b[0m\n\u001b[0;32m      6\u001b[0m \u001b[0mprint\u001b[0m\u001b[1;33m(\u001b[0m\u001b[0mx\u001b[0m\u001b[1;33m)\u001b[0m\u001b[1;33m\u001b[0m\u001b[0m\n\u001b[1;32m----> 7\u001b[1;33m \u001b[0mxx\u001b[0m\u001b[1;33m(\u001b[0m\u001b[1;33m)\u001b[0m\u001b[1;33m\u001b[0m\u001b[0m\n\u001b[0m\u001b[0;32m      8\u001b[0m \u001b[0mprint\u001b[0m\u001b[1;33m(\u001b[0m\u001b[0mx\u001b[0m\u001b[1;33m)\u001b[0m\u001b[1;33m\u001b[0m\u001b[0m\n",
      "\u001b[1;32m<ipython-input-14-c9ab0bf418fb>\u001b[0m in \u001b[0;36mxx\u001b[1;34m()\u001b[0m\n\u001b[0;32m      2\u001b[0m \u001b[0mx\u001b[0m\u001b[1;33m=\u001b[0m\u001b[1;36m90\u001b[0m\u001b[1;33m\u001b[0m\u001b[0m\n\u001b[0;32m      3\u001b[0m \u001b[1;32mdef\u001b[0m \u001b[0mxx\u001b[0m\u001b[1;33m(\u001b[0m\u001b[1;33m)\u001b[0m\u001b[1;33m:\u001b[0m\u001b[1;33m\u001b[0m\u001b[0m\n\u001b[1;32m----> 4\u001b[1;33m     \u001b[0mx\u001b[0m\u001b[1;33m=\u001b[0m\u001b[0mx\u001b[0m\u001b[1;33m**\u001b[0m\u001b[1;36m2\u001b[0m\u001b[1;33m\u001b[0m\u001b[0m\n\u001b[0m\u001b[0;32m      5\u001b[0m     \u001b[0mprint\u001b[0m\u001b[1;33m(\u001b[0m\u001b[0mx\u001b[0m\u001b[1;33m)\u001b[0m\u001b[1;33m\u001b[0m\u001b[0m\n\u001b[0;32m      6\u001b[0m \u001b[0mprint\u001b[0m\u001b[1;33m(\u001b[0m\u001b[0mx\u001b[0m\u001b[1;33m)\u001b[0m\u001b[1;33m\u001b[0m\u001b[0m\n",
      "\u001b[1;31mUnboundLocalError\u001b[0m: local variable 'x' referenced before assignment"
     ]
    }
   ],
   "source": [
    "# YOU CANNOT UPDATE GLOBAL OBJECT IN FUNCTION\n",
    "x=90\n",
    "def xx():\n",
    "    x=x**2\n",
    "    print(x)\n",
    "print(x)\n",
    "xx()\n",
    "print(x)"
   ]
  },
  {
   "cell_type": "code",
   "execution_count": 15,
   "metadata": {},
   "outputs": [
    {
     "name": "stdout",
     "output_type": "stream",
     "text": [
      "fun1 =  i m global\n",
      "fun2 = i m global\n",
      "fun2 =  i m global i am second function\n",
      "fun1 =  i m global i am second function\n"
     ]
    }
   ],
   "source": [
    "# YOU CAN JUST ACCESS GLOBAL OBJECTS\n",
    "m='i m global'\n",
    "def fun1():\n",
    "    print(\"fun1 = \",m)\n",
    "def fun2():\n",
    "    global m\n",
    "    print(\"fun2 =\",m)\n",
    "    m+= ' i am second function'\n",
    "    print('fun2 = ',m)\n",
    "fun1()\n",
    "fun2()\n",
    "fun1()"
   ]
  },
  {
   "cell_type": "code",
   "execution_count": 16,
   "metadata": {},
   "outputs": [
    {
     "name": "stdout",
     "output_type": "stream",
     "text": [
      "['__displayhook__', '__doc__', '__excepthook__', '__interactivehook__', '__loader__', '__name__', '__package__', '__spec__', '__stderr__', '__stdin__', '__stdout__', '_clear_type_cache', '_current_frames', '_debugmallocstats', '_enablelegacywindowsfsencoding', '_getframe', '_git', '_home', '_xoptions', 'api_version', 'argv', 'base_exec_prefix', 'base_prefix', 'builtin_module_names', 'byteorder', 'call_tracing', 'callstats', 'copyright', 'displayhook', 'dllhandle', 'dont_write_bytecode', 'exc_info', 'excepthook', 'exec_prefix', 'executable', 'exit', 'flags', 'float_info', 'float_repr_style', 'get_asyncgen_hooks', 'get_coroutine_wrapper', 'getallocatedblocks', 'getcheckinterval', 'getdefaultencoding', 'getfilesystemencodeerrors', 'getfilesystemencoding', 'getprofile', 'getrecursionlimit', 'getrefcount', 'getsizeof', 'getswitchinterval', 'gettrace', 'getwindowsversion', 'hash_info', 'hexversion', 'implementation', 'int_info', 'intern', 'is_finalizing', 'last_traceback', 'last_type', 'last_value', 'maxsize', 'maxunicode', 'meta_path', 'modules', 'path', 'path_hooks', 'path_importer_cache', 'platform', 'prefix', 'ps1', 'ps2', 'ps3', 'set_asyncgen_hooks', 'set_coroutine_wrapper', 'setcheckinterval', 'setprofile', 'setrecursionlimit', 'setswitchinterval', 'settrace', 'stderr', 'stdin', 'stdout', 'thread_info', 'version', 'version_info', 'warnoptions', 'winver']\n"
     ]
    },
    {
     "data": {
      "text/plain": [
       "3000"
      ]
     },
     "execution_count": 16,
     "metadata": {},
     "output_type": "execute_result"
    }
   ],
   "source": [
    "import sys \n",
    "print(dir(sys))\n",
    "sys.getrecursionlimit()"
   ]
  },
  {
   "cell_type": "code",
   "execution_count": 17,
   "metadata": {},
   "outputs": [
    {
     "ename": "RecursionError",
     "evalue": "maximum recursion depth exceeded in comparison",
     "output_type": "error",
     "traceback": [
      "\u001b[1;31m---------------------------------------------------------------------------\u001b[0m",
      "\u001b[1;31mRecursionError\u001b[0m                            Traceback (most recent call last)",
      "\u001b[1;32m<ipython-input-17-9bc5f2541c3a>\u001b[0m in \u001b[0;36m<module>\u001b[1;34m()\u001b[0m\n\u001b[0;32m      3\u001b[0m         \u001b[1;32mreturn\u001b[0m \u001b[1;36m1\u001b[0m\u001b[1;33m\u001b[0m\u001b[0m\n\u001b[0;32m      4\u001b[0m     \u001b[1;32mreturn\u001b[0m \u001b[0mnum\u001b[0m\u001b[1;33m*\u001b[0m\u001b[0mfact\u001b[0m\u001b[1;33m(\u001b[0m\u001b[0mnum\u001b[0m\u001b[1;33m-\u001b[0m\u001b[1;36m1\u001b[0m\u001b[1;33m)\u001b[0m\u001b[1;33m\u001b[0m\u001b[0m\n\u001b[1;32m----> 5\u001b[1;33m \u001b[0mfact\u001b[0m\u001b[1;33m(\u001b[0m\u001b[1;36m8080\u001b[0m\u001b[1;33m)\u001b[0m\u001b[1;33m\u001b[0m\u001b[0m\n\u001b[0m",
      "\u001b[1;32m<ipython-input-17-9bc5f2541c3a>\u001b[0m in \u001b[0;36mfact\u001b[1;34m(num)\u001b[0m\n\u001b[0;32m      2\u001b[0m     \u001b[1;32mif\u001b[0m \u001b[0mnum\u001b[0m\u001b[1;33m==\u001b[0m\u001b[1;36m1\u001b[0m\u001b[1;33m:\u001b[0m\u001b[1;33m\u001b[0m\u001b[0m\n\u001b[0;32m      3\u001b[0m         \u001b[1;32mreturn\u001b[0m \u001b[1;36m1\u001b[0m\u001b[1;33m\u001b[0m\u001b[0m\n\u001b[1;32m----> 4\u001b[1;33m     \u001b[1;32mreturn\u001b[0m \u001b[0mnum\u001b[0m\u001b[1;33m*\u001b[0m\u001b[0mfact\u001b[0m\u001b[1;33m(\u001b[0m\u001b[0mnum\u001b[0m\u001b[1;33m-\u001b[0m\u001b[1;36m1\u001b[0m\u001b[1;33m)\u001b[0m\u001b[1;33m\u001b[0m\u001b[0m\n\u001b[0m\u001b[0;32m      5\u001b[0m \u001b[0mfact\u001b[0m\u001b[1;33m(\u001b[0m\u001b[1;36m8080\u001b[0m\u001b[1;33m)\u001b[0m\u001b[1;33m\u001b[0m\u001b[0m\n",
      "... last 1 frames repeated, from the frame below ...\n",
      "\u001b[1;32m<ipython-input-17-9bc5f2541c3a>\u001b[0m in \u001b[0;36mfact\u001b[1;34m(num)\u001b[0m\n\u001b[0;32m      2\u001b[0m     \u001b[1;32mif\u001b[0m \u001b[0mnum\u001b[0m\u001b[1;33m==\u001b[0m\u001b[1;36m1\u001b[0m\u001b[1;33m:\u001b[0m\u001b[1;33m\u001b[0m\u001b[0m\n\u001b[0;32m      3\u001b[0m         \u001b[1;32mreturn\u001b[0m \u001b[1;36m1\u001b[0m\u001b[1;33m\u001b[0m\u001b[0m\n\u001b[1;32m----> 4\u001b[1;33m     \u001b[1;32mreturn\u001b[0m \u001b[0mnum\u001b[0m\u001b[1;33m*\u001b[0m\u001b[0mfact\u001b[0m\u001b[1;33m(\u001b[0m\u001b[0mnum\u001b[0m\u001b[1;33m-\u001b[0m\u001b[1;36m1\u001b[0m\u001b[1;33m)\u001b[0m\u001b[1;33m\u001b[0m\u001b[0m\n\u001b[0m\u001b[0;32m      5\u001b[0m \u001b[0mfact\u001b[0m\u001b[1;33m(\u001b[0m\u001b[1;36m8080\u001b[0m\u001b[1;33m)\u001b[0m\u001b[1;33m\u001b[0m\u001b[0m\n",
      "\u001b[1;31mRecursionError\u001b[0m: maximum recursion depth exceeded in comparison"
     ]
    }
   ],
   "source": [
    "def fact(num):\n",
    "    if num==1:\n",
    "        return 1\n",
    "    return num*fact(num-1)\n",
    "fact(8080)"
   ]
  },
  {
   "cell_type": "code",
   "execution_count": 18,
   "metadata": {},
   "outputs": [
    {
     "name": "stdout",
     "output_type": "stream",
     "text": [
      "False\n",
      "enter number = 45\n",
      "not a prime number\n"
     ]
    }
   ],
   "source": [
    "from math import sqrt\n",
    "#prime number by using recursion\n",
    "\n",
    "def nprime(num,c=2):\n",
    "    if num%c==0:\n",
    "        return False\n",
    "    if c<=round(sqrt(num)+1):\n",
    "        return nprime(num,c+1)\n",
    "    return True\n",
    "\n",
    "print(nprime(20))\n",
    "\n",
    "if nprime(int(input('enter number = '))):\n",
    "    print('prime number')\n",
    "else :\n",
    "    print('not a prime number')\n",
    "    #hackerrank.com"
   ]
  },
  {
   "cell_type": "code",
   "execution_count": 19,
   "metadata": {},
   "outputs": [
    {
     "name": "stdout",
     "output_type": "stream",
     "text": [
      "     #\n",
      "    ##\n",
      "   ###\n",
      "  ####\n",
      " #####\n"
     ]
    }
   ],
   "source": [
    "def staircase(n):\n",
    "    for i in range(0,n,1):\n",
    "        for j in range(n-i):\n",
    "            print(\" \",end=\"\")\n",
    "        for j in range(i+1):\n",
    "            print(\"#\",end=\"\")\n",
    "        print()\n",
    "staircase(5)\n"
   ]
  },
  {
   "cell_type": "code",
   "execution_count": 20,
   "metadata": {},
   "outputs": [
    {
     "name": "stdout",
     "output_type": "stream",
     "text": [
      "     #\n",
      "    ##\n",
      "   ###\n",
      "  ####\n",
      " #####\n"
     ]
    }
   ],
   "source": [
    "for i in range(5):\n",
    "    print(('#'*(i+1)).rjust(6)) # be a smart person"
   ]
  },
  {
   "cell_type": "code",
   "execution_count": 21,
   "metadata": {},
   "outputs": [
    {
     "name": "stdout",
     "output_type": "stream",
     "text": [
      "8\n",
      "17\n"
     ]
    }
   ],
   "source": [
    "def sumsub(a, b, c=0, d=0):\n",
    "    return a - b + c - d\n",
    "\n",
    "print(sumsub(12,4))\n",
    "print(sumsub(42,15,d=10))"
   ]
  },
  {
   "cell_type": "code",
   "execution_count": 22,
   "metadata": {},
   "outputs": [
    {
     "name": "stdout",
     "output_type": "stream",
     "text": [
      "17\n"
     ]
    }
   ],
   "source": [
    "print(sumsub(42,15,0,10))"
   ]
  },
  {
   "cell_type": "code",
   "execution_count": 23,
   "metadata": {},
   "outputs": [
    {
     "name": "stdout",
     "output_type": "stream",
     "text": [
      "None\n"
     ]
    }
   ],
   "source": [
    "def no_return(x,y):\n",
    "    c = x + y\n",
    "\n",
    "print(no_return(4,5))\n"
   ]
  },
  {
   "cell_type": "code",
   "execution_count": 24,
   "metadata": {},
   "outputs": [
    {
     "name": "stdout",
     "output_type": "stream",
     "text": [
      "None\n"
     ]
    }
   ],
   "source": [
    "def empty_return(x,y):\n",
    "    c = x + y\n",
    "    return\n",
    "\n",
    "print(empty_return(4,5))\n",
    "# No mandatory to have a return statement"
   ]
  },
  {
   "cell_type": "code",
   "execution_count": 25,
   "metadata": {},
   "outputs": [
    {
     "name": "stdout",
     "output_type": "stream",
     "text": [
      "Python\n"
     ]
    }
   ],
   "source": [
    "def f(): \n",
    "    print(s)\n",
    "s = \"Python\"\n",
    "f()"
   ]
  },
  {
   "cell_type": "code",
   "execution_count": 26,
   "metadata": {},
   "outputs": [
    {
     "ename": "UnboundLocalError",
     "evalue": "local variable 's' referenced before assignment",
     "output_type": "error",
     "traceback": [
      "\u001b[1;31m---------------------------------------------------------------------------\u001b[0m",
      "\u001b[1;31mUnboundLocalError\u001b[0m                         Traceback (most recent call last)",
      "\u001b[1;32m<ipython-input-26-15f47e41f312>\u001b[0m in \u001b[0;36m<module>\u001b[1;34m()\u001b[0m\n\u001b[0;32m      5\u001b[0m \u001b[1;33m\u001b[0m\u001b[0m\n\u001b[0;32m      6\u001b[0m \u001b[0ms\u001b[0m \u001b[1;33m=\u001b[0m \u001b[1;34m\"Python\"\u001b[0m\u001b[1;33m\u001b[0m\u001b[0m\n\u001b[1;32m----> 7\u001b[1;33m \u001b[0mf\u001b[0m\u001b[1;33m(\u001b[0m\u001b[1;33m)\u001b[0m\u001b[1;33m\u001b[0m\u001b[0m\n\u001b[0m\u001b[0;32m      8\u001b[0m \u001b[0mprint\u001b[0m\u001b[1;33m(\u001b[0m\u001b[0ms\u001b[0m\u001b[1;33m)\u001b[0m \u001b[1;31m# What is the problem here,\u001b[0m\u001b[1;33m\u001b[0m\u001b[0m\n\u001b[0;32m      9\u001b[0m \u001b[1;31m# In f() 's' is assigned as 'Perl' when we define the function. and after calling we print the function before\u001b[0m\u001b[1;33m\u001b[0m\u001b[1;33m\u001b[0m\u001b[0m\n",
      "\u001b[1;32m<ipython-input-26-15f47e41f312>\u001b[0m in \u001b[0;36mf\u001b[1;34m()\u001b[0m\n\u001b[0;32m      1\u001b[0m \u001b[1;32mdef\u001b[0m \u001b[0mf\u001b[0m\u001b[1;33m(\u001b[0m\u001b[1;33m)\u001b[0m\u001b[1;33m:\u001b[0m\u001b[1;33m\u001b[0m\u001b[0m\n\u001b[1;32m----> 2\u001b[1;33m     \u001b[0mprint\u001b[0m\u001b[1;33m(\u001b[0m\u001b[0ms\u001b[0m\u001b[1;33m)\u001b[0m\u001b[1;33m\u001b[0m\u001b[0m\n\u001b[0m\u001b[0;32m      3\u001b[0m     \u001b[0ms\u001b[0m \u001b[1;33m=\u001b[0m \u001b[1;34m\"Perl\"\u001b[0m\u001b[1;33m\u001b[0m\u001b[0m\n\u001b[0;32m      4\u001b[0m     \u001b[0mprint\u001b[0m\u001b[1;33m(\u001b[0m\u001b[0ms\u001b[0m\u001b[1;33m)\u001b[0m\u001b[1;33m\u001b[0m\u001b[0m\n\u001b[0;32m      5\u001b[0m \u001b[1;33m\u001b[0m\u001b[0m\n",
      "\u001b[1;31mUnboundLocalError\u001b[0m: local variable 's' referenced before assignment"
     ]
    }
   ],
   "source": [
    "def f(): \n",
    "    print(s)\n",
    "    s = \"Perl\"\n",
    "    print(s)\n",
    "    \n",
    "s = \"Python\" \n",
    "f()\n",
    "print(s) # What is the problem here,\n",
    "# In f() 's' is assigned as 'Perl' when we define the function. and after calling we print the function before \n",
    "# its assignment. So, f() take value of 's' as 'perl' not 'python'\n",
    "\n",
    "#function use global variable if it is not there in their scope"
   ]
  },
  {
   "cell_type": "code",
   "execution_count": 27,
   "metadata": {},
   "outputs": [
    {
     "name": "stdout",
     "output_type": "stream",
     "text": [
      "cat\n",
      "dog\n",
      "dog\n"
     ]
    }
   ],
   "source": [
    "def f():\n",
    "    global s\n",
    "    print(s)\n",
    "    s = \"dog\"\n",
    "    print(s) \n",
    "s = \"cat\" \n",
    "f()\n",
    "print(s)"
   ]
  }
 ],
 "metadata": {
  "kernelspec": {
   "display_name": "Python 3",
   "language": "python",
   "name": "python3"
  },
  "language_info": {
   "codemirror_mode": {
    "name": "ipython",
    "version": 3
   },
   "file_extension": ".py",
   "mimetype": "text/x-python",
   "name": "python",
   "nbconvert_exporter": "python",
   "pygments_lexer": "ipython3",
   "version": "3.6.5"
  }
 },
 "nbformat": 4,
 "nbformat_minor": 2
}
