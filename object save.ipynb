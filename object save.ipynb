{
 "cells": [
  {
   "cell_type": "code",
   "execution_count": 1,
   "metadata": {},
   "outputs": [
    {
     "name": "stdout",
     "output_type": "stream",
     "text": [
      "banana\n",
      "40\n",
      "spam\n",
      "42\n"
     ]
    }
   ],
   "source": [
    "import pickle\n",
    "\n",
    "class Company(object):\n",
    "    def __init__(self, name, value):\n",
    "        self.name = name\n",
    "        self.value = value\n",
    "\n",
    "with open('company_data.pkl', 'wb') as output:\n",
    "    company1 = Company('banana', 40)\n",
    "    pickle.dump(company1, output, pickle.HIGHEST_PROTOCOL)\n",
    "\n",
    "    company2 = Company('spam', 42)\n",
    "    pickle.dump(company2, output, pickle.HIGHEST_PROTOCOL)\n",
    "\n",
    "del company1\n",
    "del company2\n",
    "\n",
    "with open('company_data.pkl', 'rb') as input:\n",
    "    company1 = pickle.load(input)\n",
    "    print(company1.name)  # -> banana\n",
    "    print(company1.value)  # -> 40\n",
    "\n",
    "    company2 = pickle.load(input)\n",
    "    print(company2.name) # -> spam\n",
    "    print(company2.value)  # -> 42"
   ]
  }
 ],
 "metadata": {
  "kernelspec": {
   "display_name": "Python 3",
   "language": "python",
   "name": "python3"
  },
  "language_info": {
   "codemirror_mode": {
    "name": "ipython",
    "version": 3
   },
   "file_extension": ".py",
   "mimetype": "text/x-python",
   "name": "python",
   "nbconvert_exporter": "python",
   "pygments_lexer": "ipython3",
   "version": "3.7.0"
  }
 },
 "nbformat": 4,
 "nbformat_minor": 2
}
