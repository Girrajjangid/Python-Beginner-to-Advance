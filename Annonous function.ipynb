{
 "cells": [
  {
   "cell_type": "markdown",
   "metadata": {},
   "source": [
    "\n",
    "# Lambda / inline / annonyous functions / itertools"
   ]
  },
  {
   "cell_type": "markdown",
   "metadata": {},
   "source": [
    " \n",
    "1. Lambda ::: syntax:  function_name = lambda arguments : return\n",
    "2. Map\n",
    "3. Filter\n",
    "4. Reduce\n",
    "\n"
   ]
  },
  {
   "cell_type": "code",
   "execution_count": 1,
   "metadata": {},
   "outputs": [
    {
     "data": {
      "text/plain": [
       "True"
      ]
     },
     "execution_count": 1,
     "metadata": {},
     "output_type": "execute_result"
    }
   ],
   "source": [
    "# 1. lambda\n",
    "add=lambda x,y:x+y  # lambda functions return some values\n",
    "add(10,20)\n",
    "\n",
    "evenodd=lambda x:False if x%2 else True # we cannot use elif in this types\n",
    "evenodd(4)"
   ]
  },
  {
   "cell_type": "code",
   "execution_count": 2,
   "metadata": {},
   "outputs": [
    {
     "data": {
      "text/plain": [
       "3628800"
      ]
     },
     "execution_count": 2,
     "metadata": {},
     "output_type": "execute_result"
    }
   ],
   "source": [
    "fact =lambda x: 1 if x==1 else x*fact(x-1)\n",
    "fact(10)"
   ]
  },
  {
   "cell_type": "code",
   "execution_count": 3,
   "metadata": {},
   "outputs": [
    {
     "name": "stdout",
     "output_type": "stream",
     "text": [
      "<class 'map'>\n",
      "<class 'list'>\n",
      "[1, 2, 3, 4]\n",
      "\n",
      "\n",
      "\n",
      "\n",
      "new s list is = [3, 3, 3, 3, 3]\n",
      "\n",
      "200\n",
      "48\n"
     ]
    }
   ],
   "source": [
    "#2. MAP\n",
    "# syntax map(function_name to convert , sequence)\n",
    "\n",
    "l=[1,1,2,3,5,6,8,]\n",
    "l2=['1','2','3','4']# we use for loop to convert into int instead we use map function\n",
    "m_int=map(int,l2)\n",
    "m_str=map(str,l)\n",
    "\n",
    "print(type(m_int))\n",
    "\n",
    "m_int=list(m_int)\n",
    "\n",
    "print(type(m_int))\n",
    "\n",
    "print(m_int)\n",
    "\n",
    "print('\\n\\n\\n')\n",
    "def add(x,y):\n",
    "    return x+y\n",
    "s=map(add,[1,1,1,1,1],[2,2,2,2,2])\n",
    "#print(list(s))\n",
    "print('new s list is =',list(s))\n",
    "\n",
    "# iterator\n",
    "#range is iterator not a sequence \n",
    "print()\n",
    "lq=[1,2,3,4,5,6,7,8,9,10,11,12,13,14,15,16,17,18,19,20]\n",
    "print(lq.__sizeof__())\n",
    "lq1= range(1,21)\n",
    "print(lq1.__sizeof__())\n",
    "lq1=iter(lq1)\n"
   ]
  },
  {
   "cell_type": "code",
   "execution_count": 4,
   "metadata": {},
   "outputs": [],
   "source": [
    "#3.Filter\n",
    "# syntax filter(function_name,sequence)  it return filter object which container all True returned arguments\n",
    "# means: if 2 argument return true for passing function then filter store 2 not True\n",
    "# while map store True instead of 2\n"
   ]
  },
  {
   "cell_type": "code",
   "execution_count": 5,
   "metadata": {},
   "outputs": [
    {
     "name": "stdout",
     "output_type": "stream",
     "text": [
      "[81 47 59 67 49 65 79 56 70 84 53 72 74 55 79 74 70 62 59 51 64 71 52 62\n",
      " 75 57 46 51 50 70 48 62 78 64 48 51 80 74 59 45 57 60 71 71 52 81 80 84\n",
      " 74 70]\n",
      "[False, False, False, False, False, False, False, True, True, True, False, True, True, False, False, True, True, True, False, False, True, False, True, True, False, False, True, False, True, True, True, True, True, True, True, False, True, True, False, False, False, True, False, False, True, False, True, True, True, True]\n",
      "\n",
      "[56, 70, 84, 72, 74, 74, 70, 62, 64, 52, 62, 46, 50, 70, 48, 62, 78, 64, 48, 80, 74, 60, 52, 80, 84, 74, 70]\n"
     ]
    },
    {
     "ename": "TypeError",
     "evalue": "<lambda>() takes 1 positional argument but 2 were given",
     "output_type": "error",
     "traceback": [
      "\u001b[1;31m---------------------------------------------------------------------------\u001b[0m",
      "\u001b[1;31mTypeError\u001b[0m                                 Traceback (most recent call last)",
      "\u001b[1;32m<ipython-input-5-b7bcaeb01aa0>\u001b[0m in \u001b[0;36m<module>\u001b[1;34m()\u001b[0m\n\u001b[0;32m     13\u001b[0m \u001b[1;33m\u001b[0m\u001b[0m\n\u001b[0;32m     14\u001b[0m \u001b[1;32mfrom\u001b[0m \u001b[0mfunctools\u001b[0m \u001b[1;32mimport\u001b[0m \u001b[0mreduce\u001b[0m\u001b[1;33m\u001b[0m\u001b[0m\n\u001b[1;32m---> 15\u001b[1;33m \u001b[0mnew\u001b[0m \u001b[1;33m=\u001b[0m \u001b[0mreduce\u001b[0m\u001b[1;33m(\u001b[0m\u001b[0mevenodd\u001b[0m\u001b[1;33m,\u001b[0m\u001b[0mx\u001b[0m\u001b[1;33m)\u001b[0m\u001b[1;33m\u001b[0m\u001b[0m\n\u001b[0m\u001b[0;32m     16\u001b[0m \u001b[0mprint\u001b[0m\u001b[1;33m(\u001b[0m\u001b[0mlist\u001b[0m\u001b[1;33m(\u001b[0m\u001b[0mnew\u001b[0m\u001b[1;33m)\u001b[0m\u001b[1;33m)\u001b[0m\u001b[1;33m\u001b[0m\u001b[0m\n",
      "\u001b[1;31mTypeError\u001b[0m: <lambda>() takes 1 positional argument but 2 were given"
     ]
    }
   ],
   "source": [
    "import numpy as np\n",
    "x=np.random.randint(45,85,50)\n",
    "print(x)\n",
    "evenodd=lambda x:False if x%2 else True # we cannot use elif in this types\n",
    "\n",
    "new=map(evenodd,x)\n",
    "print(list(new))\n",
    "\n",
    "print()\n",
    "\n",
    "new=filter(evenodd,x)\n",
    "print(list(new))\n",
    "\n",
    "from functools import reduce\n",
    "new = reduce(evenodd,x)\n",
    "print(list(new))"
   ]
  },
  {
   "cell_type": "code",
   "execution_count": 6,
   "metadata": {},
   "outputs": [
    {
     "name": "stdout",
     "output_type": "stream",
     "text": [
      "<class 'tuple'>\n",
      "(1, 2, 3) 0 40\n",
      "\n",
      "<class 'dict'>\n",
      "{'a': 'a', 'b': 'b'}\n"
     ]
    }
   ],
   "source": [
    "# multiple arguments\n",
    "def fun(*args,a,q):\n",
    "    print(type(args))\n",
    "    print(args,a,q)\n",
    "fun(1,2,3,a=0,q=40)\n",
    "print()\n",
    "\n",
    "def fun2(**a):\n",
    "    print(type(a))\n",
    "    print(a)\n",
    "fun2(a='a',b='b')"
   ]
  },
  {
   "cell_type": "code",
   "execution_count": 7,
   "metadata": {},
   "outputs": [
    {
     "name": "stdout",
     "output_type": "stream",
     "text": [
      "[False, True, False, True, False, True, False, True, False, True]\n",
      "<class 'list'>\n",
      "\n",
      "[2, 4, 6, 8, 0]\n",
      "<class 'list'>\n"
     ]
    }
   ],
   "source": [
    " # filter\n",
    " # filtor store true arguments   \n",
    "even_odd = lambda num: True if num % 2 == 0 else False\n",
    "even_odd(3)\n",
    "x=[1,2,3,4,5,6,7,8,9,0]\n",
    "k=list(map(even_odd,x))\n",
    "print(k)\n",
    "print(type(k))\n",
    "\n",
    "print()\n",
    "\n",
    "k=list(filter(even_odd,x))\n",
    "print(k)\n",
    "print(type(k))"
   ]
  },
  {
   "cell_type": "code",
   "execution_count": 8,
   "metadata": {},
   "outputs": [
    {
     "name": "stdout",
     "output_type": "stream",
     "text": [
      "<class 'int'>\n",
      "40\n",
      "\n",
      "<class 'str'>\n",
      "asasasassaasasasasasa\n",
      "\n"
     ]
    }
   ],
   "source": [
    " # reduce\n",
    "from functools import reduce\n",
    "add=lambda x,y:x+y\n",
    "l1=[1,2,3,4,6,7,8,9]\n",
    "p1=reduce(add,l1)\n",
    "print(type(p1))\n",
    "print(p1)\n",
    "print()\n",
    "\n",
    "l2=['asas','asassa','asasasasasa']\n",
    "p2=reduce(add,l2)\n",
    "print(type(p2))\n",
    "print(p2)\n",
    "print()\n"
   ]
  },
  {
   "cell_type": "code",
   "execution_count": 9,
   "metadata": {},
   "outputs": [
    {
     "name": "stdout",
     "output_type": "stream",
     "text": [
      "13978\n"
     ]
    }
   ],
   "source": [
    "from functools import reduce\n",
    "l=[456, 124 ,752, 746, 782, 492, 741, 171 ,752, 295, 2, 56 ,725 ,961 ,135 ,654 ,697 ,328 ,112 ,992 ,922 ,816 ,519 ,997 ,751]\n",
    "s=reduce(lambda x,y:x+y,l)\n",
    "a=0\n",
    "\n",
    "print(s)"
   ]
  },
  {
   "cell_type": "code",
   "execution_count": 10,
   "metadata": {},
   "outputs": [
    {
     "name": "stdout",
     "output_type": "stream",
     "text": [
      "3\n"
     ]
    }
   ],
   "source": [
    "a=[1,2,3]\n",
    "b=[4,5,6]\n",
    "print(a.__len__())"
   ]
  },
  {
   "cell_type": "code",
   "execution_count": 11,
   "metadata": {},
   "outputs": [
    {
     "name": "stdout",
     "output_type": "stream",
     "text": [
      "[0, 5, 10, 15] [3, 6, 9, 12] 0\n"
     ]
    }
   ],
   "source": [
    "from math import sqrt\n",
    "def diagonalDifference(arr):\n",
    "    l=arr.__len__()\n",
    "    a=round(sqrt(l))\n",
    "    d1 = []\n",
    "    d2 = []\n",
    "    for i in range(0,l,a+1):\n",
    "        d1.append(arr[i])\n",
    "    a = a - 1\n",
    "    for i in range(a,l-a+1,a): \n",
    "        d2.append(arr[i])\n",
    "    s1 = (reduce(lambda x,y:x+y,d1))\n",
    "    s2 = (reduce(lambda x,y:x+y,d2))\n",
    "    s11 =[]\n",
    "    s22 =[]\n",
    "    s11.append(s1)\n",
    "    s22.append(s2)\n",
    "    s1 = s11[0]\n",
    "    s2 = s22[0]\n",
    "    \n",
    "    di = s1 - s2\n",
    "    if di<0:\n",
    "        di = -1 * di\n",
    "    \n",
    "    return print(d1,d2,di)\n",
    "\n",
    "\n",
    "diagonalDifference([0,1,2,3,4,5,6,7,8,9,10,11,12,13,14,15])"
   ]
  },
  {
   "cell_type": "code",
   "execution_count": 12,
   "metadata": {},
   "outputs": [
    {
     "name": "stdout",
     "output_type": "stream",
     "text": [
      "6 15\n"
     ]
    }
   ],
   "source": [
    "d1=[1,2,3]\n",
    "d2=[4,5,6]\n",
    "q = 0\n",
    "for i in d1:\n",
    "        q = q + i\n",
    "s1 = q\n",
    "q = 0\n",
    "for j in d2:\n",
    "        q = q + j\n",
    "s2 = q\n",
    "print(s1,s2)"
   ]
  },
  {
   "cell_type": "code",
   "execution_count": 13,
   "metadata": {},
   "outputs": [
    {
     "ename": "TypeError",
     "evalue": "'int' object is not iterable",
     "output_type": "error",
     "traceback": [
      "\u001b[1;31m---------------------------------------------------------------------------\u001b[0m",
      "\u001b[1;31mTypeError\u001b[0m                                 Traceback (most recent call last)",
      "\u001b[1;32m<ipython-input-13-9209ef0046bf>\u001b[0m in \u001b[0;36m<module>\u001b[1;34m()\u001b[0m\n\u001b[0;32m     21\u001b[0m         \u001b[0mdi\u001b[0m \u001b[1;33m=\u001b[0m \u001b[1;33m-\u001b[0m\u001b[1;36m1\u001b[0m \u001b[1;33m*\u001b[0m \u001b[0mdi\u001b[0m\u001b[1;33m\u001b[0m\u001b[0m\n\u001b[0;32m     22\u001b[0m     \u001b[1;32mreturn\u001b[0m \u001b[0mint\u001b[0m\u001b[1;33m(\u001b[0m\u001b[0mdi\u001b[0m\u001b[1;33m)\u001b[0m\u001b[1;33m\u001b[0m\u001b[0m\n\u001b[1;32m---> 23\u001b[1;33m \u001b[0mprint\u001b[0m\u001b[1;33m(\u001b[0m\u001b[0mdiagonalDifference\u001b[0m\u001b[1;33m(\u001b[0m\u001b[1;33m[\u001b[0m\u001b[1;36m11\u001b[0m\u001b[1;33m,\u001b[0m \u001b[1;36m2\u001b[0m \u001b[1;33m,\u001b[0m\u001b[1;36m4\u001b[0m\u001b[1;33m,\u001b[0m\u001b[1;36m4\u001b[0m \u001b[1;33m,\u001b[0m\u001b[1;36m5\u001b[0m\u001b[1;33m,\u001b[0m \u001b[1;36m6\u001b[0m\u001b[1;33m,\u001b[0m\u001b[1;36m10\u001b[0m \u001b[1;33m,\u001b[0m\u001b[1;36m8\u001b[0m \u001b[1;33m,\u001b[0m\u001b[1;33m-\u001b[0m\u001b[1;36m12\u001b[0m\u001b[1;33m]\u001b[0m\u001b[1;33m)\u001b[0m\u001b[1;33m)\u001b[0m\u001b[1;33m\u001b[0m\u001b[0m\n\u001b[0m",
      "\u001b[1;32m<ipython-input-13-9209ef0046bf>\u001b[0m in \u001b[0;36mdiagonalDifference\u001b[1;34m(arr)\u001b[0m\n\u001b[0;32m     16\u001b[0m     \u001b[0ms1\u001b[0m \u001b[1;33m=\u001b[0m \u001b[1;33m(\u001b[0m\u001b[0mreduce\u001b[0m\u001b[1;33m(\u001b[0m\u001b[1;32mlambda\u001b[0m \u001b[0mx\u001b[0m\u001b[1;33m,\u001b[0m\u001b[0my\u001b[0m\u001b[1;33m:\u001b[0m\u001b[0mx\u001b[0m\u001b[1;33m+\u001b[0m\u001b[0my\u001b[0m\u001b[1;33m,\u001b[0m\u001b[0md1\u001b[0m\u001b[1;33m)\u001b[0m\u001b[1;33m)\u001b[0m\u001b[1;33m\u001b[0m\u001b[0m\n\u001b[0;32m     17\u001b[0m     \u001b[0ms2\u001b[0m \u001b[1;33m=\u001b[0m \u001b[1;33m(\u001b[0m\u001b[0mreduce\u001b[0m\u001b[1;33m(\u001b[0m\u001b[1;32mlambda\u001b[0m \u001b[0mx\u001b[0m\u001b[1;33m,\u001b[0m\u001b[0my\u001b[0m\u001b[1;33m:\u001b[0m\u001b[0mx\u001b[0m\u001b[1;33m+\u001b[0m\u001b[0my\u001b[0m\u001b[1;33m,\u001b[0m\u001b[0md2\u001b[0m\u001b[1;33m)\u001b[0m\u001b[1;33m)\u001b[0m\u001b[1;33m\u001b[0m\u001b[0m\n\u001b[1;32m---> 18\u001b[1;33m     \u001b[0mdi\u001b[0m \u001b[1;33m=\u001b[0m \u001b[0mlist\u001b[0m\u001b[1;33m(\u001b[0m\u001b[0mmap\u001b[0m\u001b[1;33m(\u001b[0m\u001b[1;32mlambda\u001b[0m \u001b[0mx\u001b[0m\u001b[1;33m,\u001b[0m\u001b[0my\u001b[0m\u001b[1;33m:\u001b[0m\u001b[0mx\u001b[0m\u001b[1;33m-\u001b[0m\u001b[0my\u001b[0m\u001b[1;33m,\u001b[0m\u001b[0ms1\u001b[0m\u001b[1;33m,\u001b[0m\u001b[0ms2\u001b[0m\u001b[1;33m)\u001b[0m\u001b[1;33m)\u001b[0m\u001b[1;33m\u001b[0m\u001b[0m\n\u001b[0m\u001b[0;32m     19\u001b[0m     \u001b[0mdi\u001b[0m \u001b[1;33m=\u001b[0m \u001b[0mdi\u001b[0m\u001b[1;33m[\u001b[0m\u001b[1;36m0\u001b[0m\u001b[1;33m]\u001b[0m\u001b[1;33m\u001b[0m\u001b[0m\n\u001b[0;32m     20\u001b[0m     \u001b[1;32mif\u001b[0m \u001b[0mdi\u001b[0m\u001b[1;33m<\u001b[0m\u001b[1;36m0\u001b[0m\u001b[1;33m:\u001b[0m\u001b[1;33m\u001b[0m\u001b[0m\n",
      "\u001b[1;31mTypeError\u001b[0m: 'int' object is not iterable"
     ]
    }
   ],
   "source": [
    "from math import sqrt\n",
    "from functools import reduce\n",
    "\n",
    "\n",
    "# Complete the diagonalDifference function below.\n",
    "def diagonalDifference(arr):\n",
    "    l=arr.__len__()\n",
    "    a=round(sqrt(l))\n",
    "    d1 = []\n",
    "    d2 = []\n",
    "    for i in range(0,l,a+1):\n",
    "        d1.append(arr[i])\n",
    "    a = a - 1\n",
    "    for i in range(a,l-a+1,a): \n",
    "        d2.append(arr[i])\n",
    "    s1 = (reduce(lambda x,y:x+y,d1))\n",
    "    s2 = (reduce(lambda x,y:x+y,d2))\n",
    "    di = list(map(lambda x,y:x-y,s1,s2))\n",
    "    di = di[0]\n",
    "    if di<0:\n",
    "        di = -1 * di\n",
    "    return int(di)\n",
    "print(diagonalDifference([11, 2 ,4,4 ,5, 6,10 ,8 ,-12]))"
   ]
  },
  {
   "cell_type": "code",
   "execution_count": 14,
   "metadata": {},
   "outputs": [
    {
     "name": "stdout",
     "output_type": "stream",
     "text": [
      "1.0\n",
      "0.0\n",
      "0.0\n"
     ]
    }
   ],
   "source": [
    "def plusMinus(arr):\n",
    "    l=arr.__len__()\n",
    "    if l==0:\n",
    "        return print(\"0\\n0\\n0\")\n",
    "    p = []\n",
    "    n = []\n",
    "    z = []\n",
    "    for i in arr:\n",
    "        if i > 0:\n",
    "            p.append(i)\n",
    "        elif i < 0:\n",
    "            n.append(i)\n",
    "        else :\n",
    "            z.append(i)\n",
    "    p = p.__len__()\n",
    "    n = n.__len__()\n",
    "    z = z.__len__()\n",
    "    p = p / l\n",
    "    n = n / l\n",
    "    z = z / l\n",
    "    st = '%.'+str(l) + 'f'\n",
    "    print(st%p)\n",
    "    print(st%n)\n",
    "    print(st%z)\n",
    "plusMinus([1])\n",
    "\n"
   ]
  },
  {
   "cell_type": "code",
   "execution_count": 15,
   "metadata": {},
   "outputs": [
    {
     "name": "stdout",
     "output_type": "stream",
     "text": [
      "0.500000\n",
      "0.333333\n",
      "0.166667\n",
      "None\n",
      "%.9f\n"
     ]
    },
    {
     "ename": "TypeError",
     "evalue": "must be real number, not list",
     "output_type": "error",
     "traceback": [
      "\u001b[1;31m---------------------------------------------------------------------------\u001b[0m",
      "\u001b[1;31mTypeError\u001b[0m                                 Traceback (most recent call last)",
      "\u001b[1;32m<ipython-input-15-8b30c2eac136>\u001b[0m in \u001b[0;36m<module>\u001b[1;34m()\u001b[0m\n\u001b[0;32m      3\u001b[0m \u001b[0mst\u001b[0m \u001b[1;33m=\u001b[0m \u001b[1;34m'%.'\u001b[0m\u001b[1;33m+\u001b[0m\u001b[0mstr\u001b[0m\u001b[1;33m(\u001b[0m\u001b[0ml\u001b[0m\u001b[1;33m)\u001b[0m \u001b[1;33m+\u001b[0m \u001b[1;34m'f'\u001b[0m\u001b[1;33m\u001b[0m\u001b[0m\n\u001b[0;32m      4\u001b[0m \u001b[0mprint\u001b[0m\u001b[1;33m(\u001b[0m\u001b[0mst\u001b[0m\u001b[1;33m)\u001b[0m\u001b[1;33m\u001b[0m\u001b[0m\n\u001b[1;32m----> 5\u001b[1;33m \u001b[0mprint\u001b[0m\u001b[1;33m(\u001b[0m\u001b[0mst\u001b[0m\u001b[1;33m%\u001b[0m\u001b[0ma\u001b[0m\u001b[1;33m)\u001b[0m\u001b[1;33m\u001b[0m\u001b[0m\n\u001b[0m",
      "\u001b[1;31mTypeError\u001b[0m: must be real number, not list"
     ]
    }
   ],
   "source": [
    "print(plusMinus([-4,3,-9,0,4,1]))\n",
    "l=9\n",
    "st = '%.'+str(l) + 'f'\n",
    "print(st)\n",
    "print(st%a)"
   ]
  },
  {
   "cell_type": "code",
   "execution_count": 16,
   "metadata": {},
   "outputs": [
    {
     "name": "stdout",
     "output_type": "stream",
     "text": [
      "         #\n",
      "        ##\n",
      "       ###\n",
      "      ####\n",
      "     #####\n",
      "    ######\n",
      "   #######\n",
      "  ########\n",
      " #########\n"
     ]
    }
   ],
   "source": [
    "n=9\n",
    "for i in range(n):\n",
    "        for j in range(n-i):\n",
    "            print(' ',end='')\n",
    "        for j in range(i+1):\n",
    "            print('#',end='')\n",
    "        print()"
   ]
  },
  {
   "cell_type": "markdown",
   "metadata": {
    "collapsed": true
   },
   "source": [
    "# Calender\n"
   ]
  },
  {
   "cell_type": "code",
   "execution_count": null,
   "metadata": {},
   "outputs": [],
   "source": [
    "import calendar as c\n",
    "import datetime\n",
    "dt  = '08 05 2015'\n",
    "month,day,year  = (int(i) for i in dt.split())\n",
    "ans = datetime.date(year,month,day)\n",
    "print((ans.strftime('%A')))\n",
    "print('asd'.upper())"
   ]
  },
  {
   "cell_type": "code",
   "execution_count": null,
   "metadata": {},
   "outputs": [],
   "source": [
    "#print(dir(datetime.timezone()))\n",
    "3\n",
    "1 0\n",
    "2 $\n",
    "3 1\n",
    "datetime.timezone()"
   ]
  },
  {
   "cell_type": "code",
   "execution_count": null,
   "metadata": {},
   "outputs": [],
   "source": [
    "n = int(input())\n",
    "l = []\n",
    "for i in range(n):\n",
    "    try:\n",
    "        l = []\n",
    "        l.append(input().split())\n",
    "        z = int(l[0][0]) // int(l[0][1])\n",
    "        print(z)\n",
    "    except ZeroDivisionError as e:\n",
    "        print(\"Error Code:\",e)\n",
    "    except ValueError  as e:\n",
    "        print(\"Error Code:\",e)\n",
    "    \n",
    "        "
   ]
  },
  {
   "cell_type": "code",
   "execution_count": null,
   "metadata": {},
   "outputs": [],
   "source": [
    "print(l)"
   ]
  },
  {
   "cell_type": "markdown",
   "metadata": {},
   "source": [
    "#  Check regular expression"
   ]
  },
  {
   "cell_type": "code",
   "execution_count": null,
   "metadata": {},
   "outputs": [],
   "source": [
    "import re\n",
    "try:\n",
    "    re.compile('.*+')\n",
    "    print('True')\n",
    "except Exception:\n",
    "    print('False')"
   ]
  },
  {
   "cell_type": "code",
   "execution_count": null,
   "metadata": {},
   "outputs": [],
   "source": [
    "1 2 3 4 5 6 7 8 9 10 11 12 23 45 84 78\n",
    "2\n",
    "1 2 3 4 5\n",
    "100 11 12"
   ]
  },
  {
   "cell_type": "code",
   "execution_count": null,
   "metadata": {},
   "outputs": [],
   "source": [
    "a  = set(map(int,input().split()))\n",
    "x = True\n",
    "for i in range(int(input())):\n",
    "    n =  set(map(int,input().split()))\n",
    "    if n.issuperset(a):\n",
    "        continue\n",
    "    else :\n",
    "        x = False\n",
    "print(x)"
   ]
  },
  {
   "cell_type": "code",
   "execution_count": null,
   "metadata": {},
   "outputs": [],
   "source": [
    "a = set(map(str, input().split(' ')))\n",
    "is_strict_superset = []\n",
    "for i in range(int(input())):\n",
    "     is_strict_superset.append(a.issuperset(set(map(str, input().split(' ')))))\n",
    "print(all(is_strict_superset))"
   ]
  },
  {
   "cell_type": "markdown",
   "metadata": {},
   "source": [
    "# Itertools "
   ]
  },
  {
   "cell_type": "code",
   "execution_count": 19,
   "metadata": {},
   "outputs": [
    {
     "name": "stdout",
     "output_type": "stream",
     "text": [
      "6 6\n",
      "6\n"
     ]
    }
   ],
   "source": [
    "from itertools import combinations\n",
    "s,n = input().split()\n",
    "for i in range(1, int(n)+1):\n",
    "    for j in combinations(sorted(s), i):\n",
    "        print (''.join(j))"
   ]
  },
  {
   "cell_type": "code",
   "execution_count": 25,
   "metadata": {},
   "outputs": [
    {
     "name": "stdout",
     "output_type": "stream",
     "text": [
      "[('1', '1'), ('1', '2'), ('1', '3'), ('1', '4'), ('1', '5'), ('2', '2'), ('2', '3'), ('2', '4'), ('2', '5'), ('3', '3'), ('3', '4'), ('3', '5'), ('4', '4'), ('4', '5'), ('5', '5')]\n",
      "\n",
      "[('1', '2'), ('1', '3'), ('1', '4'), ('2', '3'), ('2', '4'), ('3', '4')]\n",
      "\n",
      "[('1', '2'), ('1', '3'), ('1', '4'), ('2', '1'), ('2', '3'), ('2', '4'), ('3', '1'), ('3', '2'), ('3', '4'), ('4', '1'), ('4', '2'), ('4', '3')]\n",
      "\n",
      "[('1', '1'), ('1', '2'), ('1', '3'), ('1', '4'), ('1', '5'), ('2', '1'), ('2', '2'), ('2', '3'), ('2', '4'), ('2', '5'), ('3', '1'), ('3', '2'), ('3', '3'), ('3', '4'), ('3', '5'), ('4', '1'), ('4', '2'), ('4', '3'), ('4', '4'), ('4', '5'), ('5', '1'), ('5', '2'), ('5', '3'), ('5', '4'), ('5', '5')]\n"
     ]
    }
   ],
   "source": [
    "from itertools import combinations_with_replacement,combinations,permutations,product \n",
    "\n",
    "print(list(combinations_with_replacement('12345',2)))\n",
    "print()\n",
    "\n",
    "print(list(combinations('1234',2))) # teminate same ocuurence (1,2)  (2,1)\n",
    "print()\n",
    "\n",
    "print(list(permutations('1234',2)))# termination  same value (1,1) (2,2)\n",
    "\n",
    "print()\n",
    "print(list(product('12345',repeat = 2))) # all possible combinations\n"
   ]
  },
  {
   "cell_type": "code",
   "execution_count": 26,
   "metadata": {},
   "outputs": [
    {
     "name": "stdout",
     "output_type": "stream",
     "text": [
      "[(1, 1), (1, 1), (1, 3), (1, 3), (1, 3), (1, 1), (1, 3), (1, 3), (1, 3), (3, 3), (3, 3), (3, 3), (3, 3), (3, 3), (3, 3)]\n"
     ]
    }
   ],
   "source": [
    "a = [1,1,3,3,3]\n",
    "print(list(combinations_with_replacement(a,2)))\n"
   ]
  },
  {
   "cell_type": "code",
   "execution_count": 29,
   "metadata": {},
   "outputs": [
    {
     "name": "stdout",
     "output_type": "stream",
     "text": [
      "4 5 \n",
      "44444\n"
     ]
    }
   ],
   "source": [
    "s , n = input().split()\n",
    "s = sorted(s)\n",
    "x = list(combinations_with_replacement(s,int(n)))\n",
    "for i in x:\n",
    "    print(''.join(i))\n",
    "    "
   ]
  },
  {
   "cell_type": "code",
   "execution_count": 30,
   "metadata": {},
   "outputs": [
    {
     "name": "stdout",
     "output_type": "stream",
     "text": [
      "1 <itertools._grouper object at 0x000001939D18A550>\n",
      "2 <itertools._grouper object at 0x000001939D18A400>\n",
      "3 <itertools._grouper object at 0x000001939D18A128>\n",
      "1 <itertools._grouper object at 0x000001939D18A400>\n"
     ]
    }
   ],
   "source": [
    "import itertools as i\n",
    "x = '1222311'\n",
    "for i ,j  in i.groupby(x):\n",
    "    print(i,j)\n",
    "\n",
    "\n"
   ]
  },
  {
   "cell_type": "code",
   "execution_count": 32,
   "metadata": {},
   "outputs": [
    {
     "name": "stdout",
     "output_type": "stream",
     "text": [
      "4\n",
      "4 ['4']\n"
     ]
    }
   ],
   "source": [
    "from itertools import groupby\n",
    "s  = input()\n",
    "k = groupby(s)\n",
    "for i,j in k:\n",
    "    print(i,list(j))\n"
   ]
  },
  {
   "cell_type": "code",
   "execution_count": 35,
   "metadata": {},
   "outputs": [
    {
     "name": "stdout",
     "output_type": "stream",
     "text": [
      "74574\n",
      "(1, 7) (1, 4) (1, 5) (1, 7) (1, 4)\n"
     ]
    }
   ],
   "source": [
    "print(*[(len(list(c)), int(k)) for k, c in groupby(input())])"
   ]
  },
  {
   "cell_type": "code",
   "execution_count": 36,
   "metadata": {},
   "outputs": [
    {
     "name": "stdout",
     "output_type": "stream",
     "text": [
      "1 \n",
      "4\n",
      "2\n"
     ]
    },
    {
     "ename": "ZeroDivisionError",
     "evalue": "division by zero",
     "output_type": "error",
     "traceback": [
      "\u001b[1;31m---------------------------------------------------------------------------\u001b[0m",
      "\u001b[1;31mZeroDivisionError\u001b[0m                         Traceback (most recent call last)",
      "\u001b[1;32m<ipython-input-36-dae487e9bc96>\u001b[0m in \u001b[0;36m<module>\u001b[1;34m()\u001b[0m\n\u001b[0;32m      6\u001b[0m     \u001b[1;32mif\u001b[0m \u001b[1;34m'a'\u001b[0m \u001b[1;32min\u001b[0m \u001b[0mi\u001b[0m\u001b[1;33m:\u001b[0m\u001b[1;33m\u001b[0m\u001b[0m\n\u001b[0;32m      7\u001b[0m         \u001b[0mc\u001b[0m\u001b[1;33m+=\u001b[0m\u001b[1;36m1\u001b[0m\u001b[1;33m\u001b[0m\u001b[0m\n\u001b[1;32m----> 8\u001b[1;33m \u001b[0mprint\u001b[0m\u001b[1;33m(\u001b[0m\u001b[1;34m'%.4f'\u001b[0m\u001b[1;33m%\u001b[0m \u001b[1;33m(\u001b[0m\u001b[0mc\u001b[0m\u001b[1;33m/\u001b[0m\u001b[0mlen\u001b[0m\u001b[1;33m(\u001b[0m\u001b[0ml\u001b[0m\u001b[1;33m)\u001b[0m\u001b[1;33m)\u001b[0m\u001b[1;33m)\u001b[0m\u001b[1;33m\u001b[0m\u001b[0m\n\u001b[0m",
      "\u001b[1;31mZeroDivisionError\u001b[0m: division by zero"
     ]
    }
   ],
   "source": [
    "from itertools import combinations as c\n",
    "a = int(input())\n",
    "l  = list(c(''.join(input().split()),int(input())))\n",
    "c = 0\n",
    "for i in l:\n",
    "    if 'a' in i:\n",
    "        c+=1\n",
    "print('%.4f'% (c/len(l)))\n",
    "\n"
   ]
  },
  {
   "cell_type": "code",
   "execution_count": null,
   "metadata": {},
   "outputs": [],
   "source": [
    "from itertools import product\n",
    "a , b =  input().split()\n",
    "b = int(b)\n",
    "l = []\n",
    "s = 0\n",
    "for i in range(int(a)):\n",
    "    l.append(list(map(int,input().split())))\n",
    "for i in list(product(*l))[0]:\n",
    "    s = s + i*i\n",
    "mod  = s % b\n",
    "maxa = mod\n",
    "index = 0\n",
    "for i in list(product(*l)):\n",
    "    s = 0\n",
    "    for j in i:\n",
    "        s = s + j*j\n",
    "    index += 1\n",
    "    mod  = s % b\n",
    "    if mod > maxa :\n",
    "        maxa = mod\n",
    "print(maxa)\n"
   ]
  },
  {
   "cell_type": "code",
   "execution_count": null,
   "metadata": {},
   "outputs": [],
   "source": [
    "from itertools import product\n",
    "\n",
    "K,M = map(int,input().split())\n",
    "N = (list(map(int, input().split()))[1:] for _ in range(K))\n",
    "results = map(lambda x: sum(i**2 for i in x)%M, product(*N))\n",
    "print(max(results))"
   ]
  },
  {
   "cell_type": "markdown",
   "metadata": {},
   "source": [
    "# Common Factor"
   ]
  },
  {
   "cell_type": "code",
   "execution_count": 38,
   "metadata": {},
   "outputs": [
    {
     "name": "stdout",
     "output_type": "stream",
     "text": [
      "[2, 3, 5, 6, 7, 10, 11, 13, 15, 17, 19, 23, 29]\n"
     ]
    }
   ],
   "source": [
    "def computeHCF(x, y):\n",
    "    while(y):\n",
    "        x, y = y, x % y\n",
    "    return x\n",
    "z = 30\n",
    "l = []\n",
    "for i in range(2,z):\n",
    "    if computeHCF(i,z) != 1 and z%i!=0:\n",
    "        continue\n",
    "    else:\n",
    "        l.append(i)\n",
    "print(l)"
   ]
  },
  {
   "cell_type": "markdown",
   "metadata": {},
   "source": [
    "# First n prime numbers"
   ]
  },
  {
   "cell_type": "code",
   "execution_count": 41,
   "metadata": {},
   "outputs": [
    {
     "name": "stdout",
     "output_type": "stream",
     "text": [
      "{3, 5, 7, 9, 11, 13, 15, 17, 19}\n"
     ]
    }
   ],
   "source": [
    "def computeHCF(x, y):\n",
    "    while(y):\n",
    "        x, y = y, x % y\n",
    "    return x\n",
    "def prime(n):\n",
    "    l = []\n",
    "    if n>1:\n",
    "        for i in range(2,n+1):\n",
    "            for j in range(2,i):\n",
    "                if i%j==0 :\n",
    "                    break\n",
    "                else :\n",
    "                    #if computeHCF(i,j) != 1 :\n",
    "                    l.append(i)\n",
    "    l = set(l)\n",
    "    return l\n",
    "print(prime(20))"
   ]
  },
  {
   "cell_type": "code",
   "execution_count": null,
   "metadata": {},
   "outputs": [],
   "source": [
    "from math import sqrt\n",
    "r=int(input(\"Enter upper limit: \"))\n",
    "for a in range(2,r+1):\n",
    "    k=0\n",
    "    for i in range(2,(round(sqrt(a))) + 1 ):\n",
    "        if(a % i==0):\n",
    "            k = k+1\n",
    "    if(k<=0):\n",
    "        print(a)"
   ]
  },
  {
   "cell_type": "code",
   "execution_count": null,
   "metadata": {},
   "outputs": [],
   "source": [
    "def computeHCF(x, y):\n",
    "    while(y):\n",
    "        x, y = y, x % y\n",
    "    return x\n",
    "count = 0\n",
    "x = int(input())\n",
    "for i in range(x):\n",
    "    if computeHCF(x,i)==1:\n",
    "        count+=1\n",
    "print(count)"
   ]
  },
  {
   "cell_type": "code",
   "execution_count": null,
   "metadata": {},
   "outputs": [],
   "source": [
    "\n",
    "def genprimes(limit): \n",
    "    D = {}            \n",
    "    q = 2\n",
    "    while q <= limit:\n",
    "        if q not in D:\n",
    "            yield q\n",
    "            D[q * q] = [q]\n",
    "        else:\n",
    "            for p in D[q]:\n",
    "                D.setdefault(p + q, []).append(p)\n",
    "            del D[q]\n",
    "        q += 1\n",
    "\n",
    "p = genprimes(int(input()))\n",
    "prms = [i for i in p]\n",
    "print( (prms) )"
   ]
  },
  {
   "cell_type": "code",
   "execution_count": null,
   "metadata": {},
   "outputs": [],
   "source": [
    "count = 0\n",
    "x1 = int(input())\n",
    "for i in range(x1):\n",
    "    x = x1 \n",
    "    y = i\n",
    "    while(x):\n",
    "        x, y = y, x % y\n",
    "    if x == 1:\n",
    "        count+=1\n",
    "print(count)"
   ]
  },
  {
   "cell_type": "code",
   "execution_count": null,
   "metadata": {},
   "outputs": [],
   "source": [
    "a = ['One Hundred','Fifty']\n",
    "a.sort()\n",
    "a"
   ]
  },
  {
   "cell_type": "code",
   "execution_count": null,
   "metadata": {},
   "outputs": [],
   "source": []
  }
 ],
 "metadata": {
  "kernelspec": {
   "display_name": "Python 3",
   "language": "python",
   "name": "python3"
  },
  "language_info": {
   "codemirror_mode": {
    "name": "ipython",
    "version": 3
   },
   "file_extension": ".py",
   "mimetype": "text/x-python",
   "name": "python",
   "nbconvert_exporter": "python",
   "pygments_lexer": "ipython3",
   "version": "3.6.5"
  }
 },
 "nbformat": 4,
 "nbformat_minor": 2
}
