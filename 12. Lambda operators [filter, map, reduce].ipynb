{
 "cells": [
  {
   "cell_type": "markdown",
   "metadata": {},
   "source": [
    "If Guido van Rossum, the author of the programming language Python, had got his will, this chapter would be missing in our tutorial. In his article from May 2005 \"All Things Pythonic: The fate of reduce() in Python 3000\", he gives his reasons for dropping lambda, map(), filter() and reduce(). He expected resistance from the Lisp and the scheme \"folks\". What he didn't anticipate was the rigidity of this opposition. Enough that Guido van Rossum wrote hardly a year later: \"After so many attempts to come up with an alternative for lambda, perhaps we should admit defeat. I've not had the time to follow the most recent rounds, but I propose that we keep lambda, so as to stop wasting everybody's talent and time on an impossible quest.\"\n",
    "We can see the result: lambda, map() and filter() are still part of core Python. Only reduce() had to go; it moved into the module functools.\n",
    "\n",
    "His reasoning for dropping them is like this:\n",
    "\n",
    "There is an equally powerful alternative to lambda, filter, map and reduce, i.e. list comprehension\n",
    "\n",
    "List comprehension is more evident and easier to understand\n",
    "\n",
    "Having both list comprehension and \"Filter, map, reduce and lambda\" is transgressing the Python motto \"There should be one obvious way to solve a problem\"\n",
    "\n",
    "\n",
    "Some like it, others hate it and many are afraid of the lambda operator. The lambda operator or lambda function is a way to create small anonymous functions, i.e. functions without a name. These functions are throw-away functions, i.e. they are just needed where they have been created. Lambda functions are mainly used in combination with the functions filter(), map() and reduce(). The lambda feature was added to Python due to the demand from Lisp programmers."
   ]
  },
  {
   "cell_type": "markdown",
   "metadata": {},
   "source": [
    "\n",
    "# Lambda / Inline / annonyous functions \n",
    "\n",
    "1. Lambda => syntax:  function_name = lambda arguments : return\n",
    "2. Map    => map(function_name  , sequence)  #change the given sequence type into function_name\n",
    "3. Filter => filter(function_name,sequence)  #return filter string from sequence which one by one passing into function_name\n",
    "4. Reduce => reduce(function_name,sequence)  # perform sequence on function_name"
   ]
  },
  {
   "cell_type": "markdown",
   "metadata": {},
   "source": [
    "## 1. Lambda"
   ]
  },
  {
   "cell_type": "code",
   "execution_count": 1,
   "metadata": {},
   "outputs": [
    {
     "data": {
      "text/plain": [
       "True"
      ]
     },
     "execution_count": 1,
     "metadata": {},
     "output_type": "execute_result"
    }
   ],
   "source": [
    "# 1. lambda\n",
    "add=lambda x,y:x+y  # lambda functions return some values\n",
    "add(10,20)\n",
    "\n",
    "evenodd=lambda x:False if x%2 else True # we cannot use elif in this types\n",
    "evenodd(4)"
   ]
  },
  {
   "cell_type": "code",
   "execution_count": 4,
   "metadata": {},
   "outputs": [
    {
     "data": {
      "text/plain": [
       "3628800"
      ]
     },
     "execution_count": 4,
     "metadata": {},
     "output_type": "execute_result"
    }
   ],
   "source": [
    "fact = lambda x: 1 if x==1 else x*fact(x-1) # single line factorial function\n",
    "fact(10)"
   ]
  },
  {
   "cell_type": "code",
   "execution_count": 6,
   "metadata": {},
   "outputs": [
    {
     "name": "stdout",
     "output_type": "stream",
     "text": [
      "<class 'map'>\n",
      "<class 'list'>\n",
      "[1, 2, 3, 4]\n"
     ]
    }
   ],
   "source": [
    "#2.Map\n",
    "# syntax map(function_name to convert , sequence)\n",
    "\n",
    "l=[1,1,2,3,5,6,8,]\n",
    "l2=['1','2','3','4']# we use for loop to convert into int instead we use map function\n",
    "m_int=map(int,l2)\n",
    "m_str=map(str,l)\n",
    "\n",
    "print(type(m_int))\n",
    "\n",
    "m_int=list(m_int)\n",
    "\n",
    "print(type(m_int))\n",
    "\n",
    "print(m_int)"
   ]
  },
  {
   "cell_type": "code",
   "execution_count": 47,
   "metadata": {},
   "outputs": [
    {
     "data": {
      "text/plain": [
       "[18, 14, 14, 14]"
      ]
     },
     "execution_count": 47,
     "metadata": {},
     "output_type": "execute_result"
    }
   ],
   "source": [
    "a = [1, 2, 3, 4]\n",
    "b = [17, 12, 11, 10]\n",
    "c = [-1, -4, 5, 9]\n",
    "list(map(lambda x, y : x+y, a, b))"
   ]
  },
  {
   "cell_type": "code",
   "execution_count": 55,
   "metadata": {},
   "outputs": [
    {
     "data": {
      "text/plain": [
       "[17, 10, 19, 23]"
      ]
     },
     "execution_count": 55,
     "metadata": {},
     "output_type": "execute_result"
    }
   ],
   "source": [
    "list(map(lambda x, y, z : x+y+z, a, b, c))\n",
    "# it takes 1st value from a,b,c and passes to lambda function then three values are added and return sumed value"
   ]
  },
  {
   "cell_type": "code",
   "execution_count": 49,
   "metadata": {},
   "outputs": [
    {
     "data": {
      "text/plain": [
       "[37.5, 33.0, 24.5, 21.0]"
      ]
     },
     "execution_count": 49,
     "metadata": {},
     "output_type": "execute_result"
    }
   ],
   "source": [
    "list(map(lambda x, y, z : 2.5*x + 2*y - z, a, b, c))"
   ]
  },
  {
   "cell_type": "code",
   "execution_count": 7,
   "metadata": {},
   "outputs": [
    {
     "name": "stdout",
     "output_type": "stream",
     "text": [
      "new s list is = [3, 3, 3, 3, 3]\n",
      "\n",
      "200\n",
      "48\n"
     ]
    }
   ],
   "source": [
    "def add(x,y):\n",
    "    return x+y\n",
    "s=map(add,[1,1,1,1,1],[2,2,2,2,2])\n",
    "#print(list(s))\n",
    "print('new s list is =',list(s))\n",
    "\n",
    "# iterator\n",
    "#range is iterator not a sequence \n",
    "print()\n",
    "lq=[1,2,3,4,5,6,7,8,9,10,11,12,13,14,15,16,17,18,19,20]\n",
    "print(lq.__sizeof__())\n",
    "lq1= range(1,21)\n",
    "print(lq1.__sizeof__())\n",
    "lq1=iter(lq1)"
   ]
  },
  {
   "cell_type": "code",
   "execution_count": 8,
   "metadata": {},
   "outputs": [],
   "source": [
    "# 3.Filter\n",
    "# syntax filter(function_name,sequence)  it return filter object which container all True returned arguments\n",
    "# means: if 2 argument return true for passing function then filter store 2 not True\n",
    "# while map store True instead of 2"
   ]
  },
  {
   "cell_type": "code",
   "execution_count": 9,
   "metadata": {},
   "outputs": [],
   "source": [
    "import numpy as np\n",
    "x=np.random.randint(45,85,50)\n",
    "evenodd=lambda x:False if x%2 else True     # we cannot use elif in this types   (check even odd)"
   ]
  },
  {
   "cell_type": "code",
   "execution_count": 10,
   "metadata": {},
   "outputs": [
    {
     "name": "stdout",
     "output_type": "stream",
     "text": [
      "[True, False, True, True, True, True, True, False, False, False, True, False, False, False, True, False, False, True, False, False, False, True, True, True, False, True, False, True, True, True, False, True, True, True, False, True, True, False, False, True, True, False, False, True, True, False, True, False, False, False]\n"
     ]
    }
   ],
   "source": [
    "# This is the difference between \"map\" and \"filter\"\n",
    "new=map(evenodd,x)\n",
    "print(list(new))"
   ]
  },
  {
   "cell_type": "code",
   "execution_count": 12,
   "metadata": {},
   "outputs": [
    {
     "name": "stdout",
     "output_type": "stream",
     "text": [
      "[52, 58, 48, 50, 74, 72, 54, 60, 80, 72, 70, 80, 80, 68, 48, 70, 76, 50, 64, 66, 68, 46, 80, 80, 60, 82]\n"
     ]
    }
   ],
   "source": [
    "new=filter(evenodd,x)\n",
    "print(list(new))"
   ]
  },
  {
   "cell_type": "code",
   "execution_count": 17,
   "metadata": {},
   "outputs": [
    {
     "name": "stdout",
     "output_type": "stream",
     "text": [
      "<class 'int'>\n",
      "40\n"
     ]
    },
    {
     "data": {
      "text/plain": [
       "40"
      ]
     },
     "execution_count": 17,
     "metadata": {},
     "output_type": "execute_result"
    }
   ],
   "source": [
    "# 4.Reduce\n",
    "  \n",
    "from functools import reduce\n",
    "add=lambda x,y:x+y\n",
    "l1=[1,2,3,4,6,7,8,9]\n",
    "p1=reduce(add,l1)   \n",
    "print(type(p1))\n",
    "print(p1)\n",
    "sum(l1)\n"
   ]
  },
  {
   "cell_type": "code",
   "execution_count": 18,
   "metadata": {},
   "outputs": [
    {
     "name": "stdout",
     "output_type": "stream",
     "text": [
      "<class 'str'>\n",
      "asasasassaasasasasasa\n",
      "\n"
     ]
    }
   ],
   "source": [
    "l2=['asas','asassa','asasasasasa']\n",
    "p2=reduce(add,l2)\n",
    "print(type(p2))\n",
    "print(p2)\n",
    "print()"
   ]
  },
  {
   "cell_type": "code",
   "execution_count": 19,
   "metadata": {},
   "outputs": [
    {
     "name": "stdout",
     "output_type": "stream",
     "text": [
      "13978\n"
     ]
    }
   ],
   "source": [
    "from functools import reduce\n",
    "l=[456, 124 ,752, 746, 782, 492, 741, 171 ,752, 295, 2, 56 ,725 ,961 ,135 ,654 ,697 ,328 ,112 ,992 ,922 ,816 ,519 ,997 ,751]\n",
    "s=reduce(lambda x,y:x+y,l)\n",
    "a=0\n",
    "\n",
    "print(s)"
   ]
  },
  {
   "cell_type": "code",
   "execution_count": 20,
   "metadata": {},
   "outputs": [
    {
     "name": "stdout",
     "output_type": "stream",
     "text": [
      "[0, 5, 10, 15] [3, 6, 9, 12] 0\n"
     ]
    }
   ],
   "source": [
    "from math import sqrt\n",
    "def diagonalDifference(arr):\n",
    "    l=arr.__len__()\n",
    "    a=round(sqrt(l))\n",
    "    d1 = []\n",
    "    d2 = []\n",
    "    for i in range(0,l,a+1):\n",
    "        d1.append(arr[i])\n",
    "    a = a - 1\n",
    "    for i in range(a,l-a+1,a): \n",
    "        d2.append(arr[i])\n",
    "    s1 = (reduce(lambda x,y:x+y,d1))\n",
    "    s2 = (reduce(lambda x,y:x+y,d2))\n",
    "    s11 =[]\n",
    "    s22 =[]\n",
    "    s11.append(s1)\n",
    "    s22.append(s2)\n",
    "    s1 = s11[0]\n",
    "    s2 = s22[0]\n",
    "    \n",
    "    di = s1 - s2\n",
    "    if di<0:\n",
    "        di = -1 * di\n",
    "    \n",
    "    return print(d1,d2,di)\n",
    "\n",
    "\n",
    "diagonalDifference([0,1,2,3,4,5,6,7,8,9,10,11,12,13,14,15])"
   ]
  },
  {
   "cell_type": "markdown",
   "metadata": {},
   "source": [
    "## DateTime"
   ]
  },
  {
   "cell_type": "code",
   "execution_count": 106,
   "metadata": {},
   "outputs": [
    {
     "name": "stdout",
     "output_type": "stream",
     "text": [
      "Wednesday\n",
      "ASD\n"
     ]
    }
   ],
   "source": [
    "import datetime\n",
    "dt  = '08 05 2015'\n",
    "month,day,year  = (int(i) for i in dt.split())\n",
    "ans = datetime.date(year,month,day)\n",
    "print((ans.strftime('%A')))\n",
    "print('asd'.upper())"
   ]
  },
  {
   "cell_type": "code",
   "execution_count": 107,
   "metadata": {},
   "outputs": [
    {
     "data": {
      "text/plain": [
       "datetime.datetime(2019, 11, 10, 20, 47, 55, 243980)"
      ]
     },
     "execution_count": 107,
     "metadata": {},
     "output_type": "execute_result"
    }
   ],
   "source": [
    "datetime.datetime.now() # current time"
   ]
  },
  {
   "cell_type": "markdown",
   "metadata": {},
   "source": [
    "# List Comprehension"
   ]
  },
  {
   "cell_type": "markdown",
   "metadata": {},
   "source": [
    "# Generator Comprehension\n",
    "\n",
    "Generator comprehensions were introduced with Python 2.6. They are simply like a list comprehension but with parentheses - round brackets - instead of (square) brackets around it. Otherwise, the syntax and the way of working is like list comprehension, but a generator comprehension returns a generator instead of a list."
   ]
  },
  {
   "cell_type": "code",
   "execution_count": 60,
   "metadata": {},
   "outputs": [
    {
     "name": "stdout",
     "output_type": "stream",
     "text": [
      "<generator object <genexpr> at 0x0000014FF0BF7888>\n"
     ]
    }
   ],
   "source": [
    "x = (x**2 for x in range(20))\n",
    "print(x)"
   ]
  },
  {
   "cell_type": "code",
   "execution_count": 61,
   "metadata": {},
   "outputs": [
    {
     "name": "stdout",
     "output_type": "stream",
     "text": [
      "[0, 1, 4, 9, 16, 25, 36, 49, 64, 81, 100, 121, 144, 169, 196, 225, 256, 289, 324, 361]\n"
     ]
    }
   ],
   "source": [
    "x = list(x)\n",
    "print(x)"
   ]
  },
  {
   "cell_type": "code",
   "execution_count": null,
   "metadata": {},
   "outputs": [],
   "source": []
  },
  {
   "cell_type": "markdown",
   "metadata": {},
   "source": [
    "# Chained function call"
   ]
  },
  {
   "cell_type": "code",
   "execution_count": 7,
   "metadata": {},
   "outputs": [
    {
     "data": {
      "text/plain": [
       "25"
      ]
     },
     "execution_count": 7,
     "metadata": {},
     "output_type": "execute_result"
    }
   ],
   "source": [
    "def add(a, b):\n",
    "    return a + b\n",
    "\n",
    "def sub(a, b):\n",
    "    return a - b\n",
    "\n",
    "a,b = 10,15\n",
    "(sub if a>b else add)(a,b)  # first bracket return reference of function second bracket returns passing argument of function"
   ]
  },
  {
   "cell_type": "code",
   "execution_count": 8,
   "metadata": {},
   "outputs": [],
   "source": [
    "l = [1,2,2,[3,4,[4,5,6,3,[8,8,9]],[23,534,25]]]"
   ]
  },
  {
   "cell_type": "code",
   "execution_count": 10,
   "metadata": {},
   "outputs": [
    {
     "data": {
      "text/plain": [
       "[1, 2, 2, [3, 4, [4, 5, 6, 3, [8, 8, 9]], [23, 534, 25]]]"
      ]
     },
     "execution_count": 10,
     "metadata": {},
     "output_type": "execute_result"
    }
   ],
   "source": [
    "l # flatten this list"
   ]
  },
  {
   "cell_type": "code",
   "execution_count": 11,
   "metadata": {},
   "outputs": [],
   "source": [
    "import numpy as np\n",
    "import pandas as pd"
   ]
  },
  {
   "cell_type": "code",
   "execution_count": 14,
   "metadata": {},
   "outputs": [
    {
     "data": {
      "text/plain": [
       "array([1, 2, 2, list([3, 4, [4, 5, 6, 3, [8, 8, 9]], [23, 534, 25]])],\n",
       "      dtype=object)"
      ]
     },
     "execution_count": 14,
     "metadata": {},
     "output_type": "execute_result"
    }
   ],
   "source": [
    "a = np.array(l)\n",
    "a.flatten()  # doesn't work"
   ]
  },
  {
   "cell_type": "code",
   "execution_count": 20,
   "metadata": {},
   "outputs": [
    {
     "data": {
      "text/plain": [
       "[1, 2, 2, 3, 4, 4, 5, 6, 3, 8, 8, 9, 23, 534, 25]"
      ]
     },
     "execution_count": 20,
     "metadata": {},
     "output_type": "execute_result"
    }
   ],
   "source": [
    "def spread(arg):\n",
    "    ret = []\n",
    "    for i in arg:\n",
    "        if isinstance(i, list):\n",
    "            ret.extend(i)\n",
    "        else:\n",
    "            ret.append(i)\n",
    "    return ret\n",
    "\n",
    "def deep_flatten(lst):\n",
    "    result = []\n",
    "    result.extend(spread(list(map(lambda x: deep_flatten(x) if type(x) == list else x, lst))))\n",
    "    return result\n",
    "\n",
    "\n",
    "deep_flatten(l)"
   ]
  },
  {
   "cell_type": "markdown",
   "metadata": {},
   "source": [
    "## Count vowels"
   ]
  },
  {
   "cell_type": "code",
   "execution_count": 23,
   "metadata": {},
   "outputs": [
    {
     "data": {
      "text/plain": [
       "['i', 'a']"
      ]
     },
     "execution_count": 23,
     "metadata": {},
     "output_type": "execute_result"
    }
   ],
   "source": [
    "import re\n",
    "\n",
    "count_vowels = lambda x : re.findall(r'[aeiou]' , x)\n",
    "\n",
    "count_vowels('Girraj')"
   ]
  },
  {
   "cell_type": "markdown",
   "metadata": {},
   "source": [
    "## Chained comparison "
   ]
  },
  {
   "cell_type": "code",
   "execution_count": 24,
   "metadata": {},
   "outputs": [
    {
     "name": "stdout",
     "output_type": "stream",
     "text": [
      "True\n",
      "False\n"
     ]
    }
   ],
   "source": [
    "a = 3\n",
    "print(2 < a < 5)\n",
    "print(1 == a < 2) "
   ]
  },
  {
   "cell_type": "markdown",
   "metadata": {},
   "source": [
    "## Byte size"
   ]
  },
  {
   "cell_type": "code",
   "execution_count": 34,
   "metadata": {},
   "outputs": [
    {
     "name": "stdout",
     "output_type": "stream",
     "text": [
      "4\n",
      "11\n"
     ]
    }
   ],
   "source": [
    "byte_size = lambda x :  len(x.encode('utf-8'))\n",
    "\n",
    "print(byte_size('😀')) \n",
    "print(byte_size('Hello World')) "
   ]
  },
  {
   "cell_type": "code",
   "execution_count": 44,
   "metadata": {},
   "outputs": [
    {
     "name": "stdout",
     "output_type": "stream",
     "text": [
      "Variable       Type        Data/Info\n",
      "------------------------------------\n",
      "a              int         3\n",
      "add            function    <function add at 0x000001A565C4D6A8>\n",
      "b              int         15\n",
      "byte_size      function    <function <lambda> at 0x000001A565708730>\n",
      "count_vowels   function    <function <lambda> at 0x000001A565708BF8>\n",
      "deep_flatten   function    <function deep_flatten at 0x000001A565708EA0>\n",
      "i              list        n=4\n",
      "l              list        n=4\n",
      "np             module      <module 'numpy' from 'C:\\<...>ges\\\\numpy\\\\__init__.py'>\n",
      "pd             module      <module 'pandas' from 'C:<...>es\\\\pandas\\\\__init__.py'>\n",
      "re             module      <module 're' from 'C:\\\\Us<...>\\\\Anaconda3\\\\lib\\\\re.py'>\n",
      "spread         function    <function spread at 0x000001A565708F28>\n",
      "sub            function    <function sub at 0x000001A565C4D268>\n"
     ]
    }
   ],
   "source": [
    "whos"
   ]
  },
  {
   "cell_type": "code",
   "execution_count": 46,
   "metadata": {},
   "outputs": [
    {
     "name": "stdout",
     "output_type": "stream",
     "text": [
      "a\t add\t b\t byte_size\t count_vowels\t deep_flatten\t i\t l\t np\t \n",
      "pd\t re\t spread\t sub\t \n"
     ]
    }
   ],
   "source": [
    "who"
   ]
  },
  {
   "cell_type": "markdown",
   "metadata": {},
   "source": [
    "## Has Duplicates"
   ]
  },
  {
   "cell_type": "code",
   "execution_count": 52,
   "metadata": {},
   "outputs": [
    {
     "name": "stdout",
     "output_type": "stream",
     "text": [
      "Duplicates\n",
      "Not Duplicates\n"
     ]
    }
   ],
   "source": [
    "has_duplicates = lambda x : \"Duplicates\" if len(x) != len(set(x)) else \"Not Duplicates\"\n",
    "l1 = [1,2,3,4,5,5]\n",
    "l2 = [1,2,3,4,5]\n",
    "print(has_duplicates(l1))\n",
    "print(has_duplicates(l2))"
   ]
  },
  {
   "cell_type": "markdown",
   "metadata": {},
   "source": [
    "## Time spent"
   ]
  },
  {
   "cell_type": "code",
   "execution_count": 87,
   "metadata": {},
   "outputs": [
    {
     "name": "stdout",
     "output_type": "stream",
     "text": [
      "value of c: 14309307\n",
      "Time: 1.12 sec\n"
     ]
    }
   ],
   "source": [
    "import time\n",
    "start_time = time.time()\n",
    "\n",
    "a = 1654654\n",
    "b = 2654654\n",
    "for i in range(10000000):\n",
    "    c = a + b + i\n",
    "print(f'value of c: {c}') #3\n",
    "\n",
    "end_time = time.time()\n",
    "total_time = end_time - start_time\n",
    "print(\"Time:\", round(total_time,2),'sec')"
   ]
  },
  {
   "cell_type": "markdown",
   "metadata": {},
   "source": [
    "## Calculator without If - Else"
   ]
  },
  {
   "cell_type": "code",
   "execution_count": 89,
   "metadata": {},
   "outputs": [
    {
     "data": {
      "text/plain": [
       "25"
      ]
     },
     "execution_count": 89,
     "metadata": {},
     "output_type": "execute_result"
    }
   ],
   "source": [
    "import operator\n",
    "action = {\n",
    "    \"+\": operator.add,\n",
    "    \"-\": operator.sub,\n",
    "    \"/\": operator.truediv,\n",
    "    \"*\": operator.mul,\n",
    "    \"**\": pow\n",
    "}\n",
    "\n",
    "action['-'](50, 25)"
   ]
  },
  {
   "cell_type": "markdown",
   "metadata": {},
   "source": [
    "## Get default value"
   ]
  },
  {
   "cell_type": "code",
   "execution_count": 103,
   "metadata": {},
   "outputs": [
    {
     "name": "stdout",
     "output_type": "stream",
     "text": [
      "2\n"
     ]
    },
    {
     "data": {
      "text/plain": [
       "{'a': 1, 'b': 2}"
      ]
     },
     "execution_count": 103,
     "metadata": {},
     "output_type": "execute_result"
    }
   ],
   "source": [
    "d = {'a':1, 'b':2}\n",
    "\n",
    "print(d.get('c',2)) # it return new value if that element is not in that dictionary\n",
    "d                   # but d is still same"
   ]
  },
  {
   "cell_type": "markdown",
   "metadata": {},
   "source": [
    "## One line factorial "
   ]
  },
  {
   "cell_type": "code",
   "execution_count": 104,
   "metadata": {},
   "outputs": [
    {
     "data": {
      "text/plain": [
       "3628800"
      ]
     },
     "execution_count": 104,
     "metadata": {},
     "output_type": "execute_result"
    }
   ],
   "source": [
    "fact = lambda x: 1 if x == 1 else x * fact(x-1)\n",
    "\n",
    "fact(10)"
   ]
  }
 ],
 "metadata": {
  "kernelspec": {
   "display_name": "Python 3",
   "language": "python",
   "name": "python3"
  },
  "language_info": {
   "codemirror_mode": {
    "name": "ipython",
    "version": 3
   },
   "file_extension": ".py",
   "mimetype": "text/x-python",
   "name": "python",
   "nbconvert_exporter": "python",
   "pygments_lexer": "ipython3",
   "version": "3.6.5"
  }
 },
 "nbformat": 4,
 "nbformat_minor": 2
}
