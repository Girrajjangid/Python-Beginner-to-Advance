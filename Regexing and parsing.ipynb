{
 "cells": [
  {
   "cell_type": "markdown",
   "metadata": {},
   "source": [
    "# Regular Expression\n",
    "1. re.search()\n",
    "2. re.match()\n",
    "3. re.split()\n",
    "4. re.group()\n",
    "5. re.groups()\n",
    "6. re.find()\n",
    "7. re.findall()\n",
    "8. re.finditer()\n",
    "9. re.sub()"
   ]
  },
  {
   "cell_type": "code",
   "execution_count": null,
   "metadata": {
    "collapsed": true
   },
   "outputs": [],
   "source": [
    "import re"
   ]
  },
  {
   "cell_type": "code",
   "execution_count": null,
   "metadata": {},
   "outputs": [],
   "source": [
    "# re.search()  it search string \n",
    "print(bool(re.search(\"ly\" , \"similarly\")))"
   ]
  },
  {
   "cell_type": "code",
   "execution_count": null,
   "metadata": {},
   "outputs": [],
   "source": [
    "# re.match()  it match the string\n",
    "print(bool(re.match('jan','jan')))"
   ]
  },
  {
   "cell_type": "code",
   "execution_count": null,
   "metadata": {},
   "outputs": [],
   "source": [
    "numa = '+4.50'\n",
    "print(numa.count('.'))\n",
    "l = ['+','-','.']\n",
    "a = False\n",
    "if a==False:\n",
    "    a = bool(re.search('.' , numa ))\n",
    "    print(a)\n",
    "for i in range(int(input())):\n",
    "    num = input()\n",
    "    if num[0] in l:\n",
    "            \n",
    "    else:\n",
    "        if num.isdigit()==False:\n",
    "        \n",
    "        else:\n",
    "            print('False')"
   ]
  },
  {
   "cell_type": "code",
   "execution_count": null,
   "metadata": {
    "collapsed": true
   },
   "outputs": [],
   "source": [
    "import re\n",
    "for _ in range(input()):\n",
    "    print (bool(re.match(r'^[-+]?[0-9]*\\.[0-9]+$', input())))"
   ]
  },
  {
   "cell_type": "code",
   "execution_count": null,
   "metadata": {
    "collapsed": true
   },
   "outputs": [],
   "source": [
    "a = input()\n",
    "print(bool(re.match(r'^[-+]?[0-9]*\\.[0-9]+$' , a)))"
   ]
  },
  {
   "cell_type": "markdown",
   "metadata": {},
   "source": [
    "^ says start of the expression.\n",
    "\n",
    "[-+]? says it can start with either - or +.\n",
    "\n",
    "[0-9] says any number from 0-9 can be followed after it.\n",
    "\n",
    "* says that whichever thing it follows[in this case it is[0-9]], it can repeat arbitrarily times, even 0 times.\n",
    "\n",
    "'.' is placeholder for any character.(for the answer it should be '\\.' instead of '.' ; '\\' is escape character. Because of this you can literally mean a dot in expression).\n",
    "\n",
    "again[0-9] as explained earlier.\n",
    "\n",
    "'+' says that whichever thing it follows[in this case it is[0-9]], it can repeat arbitrarily times, but atleast one time.\n",
    "\n",
    "$ follows whichever thing it should come in the end."
   ]
  },
  {
   "cell_type": "code",
   "execution_count": null,
   "metadata": {
    "collapsed": true
   },
   "outputs": [],
   "source": [
    "# re.split()\n",
    "print(re.split('-' , 'asd-asd-asd-asd-asd-zxc-'))\n",
    "print(re.split('[- , .]' , '100,000,000.000'))"
   ]
  },
  {
   "cell_type": "code",
   "execution_count": null,
   "metadata": {
    "collapsed": true
   },
   "outputs": [],
   "source": [
    "# re.group()  return 1 or more group of submatch\n",
    "email = 'username@hackerrank.com'\n",
    "m = re.match(r'(\\w+)@(\\w+)\\.(\\w+)' , email)\n",
    "print(m.group(0))\n",
    "print(m.group(1))\n",
    "print(m.group(2))\n",
    "print(m.group(3))\n",
    "print(m.group( 1,2,3))\n",
    "print(re.split('(@+)' , 'asd@asd,asd'))\n",
    "print()"
   ]
  },
  {
   "cell_type": "code",
   "execution_count": null,
   "metadata": {
    "collapsed": true
   },
   "outputs": [],
   "source": [
    "# re.groups()\n",
    "print(m.groups())\n",
    "print(m.group(1,2,3))"
   ]
  },
  {
   "cell_type": "code",
   "execution_count": null,
   "metadata": {
    "collapsed": true
   },
   "outputs": [],
   "source": [
    "# re.groupdict()  return group with dict name\n",
    "n = re.match('(?P<user>\\w+)@(?P<website>\\w+)\\.(?P<extension>\\w+)','myname@hackerrank.com')\n",
    "print(n.groupdict())\n"
   ]
  },
  {
   "cell_type": "code",
   "execution_count": null,
   "metadata": {
    "collapsed": true
   },
   "outputs": [],
   "source": [
    "import re\n",
    "m = re.search(r'([a-zA-Z0-9])\\1+', input().strip())\n",
    "print(m.group(1) if m else -1)\n",
    "# 12312331255\n",
    "# return 5 bcz 5 repeat first"
   ]
  },
  {
   "cell_type": "code",
   "execution_count": null,
   "metadata": {
    "collapsed": true
   },
   "outputs": [],
   "source": [
    "# re.findall()\n",
    "print(re.findall(r'[:./]' , 'http://www.hackerrank.com/')) # it return all (words)\n",
    "print(re.findall(r'\\w' , 'http://www.hackerrank.com/')) # it return all (words)\n"
   ]
  },
  {
   "cell_type": "code",
   "execution_count": null,
   "metadata": {
    "collapsed": true
   },
   "outputs": [],
   "source": [
    "# re.finditer()   return iterator\n",
    "a = (re.finditer(r'[@]' , 'www.girraj@gmail.com@'))\n",
    "print(a)\n",
    "list(map(lambda x : x.group() , a))\n"
   ]
  },
  {
   "cell_type": "code",
   "execution_count": null,
   "metadata": {
    "collapsed": true
   },
   "outputs": [],
   "source": [
    "v = 'aeiou'\n",
    "c = 'qwrtypsdfghjklzxcvbnm'\n",
    "m = re.findall( r'(?<=[%s])([%s]{2,})[%s]'%(c,v,c) ,\"rabcdeefgyYhFjkIoomnpOeorteeeeet\"  ,flags = re.I )\n",
    "print(m)\n",
    "print('\\n'.join(m or ['-1']))"
   ]
  },
  {
   "cell_type": "code",
   "execution_count": null,
   "metadata": {
    "collapsed": true
   },
   "outputs": [],
   "source": [
    "# re.start()  return indices of matching\n",
    "# re.end()\n",
    "m = (re.search(r'\\d+' ,  'asd98762222'))\n",
    "print(m.start())\n",
    "print(m.end())"
   ]
  },
  {
   "cell_type": "code",
   "execution_count": null,
   "metadata": {
    "collapsed": true
   },
   "outputs": [],
   "source": [
    "z = 'aa'\n",
    "m = re.findall(r'(aa)' ,  'aaadaa')\n",
    "print(m)"
   ]
  },
  {
   "cell_type": "code",
   "execution_count": null,
   "metadata": {
    "collapsed": true
   },
   "outputs": [],
   "source": [
    "import re\n",
    "\n",
    "s = \"aaadaa\"\n",
    "k = \"aa\"\n",
    "if k in s:\n",
    "    print(*[(i.start(), (i.start()+len(k)-1)) for i in re.finditer(r'(?={})'.format(k), s)], sep='\\n')\n",
    "else:\n",
    "    print('(-1, -1)')"
   ]
  },
  {
   "cell_type": "code",
   "execution_count": null,
   "metadata": {
    "collapsed": true
   },
   "outputs": [],
   "source": [
    "a = re.finditer(r'(?=aa)' , 'aaadaa')\n",
    "for i in a:\n",
    "    print((i.start() , (i.start()+len(k)-1)))\n"
   ]
  },
  {
   "cell_type": "markdown",
   "metadata": {
    "collapsed": true
   },
   "source": [
    "# Basic patterns\n",
    "1. a, X, 9, < -- ordinary characters just match themselves exactly. The meta-characters which do not match themselves because they have special meanings are: . ^ $ * + ? { [ ] \\ | ( ) (details below)\n",
    "\n",
    "2. .(dot)(a period) -- matches any single character except newline '\\n'\n",
    "3. \\w -- (lowercase w) matches a \"word\" character: a letter or digit or underbar [a-zA-Z0-9_]. Note that although \"word\" is the mnemonic for this, it only matches a single word char, not a whole word. \\W (upper case W) matches any non-word character.\n",
    "4. \\b -- boundary between word and non-word\n",
    "5. \\s -- (lowercase s) matches a single whitespace character -- space, newline, return, tab, form [ \\n\\r\\t\\f]. \\S (upper case S) matches any non-whitespace character.\n",
    " 6. \\t, \\n, \\r -- tab, newline, return\n",
    "7. \\d -- decimal digit [0-9] (some older regex utilities do not support but \\d, but they all support \\w and \\s)\n",
    "8. ^ = start, $ = end -- match the start or end of the string\n",
    "9. \\ -- inhibit the \"specialness\" of a character. So, for example, use \\. to match a period or \\\\ to match a slash. If you are unsure if a character has special meaning, such as '@', you can put a slash in front of it, \\@, to make sure it is treated just as a character.\n",
    "\n",
    "also go through\n",
    "\n",
    "https://www.guru99.com/python-regular-expressions-complete-tutorial.html"
   ]
  },
  {
   "cell_type": "code",
   "execution_count": null,
   "metadata": {
    "collapsed": true
   },
   "outputs": [],
   "source": [
    "# Collections counter\n",
    "import collections as c\n",
    "st = 'aaabbbddd'\n",
    "c = c.Counter()\n",
    "for i in st:\n",
    "    c[i] += 1\n",
    "print(c)\n",
    "\n"
   ]
  },
  {
   "cell_type": "code",
   "execution_count": null,
   "metadata": {
    "collapsed": true
   },
   "outputs": [],
   "source": [
    "regex_pattern = r\"M{0,3} (CM|CD|D?C{0,3}) (XC|XL|L?X{0,3}) (IX|IV|V?I{0,3}) $\"\n",
    "print(str(bool(re.match(regex_pattern, input()))))"
   ]
  },
  {
   "cell_type": "code",
   "execution_count": null,
   "metadata": {
    "collapsed": true
   },
   "outputs": [],
   "source": [
    "matchObj = re.search(r\"([a-z]+)\",\"Hello, world\")  # match any digit between a to z\n",
    "thousand = \"M{0,3}\"\n",
    "hundred = '(CM|CD|D?C{0,3})'\n",
    "ten = \"(XC|XL|L?X{0,3})\"\n",
    "one = \"(IX|IV|V?I{0,3}) $\"\n",
    "regex_pattern = r'%s%s%s%s' % (thousand , hundred, ten, one)\n",
    "print (matchObj.groups())"
   ]
  },
  {
   "cell_type": "code",
   "execution_count": null,
   "metadata": {
    "collapsed": true
   },
   "outputs": [],
   "source": [
    "# Check mobile number\n",
    "import re\n",
    "n = int(input())\n",
    "for i in range(n):\n",
    "    no = input()\n",
    "    if (len(no)!= 10):\n",
    "        print(\"NO\")\n",
    "    elif bool(re.search(r\"^(9|7|8)\" , no)):\n",
    "        print(\"YES\")\n",
    "    else:\n",
    "        print(\"NO\")\n",
    "\n",
    "if re.match(r'[789]\\d{9}$',input()):   \n",
    "    print 'YES'  \n",
    "else:  \n",
    "    print 'NO'"
   ]
  },
  {
   "cell_type": "markdown",
   "metadata": {},
   "source": [
    "# Email Utils"
   ]
  },
  {
   "cell_type": "code",
   "execution_count": null,
   "metadata": {
    "collapsed": true
   },
   "outputs": [],
   "source": [
    "import email.utils as e\n",
    "print(e.parseaddr('GIRRAJ <girraj@gmail.com>'))\n",
    "print(e.formataddr(('GIRRAJ','girraj@gmail.com')))\n",
    "re.match(r'(\\w+)@(\\w+)\\.(\\w+)' , email)"
   ]
  },
  {
   "cell_type": "code",
   "execution_count": null,
   "metadata": {
    "collapsed": true
   },
   "outputs": [],
   "source": [
    "import re\n",
    "n = int(input())\n",
    "for i in range(n):\n",
    "    name,email = input().split()\n",
    "    email = email[1:-1] \n",
    "    if bool(re.match(r'[a-zA-Z](\\w|-|\\.)*@[a-zA-Z]*\\.[a-zA-Z]{0,3}$',email)):\n",
    "        print(e.formataddr((name , email)))\n",
    "    "
   ]
  },
  {
   "cell_type": "code",
   "execution_count": null,
   "metadata": {
    "collapsed": true
   },
   "outputs": [],
   "source": [
    "# color code search\n",
    "import re\n",
    "n = int(input())\n",
    "l = []\n",
    "for i in range(n):\n",
    "    s = input()\n",
    "    if s[0]=='#':\n",
    "        continue\n",
    "    else :\n",
    "        l.extend(re.findall(r'(#)[a-fA-F0-9]{3}',s))\n"
   ]
  },
  {
   "cell_type": "code",
   "execution_count": null,
   "metadata": {},
   "outputs": [],
   "source": [
    "import re\n",
    "for i in range(int(input())):\n",
    "    matches = re.findall(r'(#[0-9a-fA-F]{6}|#[0-9a-fA-F]{3})', input())\n",
    "    if matches:\n",
    "        print(*matches, sep='\\n')"
   ]
  },
  {
   "cell_type": "code",
   "execution_count": null,
   "metadata": {
    "collapsed": true
   },
   "outputs": [],
   "source": [
    "2\n",
    "5 10\n",
    "3 5 3 2 1\n",
    "4 6\n",
    "10 8 6 4"
   ]
  },
  {
   "cell_type": "code",
   "execution_count": null,
   "metadata": {},
   "outputs": [],
   "source": [
    "n = int(input())\n",
    "for i in range(n):\n",
    "    p,m = input().split()\n",
    "    m = int(m)\n",
    "    x = list(map(int , input().split()))\n",
    "    s = ''\n",
    "    for i in x:\n",
    "        if i > m:\n",
    "            s += '0'\n",
    "        else:\n",
    "            m -= i\n",
    "            s += '1'\n",
    "    print(s)"
   ]
  },
  {
   "cell_type": "code",
   "execution_count": null,
   "metadata": {},
   "outputs": [],
   "source": [
    "print(x)"
   ]
  },
  {
   "cell_type": "markdown",
   "metadata": {},
   "source": [
    "# A valid UID must follow the rules below:\n",
    "\n",
    "1. It must contain at least  uppercase English alphabet characters.\n",
    "2. It must contain at least  digits ( - ).\n",
    "3. It should only contain alphanumeric characters ( - ,  -  &  - ).\n",
    "4. No character should repeat.\n",
    "5. There must be exactly  characters in a valid UID."
   ]
  },
  {
   "cell_type": "code",
   "execution_count": null,
   "metadata": {},
   "outputs": [],
   "source": [
    "import re\n",
    "auth = [r'[A-Za-z0-9]{10}',r'([A-Z].*){2}',r'([0-9].*){3}']\n",
    "for _ in range(int(input())):\n",
    "    for i in auth:\n",
    "        s = input()\n",
    "        if re.search(i,s) and not re.search(r'.*(.).*\\1', s):\n",
    "            print('Valid')\n",
    "        else:\n",
    "            print(\"Invalid\")"
   ]
  },
  {
   "cell_type": "code",
   "execution_count": null,
   "metadata": {},
   "outputs": [],
   "source": [
    "import re\n",
    "#Squaring numbers\n",
    "def square(match):\n",
    "    number = int(match.group(0))\n",
    "    return str(number**2)\n",
    "print(re.sub(r\"\\d+\",square , \"1 2 3 4 5 6 7 8 9\"))"
   ]
  },
  {
   "cell_type": "code",
   "execution_count": null,
   "metadata": {},
   "outputs": [],
   "source": [
    "# We want to remove comment from this\n",
    "html = \"\"\"\n",
    "<head>\n",
    "<title>HTML</title>\n",
    "</head>\n",
    "<object type=\"application/x-flash\" \n",
    "  data=\"your-file.swf\" \n",
    "  width=\"0\" height=\"0\">\n",
    "  <!-- <param name=\"movie\"  value=\"your-file.swf\" /> -->\n",
    "  <param name=\"quality\" value=\"high\"/>\n",
    "</object>\n",
    "\"\"\"\n",
    "print(re.sub(\"(<!--.*?-->)\" , \"\" ,html)) # remove comment it return new subString\n"
   ]
  },
  {
   "cell_type": "code",
   "execution_count": null,
   "metadata": {},
   "outputs": [],
   "source": [
    "text = \"\"\"\n",
    "a = 1;\n",
    "b = input();\n",
    "\n",
    "if a + b > 0 && a - b < 0:\n",
    "    start()\n",
    "elif a*b > 10 || a/b < 1:\n",
    "    stop()\n",
    "print set(list(a)) | set(list(b)) \n",
    "#Note do not change &&& or ||| or & or |\n",
    "#Only change those '&&' which have space on both sides.\n",
    "#Only change those '|| which have space on both sides.\"\"\"\n",
    "print (re.sub(r'(?<= )(&&|\\|\\|)(?= )', lambda x: 'and' if x.group() == '&&' else 'or', text))"
   ]
  },
  {
   "cell_type": "markdown",
   "metadata": {},
   "source": [
    "# Credit Card Validation\n",
    "► It must start with a 4,5  or 6 .\n",
    "\n",
    "► It must contain exactly 16 digits. \n",
    "\n",
    "► It must only consist of digits (0-9). \n",
    "\n",
    "► It may have digits in groups of 4, separated by one hyphen \"-\". \n",
    "\n",
    "► It must NOT use any other separator like ' ' , '_', etc. \n",
    "\n",
    "► It must NOT have 4 or more consecutive repeated digits."
   ]
  },
  {
   "cell_type": "code",
   "execution_count": null,
   "metadata": {},
   "outputs": [],
   "source": [
    "import re\n",
    "TESTER = re.compile(\n",
    "    r\"^\"\n",
    "    r\"(?!.*(\\d)(-?\\1){3})\"\n",
    "    r\"[456]\"\n",
    "    r\"\\d{3}\"\n",
    "    r\"(?:-?\\d{4}){3}\"\n",
    "    r\"$\")\n",
    "for _ in range(int(input().strip())):\n",
    "    print(\"Valid\" if TESTER.search(input().strip()) else \"Invalid\")"
   ]
  },
  {
   "cell_type": "markdown",
   "metadata": {},
   "source": [
    "# Postal Address Validation\n",
    " 1. must be a number in the range from  to  inclusive.\n",
    " 2. must not contain more than one alternating repetitive digit pair\n",
    " "
   ]
  },
  {
   "cell_type": "code",
   "execution_count": 13,
   "metadata": {},
   "outputs": [
    {
     "data": {
      "text/plain": [
       "<_sre.SRE_Match object; span=(0, 4), match='3121'>"
      ]
     },
     "execution_count": 13,
     "metadata": {},
     "output_type": "execute_result"
    }
   ],
   "source": [
    "import re\n",
    "s=input()\n",
    "print (bool(re.match(r'^[1-9][\\d]{5}$',s) and len(re.findall(r'(\\d)(?=\\d\\1)',s))<2 ))"
   ]
  },
  {
   "cell_type": "code",
   "execution_count": null,
   "metadata": {
    "collapsed": true
   },
   "outputs": [],
   "source": []
  }
 ],
 "metadata": {
  "kernelspec": {
   "display_name": "Python 3",
   "language": "python",
   "name": "python3"
  },
  "language_info": {
   "codemirror_mode": {
    "name": "ipython",
    "version": 3
   },
   "file_extension": ".py",
   "mimetype": "text/x-python",
   "name": "python",
   "nbconvert_exporter": "python",
   "pygments_lexer": "ipython3",
   "version": "3.6.5"
  }
 },
 "nbformat": 4,
 "nbformat_minor": 2
}
