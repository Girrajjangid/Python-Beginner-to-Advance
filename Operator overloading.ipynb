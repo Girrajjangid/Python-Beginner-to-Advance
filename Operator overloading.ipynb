{
 "cells": [
  {
   "cell_type": "code",
   "execution_count": 9,
   "metadata": {},
   "outputs": [],
   "source": [
    "# name wrangling ::== creating another variable when assign private variable from outside of class\n",
    "class test:\n",
    "    def __init__(self,name):\n",
    "        self.name = name\n",
    "    def  show(self):\n",
    "        print('name = ',self.name)\n",
    "    # it return the address of object we can change by returning through __str__\n",
    "    def __str__(self):\n",
    "        return 'hi i am  object'\n",
    "            \n",
    "    "
   ]
  },
  {
   "cell_type": "code",
   "execution_count": 22,
   "metadata": {},
   "outputs": [
    {
     "name": "stdout",
     "output_type": "stream",
     "text": [
      "hi i am  object\n",
      "object\n",
      "None\n",
      "new name\n"
     ]
    }
   ],
   "source": [
    "obj = test('object')\n",
    "\n",
    "print(obj)\n",
    "print(getattr(obj,'name'))\n",
    "print(setattr(obj,'name','new name'))\n",
    "print(getattr(obj,'name'))"
   ]
  },
  {
   "cell_type": "code",
   "execution_count": 20,
   "metadata": {},
   "outputs": [
    {
     "name": "stdout",
     "output_type": "stream",
     "text": [
      "False\n",
      "True\n"
     ]
    }
   ],
   "source": [
    "class a:\n",
    "    pass\n",
    "class b(a):\n",
    "    pass\n",
    "\n",
    "print(issubclass(a,b))\n",
    "\n",
    "print(issubclass(b,a))\n",
    "\n"
   ]
  },
  {
   "cell_type": "code",
   "execution_count": 35,
   "metadata": {},
   "outputs": [
    {
     "name": "stdout",
     "output_type": "stream",
     "text": [
      "1,2\n",
      "10,20\n",
      "11,22\n"
     ]
    }
   ],
   "source": [
    "# OPERATOR OVERLOADING\n",
    "class Vector:\n",
    "    def __init__(self,x,y):\n",
    "        self.x = x\n",
    "        self.y = y\n",
    "    def __str__(self):\n",
    "        return '{},{}'.format(self.x,self.y)\n",
    "    def __add__(self,vector):\n",
    "        x = self.x + vector.x    \n",
    "        y = self.y + vector.y\n",
    "        return Vector(x,y)\n",
    "        \n",
    "v1 = Vector(1,2)\n",
    "v2 = Vector(10,20)\n",
    "print(v1)\n",
    "print(v2)\n",
    "#v3 = v1.__add__(v2)\n",
    "v3 = v1 + v2   # also equals to v3 = v1.__add__(v2)\n",
    "print(v3)\n"
   ]
  },
  {
   "cell_type": "code",
   "execution_count": 36,
   "metadata": {},
   "outputs": [
    {
     "name": "stdout",
     "output_type": "stream",
     "text": [
      "Help on class Vector in module __main__:\n",
      "\n",
      "class Vector(builtins.object)\n",
      " |  Methods defined here:\n",
      " |  \n",
      " |  __add__(self, vector)\n",
      " |  \n",
      " |  __init__(self, x, y)\n",
      " |      Initialize self.  See help(type(self)) for accurate signature.\n",
      " |  \n",
      " |  __str__(self)\n",
      " |      Return str(self).\n",
      " |  \n",
      " |  ----------------------------------------------------------------------\n",
      " |  Data descriptors defined here:\n",
      " |  \n",
      " |  __dict__\n",
      " |      dictionary for instance variables (if defined)\n",
      " |  \n",
      " |  __weakref__\n",
      " |      list of weak references to the object (if defined)\n",
      "\n"
     ]
    }
   ],
   "source": [
    "help(Vector)"
   ]
  },
  {
   "cell_type": "code",
   "execution_count": null,
   "metadata": {
    "collapsed": true
   },
   "outputs": [],
   "source": []
  }
 ],
 "metadata": {
  "kernelspec": {
   "display_name": "Python 3",
   "language": "python",
   "name": "python3"
  },
  "language_info": {
   "codemirror_mode": {
    "name": "ipython",
    "version": 3
   },
   "file_extension": ".py",
   "mimetype": "text/x-python",
   "name": "python",
   "nbconvert_exporter": "python",
   "pygments_lexer": "ipython3",
   "version": "3.6.5"
  }
 },
 "nbformat": 4,
 "nbformat_minor": 2
}
