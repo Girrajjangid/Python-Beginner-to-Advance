{
 "cells": [
  {
   "cell_type": "markdown",
   "metadata": {},
   "source": [
    "# NameSpaces\n",
    "Some namespaces in Python:\n",
    "\n",
    "1. global names of a module\n",
    "2. local names in a function or method invocation\n",
    "3. built-in names: this namespace contains built-in fuctions (e.g. abs(), cmp(), ...) and built-in exception names\n"
   ]
  },
  {
   "cell_type": "markdown",
   "metadata": {},
   "source": [
    "## lifetime of a Namespace\n",
    "\n",
    "Not every namespace, which may be used in a script or program is accessible (or alive) at any moment during the execution of the script. Namespaces have different lifetimes, because they are often created at different points in time. There is one namespace which is present from beginning to end: The namespace containing the built-in names is created when the Python interpreter starts up, and is never deleted. The global namespace of a module is generated when the module is read in. Module namespaces normally last until the script ends, i.e. the interpreter quits. When a function is called, a local namespace is created for this function. This namespace is deleted either if the function ends, i.e. returns, or if the function raises an exception, which is not dealt with within the function. "
   ]
  },
  {
   "cell_type": "markdown",
   "metadata": {},
   "source": [
    "## Scopes\n",
    "\n",
    "A scope refers to a region of a program where a namespace can be directly accessed, i.e. without using a namespace prefix. In other words: The scope of a name is the area of a program where this name can be unambiguously used, for example, inside of a function. A name's namespace is identical to it's scope. Scopes are defined statically, but they are used dynamically. \n",
    "During program execution there are the following nested scopes available:\n",
    "the innermost scope is searched first and it contains the local names\n",
    "the scopes of any enclosing functions, which are searched starting with the nearest enclosing scope\n",
    "the next-to-last scope contains the current module's global names\n",
    "the outermost scope, which is searched last, is the namespace containing the built-in names"
   ]
  },
  {
   "cell_type": "markdown",
   "metadata": {},
   "source": [
    "# Global, local and nonlocal variables"
   ]
  },
  {
   "cell_type": "code",
   "execution_count": 1,
   "metadata": {},
   "outputs": [
    {
     "name": "stdout",
     "output_type": "stream",
     "text": [
      "I luv my india\n"
     ]
    }
   ],
   "source": [
    "# global variable is used\n",
    "def f():\n",
    "    print(s)\n",
    "\n",
    "s = 'I luv my india'\n",
    "f()"
   ]
  },
  {
   "cell_type": "code",
   "execution_count": 2,
   "metadata": {},
   "outputs": [
    {
     "name": "stdout",
     "output_type": "stream",
     "text": [
      "I luv NY\n"
     ]
    }
   ],
   "source": [
    "# local variable\n",
    "def f():\n",
    "    s = 'I luv NY'\n",
    "    print(s)\n",
    "s = 'i lov pk'\n",
    "f()"
   ]
  },
  {
   "cell_type": "code",
   "execution_count": 3,
   "metadata": {},
   "outputs": [
    {
     "name": "stdout",
     "output_type": "stream",
     "text": [
      "I am looking for a course in Paris!\n",
      "Only in spring, but London is great as well!\n",
      "Only in spring, but London is great as well!\n"
     ]
    }
   ],
   "source": [
    "def f():\n",
    "    global s\n",
    "    print(s)\n",
    "    s = \"Only in spring, but London is great as well!\"\n",
    "    print(s)\n",
    "\n",
    "\n",
    "s = \"I am looking for a course in Paris!\" \n",
    "f()\n",
    "print(s)"
   ]
  },
  {
   "cell_type": "code",
   "execution_count": 4,
   "metadata": {},
   "outputs": [
    {
     "name": "stdout",
     "output_type": "stream",
     "text": [
      "42 17 4 17\n",
      "42 15 3 4\n"
     ]
    }
   ],
   "source": [
    "####################################################\n",
    "## Wild combination of local and global variables ##\n",
    "####################################################\n",
    "def foo(x, y):\n",
    "    global a\n",
    "    a = 42\n",
    "    x,y = y,x\n",
    "    b = 33\n",
    "    b = 17\n",
    "    c = 100\n",
    "    print(a,b,x,y)\n",
    "\n",
    "a, b, x, y = 1, 15, 3,4 \n",
    "foo(17, 4)\n",
    "print(a, b, x, y)"
   ]
  },
  {
   "cell_type": "markdown",
   "metadata": {},
   "source": [
    "# global variable in nested function\n"
   ]
  },
  {
   "cell_type": "code",
   "execution_count": 5,
   "metadata": {},
   "outputs": [
    {
     "name": "stdout",
     "output_type": "stream",
     "text": [
      "Before calling g: 42\n",
      "Calling g now:\n",
      "654654654\n",
      "11111111\n",
      "After calling g: 42\n",
      "x in main: 43\n"
     ]
    },
    {
     "data": {
      "text/plain": [
       "11111111"
      ]
     },
     "execution_count": 5,
     "metadata": {},
     "output_type": "execute_result"
    }
   ],
   "source": [
    "x2=654654654\n",
    "def f():\n",
    "    x2 = '987654321'\n",
    "    x = 42\n",
    "    def g():\n",
    "        global x ,x2 # it takes __main__ variables\n",
    "        #x2='poio'\n",
    "        x = 43\n",
    "        print(x2)\n",
    "        x2 = 11111111\n",
    "        print(x2)\n",
    "        \n",
    "    print(\"Before calling g: \" + str(x))\n",
    "    print(\"Calling g now:\")\n",
    "    g()\n",
    "    print(\"After calling g: \" + str(x))\n",
    "    \n",
    "f()\n",
    "print(\"x in main: \" + str(x))\n",
    "x2"
   ]
  },
  {
   "cell_type": "code",
   "execution_count": 6,
   "metadata": {},
   "outputs": [
    {
     "name": "stdout",
     "output_type": "stream",
     "text": [
      "Before calling g: 42\n",
      "After calling g: 42\n"
     ]
    },
    {
     "ename": "NameError",
     "evalue": "name 'z' is not defined",
     "output_type": "error",
     "traceback": [
      "\u001b[1;31m---------------------------------------------------------------------------\u001b[0m",
      "\u001b[1;31mNameError\u001b[0m                                 Traceback (most recent call last)",
      "\u001b[1;32m<ipython-input-6-9e96142fb2be>\u001b[0m in \u001b[0;36m<module>\u001b[1;34m()\u001b[0m\n\u001b[0;32m     13\u001b[0m \u001b[1;33m\u001b[0m\u001b[0m\n\u001b[0;32m     14\u001b[0m \u001b[0mf\u001b[0m\u001b[1;33m(\u001b[0m\u001b[1;33m)\u001b[0m\u001b[1;33m\u001b[0m\u001b[0m\n\u001b[1;32m---> 15\u001b[1;33m \u001b[0mprint\u001b[0m\u001b[1;33m(\u001b[0m\u001b[1;34m\"x in main: \"\u001b[0m \u001b[1;33m+\u001b[0m \u001b[0mstr\u001b[0m\u001b[1;33m(\u001b[0m\u001b[0mz\u001b[0m\u001b[1;33m)\u001b[0m\u001b[1;33m)\u001b[0m\u001b[1;33m\u001b[0m\u001b[0m\n\u001b[0m",
      "\u001b[1;31mNameError\u001b[0m: name 'z' is not defined"
     ]
    }
   ],
   "source": [
    "\n",
    "def f():\n",
    "    z = 42\n",
    "    \n",
    "    def g():\n",
    "        #global z\n",
    "        z = 43\n",
    "    \n",
    "    print(\"Before calling g: \" + str(z))\n",
    "    g()\n",
    "    print(\"After calling g: \" + str(z))\n",
    "    \n",
    "\n",
    "f()\n",
    "print(\"x in main: \" + str(z))"
   ]
  },
  {
   "cell_type": "code",
   "execution_count": 7,
   "metadata": {},
   "outputs": [
    {
     "name": "stdout",
     "output_type": "stream",
     "text": [
      "Before calling g: 42\n",
      "After calling g: 42\n",
      "z in main: 43\n"
     ]
    }
   ],
   "source": [
    "def f():\n",
    "    z = 42\n",
    "    \n",
    "    def g():\n",
    "        global z  # this global initilize the varaible in __main__\n",
    "        z = 43\n",
    "    \n",
    "    print(\"Before calling g: \" + str(z))  \n",
    "    g()\n",
    "    print(\"After calling g: \" + str(z)) # doesnt affect f()  z value but initilize z in __main__\n",
    "    \n",
    "\n",
    "f()\n",
    "print(\"z in main: \" + str(z))"
   ]
  },
  {
   "cell_type": "markdown",
   "metadata": {},
   "source": [
    "# A variable defined inside of a function is local unless it is explicitly marked as global. \n",
    "\n",
    "we can refer a variable name in any enclosing scope, but we can only rebind variable names in the local scope by assigning to it or in the module-global scope by using a global declaration. We need a way to access variables of other scopes as well. The way to do this are nonlocal definitions\n",
    " \n",
    " \n",
    "One difference to global variables lies in the fact that it is not possible to change variables from the module scope"
   ]
  },
  {
   "cell_type": "code",
   "execution_count": 9,
   "metadata": {},
   "outputs": [
    {
     "name": "stdout",
     "output_type": "stream",
     "text": [
      "3\n"
     ]
    }
   ],
   "source": [
    "del x\n",
    "def f():\n",
    "    global x\n",
    "    print(x)\n",
    "    \n",
    "x = 3\n",
    "f()"
   ]
  },
  {
   "cell_type": "code",
   "execution_count": 10,
   "metadata": {},
   "outputs": [
    {
     "ename": "SyntaxError",
     "evalue": "no binding for nonlocal 'x' found (<ipython-input-10-fcb38273acc6>, line 3)",
     "output_type": "error",
     "traceback": [
      "\u001b[1;36m  File \u001b[1;32m\"<ipython-input-10-fcb38273acc6>\"\u001b[1;36m, line \u001b[1;32m3\u001b[0m\n\u001b[1;33m    nonlocal x\u001b[0m\n\u001b[1;37m    ^\u001b[0m\n\u001b[1;31mSyntaxError\u001b[0m\u001b[1;31m:\u001b[0m no binding for nonlocal 'x' found\n"
     ]
    }
   ],
   "source": [
    "del x\n",
    "def f():\n",
    "    nonlocal x\n",
    "    print(x) \n",
    "x = 3\n",
    "f()"
   ]
  },
  {
   "cell_type": "markdown",
   "metadata": {},
   "source": [
    "### This means that nonlocal bindings can only be used inside of nested functions. A nonlocal variable has to be defined in the enclosing function scope. If the variable is not defined in the enclosing function scope, the variable cannot be defined in the nested scope. This is another difference to the \"global\" semantics."
   ]
  },
  {
   "cell_type": "code",
   "execution_count": 11,
   "metadata": {},
   "outputs": [
    {
     "name": "stdout",
     "output_type": "stream",
     "text": [
      "Before calling g: 42\n",
      "After calling g: 42\n",
      "x in main: 3\n"
     ]
    }
   ],
   "source": [
    "def f():\n",
    "    x = 42\n",
    "    def g():\n",
    "        #nonlocal x\n",
    "        x = 43\n",
    "    print(\"Before calling g: \" + str(x))\n",
    "    g()\n",
    "    print(\"After calling g: \" + str(x))\n",
    "x = 3\n",
    "f()\n",
    "print(\"x in main: \" + str(x))"
   ]
  },
  {
   "cell_type": "code",
   "execution_count": 12,
   "metadata": {},
   "outputs": [
    {
     "name": "stdout",
     "output_type": "stream",
     "text": [
      "Before calling g: 42\n",
      "After calling g: 85\n",
      "x in main: 3\n"
     ]
    }
   ],
   "source": [
    "########################## SEE THIS ######################\n",
    "def f():\n",
    "    x = 42\n",
    "    \n",
    "    def g():\n",
    "        nonlocal x\n",
    "        x = x+43\n",
    "    \n",
    "    print(\"Before calling g: \" + str(x))\n",
    "    g()\n",
    "    print(\"After calling g: \" + str(x))\n",
    "x = 3\n",
    "f()\n",
    "print(\"x in main: \" + str(x))\n"
   ]
  },
  {
   "cell_type": "code",
   "execution_count": 13,
   "metadata": {},
   "outputs": [
    {
     "name": "stdout",
     "output_type": "stream",
     "text": [
      "Before calling g: 42\n",
      "After calling g: 42\n",
      "x in main: 46\n"
     ]
    }
   ],
   "source": [
    "########################## SEE THIS ######################\n",
    "def f():\n",
    "    x = 42\n",
    "    def g():\n",
    "        global x\n",
    "        x = x+43\n",
    "    print(\"Before calling g: \" + str(x))\n",
    "    g()\n",
    "    print(\"After calling g: \" + str(x))\n",
    "x = 3\n",
    "f()\n",
    "print(\"x in main: \" + str(x))"
   ]
  },
  {
   "cell_type": "code",
   "execution_count": 14,
   "metadata": {},
   "outputs": [
    {
     "ename": "SyntaxError",
     "evalue": "no binding for nonlocal 'x' found (<ipython-input-14-6d85202f2ecb>, line 4)",
     "output_type": "error",
     "traceback": [
      "\u001b[1;36m  File \u001b[1;32m\"<ipython-input-14-6d85202f2ecb>\"\u001b[1;36m, line \u001b[1;32m4\u001b[0m\n\u001b[1;33m    nonlocal x\u001b[0m\n\u001b[1;37m    ^\u001b[0m\n\u001b[1;31mSyntaxError\u001b[0m\u001b[1;31m:\u001b[0m no binding for nonlocal 'x' found\n"
     ]
    }
   ],
   "source": [
    "def f():\n",
    "    #x = 42\n",
    "    def g():\n",
    "        nonlocal x\n",
    "        x = 43\n",
    "    print(\"Before calling g: \" + str(x))\n",
    "    print(\"Calling g now:\")\n",
    "    g()\n",
    "    print(\"After calling g: \" + str(x))\n",
    "    \n",
    "x = 3\n",
    "f()\n",
    "print(\"x in main: \" + str(x))"
   ]
  },
  {
   "cell_type": "code",
   "execution_count": 15,
   "metadata": {},
   "outputs": [
    {
     "name": "stdout",
     "output_type": "stream",
     "text": [
      "Before calling g: 3\n",
      "Calling g now:\n",
      "After calling g: 43\n",
      "x in main: 43\n"
     ]
    }
   ],
   "source": [
    "\n",
    "def f():\n",
    "    #x = 42\n",
    "    def g():\n",
    "        global x\n",
    "        x = 43\n",
    "    print(\"Before calling g: \" + str(x))\n",
    "    print(\"Calling g now:\")\n",
    "    g()\n",
    "    print(\"After calling g: \" + str(x))\n",
    "    \n",
    "x = 3\n",
    "f()\n",
    "print(\"x in main: \" + str(x))"
   ]
  }
 ],
 "metadata": {
  "kernelspec": {
   "display_name": "Python 3",
   "language": "python",
   "name": "python3"
  },
  "language_info": {
   "codemirror_mode": {
    "name": "ipython",
    "version": 3
   },
   "file_extension": ".py",
   "mimetype": "text/x-python",
   "name": "python",
   "nbconvert_exporter": "python",
   "pygments_lexer": "ipython3",
   "version": "3.6.5"
  }
 },
 "nbformat": 4,
 "nbformat_minor": 2
}
