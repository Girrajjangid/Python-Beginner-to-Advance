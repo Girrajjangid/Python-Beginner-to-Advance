{
 "cells": [
  {
   "cell_type": "markdown",
   "metadata": {},
   "source": [
    "# File Handling"
   ]
  },
  {
   "cell_type": "markdown",
   "metadata": {},
   "source": [
    "Three types of mode\n",
    "1. read   (r)\n",
    "2. append (a)\n",
    "3. write  (w)"
   ]
  },
  {
   "cell_type": "markdown",
   "metadata": {},
   "source": [
    "# Read\n",
    "modes\n",
    "1. r  (read )\n",
    "2. r+  (read and write)\n",
    "3. rb (read binary file)\n",
    "4. rb+ (read and write file)\n",
    "\n",
    "file must be exists in a system\n",
    "pointer in left\n",
    "\n",
    "# Append\n",
    "modes\n",
    "1. a  (append )\n",
    "2. a+  (append and write)\n",
    "3. ab (append binary file)\n",
    "4. ab+ (append and write file)\n",
    " \n",
    "it create a file when it is not present in a system\n",
    "pointer is at end point\n",
    "# Write\n",
    "modes\n",
    "1. w  (write )\n",
    "2. w+  (read and write)\n",
    "3. wb (write binary file)\n",
    "4. wb+ (write and write file)\n",
    " \n",
    " overwrite the existing file if it present else it create a new file\n",
    " "
   ]
  },
  {
   "cell_type": "code",
   "execution_count": 2,
   "metadata": {},
   "outputs": [
    {
     "name": "stdout",
     "output_type": "stream",
     "text": [
      "['_CHUNK_SIZE', '__class__', '__del__', '__delattr__', '__dict__', '__dir__', '__doc__', '__enter__', '__eq__', '__exit__', '__format__', '__ge__', '__getattribute__', '__getstate__', '__gt__', '__hash__', '__init__', '__init_subclass__', '__iter__', '__le__', '__lt__', '__ne__', '__new__', '__next__', '__reduce__', '__reduce_ex__', '__repr__', '__setattr__', '__sizeof__', '__str__', '__subclasshook__', '_checkClosed', '_checkReadable', '_checkSeekable', '_checkWritable', '_finalizing', 'buffer', 'close', 'closed', 'detach', 'encoding', 'errors', 'fileno', 'flush', 'isatty', 'line_buffering', 'mode', 'name', 'newlines', 'read', 'readable', 'readline', 'readlines', 'seek', 'seekable', 'tell', 'truncate', 'writable', 'write', 'writelines']\n",
      "0\n",
      "True\n",
      "0\n",
      "01. Introduction to Python.ipynb\n",
      "False\n"
     ]
    }
   ],
   "source": [
    "# open is used to open a file\n",
    "fp = open('01. Introduction to Python.ipynb')\n",
    "\n",
    "print(dir(fp))\n",
    "print(fp.tell())\n",
    "print(fp.readable())\n",
    "print(fp.seek(0))\n",
    "print(fp.name)\n",
    "print(fp.writable())"
   ]
  },
  {
   "cell_type": "code",
   "execution_count": 8,
   "metadata": {},
   "outputs": [
    {
     "data": {
      "text/plain": [
       "'   \"source\": [\\n'"
      ]
     },
     "execution_count": 8,
     "metadata": {},
     "output_type": "execute_result"
    }
   ],
   "source": [
    "line = fp.readline() # read line by line\n",
    "line"
   ]
  },
  {
   "cell_type": "code",
   "execution_count": 10,
   "metadata": {},
   "outputs": [
    {
     "data": {
      "text/plain": [
       "0"
      ]
     },
     "execution_count": 10,
     "metadata": {},
     "output_type": "execute_result"
    }
   ],
   "source": [
    "fp.tell()\n",
    "\n",
    "fp.seek(0)\n",
    "\n",
    "fp.tell()"
   ]
  },
  {
   "cell_type": "code",
   "execution_count": 13,
   "metadata": {},
   "outputs": [
    {
     "name": "stdout",
     "output_type": "stream",
     "text": [
      "<_io.TextIOWrapper name='01. Introduction to Python.ipynb' mode='r' encoding='cp1252'>\n"
     ]
    }
   ],
   "source": [
    "print(fp) # reference to the data"
   ]
  },
  {
   "cell_type": "code",
   "execution_count": 14,
   "metadata": {},
   "outputs": [
    {
     "name": "stdout",
     "output_type": "stream",
     "text": [
      "hello world\n",
      "hello worldNew one\n"
     ]
    }
   ],
   "source": [
    "with open('New_text.txt','w+') as fp:\n",
    "    a = fp.write('hello world')\n",
    "    fp.seek(0)\n",
    "    data = fp.read()\n",
    "    print(data)\n",
    "    \n",
    "    a = fp.write('New one')\n",
    "    fp.seek(0)\n",
    "    data = fp.read()\n",
    "    print(data)\n",
    "    \n",
    "    fp.close()\n",
    "# w+ : (write mode) override the file    \n",
    "# r+ : (read write mode) dont override the file"
   ]
  },
  {
   "cell_type": "code",
   "execution_count": null,
   "metadata": {
    "collapsed": true
   },
   "outputs": [],
   "source": []
  },
  {
   "cell_type": "code",
   "execution_count": null,
   "metadata": {
    "collapsed": true
   },
   "outputs": [],
   "source": []
  }
 ],
 "metadata": {
  "kernelspec": {
   "display_name": "Python 3",
   "language": "python",
   "name": "python3"
  },
  "language_info": {
   "codemirror_mode": {
    "name": "ipython",
    "version": 3
   },
   "file_extension": ".py",
   "mimetype": "text/x-python",
   "name": "python",
   "nbconvert_exporter": "python",
   "pygments_lexer": "ipython3",
   "version": "3.6.5"
  }
 },
 "nbformat": 4,
 "nbformat_minor": 2
}
