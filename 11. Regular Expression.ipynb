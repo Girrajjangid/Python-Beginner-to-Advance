{
 "cells": [
  {
   "cell_type": "code",
   "execution_count": 1,
   "metadata": {},
   "outputs": [],
   "source": [
    "import re"
   ]
  },
  {
   "cell_type": "code",
   "execution_count": 3,
   "metadata": {},
   "outputs": [
    {
     "name": "stdout",
     "output_type": "stream",
     "text": [
      "<_sre.SRE_Match object; span=(2, 5), match='cat'>\n"
     ]
    }
   ],
   "source": [
    "x = re.search(\"cat\",\"A cat is an animal\")\n",
    "print(x)"
   ]
  },
  {
   "cell_type": "code",
   "execution_count": 9,
   "metadata": {},
   "outputs": [
    {
     "name": "stdout",
     "output_type": "stream",
     "text": [
      "I found one!\n"
     ]
    }
   ],
   "source": [
    "# The [] matches the particular characters from them \n",
    "line = \"He is a German called Mayer.\"\n",
    "if re.search(r\"M[ae][iy]er\",line): \n",
    "    print(\"I found one!\")"
   ]
  },
  {
   "cell_type": "code",
   "execution_count": 10,
   "metadata": {},
   "outputs": [
    {
     "name": "stdout",
     "output_type": "stream",
     "text": [
      "<_sre.SRE_Match object; span=(0, 5), match='Mayer'>\n",
      "None\n"
     ]
    }
   ],
   "source": [
    "# The caret '^' matches the start of the string\n",
    "s1 = \"Mayer is a very common Name\"\n",
    "s2 = \"He is called Mayer but he isn't German.\"\n",
    "print(re.search(r\"^M[ae][iy]er\", s1))\n",
    "\n",
    "print(re.search(r\"^M[ae][iy]er\", s2))\n"
   ]
  },
  {
   "cell_type": "code",
   "execution_count": 14,
   "metadata": {},
   "outputs": [
    {
     "name": "stdout",
     "output_type": "stream",
     "text": [
      "He is called Mayer but he isn't German.\n",
      "Mayer is a very common Name\n",
      "\n",
      "None\n"
     ]
    }
   ],
   "source": [
    "s = s2 + \"\\n\" + s1\n",
    "print(s)\n",
    "print()\n",
    "print(re.search(r\"^M[ae][iy]er\", s)) # '^' caret match only when string appear at starting position like here 'He' appears\n",
    " # so it return None"
   ]
  },
  {
   "cell_type": "code",
   "execution_count": 15,
   "metadata": {},
   "outputs": [
    {
     "name": "stdout",
     "output_type": "stream",
     "text": [
      "<_sre.SRE_Match object; span=(40, 45), match='Mayer'>\n",
      "<_sre.SRE_Match object; span=(40, 45), match='Mayer'>\n",
      "None\n"
     ]
    }
   ],
   "source": [
    "# If we want to match starting as well as middle string then\n",
    "print(re.search(r\"^M[ae][iy]er\", s, re.MULTILINE)) # this allow us to match even string lie in middle of sentence\n",
    "\n",
    "print(re.search(r\"^M[ae][iy]er\", s, re.M))\n",
    "\n",
    "print(re.match(r\"^M[ae][iy]er\", s, re.M))\n"
   ]
  },
  {
   "cell_type": "code",
   "execution_count": 34,
   "metadata": {},
   "outputs": [
    {
     "name": "stdout",
     "output_type": "stream",
     "text": [
      "<_sre.SRE_Match object; span=(7, 14), match='Python.'>\n",
      "None\n",
      "None\n",
      "<_sre.SRE_Match object; span=(7, 14), match='Python.'>\n"
     ]
    }
   ],
   "source": [
    "# '$' doller sign matches the end of the string as well as before newline\n",
    "print(re.search(r\"Python\\.$\",\"I like Python.\"))\n",
    "\n",
    "print(re.search(r\"Python\\.$\",\"I like Python and Perl.\"))\n",
    "\n",
    "print(re.search(r\"Python\\.$\",\"I like Python.\\nSome prefer Java or Perl.\"))\n",
    "\n",
    "print(re.search(r\"Python\\.$\",\"I like Python.\\nSome prefer Java or Perl.\", re.M))\n"
   ]
  },
  {
   "cell_type": "code",
   "execution_count": null,
   "metadata": {},
   "outputs": [],
   "source": []
  }
 ],
 "metadata": {
  "kernelspec": {
   "display_name": "Python 3",
   "language": "python",
   "name": "python3"
  },
  "language_info": {
   "codemirror_mode": {
    "name": "ipython",
    "version": 3
   },
   "file_extension": ".py",
   "mimetype": "text/x-python",
   "name": "python",
   "nbconvert_exporter": "python",
   "pygments_lexer": "ipython3",
   "version": "3.6.5"
  }
 },
 "nbformat": 4,
 "nbformat_minor": 2
}
