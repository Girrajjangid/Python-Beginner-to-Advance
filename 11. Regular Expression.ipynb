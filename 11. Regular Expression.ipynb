{
 "cells": [
  {
   "cell_type": "markdown",
   "metadata": {},
   "source": [
    "# Regular Expression\n",
    "1. re.search()\n",
    "2. re.match()\n",
    "3. re.split()\n",
    "4. re.group()\n",
    "5. re.groups()\n",
    "6. re.find()\n",
    "7. re.findall()\n",
    "8. re.finditer()\n",
    "9. re.sub()"
   ]
  },
  {
   "cell_type": "code",
   "execution_count": 1,
   "metadata": {},
   "outputs": [],
   "source": [
    "import re"
   ]
  },
  {
   "cell_type": "code",
   "execution_count": 2,
   "metadata": {},
   "outputs": [
    {
     "name": "stdout",
     "output_type": "stream",
     "text": [
      "<_sre.SRE_Match object; span=(2, 5), match='cat'>\n"
     ]
    }
   ],
   "source": [
    "x = re.search(\"cat\",\"A cat is an animal\")\n",
    "print(x)"
   ]
  },
  {
   "cell_type": "code",
   "execution_count": 3,
   "metadata": {},
   "outputs": [
    {
     "name": "stdout",
     "output_type": "stream",
     "text": [
      "I found one!\n"
     ]
    }
   ],
   "source": [
    "# The [] matches the particular characters from them \n",
    "line = \"He is a German called Mayer.\"\n",
    "if re.search(r\"M[ae][iy]er\",line): \n",
    "    print(\"I found one!\")"
   ]
  },
  {
   "cell_type": "code",
   "execution_count": 4,
   "metadata": {},
   "outputs": [
    {
     "name": "stdout",
     "output_type": "stream",
     "text": [
      "<_sre.SRE_Match object; span=(0, 5), match='Mayer'>\n",
      "None\n"
     ]
    }
   ],
   "source": [
    "# The caret '^' matches the start of the string\n",
    "s1 = \"Mayer is a very common Name\"\n",
    "s2 = \"He is called Mayer but he isn't German.\"\n",
    "print(re.search(r\"^M[ae][iy]er\", s1))\n",
    "\n",
    "print(re.search(r\"^M[ae][iy]er\", s2))\n"
   ]
  },
  {
   "cell_type": "code",
   "execution_count": 5,
   "metadata": {},
   "outputs": [
    {
     "name": "stdout",
     "output_type": "stream",
     "text": [
      "He is called Mayer but he isn't German.\n",
      "Mayer is a very common Name\n",
      "\n",
      "None\n"
     ]
    }
   ],
   "source": [
    "s = s2 + \"\\n\" + s1\n",
    "print(s)\n",
    "print()\n",
    "print(re.search(r\"^M[ae][iy]er\", s)) # '^' caret match only when string appear at starting position like here 'He' appears\n",
    " # so it return None"
   ]
  },
  {
   "cell_type": "code",
   "execution_count": 6,
   "metadata": {},
   "outputs": [
    {
     "name": "stdout",
     "output_type": "stream",
     "text": [
      "<_sre.SRE_Match object; span=(40, 45), match='Mayer'>\n",
      "<_sre.SRE_Match object; span=(40, 45), match='Mayer'>\n",
      "None\n"
     ]
    }
   ],
   "source": [
    "# If we want to match starting as well as middle string then\n",
    "print(re.search(r\"^M[ae][iy]er\", s, re.MULTILINE)) # this allow us to match even string lie in middle of sentence\n",
    "\n",
    "print(re.search(r\"^M[ae][iy]er\", s, re.M))\n",
    "\n",
    "print(re.match(r\"^M[ae][iy]er\", s, re.M))\n"
   ]
  },
  {
   "cell_type": "code",
   "execution_count": 7,
   "metadata": {},
   "outputs": [
    {
     "name": "stdout",
     "output_type": "stream",
     "text": [
      "<_sre.SRE_Match object; span=(7, 14), match='Python.'>\n",
      "None\n",
      "None\n",
      "<_sre.SRE_Match object; span=(7, 14), match='Python.'>\n"
     ]
    }
   ],
   "source": [
    "# '$' doller sign matches the end of the string as well as before newline\n",
    "print(re.search(r\"Python\\.$\",\"I like Python.\"))\n",
    "\n",
    "print(re.search(r\"Python\\.$\",\"I like Python and Perl.\"))\n",
    "\n",
    "print(re.search(r\"Python\\.$\",\"I like Python.\\nSome prefer Java or Perl.\"))\n",
    "\n",
    "print(re.search(r\"Python\\.$\",\"I like Python.\\nSome prefer Java or Perl.\", re.M))\n"
   ]
  },
  {
   "cell_type": "markdown",
   "metadata": {},
   "source": [
    "You might have realized that it can be quite cumbersome to construe certain character classes. A good example is the character class, which describes a valid word character. These are all lower case and uppercase characters plus all the digits and the underscore, corresponding to the following regular expression: r\"[a-zA-Z0-9_]\"\n",
    "\n",
    "The special sequences consist of \"\\\\\" and a character from the following list:\n",
    "\n",
    "\\d\tMatches any decimal digit; equivalent to the set [0-9].\n",
    "\n",
    "\\D\tThe complement of \\d. It matches any non-digit character; equivalent to the set [^0-9].\n",
    "\n",
    "\\s\tMatches any whitespace character; equivalent to [ \\t\\n\\r\\f\\v].\n",
    "\n",
    "\\S\tThe complement of \\s. It matches any non-whitespace character; equiv. to [^ \\t\\n\\r\\f\\v].\n",
    "\n",
    "\\w\tMatches any alphanumeric character; equivalent to [a-zA-Z0-9_]. With LOCALE, it will match the set [a-zA-Z0-9_] plus characters defined as letters for the current locale.\n",
    "\n",
    "\\W\tMatches the complement of \\w.\n",
    "\n",
    "\\b\tMatches the empty string, but only at the start or end of a word.\n",
    "\n",
    "\\B\tMatches the empty string, but not at the start or end of a word.\n",
    "\n",
    "\\\\\tMatches a literal backslash."
   ]
  },
  {
   "cell_type": "code",
   "execution_count": 8,
   "metadata": {},
   "outputs": [
    {
     "name": "stdout",
     "output_type": "stream",
     "text": [
      "<_sre.SRE_Match object; span=(0, 5), match='Mayer'>\n",
      "<_sre.SRE_Match object; span=(13, 18), match='Meyer'>\n",
      "<_sre.SRE_Match object; span=(0, 5), match='Mayer'>\n",
      "None\n"
     ]
    }
   ],
   "source": [
    "# Matching beginning and ending\n",
    "\n",
    "# difference between search and match\n",
    "import re\n",
    "s1 = \"Mayer is a very common Name\"\n",
    "s2 = \"He is called Meyer but he isn't German.\"\n",
    "\n",
    "\n",
    "print(re.search(r\"M[ae][iy]er\", s1))\n",
    "\n",
    "print(re.search(r\"M[ae][iy]er\", s2))\n",
    "\n",
    "print(re.match(r\"M[ae][iy]er\", s1))\n",
    "\n",
    "print(re.match(r\"M[ae][iy]er\", s2))\n"
   ]
  },
  {
   "cell_type": "code",
   "execution_count": 9,
   "metadata": {},
   "outputs": [
    {
     "name": "stdout",
     "output_type": "stream",
     "text": [
      "group:  232454\n",
      "Span:  (17, 23)\n",
      "Start:  17\n",
      "End:  23\n"
     ]
    },
    {
     "data": {
      "text/plain": [
       "(17, 23)"
      ]
     },
     "execution_count": 9,
     "metadata": {},
     "output_type": "execute_result"
    }
   ],
   "source": [
    "#  finding plus quantifier\n",
    "\n",
    "\n",
    "mo = re.search(\"[0-9]+\", \"Customer number: 232454, Date: February 12, 2011\")\n",
    "\n",
    "print(\"group: \",mo.group())\n",
    "\n",
    "print(\"Span: \",mo.span())\n",
    "\n",
    "print(\"Start: \",mo.start())\n",
    "\n",
    "print(\"End: \",mo.end())\n",
    "\n",
    "mo.span()[0],mo.span()[1]\n"
   ]
  },
  {
   "cell_type": "code",
   "execution_count": 10,
   "metadata": {},
   "outputs": [
    {
     "name": "stdout",
     "output_type": "stream",
     "text": [
      "['fat', 'cat', 'eat', 'oat', 'rat', 'eat']\n"
     ]
    }
   ],
   "source": [
    "t=\"A fat cat doesn't eat oat but a rat eats bats.\"\n",
    "mo = re.findall(\"[force]at\", t) # find all words starting with ['f','o','r','c','e'] + at like fat, oat, rat, cat  eat\n",
    "print(mo)\n"
   ]
  },
  {
   "cell_type": "code",
   "execution_count": 11,
   "metadata": {},
   "outputs": [
    {
     "name": "stdout",
     "output_type": "stream",
     "text": [
      "fat\n"
     ]
    }
   ],
   "source": [
    "mo = re.search(\"[force]at\",t)\n",
    "if mo : print(mo.group())"
   ]
  },
  {
   "cell_type": "code",
   "execution_count": 12,
   "metadata": {},
   "outputs": [
    {
     "name": "stdout",
     "output_type": "stream",
     "text": [
      "no I said no I will no.\n"
     ]
    }
   ],
   "source": [
    "# Search and replace\n",
    "\n",
    "st = \"yes I said yes I will Yes.\"\n",
    "res = re.sub(\"[yY]es\",\"no\", st)\n",
    "\n",
    "print(res)\n"
   ]
  },
  {
   "cell_type": "code",
   "execution_count": 13,
   "metadata": {},
   "outputs": [],
   "source": [
    "import re"
   ]
  },
  {
   "cell_type": "code",
   "execution_count": 14,
   "metadata": {},
   "outputs": [
    {
     "name": "stdout",
     "output_type": "stream",
     "text": [
      "girrajjangid@hackerrank.com\n",
      "girrajjangid\n",
      "hackerrank\n",
      "com\n",
      "('girrajjangid', 'hackerrank', 'com')\n",
      "['asd', '@', 'asd,asd']\n",
      "\n"
     ]
    }
   ],
   "source": [
    "# re.group()  return 1 or more group of submatch\n",
    "email = 'girrajjangid@hackerrank.com'\n",
    "m = re.match(r'(\\w+)@(\\w+)\\.(\\w+)' , email)\n",
    "print(m.group(0))\n",
    "print(m.group(1))\n",
    "print(m.group(2))\n",
    "print(m.group(3))\n",
    "print(m.group( 1,2,3))\n",
    "print(re.split('(@+)' , 'asd@asd,asd'))\n",
    "print()"
   ]
  },
  {
   "cell_type": "code",
   "execution_count": 15,
   "metadata": {},
   "outputs": [
    {
     "name": "stdout",
     "output_type": "stream",
     "text": [
      "('girrajjangid', 'hackerrank', 'com')\n",
      "('girrajjangid', 'hackerrank', 'com')\n"
     ]
    }
   ],
   "source": [
    "# re.groups()\n",
    "print(m.groups())\n",
    "print(m.group(1,2,3))"
   ]
  },
  {
   "cell_type": "code",
   "execution_count": 16,
   "metadata": {},
   "outputs": [
    {
     "name": "stdout",
     "output_type": "stream",
     "text": [
      "{'user': 'myname', 'website': 'hackerrank', 'extension': 'com'}\n"
     ]
    }
   ],
   "source": [
    "# re.groupdict()  return group with dict name\n",
    "n = re.match('(?P<user>\\w+)@(?P<website>\\w+)\\.(?P<extension>\\w+)','myname@hackerrank.com')\n",
    "print(n.groupdict())\n"
   ]
  },
  {
   "cell_type": "code",
   "execution_count": 17,
   "metadata": {},
   "outputs": [
    {
     "name": "stdout",
     "output_type": "stream",
     "text": [
      "['asd', 'asd', 'asd', 'asd', 'asd', 'zxc', '']\n",
      "['100', '000', '000', '000']\n"
     ]
    }
   ],
   "source": [
    "# re.split()\n",
    "print(re.split('-' , 'asd-asd-asd-asd-asd-zxc-'))\n",
    "print(re.split('[- , .]' , '100,000,000.000'))"
   ]
  },
  {
   "cell_type": "code",
   "execution_count": 18,
   "metadata": {},
   "outputs": [
    {
     "name": "stdout",
     "output_type": "stream",
     "text": [
      "0\n",
      "False\n"
     ]
    }
   ],
   "source": [
    "a = input()\n",
    "print(bool(re.match(r'^[-+]?[0-9]*\\.[0-9]+$' , a)))"
   ]
  },
  {
   "cell_type": "markdown",
   "metadata": {},
   "source": [
    "\n",
    "^ says start of the expression.\n",
    "\n",
    "[-+]? says it can start with either - or +.\n",
    "\n",
    "[0-9] says any number from 0-9 can be followed after it.\n",
    "\n",
    "* says that whichever thing it follows[in this case it is[0-9]], it can repeat arbitrarily times, even 0 times.\n",
    "\n",
    "'.' is placeholder for any character.(for the answer it should be '\\.' instead of '.' ; '\\' is escape character. Because of this you can literally mean a dot in expression).\n",
    "\n",
    "again[0-9] as explained earlier.\n",
    "\n",
    "'+' says that whichever thing it follows[in this case it is[0-9]], it can repeat arbitrarily times, but atleast one time.\n",
    "\n",
    "$ follows whichever thing it should come in the end."
   ]
  },
  {
   "cell_type": "code",
   "execution_count": 19,
   "metadata": {},
   "outputs": [
    {
     "name": "stdout",
     "output_type": "stream",
     "text": [
      "0\n",
      "-1\n"
     ]
    }
   ],
   "source": [
    "m = re.search(r'([a-zA-Z0-9])\\1+', input().strip())\n",
    "print(m.group(1) if m else -1)\n",
    "# 12312331255\n",
    "# return 5 bcz 5 repeat first"
   ]
  },
  {
   "cell_type": "code",
   "execution_count": 20,
   "metadata": {},
   "outputs": [
    {
     "name": "stdout",
     "output_type": "stream",
     "text": [
      "[':', '/', '/', '.', '.', '/']\n",
      "['h', 't', 't', 'p', 'w', 'w', 'w', 'h', 'a', 'c', 'k', 'e', 'r', 'r', 'a', 'n', 'k', 'c', 'o', 'm']\n"
     ]
    }
   ],
   "source": [
    "# re.findall()\n",
    "print(re.findall(r'[:./]' , 'http://www.hackerrank.com/')) # it return all (words)\n",
    "print(re.findall(r'\\w' , 'http://www.hackerrank.com/')) # it return all (words)\n"
   ]
  },
  {
   "cell_type": "code",
   "execution_count": 21,
   "metadata": {},
   "outputs": [
    {
     "name": "stdout",
     "output_type": "stream",
     "text": [
      "<callable_iterator object at 0x00000181ACAAC748>\n"
     ]
    },
    {
     "data": {
      "text/plain": [
       "['@', '@']"
      ]
     },
     "execution_count": 21,
     "metadata": {},
     "output_type": "execute_result"
    }
   ],
   "source": [
    "# re.finditer()   return iterator\n",
    "a = (re.finditer(r'[@]' , 'www.girraj@gmail.com@'))\n",
    "print(a)\n",
    "list(map(lambda x : x.group() , a))\n"
   ]
  },
  {
   "cell_type": "code",
   "execution_count": 22,
   "metadata": {},
   "outputs": [
    {
     "name": "stdout",
     "output_type": "stream",
     "text": [
      "['ee', 'Ioo', 'Oeo', 'eeeee']\n",
      "ee\n",
      "Ioo\n",
      "Oeo\n",
      "eeeee\n"
     ]
    }
   ],
   "source": [
    "v = 'aeiou'\n",
    "c = 'qwrtypsdfghjklzxcvbnm'\n",
    "m = re.findall( r'(?<=[%s])([%s]{2,})[%s]'%(c,v,c) ,\"rabcdeefgyYhFjkIoomnpOeorteeeeet\"  ,flags = re.I )\n",
    "print(m)\n",
    "print('\\n'.join(m or ['-1']))"
   ]
  },
  {
   "cell_type": "code",
   "execution_count": 23,
   "metadata": {},
   "outputs": [
    {
     "name": "stdout",
     "output_type": "stream",
     "text": [
      "3\n",
      "11\n"
     ]
    }
   ],
   "source": [
    "# re.start()  return indices of matching\n",
    "# re.end()\n",
    "m = (re.search(r'\\d+' ,  'asd98762222'))\n",
    "print(m.start())\n",
    "print(m.end())"
   ]
  },
  {
   "cell_type": "code",
   "execution_count": 24,
   "metadata": {},
   "outputs": [
    {
     "name": "stdout",
     "output_type": "stream",
     "text": [
      "['aa', 'aa']\n"
     ]
    }
   ],
   "source": [
    "z = 'aa'\n",
    "m = re.findall(r'(aa)' ,  'aaadaa')\n",
    "print(m)"
   ]
  },
  {
   "cell_type": "code",
   "execution_count": 25,
   "metadata": {},
   "outputs": [
    {
     "name": "stdout",
     "output_type": "stream",
     "text": [
      "(0, 1)\n",
      "(1, 2)\n",
      "(4, 5)\n"
     ]
    }
   ],
   "source": [
    "s = \"aaadaa\"\n",
    "k = \"aa\"\n",
    "if k in s:\n",
    "    print(*[(i.start(), (i.start()+len(k)-1)) for i in re.finditer(r'(?={})'.format(k), s)], sep='\\n')\n",
    "else:\n",
    "    print('(-1, -1)')"
   ]
  },
  {
   "cell_type": "code",
   "execution_count": 26,
   "metadata": {},
   "outputs": [
    {
     "name": "stdout",
     "output_type": "stream",
     "text": [
      "(0, 1)\n",
      "(1, 2)\n",
      "(4, 5)\n"
     ]
    }
   ],
   "source": [
    "a = re.finditer(r'(?=aa)' , 'aaadaa')\n",
    "for i in a:\n",
    "    print((i.start() , (i.start()+len(k)-1)))\n"
   ]
  },
  {
   "cell_type": "markdown",
   "metadata": {},
   "source": [
    "# Basic patterns\n",
    "1. a, X, 9, < -- ordinary characters just match themselves exactly. The meta-characters which do not match themselves because they have special meanings are: . ^ $ * + ? { [ ] \\ | ( ) (details below)\n",
    "\n",
    "2. .(dot)(a period) -- matches any single character except newline '\\n'\n",
    "3. \\w -- (lowercase w) matches a \"word\" character: a letter or digit or underbar [a-zA-Z0-9_]. Note that although \"word\" is the mnemonic for this, it only matches a single word char, not a whole word. \\W (upper case W) matches any non-word character.\n",
    "4. \\b -- boundary between word and non-word\n",
    "5. \\s -- (lowercase s) matches a single whitespace character -- space, newline, return, tab, form [ \\n\\r\\t\\f]. \\S (upper case S) matches any non-whitespace character.\n",
    " 6. \\t, \\n, \\r -- tab, newline, return\n",
    "7. \\d -- decimal digit [0-9] (some older regex utilities do not support but \\d, but they all support \\w and \\s)\n",
    "8. ^ = start, $ = end -- match the start or end of the string\n",
    "9. \\ -- inhibit the \"specialness\" of a character. So, for example, use \\. to match a period or \\\\ to match a slash. If you are unsure if a character has special meaning, such as '@', you can put a slash in front of it, \\@, to make sure it is treated just as a character.\n",
    "\n",
    "also go through\n",
    "\n",
    "https://www.guru99.com/python-regular-expressions-complete-tutorial.html"
   ]
  },
  {
   "cell_type": "code",
   "execution_count": 27,
   "metadata": {},
   "outputs": [
    {
     "name": "stdout",
     "output_type": "stream",
     "text": [
      "('ello',)\n"
     ]
    }
   ],
   "source": [
    "matchObj = re.search(r\"([a-z]+)\",\"Hello, world\")  # match any digit between a to z\n",
    "thousand = \"M{0,3}\"\n",
    "hundred = '(CM|CD|D?C{0,3})'\n",
    "ten = \"(XC|XL|L?X{0,3})\"\n",
    "one = \"(IX|IV|V?I{0,3}) $\"\n",
    "regex_pattern = r'%s%s%s%s' % (thousand , hundred, ten, one)\n",
    "print (matchObj.groups())"
   ]
  },
  {
   "cell_type": "code",
   "execution_count": 28,
   "metadata": {},
   "outputs": [
    {
     "name": "stdout",
     "output_type": "stream",
     "text": [
      "0\n",
      "0\n",
      "NO\n"
     ]
    }
   ],
   "source": [
    "# Check mobile number\n",
    "\n",
    "n = int(input())\n",
    "for i in range(n):\n",
    "    no = input()\n",
    "    if (len(no)!= 10):\n",
    "        print(\"NO\")\n",
    "    elif bool(re.search(r\"^(9|7|8)\" , no)):\n",
    "        print(\"YES\")\n",
    "    else:\n",
    "        print(\"NO\")\n",
    "\n",
    "if re.match(r'[789]\\d{9}$',input()):   \n",
    "    print ('YES')  \n",
    "else:  \n",
    "    print ('NO')"
   ]
  },
  {
   "cell_type": "markdown",
   "metadata": {},
   "source": [
    "## Email Utils"
   ]
  },
  {
   "cell_type": "code",
   "execution_count": 31,
   "metadata": {},
   "outputs": [
    {
     "name": "stdout",
     "output_type": "stream",
     "text": [
      "('GIRRAJ', 'girraj@gmail.com')\n",
      "GIRRAJ <girraj@gmail.com>\n"
     ]
    },
    {
     "data": {
      "text/plain": [
       "<_sre.SRE_Match object; span=(0, 27), match='girrajjangid@hackerrank.com'>"
      ]
     },
     "execution_count": 31,
     "metadata": {},
     "output_type": "execute_result"
    }
   ],
   "source": [
    "import email.utils as e\n",
    "print(e.parseaddr('GIRRAJ <girraj@gmail.com>'))\n",
    "print(e.formataddr(('GIRRAJ','girraj@gmail.com')))\n",
    "re.match(r'(\\w+)@(\\w+)\\.(\\w+)' , email)"
   ]
  },
  {
   "cell_type": "code",
   "execution_count": 35,
   "metadata": {},
   "outputs": [
    {
     "name": "stdout",
     "output_type": "stream",
     "text": [
      "\n",
      "<head>\n",
      "<title>HTML</title>\n",
      "</head>\n",
      "<object type=\"application/x-flash\" \n",
      "  data=\"your-file.swf\" \n",
      "  width=\"0\" height=\"0\">\n",
      "  \n",
      "  <param name=\"quality\" value=\"high\"/>\n",
      "</object>\n",
      "\n"
     ]
    }
   ],
   "source": [
    "# We want to remove comment from this\n",
    "html = \"\"\"\n",
    "<head>\n",
    "<title>HTML</title>\n",
    "</head>\n",
    "<object type=\"application/x-flash\" \n",
    "  data=\"your-file.swf\" \n",
    "  width=\"0\" height=\"0\">\n",
    "  <!-- <param name=\"movie\"  value=\"your-file.swf\" /> -->\n",
    "  <param name=\"quality\" value=\"high\"/>\n",
    "</object>\n",
    "\"\"\"\n",
    "print(re.sub(\"(<!--.*?-->)\" , \"\" ,html)) # remove comment it return new subString\n"
   ]
  },
  {
   "cell_type": "code",
   "execution_count": 36,
   "metadata": {},
   "outputs": [
    {
     "name": "stdout",
     "output_type": "stream",
     "text": [
      "\n",
      "a = 1;\n",
      "b = input();\n",
      "\n",
      "if a + b > 0 and a - b < 0:\n",
      "    start()\n",
      "elif a*b > 10 or a/b < 1:\n",
      "    stop()\n",
      "print set(list(a)) | set(list(b)) \n",
      "#Note do not change &&& or ||| or & or |\n",
      "#Only change those '&&' which have space on both sides.\n",
      "#Only change those '|| which have space on both sides.\n"
     ]
    }
   ],
   "source": [
    "text = \"\"\"\n",
    "a = 1;\n",
    "b = input();\n",
    "\n",
    "if a + b > 0 && a - b < 0:\n",
    "    start()\n",
    "elif a*b > 10 || a/b < 1:\n",
    "    stop()\n",
    "print set(list(a)) | set(list(b)) \n",
    "#Note do not change &&& or ||| or & or |\n",
    "#Only change those '&&' which have space on both sides.\n",
    "#Only change those '|| which have space on both sides.\"\"\"\n",
    "\n",
    "print (re.sub(r'(?<= )(&&|\\|\\|)(?= )', lambda x: 'and' if x.group() == '&&' else 'or', text))"
   ]
  }
 ],
 "metadata": {
  "kernelspec": {
   "display_name": "Python 3",
   "language": "python",
   "name": "python3"
  },
  "language_info": {
   "codemirror_mode": {
    "name": "ipython",
    "version": 3
   },
   "file_extension": ".py",
   "mimetype": "text/x-python",
   "name": "python",
   "nbconvert_exporter": "python",
   "pygments_lexer": "ipython3",
   "version": "3.6.5"
  }
 },
 "nbformat": 4,
 "nbformat_minor": 2
}
