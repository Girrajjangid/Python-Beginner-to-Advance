{
 "cells": [
  {
   "cell_type": "code",
   "execution_count": 2,
   "metadata": {
    "collapsed": true
   },
   "outputs": [],
   "source": [
    "class Robot :\n",
    "    \"\"\" Robot Class used Print Details and Working of Objects\"\"\"\n",
    "    "
   ]
  },
  {
   "cell_type": "code",
   "execution_count": 6,
   "metadata": {},
   "outputs": [
    {
     "name": "stdout",
     "output_type": "stream",
     "text": [
      "<class 'type'>\n"
     ]
    }
   ],
   "source": [
    "print(type(Robot))\n"
   ]
  },
  {
   "cell_type": "code",
   "execution_count": 5,
   "metadata": {},
   "outputs": [
    {
     "name": "stdout",
     "output_type": "stream",
     "text": [
      "<class '__main__.Robot'>\n"
     ]
    }
   ],
   "source": [
    "r1 = Robot()\n",
    "print(type(r1))"
   ]
  },
  {
   "cell_type": "code",
   "execution_count": 9,
   "metadata": {},
   "outputs": [
    {
     "data": {
      "text/plain": [
       "' Robot Class used Print Details and Working of Objects'"
      ]
     },
     "execution_count": 9,
     "metadata": {},
     "output_type": "execute_result"
    }
   ],
   "source": [
    "r1.__doc__"
   ]
  },
  {
   "cell_type": "code",
   "execution_count": 10,
   "metadata": {
    "collapsed": true
   },
   "outputs": [],
   "source": [
    "class Robot:\n",
    "    \"\"\"Doc string your robot class\"\"\"\n",
    "    def show(self):\n",
    "        print(\"Hi I am a Robot\")"
   ]
  },
  {
   "cell_type": "code",
   "execution_count": 11,
   "metadata": {
    "collapsed": true
   },
   "outputs": [],
   "source": [
    "a1 = Robot()\n",
    "a2 = Robot()"
   ]
  },
  {
   "cell_type": "code",
   "execution_count": 12,
   "metadata": {},
   "outputs": [
    {
     "name": "stdout",
     "output_type": "stream",
     "text": [
      "Hi I am a Robot\n",
      "Hi I am a Robot\n"
     ]
    }
   ],
   "source": [
    "a1.show()\n",
    "a2.show()"
   ]
  },
  {
   "cell_type": "code",
   "execution_count": 13,
   "metadata": {
    "collapsed": true
   },
   "outputs": [],
   "source": [
    "a1.name = 'robot1'"
   ]
  },
  {
   "cell_type": "code",
   "execution_count": 14,
   "metadata": {},
   "outputs": [
    {
     "data": {
      "text/plain": [
       "'robot1'"
      ]
     },
     "execution_count": 14,
     "metadata": {},
     "output_type": "execute_result"
    }
   ],
   "source": [
    "a1.name"
   ]
  },
  {
   "cell_type": "code",
   "execution_count": 16,
   "metadata": {},
   "outputs": [],
   "source": [
    "class robot:\n",
    "    def __init__(self,x,y,z,p):\n",
    "        self.name = x\n",
    "        self.height = y\n",
    "        self.weight = z\n",
    "        self.color = p\n",
    "    def show(self):\n",
    "        print(\"Name : \",self.name)\n",
    "        print(\"Height : \",self.height)\n",
    "        print(\"Weight : \",self.weight)\n",
    "        print(\"Color : \",self.color)\n",
    "    "
   ]
  },
  {
   "cell_type": "code",
   "execution_count": 18,
   "metadata": {},
   "outputs": [],
   "source": [
    "robot1 = robot('robot1',5.5,60,'dark blue')\n",
    "robot2 = robot('robot2',6.5,90,'fair')\n",
    "robot3 = robot('robot3',5.10,70,'red')"
   ]
  },
  {
   "cell_type": "code",
   "execution_count": 19,
   "metadata": {},
   "outputs": [
    {
     "name": "stdout",
     "output_type": "stream",
     "text": [
      "Name :  robot1\n",
      "Height :  5.5\n",
      "Weight :  60\n",
      "Color :  dark blue\n"
     ]
    }
   ],
   "source": [
    "robot1.show()"
   ]
  },
  {
   "cell_type": "code",
   "execution_count": 20,
   "metadata": {},
   "outputs": [
    {
     "name": "stdout",
     "output_type": "stream",
     "text": [
      "Name :  robot2\n",
      "Height :  6.5\n",
      "Weight :  90\n",
      "Color :  fair\n"
     ]
    }
   ],
   "source": [
    "robot2.show()"
   ]
  },
  {
   "cell_type": "code",
   "execution_count": 21,
   "metadata": {},
   "outputs": [
    {
     "name": "stdout",
     "output_type": "stream",
     "text": [
      "Name :  robot3\n",
      "Height :  5.1\n",
      "Weight :  70\n",
      "Color :  red\n"
     ]
    }
   ],
   "source": [
    "robot3.show()"
   ]
  },
  {
   "cell_type": "code",
   "execution_count": 22,
   "metadata": {
    "collapsed": true
   },
   "outputs": [],
   "source": [
    "class robot:\n",
    "    def create(self,x,y,z,p):\n",
    "        self.name = x\n",
    "        self.height = y\n",
    "        self.weight = z\n",
    "        self.color = p\n",
    "    def show(self):\n",
    "        print(\"Name : \",self.name)\n",
    "        print(\"Height : \",self.height)\n",
    "        print(\"Weight : \",self.weight)\n",
    "        print(\"Color : \",self.color)\n",
    "    "
   ]
  },
  {
   "cell_type": "code",
   "execution_count": 23,
   "metadata": {
    "collapsed": true
   },
   "outputs": [],
   "source": [
    "r1 = robot()\n",
    "r2 = robot()"
   ]
  },
  {
   "cell_type": "code",
   "execution_count": 25,
   "metadata": {},
   "outputs": [],
   "source": [
    "r1.create('robot1',6.5,80,'red')\n",
    "r2.create('robot2',7.5,90,'blue')"
   ]
  },
  {
   "cell_type": "code",
   "execution_count": 26,
   "metadata": {
    "collapsed": true
   },
   "outputs": [],
   "source": [
    "from time import sleep\n",
    "class Grras(object):\n",
    "    \"\"\"Welcome to Grras Solution Private Limited.\"\"\"\n",
    "    msg = \"Default Brodcasting Message\"\n",
    "    def __init__(self,name,course):\n",
    "        self.name = name\n",
    "        self.course = course\n",
    "    def show(self):\n",
    "        print(\"Name = \",self.name)\n",
    "        print(\"Course = \",self.course)\n",
    "    def print_msg(self):\n",
    "        print(\"Dashboard Message : \",Grras.msg)\n",
    "    def __del__(self):\n",
    "        print(\"Deleting Object \")\n",
    "        sleep(2)\n",
    "        print(\"Deleting Name \",self.name)\n",
    "        del self.name\n",
    "        sleep(1)\n",
    "        print(\"Deleting Course \",self.course)\n",
    "        del self.course\n",
    "        sleep(2)\n",
    "        print(\"Destroying The Object Complete\")\n",
    "        sleep(2)\n",
    "        del self\n",
    "        \n",
    "    "
   ]
  },
  {
   "cell_type": "code",
   "execution_count": 27,
   "metadata": {
    "collapsed": true
   },
   "outputs": [],
   "source": [
    "sachin = Grras('sachin yadav','python')\n",
    "rajat = Grras('rajat goyal','linux')\n"
   ]
  },
  {
   "cell_type": "code",
   "execution_count": 28,
   "metadata": {},
   "outputs": [
    {
     "name": "stdout",
     "output_type": "stream",
     "text": [
      "Name =  sachin yadav\n",
      "Course =  python\n"
     ]
    }
   ],
   "source": [
    "sachin.show()"
   ]
  },
  {
   "cell_type": "code",
   "execution_count": 29,
   "metadata": {},
   "outputs": [
    {
     "name": "stdout",
     "output_type": "stream",
     "text": [
      "Name =  rajat goyal\n",
      "Course =  linux\n"
     ]
    }
   ],
   "source": [
    "rajat.show()"
   ]
  },
  {
   "cell_type": "code",
   "execution_count": 30,
   "metadata": {},
   "outputs": [
    {
     "name": "stdout",
     "output_type": "stream",
     "text": [
      "Dashboard Message :  Default Brodcasting Message\n"
     ]
    }
   ],
   "source": [
    "sachin.print_msg()"
   ]
  },
  {
   "cell_type": "code",
   "execution_count": 31,
   "metadata": {},
   "outputs": [
    {
     "name": "stdout",
     "output_type": "stream",
     "text": [
      "Dashboard Message :  Default Brodcasting Message\n"
     ]
    }
   ],
   "source": [
    "rajat.print_msg()"
   ]
  },
  {
   "cell_type": "code",
   "execution_count": 32,
   "metadata": {
    "collapsed": true
   },
   "outputs": [],
   "source": [
    "Grras.msg = \"Saturday is not off!! make sure you guys take classes on that day\""
   ]
  },
  {
   "cell_type": "code",
   "execution_count": 33,
   "metadata": {},
   "outputs": [
    {
     "name": "stdout",
     "output_type": "stream",
     "text": [
      "Dashboard Message :  Saturday is not off!! make sure you guys take classes on that day\n"
     ]
    }
   ],
   "source": [
    "sachin.print_msg()"
   ]
  },
  {
   "cell_type": "code",
   "execution_count": 34,
   "metadata": {},
   "outputs": [
    {
     "name": "stdout",
     "output_type": "stream",
     "text": [
      "Dashboard Message :  Saturday is not off!! make sure you guys take classes on that day\n"
     ]
    }
   ],
   "source": [
    "rajat.print_msg()"
   ]
  },
  {
   "cell_type": "code",
   "execution_count": 35,
   "metadata": {},
   "outputs": [
    {
     "name": "stdout",
     "output_type": "stream",
     "text": [
      "Deleting Object \n",
      "Deleting Name  sachin yadav\n",
      "Deleting Course  python\n",
      "Destroying The Object Complete\n"
     ]
    }
   ],
   "source": [
    "del sachin"
   ]
  },
  {
   "cell_type": "code",
   "execution_count": 36,
   "metadata": {},
   "outputs": [
    {
     "name": "stdout",
     "output_type": "stream",
     "text": [
      "Deleting Object \n",
      "Deleting Name  rajat goyal\n",
      "Deleting Course  linux\n",
      "Destroying The Object Complete\n"
     ]
    }
   ],
   "source": [
    "del rajat"
   ]
  },
  {
   "cell_type": "code",
   "execution_count": 37,
   "metadata": {
    "collapsed": true
   },
   "outputs": [],
   "source": [
    "from time import sleep\n",
    "class Grras(object):\n",
    "    \"\"\"Welcome to Grras Solution Private Limited.\"\"\"\n",
    "    msg = \"Default Brodcasting Message\"\n",
    "    def __init__(self,name,course):\n",
    "        self.name = name\n",
    "        self.course = course\n",
    "    def show(self):\n",
    "        print(\"Name = \",self.name)\n",
    "        print(\"Course = \",self.course)\n",
    "    def print_msg(self):\n",
    "        print(\"Dashboard Message : \",Grras.msg)\n",
    "    def __del__(self):\n",
    "        print(\"Deleting Object \")\n",
    "        sleep(2)\n",
    "        print(\"Deleting Name \",self.name)\n",
    "        del self.name\n",
    "        sleep(1)\n",
    "        print(\"Deleting Course \",self.course)\n",
    "        del self.course\n",
    "        sleep(2)\n",
    "        print(\"Destroying The Object Complete\")\n",
    "        sleep(2)\n",
    "        del self"
   ]
  },
  {
   "cell_type": "code",
   "execution_count": 38,
   "metadata": {
    "collapsed": true
   },
   "outputs": [],
   "source": [
    "class Grras_Solutions(Grras):\n",
    "    def __init__(self,name,course):\n",
    "        #Grras.__init__(self,name,course)\n",
    "        super().__init__(name,course)\n",
    "    def send_msg(self,msg):\n",
    "        Grras.msg = msg\n",
    "    def change_course(self,new_course):\n",
    "        self.course = new_course"
   ]
  },
  {
   "cell_type": "code",
   "execution_count": 39,
   "metadata": {
    "collapsed": true
   },
   "outputs": [],
   "source": [
    "rajat  = Grras_Solutions('Rajat Goyal','Linux')\n",
    "sachin = Grras_Solutions('Sachin Yadav','Python')"
   ]
  },
  {
   "cell_type": "code",
   "execution_count": 40,
   "metadata": {},
   "outputs": [
    {
     "name": "stdout",
     "output_type": "stream",
     "text": [
      "Name =  Rajat Goyal\n",
      "Course =  Linux\n"
     ]
    }
   ],
   "source": [
    "rajat.show()"
   ]
  },
  {
   "cell_type": "code",
   "execution_count": 41,
   "metadata": {},
   "outputs": [
    {
     "name": "stdout",
     "output_type": "stream",
     "text": [
      "Name =  Sachin Yadav\n",
      "Course =  Python\n"
     ]
    }
   ],
   "source": [
    "sachin.show()"
   ]
  },
  {
   "cell_type": "code",
   "execution_count": 42,
   "metadata": {},
   "outputs": [
    {
     "name": "stdout",
     "output_type": "stream",
     "text": [
      "Dashboard Message :  Default Brodcasting Message\n"
     ]
    }
   ],
   "source": [
    "rajat.print_msg()"
   ]
  },
  {
   "cell_type": "code",
   "execution_count": 43,
   "metadata": {
    "collapsed": true
   },
   "outputs": [],
   "source": [
    "sachin.send_msg(\"Hi I will Unavaiable Tommorrow manage accordingly by sachin.\")"
   ]
  },
  {
   "cell_type": "code",
   "execution_count": 44,
   "metadata": {},
   "outputs": [
    {
     "name": "stdout",
     "output_type": "stream",
     "text": [
      "Dashboard Message :  Hi I will Unavaiable Tommorrow manage accordingly by sachin.\n"
     ]
    }
   ],
   "source": [
    "rajat.print_msg()"
   ]
  },
  {
   "cell_type": "code",
   "execution_count": null,
   "metadata": {
    "collapsed": true
   },
   "outputs": [],
   "source": []
  }
 ],
 "metadata": {
  "kernelspec": {
   "display_name": "Python 3",
   "language": "python",
   "name": "python3"
  },
  "language_info": {
   "codemirror_mode": {
    "name": "ipython",
    "version": 3
   },
   "file_extension": ".py",
   "mimetype": "text/x-python",
   "name": "python",
   "nbconvert_exporter": "python",
   "pygments_lexer": "ipython3",
   "version": "3.6.3"
  }
 },
 "nbformat": 4,
 "nbformat_minor": 2
}
