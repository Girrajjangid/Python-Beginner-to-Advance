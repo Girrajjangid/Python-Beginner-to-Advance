{
 "cells": [
  {
   "cell_type": "code",
   "execution_count": null,
   "metadata": {
    "collapsed": true
   },
   "outputs": [],
   "source": [
    "k=set('python')\n",
    "print(k)\n"
   ]
  },
  {
   "cell_type": "code",
   "execution_count": null,
   "metadata": {
    "collapsed": true
   },
   "outputs": [],
   "source": [
    "print(*list(range(1,101)))"
   ]
  },
  {
   "cell_type": "code",
   "execution_count": null,
   "metadata": {
    "collapsed": true
   },
   "outputs": [],
   "source": [
    "x=100\n",
    "while x>1:\n",
    "    if x%2:\n",
    "        print(x,end=\" \")\n",
    "    x-=1\n",
    "x2=set([1,5,3,6,9,2,5,8,4])\n"
   ]
  },
  {
   "cell_type": "code",
   "execution_count": null,
   "metadata": {
    "collapsed": true
   },
   "outputs": [],
   "source": [
    "from random import randint\n",
    "x=randint(1,50)\n",
    "i=1\n",
    "while i<=5:\n",
    "    y=int(input('Enter your guess '))\n",
    "    if x==y:\n",
    "        print('Winner jackpot')\n",
    "    elif y>50:\n",
    "        print('you entered wrong number')\n",
    "    else:\n",
    "        print('try again')\n",
    "        print('number is ',x)\n",
    "        print('you have remaining '+ str(5-i) +\" chance\")\n",
    "        x=randint(1,50)\n",
    "    i+=1\n",
    "print('looser')\n",
    "    "
   ]
  },
  {
   "cell_type": "code",
   "execution_count": 9,
   "metadata": {},
   "outputs": [
    {
     "name": "stdout",
     "output_type": "stream",
     "text": [
      "rock =  0\n",
      "paper =  1\n",
      "scisor = 2 2\n",
      "****Match Draw****\n",
      "\n",
      "computer choose  scisor\n",
      "rock =  0\n",
      "paper =  1\n",
      "scisor = 2 0\n",
      "****Match Draw****\n",
      "\n",
      "computer choose  rock\n",
      "rock =  0\n",
      "paper =  1\n",
      "scisor = 2 1\n",
      "computer win\n",
      "\n",
      "computer choose  scisor\n"
     ]
    }
   ],
   "source": [
    "#ROCK PAPER SCISOR\n",
    "\n",
    "from random import randint\n",
    "#lis\n",
    "i=1\n",
    "li=['rock','paper','scisor']\n",
    "#also we can do this if li[a] in li: return true if li[a] is present in li\n",
    "while i<=3: \n",
    "    one=randint(0,2)\n",
    "    a=int(input(\"rock =  0\\npaper =  1\\nscisor = 2 \")).strip()\n",
    "    if a==one:\n",
    "        print('****Match Draw****\\n')\n",
    "    elif (li[one]=='rock' and a==1) or (li[one]=='rock' and a==2) or (li[one]=='scisor' and a==1):\n",
    "        print('computer win\\n')\n",
    "    elif (li[one]=='paper' and a==0) or (li[one]=='scisor' and a==0) or (li[one]=='paper' and a==2):\n",
    "        print('****YOU WIN****\\n')\n",
    "    else:\n",
    "        print('wrong input\\n')\n",
    "    print('computer choose ',li[one])\n",
    "    i+=1"
   ]
  },
  {
   "cell_type": "code",
   "execution_count": 8,
   "metadata": {},
   "outputs": [
    {
     "name": "stdout",
     "output_type": "stream",
     "text": [
      "D\n"
     ]
    }
   ],
   "source": [
    "from random import choice\n",
    "ch=['T','D','S']\n",
    "x=choice(ch)\n",
    "print(x)"
   ]
  },
  {
   "cell_type": "code",
   "execution_count": 21,
   "metadata": {},
   "outputs": [
    {
     "name": "stdout",
     "output_type": "stream",
     "text": [
      "enter the value of n20\n",
      "210.0\n"
     ]
    }
   ],
   "source": [
    "#sum of n numbers\n",
    "n=int(input('enter the value of n '))\n",
    "print(n*(n+1)/2)\n"
   ]
  },
  {
   "cell_type": "code",
   "execution_count": 32,
   "metadata": {},
   "outputs": [
    {
     "name": "stdout",
     "output_type": "stream",
     "text": [
      "Enter the value of n5\n",
      "0 1 1 2 3 5 "
     ]
    }
   ],
   "source": [
    "# sum of fabonic series\n",
    "a,b=0,1\n",
    "n=int(input('Enter the value of n'))\n",
    "print(0,end=\" \")\n",
    "while n!=0:\n",
    "    print(b,end=\" \")\n",
    "    a,b=b,a+b\n",
    "    n-=1"
   ]
  },
  {
   "cell_type": "code",
   "execution_count": null,
   "metadata": {
    "collapsed": true
   },
   "outputs": [],
   "source": [
    "# prime\n",
    "# factorila\n",
    "# HCL \n",
    "# LCM\n",
    "# armstong\n",
    "# palandrom\n"
   ]
  },
  {
   "cell_type": "code",
   "execution_count": 59,
   "metadata": {},
   "outputs": [
    {
     "name": "stdout",
     "output_type": "stream",
     "text": [
      "\n",
      "\n",
      "Press a number to place your turn\n",
      "Your choice is X\n",
      "\n",
      "_ _ _ \t\t7  8  9\n",
      "_ _ _ \t\t4  5  6\n",
      "_ _ _ \t\t1  2  3\n",
      "\n",
      "\n",
      "Enter 2\n",
      "_ O _ \t\t7  8  9\t\t Score\n",
      "_ _ _ \t\t4  5  6\t\t C   U\n",
      "_ X _ \t\t1  2  3\t\t 0   0\n",
      "\n",
      "\n",
      "Enter 3\n",
      "O O _ \t\t7  8  9\t\t Score\n",
      "_ _ _ \t\t4  5  6\t\t C   U\n",
      "_ X X \t\t1  2  3\t\t 0   0\n",
      "\n",
      "\n",
      "Enter 1\n",
      "O O _ \t\t7  8  9\t\t Score\n",
      "_ O _ \t\t4  5  6\t\t C   U\n",
      "X X X \t\t1  2  3\t\t 0   0\n",
      "you win\n",
      "\n",
      "Press any key to play again or Press \"n\" to quit\n",
      "\n",
      "n\n"
     ]
    }
   ],
   "source": [
    "# tic tac too\n",
    "import os\n",
    "from random import choice\n",
    "print('\\n\\nPress a number to place your turn\\nYour choice is ' 'X\\n')\n",
    "s=[0,0]\n",
    "while True:\n",
    "    l=['_','_','_','_','_','_','_','_','_']\n",
    "    #    0   1   2   3   4   5   6   7   8 \n",
    "    lc=[0,1,2,3,4,5,6,7,8]\n",
    "    print(l[6],l[7],l[8],\"\\t\\t7  8  9\") \n",
    "    print(l[3],l[4],l[5],\"\\t\\t4  5  6\")\n",
    "    print(l[0],l[1],l[2],\"\\t\\t1  2  3\")\n",
    "    while True:\n",
    "        x=int(input(\"\\n\\nEnter \"))\n",
    "        os.system('cls')\n",
    "        l[x-1]='X'\n",
    "        lc.remove(x-1)\n",
    "        if lc.__len__()!=0:\n",
    "            com=choice(lc)\n",
    "            l[com]=\"O\"\n",
    "            lc.remove(com)\n",
    "        print(l[6],l[7],l[8],\"\\t\\t7  8  9\\t\\t Score\") \n",
    "        print(l[3],l[4],l[5],\"\\t\\t4  5  6\\t\\t C   U\")\n",
    "        print(l[0],l[1],l[2],\"\\t\\t1  2  3\\t\\t\",s[0],\" \",s[1])\n",
    "        if (l[6]==l[3]==l[0]=='O') or (l[7]==l[4]==l[1]=='O') or (l[8]==l[5]==l[2]=='O') or (l[6]==l[7]==l[8]=='O') or (l[4]==l[3]==l[5]=='O') or (l[2]==l[1]==l[0]=='O') or (l[6]==l[2]==l[4]=='O') or (l[8]==l[4]==l[0]=='O') :\n",
    "            print('computer Wins')\n",
    "            s[0]+=1\n",
    "            break\n",
    "        elif (l[6]==l[3]==l[0]=='X') or (l[7]==l[4]==l[1]=='X') or (l[8]==l[5]==l[2]=='X') or (l[6]==l[7]==l[8]=='X') or (l[4]==l[3]==l[5]=='X') or (l[2]==l[1]==l[0]=='X') or (l[6]==l[2]==l[4]=='X') or (l[8]==l[4]==l[0]=='X') : \n",
    "            print('you win')\n",
    "            s[1]+=1\n",
    "            break\n",
    "        elif lc.__len__()==0:\n",
    "            print('Draw')\n",
    "            break\n",
    "    play=input('\\nPress any key to play again or Press \"n\" to quit\\n\\n').strip().lower()\n",
    "    if play=='no' or play =='n':\n",
    "        break\n"
   ]
  },
  {
   "cell_type": "markdown",
   "metadata": {
    "collapsed": true
   },
   "source": [
    "For  LOOP\n",
    "\n",
    "\n"
   ]
  },
  {
   "cell_type": "code",
   "execution_count": 3,
   "metadata": {},
   "outputs": [
    {
     "name": "stdout",
     "output_type": "stream",
     "text": [
      "string\n",
      "<str_iterator object at 0x09048330>\n"
     ]
    }
   ],
   "source": [
    "#For loop it iterate the sequences\n",
    "s='string' #string\n",
    "q=iter(s) #not string\n",
    "print(s)\n",
    "print(q)\n",
    "# string,list ,tuples are sequences\n",
    "# dict, set are not sequnces"
   ]
  },
  {
   "cell_type": "code",
   "execution_count": 5,
   "metadata": {},
   "outputs": [
    {
     "name": "stdout",
     "output_type": "stream",
     "text": [
      "s\n",
      "t\n",
      "r\n",
      "i\n",
      "n\n",
      "g\n"
     ]
    }
   ],
   "source": [
    "for i in s:\n",
    "    print(i)"
   ]
  },
  {
   "cell_type": "code",
   "execution_count": 11,
   "metadata": {},
   "outputs": [
    {
     "name": "stdout",
     "output_type": "stream",
     "text": [
      "Enter the number5\n",
      "5\n",
      "10\n",
      "15\n",
      "20\n",
      "25\n",
      "30\n",
      "35\n",
      "40\n",
      "45\n",
      "50\n"
     ]
    }
   ],
   "source": [
    "x=int(input('Enter the number'))\n",
    "l=[1,2,3,4,5,6,7,8,9,10]    \n",
    "for i in l:\n",
    "    print(i*x)"
   ]
  },
  {
   "cell_type": "code",
   "execution_count": 25,
   "metadata": {},
   "outputs": [
    {
     "name": "stdout",
     "output_type": "stream",
     "text": [
      "name = python\n",
      "name = python\n",
      "asd = asdasd\n",
      "asd = asdasd\n",
      "version = 3.6\n",
      "version = 3.6\n"
     ]
    }
   ],
   "source": [
    "d={ #dictionary\n",
    "    'name':'python',\n",
    "    'asd':'asdasd',\n",
    "    'version':3.6\n",
    "    }\n",
    "for i in d:\n",
    "    print(i,\"=\",d.get(i))\n",
    "    print(i,\"=\",d[i])\n",
    "        "
   ]
  },
  {
   "cell_type": "code",
   "execution_count": 33,
   "metadata": {},
   "outputs": [
    {
     "name": "stdout",
     "output_type": "stream",
     "text": [
      "1\n",
      "5\n",
      "3\n",
      "4\n",
      "1\n",
      "8\n",
      "2\n",
      "3\n",
      "4\n",
      "9\n",
      "str\n",
      "[1, 2, 5, 3, 6]\n"
     ]
    }
   ],
   "source": [
    "#sets\n",
    "s=[1,5,3,4,1,8,2,3,4,9,'str',[1,2,5,3,6]]\n",
    "for i in s:\n",
    "    print(i)"
   ]
  },
  {
   "cell_type": "code",
   "execution_count": 50,
   "metadata": {},
   "outputs": [
    {
     "name": "stdout",
     "output_type": "stream",
     "text": [
      "(1, 2)\n",
      "(3, 4)\n",
      "('ser', 'asda')\n",
      "1\n",
      "2\n",
      "3\n",
      "4\n",
      "ser\n",
      "asda\n"
     ]
    }
   ],
   "source": [
    "l=[(1,2),(3,4),('ser','asda')]\n",
    "for i1 in l:\n",
    "    print(i1)\n",
    "for a,b in l:\n",
    "    print(a)\n",
    "    print(b)\n",
    "    "
   ]
  },
  {
   "cell_type": "code",
   "execution_count": 54,
   "metadata": {},
   "outputs": [
    {
     "name": "stdout",
     "output_type": "stream",
     "text": [
      "1 = 1\n",
      "2 = 2\n",
      "3 = 3\n",
      "4 = 4\n",
      "1 = 1 \n",
      "2 = 2 \n",
      "3 = 3 \n",
      "4 = 4 \n"
     ]
    }
   ],
   "source": [
    "d={1:1,2:2,3:3,4:4}\n",
    "for i in d:\n",
    "    print(i,'=',d[i])\n",
    "    \n",
    "for k,v in d.items():\n",
    "    print(\"{} = {} \".format(k,v))"
   ]
  },
  {
   "cell_type": "code",
   "execution_count": 63,
   "metadata": {},
   "outputs": [
    {
     "name": "stdout",
     "output_type": "stream",
     "text": [
      "<zip object at 0x03657378>\n",
      "[('h', 'i'), ('i', 'h')]\n",
      "[1, 5, 3, 6, 2, 9, 78, 8]\n",
      "[5, 7, 9, 4, 9, 1, 34, 7]\n",
      "l1 =  1\n",
      "l2 =  5\n",
      "\n",
      "l1 =  5\n",
      "l2 =  7\n",
      "\n",
      "l1 =  3\n",
      "l2 =  9\n",
      "\n",
      "l1 =  6\n",
      "l2 =  4\n",
      "\n",
      "l1 =  2\n",
      "l2 =  9\n",
      "\n",
      "l1 =  9\n",
      "l2 =  1\n",
      "\n",
      "l1 =  78\n",
      "l2 =  34\n",
      "\n",
      "l1 =  8\n",
      "l2 =  7\n",
      "\n"
     ]
    }
   ],
   "source": [
    "l1=[1,5,3,6,2,9,78,8]\n",
    "l2=[5,7,9,4,9,1,34,7]\n",
    "s='hi'\n",
    "s2='iha'# if lenth is not same then unused character ignored\n",
    "k=zip(s,s2)  # zip take one by one element from passed values as parameters\n",
    "print(k)\n",
    "k=list(k)\n",
    "print(k)\n",
    "print(l1)\n",
    "print(l2)\n",
    "for l3,l4 in zip(l1,l2):\n",
    "    print(\"l1 = \",l3)\n",
    "    print(\"l2 = \",l4)\n",
    "    print()\n"
   ]
  },
  {
   "cell_type": "code",
   "execution_count": 67,
   "metadata": {},
   "outputs": [
    {
     "name": "stdout",
     "output_type": "stream",
     "text": [
      "enter keys seperate them by ,1,2,3\n",
      "enter values of key seperate them by ,a,b,c\n",
      "{'1': 'a', '2': 'b', '3': 'c'}\n"
     ]
    }
   ],
   "source": [
    "a1=input(\"enter keys seperate them by ,\").split(',')\n",
    "a2=input(\"enter values of key seperate them by ,\").split(',')\n",
    "z=dict(zip(a1,a2))\n",
    "print(z)"
   ]
  },
  {
   "cell_type": "code",
   "execution_count": 89,
   "metadata": {},
   "outputs": [
    {
     "name": "stdout",
     "output_type": "stream",
     "text": [
      "[30, 60, 90, 120, 150, 180, 210, 240, 270, 300, 330, 360, 390, 420, 450, 480, 510, 540, 570, 600, 630, 660, 690, 720, 750, 780, 810, 840, 870, 900, 930, 960, 990]\n"
     ]
    }
   ],
   "source": [
    "a=[]\n",
    "for i in range(1,1001):\n",
    "    if  i % 2 == 0  and  i % 3 == 0  and  i % 5 == 0 :\n",
    "        a.append(i)\n",
    "print(a)"
   ]
  },
  {
   "cell_type": "code",
   "execution_count": 120,
   "metadata": {},
   "outputs": [
    {
     "name": "stdout",
     "output_type": "stream",
     "text": [
      "[1, 2, 3, 5, 6, 8, 9, 78]\n"
     ]
    }
   ],
   "source": [
    "#sorting without sort function\n",
    "li=[1,5,3,6,2,9,78,8]\n",
    "for i in range(0,li.__len__()):\n",
    "    for j in range(i+1,len(li)):\n",
    "        if li[i]>=li[j]:\n",
    "            li[i],li[j]=li[j],li[i]\n",
    "print(li)"
   ]
  },
  {
   "cell_type": "code",
   "execution_count": null,
   "metadata": {
    "collapsed": true
   },
   "outputs": [],
   "source": []
  }
 ],
 "metadata": {
  "kernelspec": {
   "display_name": "Python 3",
   "language": "python",
   "name": "python3"
  },
  "language_info": {
   "codemirror_mode": {
    "name": "ipython",
    "version": 3
   },
   "file_extension": ".py",
   "mimetype": "text/x-python",
   "name": "python",
   "nbconvert_exporter": "python",
   "pygments_lexer": "ipython3",
   "version": "3.6.3"
  }
 },
 "nbformat": 4,
 "nbformat_minor": 2
}
