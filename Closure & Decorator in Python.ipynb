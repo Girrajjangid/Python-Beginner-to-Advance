{
 "cells": [
  {
   "cell_type": "markdown",
   "metadata": {},
   "source": [
    "# Closures in Python "
   ]
  },
  {
   "cell_type": "code",
   "execution_count": 1,
   "metadata": {},
   "outputs": [
    {
     "name": "stdout",
     "output_type": "stream",
     "text": [
      "<function hello.<locals>.hi at 0x06FDA660> \n",
      "\n",
      "\n",
      "Hello  world\n",
      "\n",
      "Hello  world\n",
      "None\n"
     ]
    }
   ],
   "source": [
    "# closure: funtion inside funtion where outer function return a function\n",
    "def hello(x):\n",
    "    def hi():\n",
    "        print('Hello',x)\n",
    "    return hi\n",
    "k=hello(' world')\n",
    "print(k,'\\n\\n')\n",
    "\n",
    "k()\n",
    "print()\n",
    "print(k())"
   ]
  },
  {
   "cell_type": "code",
   "execution_count": 27,
   "metadata": {},
   "outputs": [
    {
     "name": "stdout",
     "output_type": "stream",
     "text": [
      "<class 'tuple'>\n",
      "(<function new.<locals>.one at 0x033363D8>, <function new.<locals>.two at 0x03376390>)\n",
      "one  kyo aaaa\n",
      "one\n",
      "\n",
      "two  kyo aaaa\n",
      "None\n"
     ]
    }
   ],
   "source": [
    "def new(x):\n",
    "    def one():\n",
    "        nonlocal x\n",
    "        x='kyo '+ x\n",
    "        print('one ',x)\n",
    "        return 'one'\n",
    "    def two():\n",
    "        #x=x+'ass' throw an error\n",
    "        print('two ',x)\n",
    "    return one,two\n",
    "k=new('aaaa')\n",
    "\n",
    "print(type(k))\n",
    "print(k)\n",
    "print(k[0]())\n",
    "print()\n",
    "print(k[1]())\n"
   ]
  },
  {
   "cell_type": "markdown",
   "metadata": {},
   "source": [
    "\n",
    "   # Decorator: \n",
    "   \n",
    "   funtion defined inside function and return function , where outer funtion takes function as a argument\n",
    "\n"
   ]
  },
  {
   "cell_type": "code",
   "execution_count": 56,
   "metadata": {},
   "outputs": [
    {
     "name": "stdout",
     "output_type": "stream",
     "text": [
      "***************************************\n",
      "             girraj jangid             \n",
      "***************************************\n"
     ]
    }
   ],
   "source": [
    "# decorator\n",
    "def hello(myfun):\n",
    "    def hi(name):\n",
    "        print('*'*(len(name)*3))\n",
    "        myfun(name)\n",
    "        print(\"*\"*(len(name)*3))\n",
    "    return hi\n",
    "\n",
    "def hey(var):\n",
    "    print(var.center(len(var*3)))\n",
    "\n",
    "n_hi=hello(hey)\n",
    "n_hi('girraj jangid')"
   ]
  },
  {
   "cell_type": "code",
   "execution_count": 72,
   "metadata": {},
   "outputs": [
    {
     "name": "stdout",
     "output_type": "stream",
     "text": [
      "---------------------------\n",
      "\n",
      "***************************\n",
      "         asdasdasd         \n",
      "***************************\n",
      "\n",
      "---------------------------\n"
     ]
    }
   ],
   "source": [
    "def decorate(oldfunc):\n",
    "    def worker():\n",
    "        name='asdasdasd'\n",
    "        k=len(name)*3\n",
    "        print('-'*k)\n",
    "        print()\n",
    "        oldfunc(name)\n",
    "        print()\n",
    "        print('-'*k)\n",
    "    return worker\n",
    "\n",
    "n_hi2=decorate(n_hi)\n",
    "\n",
    "n_hi2()"
   ]
  },
  {
   "cell_type": "code",
   "execution_count": 74,
   "metadata": {},
   "outputs": [
    {
     "ename": "TypeError",
     "evalue": "worker() takes 0 positional arguments but 2 were given",
     "output_type": "error",
     "traceback": [
      "\u001b[1;31m---------------------------------------------------------------------------\u001b[0m",
      "\u001b[1;31mTypeError\u001b[0m                                 Traceback (most recent call last)",
      "\u001b[1;32m<ipython-input-74-de914a6054f7>\u001b[0m in \u001b[0;36m<module>\u001b[1;34m()\u001b[0m\n\u001b[0;32m      6\u001b[0m     \u001b[0mprint\u001b[0m\u001b[1;33m(\u001b[0m\u001b[1;34m'x + y ='\u001b[0m\u001b[1;33m,\u001b[0m\u001b[0mx\u001b[0m\u001b[1;33m+\u001b[0m\u001b[0my\u001b[0m\u001b[1;33m)\u001b[0m\u001b[1;33m\u001b[0m\u001b[0m\n\u001b[0;32m      7\u001b[0m \u001b[0mnew\u001b[0m\u001b[1;33m=\u001b[0m\u001b[0mhello\u001b[0m\u001b[1;33m(\u001b[0m\u001b[0madd\u001b[0m\u001b[1;33m)\u001b[0m\u001b[1;33m\u001b[0m\u001b[0m\n\u001b[1;32m----> 8\u001b[1;33m \u001b[0madd\u001b[0m\u001b[1;33m(\u001b[0m\u001b[1;36m6\u001b[0m\u001b[1;33m,\u001b[0m\u001b[1;36m8\u001b[0m\u001b[1;33m)\u001b[0m\u001b[1;33m\u001b[0m\u001b[0m\n\u001b[0m",
      "\u001b[1;31mTypeError\u001b[0m: worker() takes 0 positional arguments but 2 were given"
     ]
    }
   ],
   "source": [
    "@decorate\n",
    "@hello\n",
    "def add(x,y):\n",
    "    print('x =',x)\n",
    "    print('y =',y)\n",
    "    print('x + y =',x+y)\n",
    "new=hello(add)\n",
    "add(6,8)\n"
   ]
  },
  {
   "cell_type": "code",
   "execution_count": 3,
   "metadata": {},
   "outputs": [
    {
     "name": "stdout",
     "output_type": "stream",
     "text": [
      "enter a number :12\n",
      "**********\n",
      "\n",
      "not a prime\n",
      "\n",
      "**********\n"
     ]
    }
   ],
   "source": [
    "# decorate prime function\n",
    "from  math import sqrt\n",
    "\n",
    "def prime(num,c=2):\n",
    "    if num%c==0:\n",
    "        return print('not a prime')\n",
    "    if c<=round(sqrt(num)+1):\n",
    "        return prime(num,c+1)\n",
    "    return print('prime no')\n",
    "\n",
    "def decorate_prime(prime):\n",
    "    def new_prime(num):\n",
    "        print('*'*10)\n",
    "        print()\n",
    "        prime(num)\n",
    "        print()\n",
    "        print('*'*10)\n",
    "    return new_prime\n",
    "\n",
    "new=decorate_prime(prime)\n",
    "new(int(input('enter a number :')))"
   ]
  },
  {
   "cell_type": "code",
   "execution_count": 11,
   "metadata": {},
   "outputs": [
    {
     "data": {
      "text/plain": [
       "[['Mike', 'Thomson', '20', 'M'],\n",
       " ['Andria', 'Bustle', '30', 'F'],\n",
       " ['Robert', 'Bustle', '32', 'M']]"
      ]
     },
     "execution_count": 11,
     "metadata": {},
     "output_type": "execute_result"
    }
   ],
   "source": [
    "from operator import itemgetter\n",
    "def name_format(person):\n",
    "    return (\"Mr. \" if person[3]=='M' else 'Ms. ') + person[0] + \" \" + person[1]\n",
    "\n",
    "people = [\n",
    "    ['Mike' , 'Thomson' , '20' , 'M'], \n",
    "    ['Robert' , 'Bustle' , '32' , 'M'], \n",
    "    ['Andria' , 'Bustle' , '30' , 'F']\n",
    "]\n",
    "print(*name_format(people) , sep = '\\n')\n",
    "(x.sort(key=itemgetter(2)))\n",
    "x"
   ]
  },
  {
   "cell_type": "code",
   "execution_count": null,
   "metadata": {
    "collapsed": true
   },
   "outputs": [],
   "source": [
    "def deco(l):\n",
    "    "
   ]
  }
 ],
 "metadata": {
  "kernelspec": {
   "display_name": "Python 3",
   "language": "python",
   "name": "python3"
  },
  "language_info": {
   "codemirror_mode": {
    "name": "ipython",
    "version": 3
   },
   "file_extension": ".py",
   "mimetype": "text/x-python",
   "name": "python",
   "nbconvert_exporter": "python",
   "pygments_lexer": "ipython3",
   "version": "3.6.3"
  }
 },
 "nbformat": 4,
 "nbformat_minor": 2
}
