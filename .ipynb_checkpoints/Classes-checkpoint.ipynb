{
 "cells": [
  {
   "cell_type": "markdown",
   "metadata": {},
   "source": []
  },
  {
   "cell_type": "code",
   "execution_count": 10,
   "metadata": {},
   "outputs": [
    {
     "name": "stdout",
     "output_type": "stream",
     "text": [
      "10\n",
      "5\n",
      "5\n"
     ]
    },
    {
     "data": {
      "text/plain": [
       "3"
      ]
     },
     "execution_count": 10,
     "metadata": {},
     "output_type": "execute_result"
    }
   ],
   "source": [
    "class a:\n",
    "    def suma(a,b):\n",
    "        return a+b\n",
    "    def subtract(self,a,b):\n",
    "        return a-b\n",
    "obj = a()\n",
    "print(obj.subtract(int(input()),int(input())))\n",
    "a.suma(1,2)"
   ]
  },
  {
   "cell_type": "code",
   "execution_count": 12,
   "metadata": {},
   "outputs": [
    {
     "name": "stdout",
     "output_type": "stream",
     "text": [
      "30\n",
      "your values is  12\n",
      "\n",
      "function Hai bhai\n"
     ]
    }
   ],
   "source": [
    "class robot:\n",
    "    \"\"\"Robot class used to represent different function\"\"\"\n",
    "    def func(self,q):\n",
    "        \"\"\"function Hai bhai\"\"\"\n",
    "        print('your values is ',q)\n",
    "print(_*10)\n",
    "obj = robot()\n",
    "obj.func(12)\n",
    "print()\n",
    "print(obj.func.__doc__)\n"
   ]
  },
  {
   "cell_type": "code",
   "execution_count": 8,
   "metadata": {},
   "outputs": [
    {
     "name": "stdout",
     "output_type": "stream",
     "text": [
      "1 , 1 , 1 , 1 , \n",
      "2 , 2 , 2 , 2 , \n",
      "3 , 3 , 3 , 3 , \n",
      "\n",
      "name =  12\n",
      "t =  55\n",
      "self.name =  1\n",
      "name =  12\n",
      "t =  66\n",
      "self.name =  2\n",
      "\n",
      "100000\n",
      "100000\n"
     ]
    }
   ],
   "source": [
    "from time import sleep\n",
    "names = 100000\n",
    "class robot:\n",
    "    names = 12 # name is class variable not a global\n",
    "    def __init__(self,x,y,z,p):\n",
    "        self.name = x\n",
    "        self.height = y\n",
    "        self.weight = z\n",
    "        self.color = p\n",
    "        print(self.name,end=' , ')\n",
    "        print(self.height,end=' , ')\n",
    "        print(self.weight,end=' , ')\n",
    "        print(self.color,end=' , ')\n",
    "        print()\n",
    "    \n",
    "    def fun1(self,t):\n",
    "        print('name = ',robot.names)\n",
    "        print('t = ',t)\n",
    "        print(\"self.name = \",self.name)\n",
    "    \n",
    "    def fun2(self):\n",
    "        print(names)\n",
    "        \n",
    "obj1=robot(1,1,1,1)\n",
    "obj2=robot(2,2,2,2)\n",
    "obj3=robot(3,3,3,3)\n",
    "\n",
    "print()\n",
    "obj1.fun1(55)\n",
    "obj2.fun1(66)\n",
    "print()\n",
    "\n",
    "obj1.fun2()\n",
    "obj2.fun2()\n",
    "\n",
    "\n",
    "        \n",
    "        "
   ]
  },
  {
   "cell_type": "code",
   "execution_count": 9,
   "metadata": {
    "collapsed": true
   },
   "outputs": [],
   "source": [
    "robot.name = 45"
   ]
  },
  {
   "cell_type": "code",
   "execution_count": 11,
   "metadata": {},
   "outputs": [
    {
     "name": "stdout",
     "output_type": "stream",
     "text": [
      "100000\n",
      "100000\n"
     ]
    }
   ],
   "source": [
    "obj1.fun2()\n",
    "obj2.fun2()"
   ]
  },
  {
   "cell_type": "code",
   "execution_count": 1,
   "metadata": {
    "collapsed": true
   },
   "outputs": [],
   "source": [
    "class Complex(object):\n",
    "    def __init__(self, real, imaginary):\n",
    "        self.real =real\n",
    "        self.imaginary = imaginary\n",
    "    def __add__(self, no):\n",
    "        return Complex(self.real + no.real , self.imaginary + no.imaginary)        \n",
    "    def __sub__(self, no):\n",
    "        return Complex(self.real - no.real , self.imaginary - no.imaginary)\n",
    "    def __mul__(self, no):\n",
    "        a = self.real\n",
    "        b = self.imaginary\n",
    "        c = no.real\n",
    "        d = no.imaginary\n",
    "        real_mult = (a * c) - (b * d)\n",
    "        imag_mult = (a * d) + (b * c)\n",
    "        return Complex(real_mult,imag_mult)\n",
    "    def __truediv__(self, no):\n",
    "        x = no.real**2 + no.imaginary**2\n",
    "        a =(self.real * no.real + self.imaginary * no.imaginary) / x\n",
    "        b =(-no.imaginary * self.real + self.imaginary * no.real) / x\n",
    "        return Complex(a,b)\n",
    "    def mod(self):\n",
    "        a = self.real\n",
    "        b = self.imaginary\n",
    "        return Complex(math.sqrt(a**2 + b**2),0)\n",
    "\n",
    "    def __str__(self):\n",
    "        if self.imaginary == 0:\n",
    "            result = \"%.2f+0.00i\" % (self.real)\n",
    "        elif self.real == 0:\n",
    "            if self.imaginary >= 0:\n",
    "                result = \"0.00+%.2fi\" % (self.imaginary)\n",
    "            else:\n",
    "                result = \"0.00-%.2fi\" % (abs(self.imaginary))\n",
    "        elif self.imaginary > 0:\n",
    "            result = \"%.2f+%.2fi\" % (self.real, self.imaginary)\n",
    "        else:\n",
    "            result = \"%.2f-%.2fi\" % (self.real, abs(self.imaginary))\n",
    "        return result"
   ]
  },
  {
   "cell_type": "code",
   "execution_count": 18,
   "metadata": {},
   "outputs": [],
   "source": [
    "import numpy as np\n",
    "class Points(object):\n",
    "    def __init__(self, x, y, z):\n",
    "        self.x = x\n",
    "        self.y = y\n",
    "        self.z = z\n",
    "    def __sub__(self, no):\n",
    "        self.x = no.x - self.x\n",
    "        self.y = no.y - self.y\n",
    "        self.z = no.z - self.z\n",
    "        return self\n",
    "    def dot(self, no):\n",
    "        return np.dot([self.x , self.y , self.z] , [no.x , no.y , no.z])\n",
    "    def cross(self, no):\n",
    "        x = np.cross([self.x , self.y , self.z] , [no.x , no.y , no.z])\n",
    "        self.x = x[0]\n",
    "        self.y = x[1]\n",
    "        self.z = x[2]\n",
    "        return self\n",
    "    def absolute(self):\n",
    "        return pow((self.x ** 2 + self.y ** 2 + self.z ** 2), 0.5)\n"
   ]
  },
  {
   "cell_type": "code",
   "execution_count": 20,
   "metadata": {},
   "outputs": [
    {
     "name": "stdout",
     "output_type": "stream",
     "text": [
      "0 4 5\n",
      "1 7 6\n",
      "0 5 9\n",
      "1 7 2\n",
      "74.64\n"
     ]
    }
   ],
   "source": [
    "points = list()\n",
    "for i in range(4):\n",
    "        a = list(map(float, input().split()))\n",
    "        points.append(a)\n",
    "a, b, c, d = Points(*points[0]), Points(*points[1]), Points(*points[2]), Points(*points[3])\n",
    "x = (b - a).cross(c - b)\n",
    "y = (c - b).cross(d - c)\n",
    "angle = math.acos(x.dot(y) / (x.absolute() * y.absolute()))\n",
    "print(\"%.2f\" % math.degrees(angle))"
   ]
  },
  {
   "cell_type": "code",
   "execution_count": 21,
   "metadata": {},
   "outputs": [
    {
     "name": "stdout",
     "output_type": "stream",
     "text": [
      "74.64\n"
     ]
    }
   ],
   "source": [
    "a, b, c, d = Points(*points[0]), Points(*points[1]), Points(*points[2]), Points(*points[3])\n",
    "x = (b - a).cross(c - b)\n",
    "y = (c - b).cross(d - c)\n",
    "angle = math.acos(x.dot(y) / (x.absolute() * y.absolute()))\n",
    "print(\"%.2f\" % math.degrees(angle))"
   ]
  },
  {
   "cell_type": "code",
   "execution_count": 25,
   "metadata": {},
   "outputs": [
    {
     "name": "stdout",
     "output_type": "stream",
     "text": [
      "0 4 5\n",
      "1 7 6\n",
      "0 5 9\n",
      "1 7 2\n",
      "8.19\n"
     ]
    }
   ],
   "source": [
    "import math\n",
    "class Points(object):\n",
    "    def __init__(self, x, y, z):\n",
    "        self.x=x\n",
    "        self.y=y\n",
    "        self.z=z\n",
    "\n",
    "    def __sub__(self, no):\n",
    "        return  Points((self.x-no.x),(self.y-no.y),(self.z-no.z))\n",
    "\n",
    "    def dot(self, no):\n",
    "        return (self.x*no.x)+(self.y*no.y)+(self.z*no.z)\n",
    "\n",
    "    def cross(self, no):\n",
    "        return Points((self.y*no.z-self.z*no.y),(self.z*no.x-self.x*no.z),(self.x*no.y-self.y*no.x))\n",
    "        \n",
    "    def absolute(self):\n",
    "        return pow((self.x ** 2 + self.y ** 2 + self.z ** 2), 0.5)\n",
    "if __name__ == '__main__':\n",
    "    points = list()\n",
    "    for i in range(4):\n",
    "        a = list(map(float, input().split()))\n",
    "        points.append(a)\n",
    "\n",
    "    a, b, c, d = Points(*points[0]), Points(*points[1]), Points(*points[2]), Points(*points[3])\n",
    "    x = (b - a).cross(c - b)\n",
    "    y = (c - b).cross(d - c)\n",
    "    angle = math.acos(x.dot(y) / (x.absolute() * y.absolute()))\n",
    "\n",
    "    print(\"%.2f\" % math.degrees(angle))"
   ]
  },
  {
   "cell_type": "code",
   "execution_count": null,
   "metadata": {},
   "outputs": [],
   "source": []
  },
  {
   "cell_type": "code",
   "execution_count": null,
   "metadata": {
    "collapsed": true
   },
   "outputs": [],
   "source": []
  }
 ],
 "metadata": {
  "kernelspec": {
   "display_name": "Python 3",
   "language": "python",
   "name": "python3"
  },
  "language_info": {
   "codemirror_mode": {
    "name": "ipython",
    "version": 3
   },
   "file_extension": ".py",
   "mimetype": "text/x-python",
   "name": "python",
   "nbconvert_exporter": "python",
   "pygments_lexer": "ipython3",
   "version": "3.6.5"
  }
 },
 "nbformat": 4,
 "nbformat_minor": 2
}
