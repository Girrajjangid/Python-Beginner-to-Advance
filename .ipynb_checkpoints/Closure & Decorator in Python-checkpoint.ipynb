{
 "cells": [
  {
   "cell_type": "markdown",
   "metadata": {},
   "source": [
    "# Closures in Python "
   ]
  },
  {
   "cell_type": "code",
   "execution_count": 1,
   "metadata": {},
   "outputs": [
    {
     "name": "stdout",
     "output_type": "stream",
     "text": [
      "<function hello.<locals>.hi at 0x000002962BD02840> \n",
      "\n",
      "\n",
      "Hello  world\n",
      "\n",
      "Hello  world\n",
      "None\n"
     ]
    }
   ],
   "source": [
    "# closure: funtion inside funtion where outer function return a function\n",
    "def hello(x):\n",
    "    def hi():\n",
    "        print('Hello',x)\n",
    "    return hi\n",
    "k=hello(' world')\n",
    "print(k,'\\n\\n')\n",
    "\n",
    "k()\n",
    "print()\n",
    "print(k())"
   ]
  },
  {
   "cell_type": "code",
   "execution_count": 3,
   "metadata": {},
   "outputs": [
    {
     "name": "stdout",
     "output_type": "stream",
     "text": [
      "<class 'tuple'>\n",
      "(<function new.<locals>.one at 0x000002962BD02950>, <function new.<locals>.two at 0x000002962BD02C80>)\n",
      "one  kyo aaaa\n",
      "one\n",
      "\n",
      "two  kyo aaaa\n",
      "None\n"
     ]
    }
   ],
   "source": [
    "def new(x):\n",
    "    def one():\n",
    "        nonlocal x\n",
    "        x='kyo '+ x\n",
    "        print('one ',x)\n",
    "        return 'one'\n",
    "    def two():\n",
    "        #x=x+'ass' throw an error\n",
    "        print('two ',x)\n",
    "    return one,two\n",
    "k=new('aaaa')\n",
    "\n",
    "print(type(k))\n",
    "print(k)\n",
    "print(k[0]())\n",
    "print()\n",
    "print(k[1]())\n"
   ]
  },
  {
   "cell_type": "markdown",
   "metadata": {},
   "source": [
    "\n",
    "   # Decorator: \n",
    "   \n",
    "\n"
   ]
  },
  {
   "cell_type": "code",
   "execution_count": 4,
   "metadata": {},
   "outputs": [
    {
     "name": "stdout",
     "output_type": "stream",
     "text": [
      "***************************************\n",
      "             girraj jangid             \n",
      "***************************************\n"
     ]
    }
   ],
   "source": [
    "# decorator\n",
    "def hello(myfun):\n",
    "    def hi(name):\n",
    "        print('*'*(len(name)*3))\n",
    "        myfun(name)\n",
    "        print(\"*\"*(len(name)*3))\n",
    "    return hi\n",
    "\n",
    "def hey(var):\n",
    "    print(var.center(len(var*3)))\n",
    "\n",
    "n_hi=hello(hey)\n",
    "n_hi('girraj jangid')"
   ]
  },
  {
   "cell_type": "code",
   "execution_count": 5,
   "metadata": {},
   "outputs": [
    {
     "name": "stdout",
     "output_type": "stream",
     "text": [
      "---------------------------\n",
      "\n",
      "***************************\n",
      "         asdasdasd         \n",
      "***************************\n",
      "\n",
      "---------------------------\n"
     ]
    }
   ],
   "source": [
    "def decorate(oldfunc):\n",
    "    def worker():\n",
    "        name='asdasdasd'\n",
    "        k=len(name)*3\n",
    "        print('-'*k)\n",
    "        print()\n",
    "        oldfunc(name)\n",
    "        print()\n",
    "        print('-'*k)\n",
    "    return worker\n",
    "\n",
    "n_hi2=decorate(n_hi)\n",
    "\n",
    "n_hi2()"
   ]
  },
  {
   "cell_type": "code",
   "execution_count": 10,
   "metadata": {},
   "outputs": [
    {
     "data": {
      "text/plain": [
       "<function __main__.decorate.<locals>.worker>"
      ]
     },
     "execution_count": 10,
     "metadata": {},
     "output_type": "execute_result"
    }
   ],
   "source": [
    "@decorate\n",
    "@hello\n",
    "def add(x,y):\n",
    "    print('x =',x)\n",
    "    print('y =',y)\n",
    "    print('x + y =',x+y)\n",
    "new=hello(add)\n",
    "add\n"
   ]
  },
  {
   "cell_type": "code",
   "execution_count": 3,
   "metadata": {},
   "outputs": [
    {
     "name": "stdout",
     "output_type": "stream",
     "text": [
      "enter a number :12\n",
      "**********\n",
      "\n",
      "not a prime\n",
      "\n",
      "**********\n"
     ]
    }
   ],
   "source": [
    "# decorate prime function\n",
    "from  math import sqrt\n",
    "\n",
    "def prime(num,c=2):\n",
    "    if num%c==0:\n",
    "        return print('not a prime')\n",
    "    if c<=round(sqrt(num)+1):\n",
    "        return prime(num,c+1)\n",
    "    return print('prime no')\n",
    "\n",
    "def decorate_prime(prime):\n",
    "    def new_prime(num):\n",
    "        print('*'*10)\n",
    "        print()\n",
    "        prime(num)\n",
    "        print()\n",
    "        print('*'*10)\n",
    "    return new_prime\n",
    "\n",
    "new=decorate_prime(prime)\n",
    "new(int(input('enter a number :')))"
   ]
  },
  {
   "cell_type": "code",
   "execution_count": 11,
   "metadata": {},
   "outputs": [
    {
     "data": {
      "text/plain": [
       "[['Mike', 'Thomson', '20', 'M'],\n",
       " ['Andria', 'Bustle', '30', 'F'],\n",
       " ['Robert', 'Bustle', '32', 'M']]"
      ]
     },
     "execution_count": 11,
     "metadata": {},
     "output_type": "execute_result"
    }
   ],
   "source": [
    "from operator import itemgetter\n",
    "def name_format(person):\n",
    "    return (\"Mr. \" if person[3]=='M' else 'Ms. ') + person[0] + \" \" + person[1]\n",
    "\n",
    "people = [\n",
    "    ['Mike' , 'Thomson' , '20' , 'M'], \n",
    "    ['Robert' , 'Bustle' , '32' , 'M'], \n",
    "    ['Andria' , 'Bustle' , '30' , 'F']\n",
    "]\n",
    "print(*name_format(people) , sep = '\\n')\n",
    "(x.sort(key=itemgetter(2)))\n",
    "x"
   ]
  },
  {
   "cell_type": "code",
   "execution_count": null,
   "metadata": {
    "collapsed": true
   },
   "outputs": [],
   "source": [
    "def deco(l):\n",
    "    "
   ]
  }
 ],
 "metadata": {
  "kernelspec": {
   "display_name": "Python 3",
   "language": "python",
   "name": "python3"
  },
  "language_info": {
   "codemirror_mode": {
    "name": "ipython",
    "version": 3
   },
   "file_extension": ".py",
   "mimetype": "text/x-python",
   "name": "python",
   "nbconvert_exporter": "python",
   "pygments_lexer": "ipython3",
   "version": "3.6.5"
  }
 },
 "nbformat": 4,
 "nbformat_minor": 2
}
