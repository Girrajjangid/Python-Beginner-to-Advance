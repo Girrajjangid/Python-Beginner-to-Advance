{
 "cells": [
  {
   "cell_type": "markdown",
   "metadata": {},
   "source": [
    "# Numpy "
   ]
  },
  {
   "cell_type": "code",
   "execution_count": 2,
   "metadata": {},
   "outputs": [
    {
     "name": "stdout",
     "output_type": "stream",
     "text": [
      "2\n"
     ]
    }
   ],
   "source": [
    "l1=[  # It is 3D array list\n",
    "    [\n",
    "        [1,1,1],\n",
    "        [2,2,2]\n",
    "    ],\n",
    "    [\n",
    "        [3,3,3],\n",
    "        [4,4,4]\n",
    "    ]\n",
    "]\n",
    "l2= l1.copy()\n",
    "r = []\n",
    "print( l1[0][1][1] )"
   ]
  },
  {
   "cell_type": "code",
   "execution_count": 4,
   "metadata": {},
   "outputs": [
    {
     "name": "stdout",
     "output_type": "stream",
     "text": [
      "[[[1, 1, 1], [2, 2, 2]], [[3, 3, 3], [4, 4, 4]]]\n",
      "[[[1, 1, 1], [2, 2, 2]], [[3, 3, 3], [4, 4, 4]]]\n",
      "2\n",
      "[[[2, 2, 2], [4, 4, 4]], [[6, 6, 6], [8, 8, 8]], [[2, 2, 2], [4, 4, 4]], [[6, 6, 6], [8, 8, 8]]]\n"
     ]
    }
   ],
   "source": [
    "# We trying to add two matrices using loops\n",
    "print(l1)\n",
    "print(l2)\n",
    "print(len(l1))\n",
    "for row in range(len(l1)):\n",
    "    r1 = []\n",
    "    for inner_row in range(len(l1[0])):\n",
    "        c = []\n",
    "        for col in range(len(l1[0][0])):\n",
    "            s = l1[row][inner_row][col] + l2[row][inner_row][col]\n",
    "            c.append(s)\n",
    "        r1.append(c)\n",
    "    r.append(r1)\n",
    "print(r)"
   ]
  },
  {
   "cell_type": "code",
   "execution_count": 5,
   "metadata": {},
   "outputs": [
    {
     "name": "stdout",
     "output_type": "stream",
     "text": [
      "a1 : [1 2 3 4]\n",
      "a2 : [4 5 6 7]\n",
      "l1 : [1, 2, 3, 4]\n",
      "l2 : [4, 5, 6, 7]\n",
      "s1=a1+a2 : [ 5  7  9 11]\n",
      "s2=l1+l2 : [1, 2, 3, 4, 4, 5, 6, 7]\n",
      "type of a1 :  <class 'numpy.ndarray'>\n",
      "type of l1 :  <class 'list'>\n",
      "\n",
      "['ALLOW_THREADS', 'AxisError', 'BUFSIZE', 'CLIP', 'ComplexWarning', 'DataSource', 'ERR_CALL', 'ERR_DEFAULT', 'ERR_IGNORE', 'ERR_LOG', 'ERR_PRINT', 'ERR_RAISE', 'ERR_WARN', 'FLOATING_POINT_SUPPORT', 'FPE_DIVIDEBYZERO', 'FPE_INVALID', 'FPE_OVERFLOW', 'FPE_UNDERFLOW', 'False_', 'Inf', 'Infinity', 'MAXDIMS', 'MAY_SHARE_BOUNDS', 'MAY_SHARE_EXACT', 'MachAr', 'ModuleDeprecationWarning', 'NAN', 'NINF', 'NZERO', 'NaN', 'PINF', 'PZERO', 'RAISE', 'RankWarning', 'SHIFT_DIVIDEBYZERO', 'SHIFT_INVALID', 'SHIFT_OVERFLOW', 'SHIFT_UNDERFLOW', 'ScalarType', 'Tester', 'TooHardError', 'True_', 'UFUNC_BUFSIZE_DEFAULT', 'UFUNC_PYVALS_NAME', 'VisibleDeprecationWarning', 'WRAP', '_NoValue', '_UFUNC_API', '__NUMPY_SETUP__', '__all__', '__builtins__', '__cached__', '__config__', '__doc__', '__file__', '__git_revision__', '__loader__', '__mkl_version__', '__name__', '__package__', '__path__', '__spec__', '__version__', '_add_newdoc_ufunc', '_arg', '_distributor_init', '_globals', '_mat', '_mklinit', '_pytesttester', 'abs', 'absolute', 'absolute_import', 'add', 'add_docstring', 'add_newdoc', 'add_newdoc_ufunc', 'alen', 'all', 'allclose', 'alltrue', 'amax', 'amin', 'angle', 'any', 'append', 'apply_along_axis', 'apply_over_axes', 'arange', 'arccos', 'arccosh', 'arcsin', 'arcsinh', 'arctan', 'arctan2', 'arctanh', 'argmax', 'argmin', 'argpartition', 'argsort', 'argwhere', 'around', 'array', 'array2string', 'array_equal', 'array_equiv', 'array_repr', 'array_split', 'array_str', 'asanyarray', 'asarray', 'asarray_chkfinite', 'ascontiguousarray', 'asfarray', 'asfortranarray', 'asmatrix', 'asscalar', 'atleast_1d', 'atleast_2d', 'atleast_3d', 'average', 'bartlett', 'base_repr', 'binary_repr', 'bincount', 'bitwise_and', 'bitwise_not', 'bitwise_or', 'bitwise_xor', 'blackman', 'block', 'bmat', 'bool', 'bool8', 'bool_', 'broadcast', 'broadcast_arrays', 'broadcast_to', 'busday_count', 'busday_offset', 'busdaycalendar', 'byte', 'byte_bounds', 'bytes0', 'bytes_', 'c_', 'can_cast', 'cast', 'cbrt', 'cdouble', 'ceil', 'cfloat', 'char', 'character', 'chararray', 'choose', 'clip', 'clongdouble', 'clongfloat', 'column_stack', 'common_type', 'compare_chararrays', 'compat', 'complex', 'complex128', 'complex64', 'complex_', 'complexfloating', 'compress', 'concatenate', 'conj', 'conjugate', 'convolve', 'copy', 'copysign', 'copyto', 'core', 'corrcoef', 'correlate', 'cos', 'cosh', 'count_nonzero', 'cov', 'cross', 'csingle', 'ctypeslib', 'cumprod', 'cumproduct', 'cumsum', 'datetime64', 'datetime_as_string', 'datetime_data', 'deg2rad', 'degrees', 'delete', 'deprecate', 'deprecate_with_doc', 'diag', 'diag_indices', 'diag_indices_from', 'diagflat', 'diagonal', 'diff', 'digitize', 'disp', 'divide', 'division', 'divmod', 'dot', 'double', 'dsplit', 'dstack', 'dtype', 'e', 'ediff1d', 'einsum', 'einsum_path', 'emath', 'empty', 'empty_like', 'equal', 'errstate', 'euler_gamma', 'exp', 'exp2', 'expand_dims', 'expm1', 'extract', 'eye', 'fabs', 'fastCopyAndTranspose', 'fft', 'fill_diagonal', 'find_common_type', 'finfo', 'fix', 'flatiter', 'flatnonzero', 'flexible', 'flip', 'fliplr', 'flipud', 'float', 'float16', 'float32', 'float64', 'float_', 'float_power', 'floating', 'floor', 'floor_divide', 'fmax', 'fmin', 'fmod', 'format_float_positional', 'format_float_scientific', 'format_parser', 'frexp', 'frombuffer', 'fromfile', 'fromfunction', 'fromiter', 'frompyfunc', 'fromregex', 'fromstring', 'full', 'full_like', 'fv', 'gcd', 'generic', 'genfromtxt', 'geomspace', 'get_array_wrap', 'get_include', 'get_printoptions', 'getbufsize', 'geterr', 'geterrcall', 'geterrobj', 'gradient', 'greater', 'greater_equal', 'half', 'hamming', 'hanning', 'heaviside', 'histogram', 'histogram2d', 'histogram_bin_edges', 'histogramdd', 'hsplit', 'hstack', 'hypot', 'i0', 'identity', 'iinfo', 'imag', 'in1d', 'index_exp', 'indices', 'inexact', 'inf', 'info', 'infty', 'inner', 'insert', 'int', 'int0', 'int16', 'int32', 'int64', 'int8', 'int_', 'int_asbuffer', 'intc', 'integer', 'interp', 'intersect1d', 'intp', 'invert', 'ipmt', 'irr', 'is_busday', 'isclose', 'iscomplex', 'iscomplexobj', 'isfinite', 'isfortran', 'isin', 'isinf', 'isnan', 'isnat', 'isneginf', 'isposinf', 'isreal', 'isrealobj', 'isscalar', 'issctype', 'issubclass_', 'issubdtype', 'issubsctype', 'iterable', 'ix_', 'kaiser', 'kron', 'lcm', 'ldexp', 'left_shift', 'less', 'less_equal', 'lexsort', 'lib', 'linalg', 'linspace', 'little_endian', 'load', 'loads', 'loadtxt', 'log', 'log10', 'log1p', 'log2', 'logaddexp', 'logaddexp2', 'logical_and', 'logical_not', 'logical_or', 'logical_xor', 'logspace', 'long', 'longcomplex', 'longdouble', 'longfloat', 'longlong', 'lookfor', 'ma', 'mafromtxt', 'mask_indices', 'mat', 'math', 'matmul', 'matrix', 'matrixlib', 'max', 'maximum', 'maximum_sctype', 'may_share_memory', 'mean', 'median', 'memmap', 'meshgrid', 'mgrid', 'min', 'min_scalar_type', 'minimum', 'mintypecode', 'mirr', 'mod', 'modf', 'moveaxis', 'msort', 'multiply', 'nan', 'nan_to_num', 'nanargmax', 'nanargmin', 'nancumprod', 'nancumsum', 'nanmax', 'nanmean', 'nanmedian', 'nanmin', 'nanpercentile', 'nanprod', 'nanquantile', 'nanstd', 'nansum', 'nanvar', 'nbytes', 'ndarray', 'ndenumerate', 'ndfromtxt', 'ndim', 'ndindex', 'nditer', 'negative', 'nested_iters', 'newaxis', 'nextafter', 'nonzero', 'not_equal', 'nper', 'npv', 'numarray', 'number', 'obj2sctype', 'object', 'object0', 'object_', 'ogrid', 'oldnumeric', 'ones', 'ones_like', 'outer', 'packbits', 'pad', 'partition', 'percentile', 'pi', 'piecewise', 'place', 'pmt', 'poly', 'poly1d', 'polyadd', 'polyder', 'polydiv', 'polyfit', 'polyint', 'polymul', 'polynomial', 'polysub', 'polyval', 'positive', 'power', 'ppmt', 'print_function', 'printoptions', 'prod', 'product', 'promote_types', 'ptp', 'put', 'put_along_axis', 'putmask', 'pv', 'quantile', 'r_', 'rad2deg', 'radians', 'random', 'rank', 'rate', 'ravel', 'ravel_multi_index', 'real', 'real_if_close', 'rec', 'recarray', 'recfromcsv', 'recfromtxt', 'reciprocal', 'record', 'remainder', 'repeat', 'require', 'reshape', 'resize', 'result_type', 'right_shift', 'rint', 'roll', 'rollaxis', 'roots', 'rot90', 'round', 'round_', 'row_stack', 's_', 'safe_eval', 'save', 'savetxt', 'savez', 'savez_compressed', 'sctype2char', 'sctypeDict', 'sctypeNA', 'sctypes', 'searchsorted', 'select', 'set_numeric_ops', 'set_printoptions', 'set_string_function', 'setbufsize', 'setdiff1d', 'seterr', 'seterrcall', 'seterrobj', 'setxor1d', 'shape', 'shares_memory', 'short', 'show_config', 'sign', 'signbit', 'signedinteger', 'sin', 'sinc', 'single', 'singlecomplex', 'sinh', 'size', 'sometrue', 'sort', 'sort_complex', 'source', 'spacing', 'split', 'sqrt', 'square', 'squeeze', 'stack', 'std', 'str', 'str0', 'str_', 'string_', 'subtract', 'sum', 'swapaxes', 'sys', 'take', 'take_along_axis', 'tan', 'tanh', 'tensordot', 'test', 'testing', 'tile', 'timedelta64', 'trace', 'tracemalloc_domain', 'transpose', 'trapz', 'tri', 'tril', 'tril_indices', 'tril_indices_from', 'trim_zeros', 'triu', 'triu_indices', 'triu_indices_from', 'true_divide', 'trunc', 'typeDict', 'typeNA', 'typecodes', 'typename', 'ubyte', 'ufunc', 'uint', 'uint0', 'uint16', 'uint32', 'uint64', 'uint8', 'uintc', 'uintp', 'ulonglong', 'unicode', 'unicode_', 'union1d', 'unique', 'unpackbits', 'unravel_index', 'unsignedinteger', 'unwrap', 'ushort', 'vander', 'var', 'vdot', 'vectorize', 'version', 'void', 'void0', 'vsplit', 'vstack', 'warnings', 'where', 'who', 'zeros', 'zeros_like']\n"
     ]
    }
   ],
   "source": [
    "import numpy as np\n",
    "# create of array\n",
    "l1=[1,2,3,4]\n",
    "l2=[4,5,6,7]\n",
    "a1=np.array(l1)\n",
    "a2=np.array(l2)\n",
    "s1=a1+a2  # It add each element with-respect \n",
    "s2=l1+l2  # It append list\n",
    "print('a1 :',a1)\n",
    "print('a2 :',a2)\n",
    "print('l1 :',l1)\n",
    "print('l2 :',l2)\n",
    "print('s1=a1+a2 :',s1)\n",
    "print('s2=l1+l2 :',s2)\n",
    "print('type of a1 : ',type(a1))\n",
    "print('type of l1 : ',type(l1))\n",
    "print()\n",
    "print(dir(np))"
   ]
  },
  {
   "cell_type": "code",
   "execution_count": 8,
   "metadata": {},
   "outputs": [
    {
     "name": "stdout",
     "output_type": "stream",
     "text": [
      "[[ 5  7  9 11]]\n"
     ]
    }
   ],
   "source": [
    "# Now we add l1 and l2 which we trying to add by for loop in upper cells\n",
    "arr_l1 = np.array([l1])\n",
    "arr_l2 = np.array([l2])\n",
    "su = arr_l1 + arr_l2\n",
    "print(su)"
   ]
  },
  {
   "cell_type": "code",
   "execution_count": null,
   "metadata": {},
   "outputs": [],
   "source": [
    "a=np.arange(1,101)\n",
    "print(a)\n",
    "print(a.size) # this\n",
    "print(len(a))\n",
    "# If we want to create two D matrices\n",
    "b = a.reshape(10,10)\n",
    "print(b)\n",
    "print(a.mean())  # In build function\n",
    "print(np.mean(a))\n",
    "print(np.median(a))\n",
    "b.transpose()\n"
   ]
  },
  {
   "cell_type": "code",
   "execution_count": null,
   "metadata": {},
   "outputs": [],
   "source": [
    "x=np.linspace(1,10,20)\n",
    "print(x)\n",
    "print(x.size)\n",
    "print(x[5])\n",
    "\n"
   ]
  },
  {
   "cell_type": "code",
   "execution_count": null,
   "metadata": {},
   "outputs": [],
   "source": [
    "k = np.zeros(12)\n",
    "print(k)\n",
    "\n",
    "k = np.zeros((6,5)) # two d array 6 row 5 column\n",
    "print(k)\n",
    "\n",
    "k = np.ones(12)\n",
    "print(k)\n",
    "\n",
    "np.zeros((2,4),dtype=float)"
   ]
  },
  {
   "cell_type": "code",
   "execution_count": null,
   "metadata": {},
   "outputs": [],
   "source": [
    "l = [1,2,3,1]\n",
    "k = np.identity(4,dtype=int) # its take only integer values not a list\n",
    "print(k)"
   ]
  },
  {
   "cell_type": "code",
   "execution_count": null,
   "metadata": {},
   "outputs": [],
   "source": [
    "k = np.random.normal(20,5,500)  # [20 mean ] [5 deviation  range is between 15-25] [ 5] no printed\n",
    "\n",
    "from matplotlib import pyplot as plt\n",
    "plt.plot((k) )\n",
    "plt.show()\n",
    "\n"
   ]
  },
  {
   "cell_type": "markdown",
   "metadata": {
    "collapsed": true
   },
   "source": [
    "# Math Operations\n",
    "1. Sum\n",
    "2. Prod\n"
   ]
  },
  {
   "cell_type": "code",
   "execution_count": null,
   "metadata": {},
   "outputs": [],
   "source": [
    "#sum(value , axis = 0,1,None) o means row vise and 1 means column vise and none means overall sum\n",
    "import numpy as np\n",
    "ar1 = np.array([[1,2],[3,4]])\n",
    "print(ar1)\n",
    "print()\n",
    "print(np.sum(ar1,axis = 0 , keepdims=True))  # 0 means row wise sum is calculated of all rows \n",
    "print()\n",
    "print(np.prod(ar1,axis = 1 , keepdims=True))\n"
   ]
  },
  {
   "cell_type": "code",
   "execution_count": null,
   "metadata": {},
   "outputs": [],
   "source": [
    "import numpy as np\n",
    "\n",
    "nm=list(map(int,input().split()))\n",
    "a=[]\n",
    "for i in range(nm[0]):\n",
    "    a.append(list(map(int,input().split())))\n",
    "s = np.sum(a , axis = 0)\n",
    "print(np.prod(s))\n",
    "\n",
    "\n",
    "\n"
   ]
  },
  {
   "cell_type": "markdown",
   "metadata": {
    "collapsed": true
   },
   "source": [
    "# DOT CROSS PRODUCT"
   ]
  },
  {
   "cell_type": "code",
   "execution_count": null,
   "metadata": {},
   "outputs": [],
   "source": [
    "import numpy as np\n",
    "n  = int(input())\n",
    "o = []\n",
    "t = []\n",
    "for i in range(2):\n",
    "    if i==0:\n",
    "        for j in range(n):\n",
    "            o.append(list(map(int,input().split())))\n",
    "    elif i==1:\n",
    "        for j in range(n):\n",
    "            t.append(list(map(int,input().split())))\n",
    "o = np.array(o)\n",
    "t = np.array(t)\n",
    "print(np.dot(o,t))\n",
    "\n",
    "    \n",
    "    \n"
   ]
  },
  {
   "cell_type": "markdown",
   "metadata": {},
   "source": [
    "# Inner and Outer product"
   ]
  },
  {
   "cell_type": "code",
   "execution_count": null,
   "metadata": {},
   "outputs": [],
   "source": [
    "np.random.seed(100)\n",
    "a = np.array([[[1,4]],[[5,6]]])\n",
    "qq1 = np.array([[1,1],\n",
    "                [2,2],\n",
    "                [3,3]])  # 3,2\n",
    "\n",
    "qq2 = np.array([[1,3],\n",
    "                [2,4],\n",
    "                [3,5],\n",
    "                [10,10],\n",
    "                [20,20]])  # 5,2\n",
    "\n",
    "print(np.inner(qq1,qq2))  #j second dimension must be same size\n",
    "\n",
    "print()\n",
    "\n",
    "print(np.outer(qq1,qq2))  # 3,2 = 6  5,2 = 10  6,10 matrix of output array"
   ]
  },
  {
   "cell_type": "code",
   "execution_count": null,
   "metadata": {},
   "outputs": [],
   "source": [
    "print(o)\n",
    "o2 = o.copy()\n",
    "\n",
    "print(np.inner(o,o2))\n",
    "print(np.outer(o,o2))"
   ]
  },
  {
   "cell_type": "code",
   "execution_count": null,
   "metadata": {},
   "outputs": [],
   "source": [
    "import numpy as np\n",
    "o  = np.array(list(map(int,input().split())))\n",
    "t  = np.array(list(map(int,input().split())))\n",
    "print(np.inner(o,t)) # column wise multiplication and then add them\n",
    "print(np.outer(o,t))\n"
   ]
  },
  {
   "cell_type": "markdown",
   "metadata": {},
   "source": [
    "# Polynomial\n",
    "1. ploy\n",
    "2. roots\n",
    "3. polyint\n",
    "4. polyder\n",
    "5. polyadd\n",
    "6. polyval\n",
    "7. polyfit\n",
    "8. polysub\n",
    "9. polymul\n",
    "10. polydiv"
   ]
  },
  {
   "cell_type": "code",
   "execution_count": null,
   "metadata": {},
   "outputs": [],
   "source": [
    "print(np.poly([0,-2])) #   [z**2 + 2*z**1 + 0 =root] = [0 ,-2] we are passing roots it return coefficent  of  a  function\n",
    "print(np.roots([1,2,0]))\n",
    "print()\n",
    "print(np.polyint([1,1,1])) # antiderivate\n",
    "print(np.polyder([1,2,0,4])) # derivative\n",
    "print(np.polyval([0,-2],1)) # evaluate value at specified\n",
    "print(np.polyfit([1,2,3,3,1],[1,2,2,3,4],2))\n"
   ]
  },
  {
   "cell_type": "code",
   "execution_count": null,
   "metadata": {},
   "outputs": [],
   "source": [
    "import numpy as np"
   ]
  },
  {
   "cell_type": "code",
   "execution_count": null,
   "metadata": {},
   "outputs": [],
   "source": [
    "l = list(map(int , input().split()))\n",
    "print(np.zeros(l , dtype=int))\n",
    "print(np.ones(l , dtype=int))\n"
   ]
  },
  {
   "cell_type": "code",
   "execution_count": null,
   "metadata": {},
   "outputs": [],
   "source": [
    "# Identity\n",
    "print(np.identity(3)) # square matrix forming\n"
   ]
  },
  {
   "cell_type": "code",
   "execution_count": null,
   "metadata": {},
   "outputs": [],
   "source": [
    "# eye  (print 1 as a diagonal k=1 is upper shift k=-1 lower shift k=0 default)\n",
    "print(np.eye(3,5))\n",
    "print()\n",
    "print(np.eye(3,5 , k=2))\n"
   ]
  },
  {
   "cell_type": "code",
   "execution_count": null,
   "metadata": {},
   "outputs": [],
   "source": [
    "print(np.eye(3,4,k=1))\n",
    "print()\n",
    "print(np.eye(3,4,k=-1))"
   ]
  },
  {
   "cell_type": "code",
   "execution_count": null,
   "metadata": {},
   "outputs": [],
   "source": [
    "import numpy as np\n",
    "a,b = input().split()\n",
    "print(np.eye(int(a) , int(b) , k = 0))"
   ]
  },
  {
   "cell_type": "code",
   "execution_count": null,
   "metadata": {},
   "outputs": [],
   "source": [
    "import numpy\n",
    "(numpy.eye(*map(int,input().split())))"
   ]
  },
  {
   "cell_type": "code",
   "execution_count": null,
   "metadata": {},
   "outputs": [],
   "source": [
    "import numpy\n",
    "print(str(numpy.eye(*map(int,input().split()))).replace('1',' 5').replace('0',' 0'))"
   ]
  },
  {
   "cell_type": "code",
   "execution_count": null,
   "metadata": {},
   "outputs": [],
   "source": [
    "import numpy as np\n",
    "a = np.array([1,2,3,4] , float)\n",
    "b = np.array([5,6,7,8] , float)\n",
    "print(a+b)\n",
    "print(np.add(a,b))\n",
    "print(np.multiply(a,b))\n",
    "print(np.divide(a,b))\n",
    "print(np.power(a,b))\n",
    "print(np.mod(a,b))"
   ]
  },
  {
   "cell_type": "code",
   "execution_count": null,
   "metadata": {},
   "outputs": [],
   "source": [
    "import numpy\n",
    "a , b = list(map(int , input().split()))\n",
    "la = numpy.array(list(map(int , input().split())))\n",
    "lb = numpy.array(list(map(int , input().split())))\n",
    "print(numpy.add(la,lb))\n",
    "print(numpy.subtract(la,lb))\n",
    "print(numpy.multiply(la,lb))\n",
    "print(numpy.divmod(la,lb)[0])\n",
    "print(numpy.mod(la,lb))\n",
    "print(numpy.power(la,lb))"
   ]
  },
  {
   "cell_type": "code",
   "execution_count": null,
   "metadata": {},
   "outputs": [],
   "source": [
    "import numpy as np\n",
    "n, m = map(int, input().split())\n",
    "a, b = (np.array([input().split() for _ in range(n)], dtype=int) for _ in range(2))\n",
    "print(a+b, a-b, a*b, a//b, a%b, a**b, sep='\\n')"
   ]
  },
  {
   "cell_type": "code",
   "execution_count": null,
   "metadata": {},
   "outputs": [],
   "source": [
    "import numpy\n",
    "\n",
    "my_array = numpy.array([[2, 5], \n",
    "                        [3, 7],\n",
    "                        [1, 3],\n",
    "                        [4, 0]])\n",
    "\n",
    "print (numpy.min(my_array, axis = 0))         #Output : [1 0]\n",
    "print (numpy.min(my_array, axis = 1))         #Output : [2 3 1 0]\n",
    "print (numpy.min(my_array, axis = None))      #Output : 0\n",
    "print (numpy.min(my_array))                   #Output : 0"
   ]
  },
  {
   "cell_type": "code",
   "execution_count": null,
   "metadata": {},
   "outputs": [],
   "source": [
    "import numpy\n",
    "\n",
    "my_array = numpy.array([[2, 5], \n",
    "                        [3, 7],\n",
    "                        [1, 3],\n",
    "                        [4, 0]])\n",
    "\n",
    "print (numpy.max(my_array, axis = 0))         #Output : [4 7]\n",
    "print (numpy.max(my_array, axis = 1) )        #Output : [5 7 3 4]\n",
    "print (numpy.max(my_array, axis = None))      #Output : 7\n",
    "print (numpy.max(my_array))                   #Output : 7"
   ]
  },
  {
   "cell_type": "code",
   "execution_count": null,
   "metadata": {},
   "outputs": [],
   "source": [
    "n , m = map(int , input().split())\n",
    "l = []\n",
    "for i in range(n):\n",
    "        l.append(min(list(map(int , input().split()))))\n",
    "print(max(l))"
   ]
  },
  {
   "cell_type": "markdown",
   "metadata": {},
   "source": [
    "1. Mean\n",
    "2. Varience\n",
    "3. Standard Deviation"
   ]
  },
  {
   "cell_type": "code",
   "execution_count": null,
   "metadata": {},
   "outputs": [],
   "source": [
    "import numpy\n",
    "\n",
    "my_array = numpy.array([ [1, 2], [3, 4] , [5, 6]])\n",
    "\n",
    "print (numpy.mean(my_array, axis = 0))        #Output : [ 3.  4.] column wise\n",
    "print (numpy.mean(my_array, axis = 1))        #Output : [ 1.5  3.5 5.5] row wise\n",
    "print (numpy.mean(my_array, axis = None))     #Output : 2.5\n",
    "print (numpy.mean(my_array))                  #Output : 2.5"
   ]
  },
  {
   "cell_type": "code",
   "execution_count": null,
   "metadata": {},
   "outputs": [],
   "source": [
    "import numpy\n",
    "\n",
    "my_array = numpy.array([ [1, 2], [3, 4] ])\n",
    "\n",
    "print (numpy.var(my_array, axis = 0))         #Output : [ 1.  1.]\n",
    "print (numpy.var(my_array, axis = 1))         #Output : [ 0.25  0.25]\n",
    "print (numpy.var(my_array, axis = None))      #Output : 1.25\n",
    "print (numpy.var(my_array))                   #Output : 1.25"
   ]
  },
  {
   "cell_type": "code",
   "execution_count": null,
   "metadata": {},
   "outputs": [],
   "source": [
    "import numpy\n",
    "\n",
    "my_array = numpy.array([ [1, 2], [3, 4] ])\n",
    "\n",
    "print (numpy.std(my_array, axis = 0))         #Output : [ 1.  1.]\n",
    "print (numpy.std(my_array, axis = 1))         #Output : [ 0.5  0.5]\n",
    "print (numpy.std(my_array, axis = None))      #Output : 1.11803398875\n",
    "print (numpy.std(my_array))                   #Output : 1.11803398875"
   ]
  },
  {
   "cell_type": "code",
   "execution_count": null,
   "metadata": {},
   "outputs": [],
   "source": [
    "The mean along axis 1\n",
    "The var along axis 0\n",
    "The std along axis None\n",
    "\n"
   ]
  },
  {
   "cell_type": "code",
   "execution_count": null,
   "metadata": {},
   "outputs": [],
   "source": [
    "import numpy\n",
    "n , m = map(int , input().split())\n",
    "l = []\n",
    "for i in range(n):\n",
    "        l.append((list(map(int , input().split()))))\n"
   ]
  },
  {
   "cell_type": "code",
   "execution_count": null,
   "metadata": {},
   "outputs": [],
   "source": [
    "l = numpy.array(l)\n",
    "numpy.set_printoptions(legacy='1.13')\n",
    "print(numpy.mean(l , axis=1))\n",
    "print(numpy.var(l , axis=0))\n",
    "print(numpy.std(l , axis=None))"
   ]
  },
  {
   "cell_type": "code",
   "execution_count": null,
   "metadata": {},
   "outputs": [],
   "source": [
    "n = np.array([input().split() for _ in range(int(input().split()[0]))],int)\n",
    "print(np.mean(n,axis=1),np.var(n,axis=0),np.std(n),sep=\"\\n\")"
   ]
  },
  {
   "cell_type": "code",
   "execution_count": null,
   "metadata": {},
   "outputs": [],
   "source": [
    "import numpy\n",
    "\n",
    "arr = numpy.array([[int(i) for i in input().split()] for _ in range(int(input()[0]))])\n",
    "print(numpy.mean(arr, axis = 1), numpy.var(arr, axis = 0), numpy.std(arr), sep = \"\\n\")"
   ]
  },
  {
   "cell_type": "markdown",
   "metadata": {},
   "source": [
    "# Linear Algebra"
   ]
  },
  {
   "cell_type": "code",
   "execution_count": null,
   "metadata": {},
   "outputs": [],
   "source": [
    "# Linear Algebra\n",
    "print (numpy.linalg.det([[1 , 2], [3, 4]]))       #Output : -2.0  compute deerminant of array\n",
    "vals, vecs = numpy.linalg.eig([[1 , 2], [2, 1]])  # compute eignvalues\n",
    "print (vals)                                      #Output : [ 3. -1.]\n",
    "print( vecs )                                     #Output : [[ 0.70710678 -0.70710678]\n",
    "                                                #          [ 0.70710678  0.70710678]]"
   ]
  },
  {
   "cell_type": "code",
   "execution_count": null,
   "metadata": {},
   "outputs": [],
   "source": [
    "print (numpy.linalg.inv([[1 , 2], [2, 1]]))       #Output : [[-0.33333333  0.66666667]  multiplicative inverse\n",
    "#numpy.set_printoptions(legacy='1.13')  #          [ 0.66666667 -0.33333333]]"
   ]
  },
  {
   "cell_type": "markdown",
   "metadata": {},
   "source": [
    "1. Floor\n",
    "2. ceil\n",
    "3. rent"
   ]
  },
  {
   "cell_type": "code",
   "execution_count": null,
   "metadata": {},
   "outputs": [],
   "source": [
    "import numpy\n",
    "l = numpy.array(input().split() , float)"
   ]
  },
  {
   "cell_type": "code",
   "execution_count": null,
   "metadata": {},
   "outputs": [],
   "source": [
    "l = [-1.7, -1.5, -0.2, 0.2, 1.5, 1.7, 2.0]\n",
    "print(numpy.floor(l)) # toward positive\n",
    "print(numpy.ceil(l)) # jis direction m jara h uski floor value\n",
    "print(numpy.rint(l)) #jis direction m jara h uski round off value\n",
    "print(np.trunc(l))"
   ]
  }
 ],
 "metadata": {
  "kernelspec": {
   "display_name": "Python 3",
   "language": "python",
   "name": "python3"
  },
  "language_info": {
   "codemirror_mode": {
    "name": "ipython",
    "version": 3
   },
   "file_extension": ".py",
   "mimetype": "text/x-python",
   "name": "python",
   "nbconvert_exporter": "python",
   "pygments_lexer": "ipython3",
   "version": "3.6.5"
  }
 },
 "nbformat": 4,
 "nbformat_minor": 2
}
