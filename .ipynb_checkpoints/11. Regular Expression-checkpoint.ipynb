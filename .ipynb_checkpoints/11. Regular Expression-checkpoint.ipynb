{
 "cells": [
  {
   "cell_type": "code",
   "execution_count": 1,
   "metadata": {},
   "outputs": [],
   "source": [
    "import re"
   ]
  },
  {
   "cell_type": "code",
   "execution_count": 2,
   "metadata": {},
   "outputs": [
    {
     "name": "stdout",
     "output_type": "stream",
     "text": [
      "<_sre.SRE_Match object; span=(2, 5), match='cat'>\n"
     ]
    }
   ],
   "source": [
    "x = re.search(\"cat\",\"A cat is an animal\")\n",
    "print(x)"
   ]
  },
  {
   "cell_type": "code",
   "execution_count": 3,
   "metadata": {},
   "outputs": [
    {
     "name": "stdout",
     "output_type": "stream",
     "text": [
      "I found one!\n"
     ]
    }
   ],
   "source": [
    "# The [] matches the particular characters from them \n",
    "line = \"He is a German called Mayer.\"\n",
    "if re.search(r\"M[ae][iy]er\",line): \n",
    "    print(\"I found one!\")"
   ]
  },
  {
   "cell_type": "code",
   "execution_count": 10,
   "metadata": {},
   "outputs": [
    {
     "name": "stdout",
     "output_type": "stream",
     "text": [
      "<_sre.SRE_Match object; span=(0, 5), match='Mayer'>\n",
      "None\n"
     ]
    }
   ],
   "source": [
    "# The caret '^' matches the start of the string\n",
    "s1 = \"Mayer is a very common Name\"\n",
    "s2 = \"He is called Mayer but he isn't German.\"\n",
    "print(re.search(r\"^M[ae][iy]er\", s1))\n",
    "\n",
    "print(re.search(r\"^M[ae][iy]er\", s2))\n"
   ]
  },
  {
   "cell_type": "code",
   "execution_count": 14,
   "metadata": {},
   "outputs": [
    {
     "name": "stdout",
     "output_type": "stream",
     "text": [
      "He is called Mayer but he isn't German.\n",
      "Mayer is a very common Name\n",
      "\n",
      "None\n"
     ]
    }
   ],
   "source": [
    "s = s2 + \"\\n\" + s1\n",
    "print(s)\n",
    "print()\n",
    "print(re.search(r\"^M[ae][iy]er\", s)) # '^' caret match only when string appear at starting position like here 'He' appears\n",
    " # so it return None"
   ]
  },
  {
   "cell_type": "code",
   "execution_count": 15,
   "metadata": {},
   "outputs": [
    {
     "name": "stdout",
     "output_type": "stream",
     "text": [
      "<_sre.SRE_Match object; span=(40, 45), match='Mayer'>\n",
      "<_sre.SRE_Match object; span=(40, 45), match='Mayer'>\n",
      "None\n"
     ]
    }
   ],
   "source": [
    "# If we want to match starting as well as middle string then\n",
    "print(re.search(r\"^M[ae][iy]er\", s, re.MULTILINE)) # this allow us to match even string lie in middle of sentence\n",
    "\n",
    "print(re.search(r\"^M[ae][iy]er\", s, re.M))\n",
    "\n",
    "print(re.match(r\"^M[ae][iy]er\", s, re.M))\n"
   ]
  },
  {
   "cell_type": "code",
   "execution_count": 34,
   "metadata": {},
   "outputs": [
    {
     "name": "stdout",
     "output_type": "stream",
     "text": [
      "<_sre.SRE_Match object; span=(7, 14), match='Python.'>\n",
      "None\n",
      "None\n",
      "<_sre.SRE_Match object; span=(7, 14), match='Python.'>\n"
     ]
    }
   ],
   "source": [
    "# '$' doller sign matches the end of the string as well as before newline\n",
    "print(re.search(r\"Python\\.$\",\"I like Python.\"))\n",
    "\n",
    "print(re.search(r\"Python\\.$\",\"I like Python and Perl.\"))\n",
    "\n",
    "print(re.search(r\"Python\\.$\",\"I like Python.\\nSome prefer Java or Perl.\"))\n",
    "\n",
    "print(re.search(r\"Python\\.$\",\"I like Python.\\nSome prefer Java or Perl.\", re.M))\n"
   ]
  },
  {
   "cell_type": "markdown",
   "metadata": {},
   "source": [
    "You might have realized that it can be quite cumbersome to construe certain character classes. A good example is the character class, which describes a valid word character. These are all lower case and uppercase characters plus all the digits and the underscore, corresponding to the following regular expression: r\"[a-zA-Z0-9_]\"\n",
    "\n",
    "The special sequences consist of \"\\\\\" and a character from the following list:\n",
    "\n",
    "\\d\tMatches any decimal digit; equivalent to the set [0-9].\n",
    "\n",
    "\\D\tThe complement of \\d. It matches any non-digit character; equivalent to the set [^0-9].\n",
    "\n",
    "\\s\tMatches any whitespace character; equivalent to [ \\t\\n\\r\\f\\v].\n",
    "\n",
    "\\S\tThe complement of \\s. It matches any non-whitespace character; equiv. to [^ \\t\\n\\r\\f\\v].\n",
    "\n",
    "\\w\tMatches any alphanumeric character; equivalent to [a-zA-Z0-9_]. With LOCALE, it will match the set [a-zA-Z0-9_] plus characters defined as letters for the current locale.\n",
    "\n",
    "\\W\tMatches the complement of \\w.\n",
    "\n",
    "\\b\tMatches the empty string, but only at the start or end of a word.\n",
    "\n",
    "\\B\tMatches the empty string, but not at the start or end of a word.\n",
    "\n",
    "\\\\\tMatches a literal backslash."
   ]
  },
  {
   "cell_type": "code",
   "execution_count": 18,
   "metadata": {},
   "outputs": [
    {
     "name": "stdout",
     "output_type": "stream",
     "text": [
      "<_sre.SRE_Match object; span=(0, 5), match='Mayer'>\n",
      "<_sre.SRE_Match object; span=(13, 18), match='Meyer'>\n",
      "<_sre.SRE_Match object; span=(0, 5), match='Mayer'>\n",
      "None\n"
     ]
    }
   ],
   "source": [
    "# Matching beginning and ending\n",
    "\n",
    "# difference between search and match\n",
    "import re\n",
    "s1 = \"Mayer is a very common Name\"\n",
    "s2 = \"He is called Meyer but he isn't German.\"\n",
    "\n",
    "\n",
    "print(re.search(r\"M[ae][iy]er\", s1))\n",
    "\n",
    "print(re.search(r\"M[ae][iy]er\", s2))\n",
    "\n",
    "print(re.match(r\"M[ae][iy]er\", s1))\n",
    "\n",
    "print(re.match(r\"M[ae][iy]er\", s2))\n"
   ]
  },
  {
   "cell_type": "code",
   "execution_count": 19,
   "metadata": {},
   "outputs": [
    {
     "name": "stdout",
     "output_type": "stream",
     "text": [
      "group:  232454\n",
      "Span:  (17, 23)\n",
      "Start:  17\n",
      "End:  23\n"
     ]
    },
    {
     "data": {
      "text/plain": [
       "(17, 23)"
      ]
     },
     "execution_count": 19,
     "metadata": {},
     "output_type": "execute_result"
    }
   ],
   "source": [
    "#  finding plus quantifier\n",
    "\n",
    "\n",
    "mo = re.search(\"[0-9]+\", \"Customer number: 232454, Date: February 12, 2011\")\n",
    "\n",
    "print(\"group: \",mo.group())\n",
    "\n",
    "print(\"Span: \",mo.span())\n",
    "\n",
    "print(\"Start: \",mo.start())\n",
    "\n",
    "print(\"End: \",mo.end())\n",
    "\n",
    "mo.span()[0],mo.span()[1]\n"
   ]
  },
  {
   "cell_type": "code",
   "execution_count": 21,
   "metadata": {},
   "outputs": [
    {
     "name": "stdout",
     "output_type": "stream",
     "text": [
      "['fat', 'cat', 'eat', 'oat', 'rat', 'eat']\n"
     ]
    }
   ],
   "source": [
    "t=\"A fat cat doesn't eat oat but a rat eats bats.\"\n",
    "mo = re.findall(\"[force]at\", t) # find all words starting with ['f','o','r','c','e'] + at like fat, oat, rat, cat  eat\n",
    "print(mo)\n"
   ]
  },
  {
   "cell_type": "code",
   "execution_count": 27,
   "metadata": {},
   "outputs": [
    {
     "name": "stdout",
     "output_type": "stream",
     "text": [
      "fat\n"
     ]
    }
   ],
   "source": [
    "mo = re.search(\"[force]at\",t)\n",
    "if mo : print(mo.group())"
   ]
  },
  {
   "cell_type": "code",
   "execution_count": 28,
   "metadata": {},
   "outputs": [
    {
     "name": "stdout",
     "output_type": "stream",
     "text": [
      "no I said no I will no.\n"
     ]
    }
   ],
   "source": [
    "# Search and replace\n",
    "\n",
    "st = \"yes I said yes I will Yes.\"\n",
    "res = re.sub(\"[yY]es\",\"no\", st)\n",
    "\n",
    "print(res)\n"
   ]
  }
 ],
 "metadata": {
  "kernelspec": {
   "display_name": "Python 3",
   "language": "python",
   "name": "python3"
  },
  "language_info": {
   "codemirror_mode": {
    "name": "ipython",
    "version": 3
   },
   "file_extension": ".py",
   "mimetype": "text/x-python",
   "name": "python",
   "nbconvert_exporter": "python",
   "pygments_lexer": "ipython3",
   "version": "3.6.5"
  }
 },
 "nbformat": 4,
 "nbformat_minor": 2
}
