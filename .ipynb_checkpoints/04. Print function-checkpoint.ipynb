{
 "cells": [
  {
   "cell_type": "code",
   "execution_count": 1,
   "metadata": {},
   "outputs": [
    {
     "name": "stdout",
     "output_type": "stream",
     "text": [
      "value1 value2\n"
     ]
    }
   ],
   "source": [
    "import sys\n",
    "print('value1','value2' ,sep=' ', end='\\n', file = sys.stdout, flush=False)\n"
   ]
  },
  {
   "cell_type": "code",
   "execution_count": 2,
   "metadata": {},
   "outputs": [
    {
     "name": "stdout",
     "output_type": "stream",
     "text": [
      "a b\n",
      "a-b\n"
     ]
    }
   ],
   "source": [
    "print('a','b')\n",
    "print('a','b',sep='-')"
   ]
  },
  {
   "cell_type": "markdown",
   "metadata": {},
   "source": [
    "The output of the print function is send to the standard output stream (sys.stdout) by default. By redefining the keyword parameter \"file\" \n",
    "we can send the output into a different stream e.g. sys.stderr or a file:"
   ]
  },
  {
   "cell_type": "code",
   "execution_count": 3,
   "metadata": {},
   "outputs": [],
   "source": [
    "fl = open('sample.txt','w')\n",
    "print('this is sample text to check whether print() is print or not? ',file=fl)\n",
    "fl.close()"
   ]
  },
  {
   "cell_type": "code",
   "execution_count": 4,
   "metadata": {},
   "outputs": [
    {
     "name": "stdout",
     "output_type": "stream",
     "text": [
      "{'o', 't', 'y', 'n', 'p', 'h'}\n"
     ]
    }
   ],
   "source": [
    "k=set('python')\n",
    "print(k)\n"
   ]
  },
  {
   "cell_type": "code",
   "execution_count": 5,
   "metadata": {},
   "outputs": [
    {
     "name": "stdout",
     "output_type": "stream",
     "text": [
      "12 ** 123.131\n"
     ]
    }
   ],
   "source": [
    "l = [12,123.131]\n",
    "print(l[0],l[1],sep=' ** ')"
   ]
  },
  {
   "cell_type": "code",
   "execution_count": 7,
   "metadata": {},
   "outputs": [
    {
     "name": "stdout",
     "output_type": "stream",
     "text": [
      "12 ** 123.131\n"
     ]
    }
   ],
   "source": [
    "# string concatenation\n",
    "print(str(l[0])+\" ** \"+str(l[1]))"
   ]
  },
  {
   "cell_type": "code",
   "execution_count": 14,
   "metadata": {},
   "outputs": [
    {
     "name": "stdout",
     "output_type": "stream",
     "text": [
      "maths                         123132 science            123123.12\n"
     ]
    }
   ],
   "source": [
    "print('maths %30d science %20.2f'%(123132,123123.123123)) "
   ]
  },
  {
   "cell_type": "markdown",
   "metadata": {},
   "source": [
    "# Conversion\tMeaning\n",
    "### format  =  string % (tuple)\n",
    "### % = string modulo operator\n",
    "01. d\tSigned integer decimal.\n",
    "02. i\tSigned integer decimal.\n",
    "03. o\tUnsigned octal.\n",
    "04. u\tObsolete and equivalent to 'd', i.e. signed integer decimal.\n",
    "05. x\tUnsigned hexadecimal (lowercase).\n",
    "06. X\tUnsigned hexadecimal (uppercase).\n",
    "07. e\tFloating point exponential format (lowercase).\n",
    "08. E\tFloating point exponential format (uppercase).\n",
    "09. f\tFloating point decimal format.\n",
    "10. F\tFloating point decimal format.\n",
    "11. g\tSame as \"e\" if exponent is greater than -4 or less than precision, \"f\" otherwise.\n",
    "12. G\tSame as \"E\" if exponent is greater than -4 or less than precision, \"F\" otherwise.\n",
    "13. c\tSingle character (accepts integer or single character string).\n",
    "14. r\tString (converts any python object using repr()).\n",
    "15. s\tString (converts any python object using str()).\n",
    "16. %\tNo argument is converted, results in a \"%\" character in the result."
   ]
  },
  {
   "cell_type": "code",
   "execution_count": 22,
   "metadata": {},
   "outputs": [
    {
     "name": "stdout",
     "output_type": "stream",
     "text": [
      "3.654e+04\n",
      "      3.654E+04\n",
      "66000000000\n",
      "6.600000e+10\n",
      "6.654657e+11\n"
     ]
    }
   ],
   "source": [
    "print('%2.3e'%(36541))  # the '.' tell us how much space you show before and after '.' \n",
    "print('%15.3E'%(36541))   #15 mean full length of string 4 means after . length of string \n",
    "print('%d'%(6.6e+010))\n",
    "print('%e'%(6.6e+010))\n",
    "print('%e'%(665465654654))"
   ]
  },
  {
   "cell_type": "code",
   "execution_count": 23,
   "metadata": {},
   "outputs": [
    {
     "name": "stdout",
     "output_type": "stream",
     "text": [
      "        12\n",
      "       012\n",
      "     00012\n"
     ]
    }
   ],
   "source": [
    "print('%10.1o'%(10))\n",
    "print('%10.3o'%(10))\n",
    "print('%10.5o'%(10))"
   ]
  },
  {
   "cell_type": "code",
   "execution_count": 82,
   "metadata": {},
   "outputs": [
    {
     "name": "stdout",
     "output_type": "stream",
     "text": [
      "   2d\n",
      " 002d\n",
      " 002D\n"
     ]
    }
   ],
   "source": [
    "print('%5x'%(45))\n",
    "print('%5.4x'%(45))\n",
    "print('%5.4X'%(45))\n"
   ]
  },
  {
   "cell_type": "code",
   "execution_count": 83,
   "metadata": {},
   "outputs": [
    {
     "name": "stdout",
     "output_type": "stream",
     "text": [
      "only one percentage sign %\n"
     ]
    }
   ],
   "source": [
    "print('only one percentage sign %%'%())"
   ]
  },
  {
   "cell_type": "markdown",
   "metadata": {},
   "source": [
    "1. '#'\tUsed with o, x or X specifiers the value is preceded with 0, 0o, 0O, 0x or 0X respectively.\n",
    "2. '0'\tThe conversion result will be zero padded for numeric values.\n",
    "3. '-'\tThe converted value is left adjusted\n",
    "4.  \tIf no sign (minus sign e.g.) is going to be written, a blank space is inserted before the value.\n",
    "5. '+'\tA sign character (\"+\" or \"-\") will precede the conversion (overrides a \"space\" flag)."
   ]
  },
  {
   "cell_type": "code",
   "execution_count": 99,
   "metadata": {},
   "outputs": [
    {
     "name": "stdout",
     "output_type": "stream",
     "text": [
      "   2D\n",
      " 0X2D\n",
      "\n",
      " 002D\n",
      "0X002D\n"
     ]
    }
   ],
   "source": [
    "print('%5X'%(45))\n",
    "print('%#5X'%(45))\n",
    "\n",
    "print('\\n%5.4X'%(45))\n",
    "print('%#5.4X'%(45))\n"
   ]
  },
  {
   "cell_type": "code",
   "execution_count": 115,
   "metadata": {},
   "outputs": [
    {
     "name": "stdout",
     "output_type": "stream",
     "text": [
      " 0o12\n"
     ]
    }
   ],
   "source": [
    "print('%#5o'%( 10))"
   ]
  },
  {
   "cell_type": "code",
   "execution_count": 118,
   "metadata": {},
   "outputs": [
    {
     "name": "stdout",
     "output_type": "stream",
     "text": [
      "+10\n",
      " 10\n",
      "+42\n",
      " 42\n",
      "42\n"
     ]
    }
   ],
   "source": [
    "print('%+d'% (10))\n",
    "print(\"% d\"% (10))\n",
    "\n",
    "print(\"%+2d\"% (42))\n",
    "print(\"% 2d\"% (42))\n",
    "\n",
    "print(\"%2d\"% (42))"
   ]
  },
  {
   "cell_type": "code",
   "execution_count": 127,
   "metadata": {},
   "outputs": [
    {
     "name": "stdout",
     "output_type": "stream",
     "text": [
      "First argument 10 second argument 20\n",
      "First argument 10 second argument 20\n",
      "second argument 20 first argument 10\n"
     ]
    }
   ],
   "source": [
    "print(\"First argument {} second argument {}\".format(10,20)) # either u not define index\n",
    "print(\"First argument {0} second argument {1}\".format(10,20)) # or define index\n",
    "print(\"second argument {1} first argument {0}\".format(10,20)) # or define index"
   ]
  },
  {
   "cell_type": "code",
   "execution_count": 150,
   "metadata": {},
   "outputs": [
    {
     "name": "stdout",
     "output_type": "stream",
     "text": [
      "First argument  second argument 79545.615\n",
      "First argument 565 second argument 79545.615000\n"
     ]
    }
   ],
   "source": [
    "print(\"First argument  second argument {1}\".format(565,79545.615)) \n",
    "print(\"First argument {0:2d} second argument {1:3f}\".format(565,79545.615)) "
   ]
  },
  {
   "cell_type": "code",
   "execution_count": 151,
   "metadata": {},
   "outputs": [
    {
     "name": "stdout",
     "output_type": "stream",
     "text": [
      "First argument [0] second argument 79545.615\n",
      "First argument (0) second argument 79545.615\n"
     ]
    }
   ],
   "source": [
    "print(\"First argument [0] second argument {1}\".format(565,79545.615)) \n",
    "print(\"First argument (0) second argument {1}\".format(565,79545.615)) "
   ]
  },
  {
   "cell_type": "code",
   "execution_count": 156,
   "metadata": {},
   "outputs": [
    {
     "name": "stdout",
     "output_type": "stream",
     "text": [
      "First argument   79545.62 second argument 79545.61500\n"
     ]
    }
   ],
   "source": [
    "# can be use more than once\n",
    "print(\"First argument {1:10.2f} second argument {1:10.5f}\".format(565,79545.615)) "
   ]
  },
  {
   "cell_type": "code",
   "execution_count": 157,
   "metadata": {},
   "outputs": [
    {
     "name": "stdout",
     "output_type": "stream",
     "text": [
      "First argument 565 second argument 79545.615\n"
     ]
    }
   ],
   "source": [
    "# keyword parameters\n",
    "print(\"First argument {a} second argument {b}\".format(a=565,b=79545.615)) "
   ]
  },
  {
   "cell_type": "markdown",
   "metadata": {},
   "source": [
    "# conversion meanings\n",
    "1. '<'\tThe field will be left-aligned within the available space. This is usually the default for strings.\n",
    "2. '>'\tThe field will be right-aligned within the available space. This is the default for numbers.\n",
    "3. '0'\tIf the width field is preceded by a zero ('0') character, sign-aware zero-padding for numeric types will be enabled.\n",
    "4. ','\tThis option signals the use of a comma for a thousands separator.\n",
    "5. '='\tForces the padding to be placed after the sign (if any) but before the digits. This is used for printing fields in the form \"+000000120\". This alignment option is only valid for numeric types.\n",
    "6. '^'\tForces the field to be centered within the available space.\n",
    "7. '+'\tindicates that a sign should be used for both positive as well as negative numbers.\n",
    "8. '-'\tindicates that a sign should be used only for negative numbers, which is the default behavior.\n",
    "9. space\tindicates that a leading space should be used on positive numbers, and a minus sign on negative numbers.\n"
   ]
  },
  {
   "cell_type": "markdown",
   "metadata": {},
   "source": [
    "# '<' left justify '>' right justify"
   ]
  },
  {
   "cell_type": "code",
   "execution_count": 183,
   "metadata": {},
   "outputs": [
    {
     "name": "stdout",
     "output_type": "stream",
     "text": [
      "First argument 565654               second argument 79545.62\n",
      "First argument               565654 second argument 79545.62\n"
     ]
    }
   ],
   "source": [
    "print(\"First argument {0:<20s} second argument {1:6.2f}\".format(\"565654\",79545.615)) \n",
    "print(\"First argument {0:>20s} second argument {1:6.2f}\".format(\"565654\",79545.615)) "
   ]
  },
  {
   "cell_type": "code",
   "execution_count": 27,
   "metadata": {},
   "outputs": [
    {
     "name": "stdout",
     "output_type": "stream",
     "text": [
      "The value is 000378\n",
      "The value is -00378\n",
      "The value is -378\n",
      "The value is   -378\n"
     ]
    }
   ],
   "source": [
    "x = 378\n",
    "print(\"The value is {:06d}\".format(x))\n",
    "x = -378\n",
    "print(\"The value is {:06d}\".format(x))\n",
    "print(\"The value is {:,}\".format(x))\n",
    "print(\"The value is {0:6,d}\".format(x))\n"
   ]
  },
  {
   "cell_type": "code",
   "execution_count": 34,
   "metadata": {},
   "outputs": [
    {
     "name": "stdout",
     "output_type": "stream",
     "text": [
      "The value is 5,897,653,423.897\n"
     ]
    }
   ],
   "source": [
    "x = 5897653423.89676\n",
    "print(\"The value is {0:,.3f}\".format(x))\n"
   ]
  },
  {
   "cell_type": "code",
   "execution_count": 40,
   "metadata": {},
   "outputs": [
    {
     "name": "stdout",
     "output_type": "stream",
     "text": [
      "The capital of Ontario is Toronto\n"
     ]
    }
   ],
   "source": [
    "data = dict(province=\"Ontario\",capital=\"Toronto\")\n",
    "\n",
    "print(\"The capital of {province} is {capital}\".format(**data))\n",
    "#The double \"*\" in front of data turns data automatically into the form 'province=\"Ontario\",capital=\"Toronto\"'.\n"
   ]
  },
  {
   "cell_type": "code",
   "execution_count": 197,
   "metadata": {},
   "outputs": [
    {
     "name": "stdout",
     "output_type": "stream",
     "text": [
      "Countries and their capitals:\n",
      "United States: Washington\n",
      "US: Washington\n",
      "Canada: Ottawa\n",
      "Germany: Berlin\n",
      "France: Paris\n",
      "England: London\n",
      "UK: London\n",
      "Switzerland: Bern\n",
      "Austria: Vienna\n",
      "Netherlands: Amsterdam\n"
     ]
    }
   ],
   "source": [
    "capital_country = {\"United States\" : \"Washington\", \n",
    "                   \"US\" : \"Washington\", \n",
    "                   \"Canada\" : \"Ottawa\",\n",
    "                   \"Germany\": \"Berlin\",\n",
    "                   \"France\" : \"Paris\",\n",
    "                   \"England\" : \"London\",\n",
    "                   \"UK\" : \"London\",\n",
    "                   \"Switzerland\" : \"Bern\",\n",
    "                   \"Austria\" : \"Vienna\",\n",
    "                   \"Netherlands\" : \"Amsterdam\"}\n",
    "\n",
    "print(\"Countries and their capitals:\")\n",
    "for c in capital_country:\n",
    "    print(\"{country}: {capital}\".format(country=c, capital=capital_country[c]))"
   ]
  },
  {
   "cell_type": "code",
   "execution_count": 202,
   "metadata": {},
   "outputs": [
    {
     "data": {
      "text/plain": [
       "{'__name__': '__main__',\n",
       " '__doc__': 'Automatically created module for IPython interactive environment',\n",
       " '__package__': None,\n",
       " '__loader__': None,\n",
       " '__spec__': None,\n",
       " '__builtin__': <module 'builtins' (built-in)>,\n",
       " '__builtins__': <module 'builtins' (built-in)>,\n",
       " '_ih': ['',\n",
       "  \"import sys\\nprint('value1','value2' ,sep=' ', end='\\\\n', file = sys.stdout, flush=False)\",\n",
       "  \"print('a','b')\\nprint('a','b',sep='-')\",\n",
       "  \"fl = open('sample.txt','w')\\nprint('this is sample text to check whether print() is print or not? ',file=fl)\\nfl.close()\",\n",
       "  \"k=set('python')\\nprint(k)\",\n",
       "  \"l = [12,123.131]\\nprint(l[0],l[1],sep=' ** ')\",\n",
       "  '# string concatenation\\nprint(l[0]+\" ** \"+l[1])',\n",
       "  '# string concatenation\\nprint(str(l[0])+\" ** \"+str(l[1]))',\n",
       "  \"print('maths %3d science %12.2f'%(123132,123123.123123))\",\n",
       "  \"print('maths %3d science %121.2f'%(123132,123123.123123)) # % = string modulo operator\",\n",
       "  \"print('maths %3d science %120.2f'%(123132,123123.123123)) # % = string modulo operator\",\n",
       "  \"print('maths %3d science %100.2f'%(123132,123123.123123)) # % = string modulo operator\",\n",
       "  \"print('maths %3d science %10.2f'%(123132,123123.123123)) # % = string modulo operator\",\n",
       "  \"print('maths %3d science %20.2f'%(123132,123123.123123)) # % = string modulo operator\",\n",
       "  \"print('maths %30d science %20.2f'%(123132,123123.123123)) # % = string modulo operator\",\n",
       "  \"print('asdfsadf % ')\",\n",
       "  \"print('%10.3e'%())  # \",\n",
       "  \"print('%10.3e'%(300))  # \",\n",
       "  \"print('%10.3e'%(300000))  # \",\n",
       "  \"print('%10.3e'%(30000000))  # \",\n",
       "  \"print('%100.3e'%(30000000))  # \",\n",
       "  \"print('%100.3e'%(30000000))  # \",\n",
       "  \"print('%10.3e'%(30000000))  # \",\n",
       "  \"print('%10.4e'%(30000000))  # \",\n",
       "  \"print('%5.4e'%(30000000))  # the '.' tell us how much space you show before and after '.' \",\n",
       "  \"print('%10.4e'%(30000000))  # the '.' tell us how much space you show before and after '.' \",\n",
       "  \"print('%20.4e'%(30000000))  # the '.' tell us how much space you show before and after '.' \",\n",
       "  \"print('%10.4e'%(30000000))  # the '.' tell us how much space you show before and after '.' \",\n",
       "  \"print('%12.4e'%(30000000))  # the '.' tell us how much space you show before and after '.' \",\n",
       "  \"print('%11.4e'%(30000000))  # the '.' tell us how much space you show before and after '.' \",\n",
       "  \"print('%10.4e'%(30000000))  # the '.' tell us how much space you show before and after '.' \",\n",
       "  \"print('%8.4e'%(30000000))  # the '.' tell us how much space you show before and after '.' \",\n",
       "  \"print('%15.4e'%(30000000))  # the '.' tell us how much space you show before and after '.' \\n                             #15 mean full length of string 4 means after . length of string \",\n",
       "  \"print('%15.5e'%(30000000))  # the '.' tell us how much space you show before and after '.' \\n                             #15 mean full length of string 4 means after . length of string \",\n",
       "  \"print('%15.5e'%(365400))  # the '.' tell us how much space you show before and after '.' \\n                             #15 mean full length of string 4 means after . length of string \",\n",
       "  \"print('%15.5e'%(36540))  # the '.' tell us how much space you show before and after '.' \\n                             #15 mean full length of string 4 means after . length of string \",\n",
       "  \"print('%15.5e'%(3654))  # the '.' tell us how much space you show before and after '.' \\n                             #15 mean full length of string 4 means after . length of string \",\n",
       "  \"print('%15.5e'%(36541))  # the '.' tell us how much space you show before and after '.' \\n                             #15 mean full length of string 4 means after . length of string \",\n",
       "  \"print('%15.5e'%(36541))  # the '.' tell us how much space you show before and after '.' \\n                             #15 mean full length of string 4 means after . length of string \",\n",
       "  \"print('%15.5e'%(36541))  # the '.' tell us how much space you show before and after '.' \\nprint('%15.5E'%(36541))   #15 mean full length of string 4 means after . length of string \",\n",
       "  \"print('%20'%(10))\",\n",
       "  \"print('%2as'%(10))\",\n",
       "  \"print('%2aszxcv'%(10))\",\n",
       "  \"print('%2'%(10))\",\n",
       "  \"print('%2a'%(10))\",\n",
       "  \"print('%2z'%(10))\",\n",
       "  \"print('%2c'%(10))\",\n",
       "  \"print('%2c'%(10))\",\n",
       "  \"print('%2v'%(10))\",\n",
       "  \"print('%2b'%(10))\",\n",
       "  \"print('%2n'%(10))\",\n",
       "  \"print('%2m'%(10))\",\n",
       "  \"print('%2a'%(10))\",\n",
       "  \"print('%2q'%(10))\",\n",
       "  \"print('%2a'%(10))\",\n",
       "  \"print('%2d'%(10))\",\n",
       "  \"print('%2d'%(10))\",\n",
       "  \"print('%2f'%(10))\",\n",
       "  \"print('%2f'%(10))\",\n",
       "  \"print('%2f'%(10))\",\n",
       "  \"print('%.2f'%(10))\",\n",
       "  \"print('%10.2f'%(10))\",\n",
       "  \"print('%10.2f'%(10))\",\n",
       "  \"print('%f'%(10))\",\n",
       "  \"print('%o'%(10))\",\n",
       "  \"print('%O'%(10))\",\n",
       "  \"print('%o'%(10))\",\n",
       "  \"print('%10o'%(10))\",\n",
       "  \"print('%2o'%(10))\",\n",
       "  \"print('%2o'%(10))\\nprint('%2o'%(10))\",\n",
       "  \"print('%2o'%(10))\\nprint('%20o'%(10))\",\n",
       "  \"print('%2o'%(10))\\nprint('%.2o'%(10))\",\n",
       "  \"print('%2o'%(10))\\nprint('%.20o'%(10))\",\n",
       "  \"print('%2o'%(10))\\nprint('%.2o'%(10))\",\n",
       "  \"print('%2o'%(10))\\nprint('%.3o'%(10))\",\n",
       "  \"print('%10.3o'%(10))\\nprint('%10.5o'%(10))\",\n",
       "  \"print('%10.3o'%(10))\\nprint('%10.5o'%(10))\",\n",
       "  \"print('%10.1o'%(10))\\nprint('%10.3o'%(10))\\nprint('%10.5o'%(10))\",\n",
       "  \"print('%10.1o'%(10))\\nprint('%10.3o'%(10))\\nprint('%10.5o'%(10))\",\n",
       "  \"print('%5x'%(45))\",\n",
       "  \"print('%5.5x'%(45))\",\n",
       "  \"print('%5x'%(45))\",\n",
       "  \"print('%5x'%(45))\\nprint('%5.4x'%(45))\\nprint('%5.4X'%(45))\",\n",
       "  \"print('only one percentage sign %%'%())\",\n",
       "  \"print('%5x'%(45))\",\n",
       "  \"print('%5X'%(45))\",\n",
       "  \"print('%#5X'%(45))\",\n",
       "  \"print('%5X'%(45))\",\n",
       "  \"print('%#5X'%(45))\",\n",
       "  \"print('%#10X'%(45))\",\n",
       "  \"print('%#5X'%(45))\",\n",
       "  \"print('%5X'%(45))\",\n",
       "  \"print('%5X'%(45))\\nprint('%5$X'%(45))\",\n",
       "  \"print('%5X'%(45))\\nprint('%5#X'%(45))\",\n",
       "  \"print('%5X'%(45))\\nprint('%#5X'%(45))\",\n",
       "  \"print('%5X'%(45))\\nprint('%#5X'%(45))\\n\\nprint('%5.4X'%(45))\\nprint('%#5.4X'%(45))\",\n",
       "  \"print('%5X'%(45))\\nprint('%#5X'%(45))\\n\\nprint('\\\\n%5.4X'%(45))\\nprint('%#5.4X'%(45))\",\n",
       "  'hex(45)',\n",
       "  \"print('%5X'%(45))\\nprint('%#5X'%(45))\\n\\nprint('\\\\n%5.4X'%(45))\\nprint('%#5.4X'%(45))\",\n",
       "  \"print('%5X'%(45))\\nprint('%#5X'%(45))\\n\\nprint('\\\\n%5.4X'%(45))\\nprint('%#5.4X'%(45))\",\n",
       "  \"print('%#5o'%(10))\",\n",
       "  \"print('%#5o'%(10))\",\n",
       "  \"print('%d'%(10))\",\n",
       "  \"print('%#d'%(10))\",\n",
       "  \"print('%+d'%(10))\",\n",
       "  \"print('%+d'%(-10))\",\n",
       "  \"print('%+d'%(-10))\",\n",
       "  \"print('%-d'%(-10))\",\n",
       "  \"print('%-d'%(10))\",\n",
       "  \"print('%-d'%(10))\",\n",
       "  \"print('%+d'%(10))\",\n",
       "  \"print('%-d'%(10))\",\n",
       "  \"print('%*d'%(10))\",\n",
       "  \"print('%+d'%(10))\",\n",
       "  \"print('%+d'%(  10))\",\n",
       "  \"print('%#5o'%( 10))\",\n",
       "  \"print('%+d'%(  10))\",\n",
       "  'print(\\'%+d\\'%(10))\\nprint(\"% d\"% (42))\\n\\nprint(\"%+2d\"% (42))\\nprint(\"% 2d\"% (42))\\n\\nprint(\"%2d\"% (42))',\n",
       "  'print(\\'%+d\\'% (10))\\nprint(\"% d\"% (10))\\n\\nprint(\"%+2d\"% (42))\\nprint(\"% 2d\"% (42))\\n\\nprint(\"%2d\"% (42))',\n",
       "  '\"First argument {0} second argument {1}\".format(10,20)',\n",
       "  '\"First argument {3} second argument {1}\".format(10,20)',\n",
       "  '\"First argument {} second argument {1}\".format(10,20)',\n",
       "  '\"First argument {} second argument {}\".format(10,20)',\n",
       "  '\"First argument {} second argument {}\".format(10,20)',\n",
       "  '\"First argument {0} second argument {1}\".format(10,20)',\n",
       "  'print(\"First argument {} second argument {}\".format(10,20)) # either u not define index\\nprint(\"First argument {0} second argument {1}\".format(10,20)) # or define index',\n",
       "  'print(\"First argument {} second argument {}\".format(10,20)) # either u not define index\\nprint(\"First argument {0} second argument {1}\".format(10,20)) # or define index\\nprint(\"second argument {1} first argument {0}\".format(10,20)) # or define index',\n",
       "  'print(\"First argument {} second argument {}\".format(10,20)) # either u not define index\\nprint(\"First argument {0} second argument {1}\".format(10,20)) # or define index\\nprint(\"second argument {1} first argument {0}\".format(10,20)) # or define index',\n",
       "  'print(\"First argument {0:3d} second argument {1:o}\".format(584.6513,79545.615)) ',\n",
       "  'print(\"First argument {0:3d} second argument {1:X}\".format(584.6513,79545.615)) ',\n",
       "  'print(\"First argument {0:3d} second argument {1:2d}\".format(584.6513,79545.615)) ',\n",
       "  'print(\"First argument {0:3d} second argument {1:2d}\".format(584.6513,79545.615)) ',\n",
       "  'print(\"First argument {0:3d} second argument {1:2d}\".format(584.6513,79545.615)) ',\n",
       "  '\\n\"Second argument: {1:3d}, first one: {0:7.2f}\".format(47.42,11)',\n",
       "  '\\n\"Second argument: {1:3d}, first one: {0:7.2f}\".format(47.42,11)',\n",
       "  'print(\"First argument {0:3d} second argument {1:2d}\".format(58445,79545.615)) ',\n",
       "  'print(\"First argument {0:3d} second argument {1:2f}\".format(58445,79545.615)) ',\n",
       "  'print(\"First argument {0:3d} second argument {1:2f}\".format(56548445,79545.615)) ',\n",
       "  'print(\"First argument {0:3d} second argument {1:2f}\".format(565,79545.615)) ',\n",
       "  'print(\"First argument {0:3.2d} second argument {1:2f}\".format(565,79545.615)) ',\n",
       "  'print(\"First argument {0:3d} second argument {1:2f}\".format(565,79545.615)) ',\n",
       "  'print(\"First argument {0} second argument {1:2f}\".format(565,79545.615)) ',\n",
       "  'print(\"First argument [0] second argument {1:2f}\".format(565,79545.615)) ',\n",
       "  'print(\"First argument [0] second argument {1:2f}\".format(565,79545.615)) ',\n",
       "  'print(\"First argument (0) second argument {1:2f}\".format(565,79545.615)) ',\n",
       "  'print(\"First argument (0) second argument {0:2d}\".format(565,79545.615)) ',\n",
       "  'print(\"First argument (0) second argument {}\".format(565,79545.615)) ',\n",
       "  'print(\"First argument  second argument {}\".format(565,79545.615)) ',\n",
       "  'print(\"First argument  second argument {}\".format(565,79545.615)) ',\n",
       "  'print(\"First argument  second argument {1}\".format(565,79545.615)) ',\n",
       "  'print(\"First argument  second argument {1}\".format(565,79545.615)) \\nprint(\"First argument {0:2d} second argument {1:3f}\".format(565,79545.615)) ',\n",
       "  'print(\"First argument [0] second argument {1}\".format(565,79545.615)) \\nprint(\"First argument (0) second argument {1}\".format(565,79545.615)) ',\n",
       "  '# can be use more than once\\nprint(\"First argument {1:10.2f} second argument {1:10.5f}\".format(565,79545.615)) ',\n",
       "  '# can be use more than once\\nprint(\"First argument {1:10.5f} second argument {1:10.5f}\".format(565,79545.615)) ',\n",
       "  '# can be use more than once\\nprint(\"First argument {1:10.2f} second argument {1:10.5f}\".format(565,79545.615)) ',\n",
       "  '# can be use more than once\\nprint(\"First argument {1:10.1f} second argument {1:10.5f}\".format(565,79545.615)) ',\n",
       "  '# can be use more than once\\nprint(\"First argument {1:10.2f} second argument {1:10.5f}\".format(565,79545.615)) ',\n",
       "  '# keyword parameters\\nprint(\"First argument {a} second argument {b}\".format(a=565,b=79545.615)) ',\n",
       "  'print(\"First argument {0:<20s} second argument {1:6.2f}\".format(565,79545.615)) ',\n",
       "  'print(\"First argument {0:<20s} second argument {1:6.2f}\".format(\"565654\",79545.615)) ',\n",
       "  'print(\"First argument {0:<20s} second argument {1:6.2f}\".format(\"565654\",79545.615)) ',\n",
       "  'print(\"First argument {0:<20s} second argument {1:6.2f}\".format(\"565654\",79545.615)) \\nprint(\"First argument {0:>20s} second argument {1:6.2f}\".format(\"565654\",79545.615)) ',\n",
       "  'x = 378\\nprint(\"The value is {:06d}\".format(x))\\nx = -378\\nprint(\"The value is {:06d}\".format(x))\\nprint(\"The value is {:,}\".format(x))\\nprint(\"The value is {0:6,d}\".format(x))\\nx = 5897653423.89676\\nprint(\"The value is {0:12,.3f}\".format(x))',\n",
       "  'x = 378\\nprint(\"The value is {:06d}\".format(x))\\nx = -378\\nprint(\"The value is {:06d}\".format(x))\\nprint(\"The value is {:,}\".format(x))\\nprint(\"The value is {0:6,d}\".format(x))',\n",
       "  'x = 5897653423.89676\\nprint(\"The value is {0:12,.3f}\".format(x))',\n",
       "  'x = 5897653423.89676\\nprint(\"The value is {0:12,.4f}\".format(x))',\n",
       "  'x = 5897653423.89676\\nprint(\"The value is {0:12,.4f}\".format(x))',\n",
       "  'x = 5897653423.89676\\nprint(\"The value is {0:12,.3f}\".format(x))',\n",
       "  'x = 5897653423.89676\\nprint(\"The value is {0:11,.3f}\".format(x))',\n",
       "  'x = 5897653423.89676\\nprint(\"The value is {0:10,.3f}\".format(x))',\n",
       "  'x = 5897653423.89676\\nprint(\"The value is {0:10,.3f}\".format(x))',\n",
       "  'x = 5897653423.89676\\nprint(\"The value is {0:12,.3f}\".format(x))',\n",
       "  'x = 5897653423.89676\\nprint(\"The value is {0:12,.3f}\".format(x))',\n",
       "  'x = 5897653423.89676\\nprint(\"The value is {0:,.3f}\".format(x))',\n",
       "  'x = 5897653423.89676\\nprint(\"The value is {0:,.3f}\".format(x))',\n",
       "  'x = 5897653423.89676\\nprint(\"The value is {0:12,.3f}\".format(x))',\n",
       "  'x = 5897653423.89676\\nprint(\"The value is {0:,.3f}\".format(x))',\n",
       "  'x = 5897653423.89676\\nprint(\"The value is {0:.3f}\".format(x))',\n",
       "  'x = 5897653423.89676\\nprint(\"The value is {0:,.3f}\".format(x))',\n",
       "  'x = 5897653423.89676\\nprint(\"The value is {0:,.3f}\".format(x))',\n",
       "  'print(\"First argument {0:<20s} second argument {1:6.2f}\".format(\"565654\",79545.615)) \\nprint(\"First argument {0:>20s} second argument {1:6.2f}\".format(\"565654\",79545.615)) ',\n",
       "  'x = 378\\nprint(\"The value is {:06d}\".format(x))\\nx = -378\\nprint(\"The value is {:06d}\".format(x))\\nprint(\"The value is {:,}\".format(x))\\nprint(\"The value is {0:6,d}\".format(x))',\n",
       "  'x = 5897653423.89676\\nprint(\"The value is {0:,.3f}\".format(x))',\n",
       "  'print(\"First argument {0:<20s} second argument {1:6.2f}\".format(\"565654\",79545.615)) \\nprint(\"First argument {0:>20s} second argument {1:6.2f}\".format(\"565654\",79545.615)) ',\n",
       "  'x = 378\\nprint(\"The value is {:06d}\".format(x))\\nx = -378\\nprint(\"The value is {:06d}\".format(x))\\nprint(\"The value is {:,}\".format(x))\\nprint(\"The value is {0:6,d}\".format(x))',\n",
       "  'x = 5897653423.89676\\nprint(\"The value is {0:,.3f}\".format(x))',\n",
       "  'data = dict(province=\"Ontario\",capital=\"Toronto\")\\n\\nprint(\"The capital of {province} is {capital}\".format(**data))',\n",
       "  'data = dict(province=\"Ontario\",capital=\"Toronto\")\\n\\nprint(\"The capital of {province} is {capital}\".format(**data))\\ndata',\n",
       "  'data = dict(province=\"Ontario\",capital=\"Toronto\")\\n\\nprint(\"The capital of {province} is {capital}\".format(**data))\\n*data',\n",
       "  'data = dict(province=\"Ontario\",capital=\"Toronto\")\\n\\nprint(\"The capital of {province} is {capital}\".format(**data))\\n**data',\n",
       "  'data = dict(province=\"Ontario\",capital=\"Toronto\")\\n\\nprint(\"The capital of {province} is {capital}\".format(**data))\\n(**data)',\n",
       "  'data = dict(province=\"Ontario\",capital=\"Toronto\")\\n\\nprint(\"The capital of {province} is {capital}\".format(**data))\\nprint(**data)',\n",
       "  'data = dict(province=\"Ontario\",capital=\"Toronto\")\\n\\nprint(\"The capital of {province} is {capital}\".format(**data))',\n",
       "  'data = dict(province=\"Ontario\",capital=\"Toronto\")\\n\\nprint(\"The capital of {province} is {capital}\".format(data))',\n",
       "  'data = dict(province=\"Ontario\",capital=\"Toronto\")\\n\\nprint(\"The capital of {province} is {capital}\".format(*data))',\n",
       "  'data = dict(province=\"Ontario\",capital=\"Toronto\")\\n\\nprint(\"The capital of {province} is {capital}\".format(**data))',\n",
       "  'data = dict(province=\"Ontario\",capital=\"Toronto\")\\n\\nprint(\"The capital of {province} is {capital}\".format(**data))\\n#The double \"*\" in front of data turns data automatically into the form \\'province=\"Ontario\",capital=\"Toronto\"\\'.',\n",
       "  'capital_country = {\"United States\" : \"Washington\", \\n                   \"US\" : \"Washington\", \\n                   \"Canada\" : \"Ottawa\",\\n                   \"Germany\": \"Berlin\",\\n                   \"France\" : \"Paris\",\\n                   \"England\" : \"London\",\\n                   \"UK\" : \"London\",\\n                   \"Switzerland\" : \"Bern\",\\n                   \"Austria\" : \"Vienna\",\\n                   \"Netherlands\" : \"Amsterdam\"}\\n\\nprint(\"Countries and their capitals:\")\\nfor c in capital_country:\\n    print(\"{country}: {capital}\".format(country=c, capital=capital_country[c]))',\n",
       "  'locals()',\n",
       "  \"a = 42\\nb = 451\\ndef f(): return 'sucks'\\nlocals()\",\n",
       "  \"a = 42\\nb = 451\\ndef f(): return 'sucks'\\nlocals()\",\n",
       "  \"a = 42\\nb = 451\\ndef f(): return 'sucks'\\nlocals()\",\n",
       "  \"a = 42\\nb = 451\\ndef f(): return 'sucks'\\nlocals()\"],\n",
       " '_oh': {97: '0x2d',\n",
       "  119: 'First argument 10 second argument 20',\n",
       "  122: 'First argument 10 second argument 20',\n",
       "  123: 'First argument 10 second argument 20',\n",
       "  124: 'First argument 10 second argument 20',\n",
       "  133: 'Second argument:  11, first one:   47.42',\n",
       "  134: 'Second argument:  11, first one:   47.42',\n",
       "  187: {'province': 'Ontario', 'capital': 'Toronto'},\n",
       "  198: {...},\n",
       "  199: {...},\n",
       "  200: {...},\n",
       "  201: {...}},\n",
       " '_dh': ['C:\\\\Users\\\\GirrajJangid\\\\jupyter notebook\\\\Python'],\n",
       " 'In': ['',\n",
       "  \"import sys\\nprint('value1','value2' ,sep=' ', end='\\\\n', file = sys.stdout, flush=False)\",\n",
       "  \"print('a','b')\\nprint('a','b',sep='-')\",\n",
       "  \"fl = open('sample.txt','w')\\nprint('this is sample text to check whether print() is print or not? ',file=fl)\\nfl.close()\",\n",
       "  \"k=set('python')\\nprint(k)\",\n",
       "  \"l = [12,123.131]\\nprint(l[0],l[1],sep=' ** ')\",\n",
       "  '# string concatenation\\nprint(l[0]+\" ** \"+l[1])',\n",
       "  '# string concatenation\\nprint(str(l[0])+\" ** \"+str(l[1]))',\n",
       "  \"print('maths %3d science %12.2f'%(123132,123123.123123))\",\n",
       "  \"print('maths %3d science %121.2f'%(123132,123123.123123)) # % = string modulo operator\",\n",
       "  \"print('maths %3d science %120.2f'%(123132,123123.123123)) # % = string modulo operator\",\n",
       "  \"print('maths %3d science %100.2f'%(123132,123123.123123)) # % = string modulo operator\",\n",
       "  \"print('maths %3d science %10.2f'%(123132,123123.123123)) # % = string modulo operator\",\n",
       "  \"print('maths %3d science %20.2f'%(123132,123123.123123)) # % = string modulo operator\",\n",
       "  \"print('maths %30d science %20.2f'%(123132,123123.123123)) # % = string modulo operator\",\n",
       "  \"print('asdfsadf % ')\",\n",
       "  \"print('%10.3e'%())  # \",\n",
       "  \"print('%10.3e'%(300))  # \",\n",
       "  \"print('%10.3e'%(300000))  # \",\n",
       "  \"print('%10.3e'%(30000000))  # \",\n",
       "  \"print('%100.3e'%(30000000))  # \",\n",
       "  \"print('%100.3e'%(30000000))  # \",\n",
       "  \"print('%10.3e'%(30000000))  # \",\n",
       "  \"print('%10.4e'%(30000000))  # \",\n",
       "  \"print('%5.4e'%(30000000))  # the '.' tell us how much space you show before and after '.' \",\n",
       "  \"print('%10.4e'%(30000000))  # the '.' tell us how much space you show before and after '.' \",\n",
       "  \"print('%20.4e'%(30000000))  # the '.' tell us how much space you show before and after '.' \",\n",
       "  \"print('%10.4e'%(30000000))  # the '.' tell us how much space you show before and after '.' \",\n",
       "  \"print('%12.4e'%(30000000))  # the '.' tell us how much space you show before and after '.' \",\n",
       "  \"print('%11.4e'%(30000000))  # the '.' tell us how much space you show before and after '.' \",\n",
       "  \"print('%10.4e'%(30000000))  # the '.' tell us how much space you show before and after '.' \",\n",
       "  \"print('%8.4e'%(30000000))  # the '.' tell us how much space you show before and after '.' \",\n",
       "  \"print('%15.4e'%(30000000))  # the '.' tell us how much space you show before and after '.' \\n                             #15 mean full length of string 4 means after . length of string \",\n",
       "  \"print('%15.5e'%(30000000))  # the '.' tell us how much space you show before and after '.' \\n                             #15 mean full length of string 4 means after . length of string \",\n",
       "  \"print('%15.5e'%(365400))  # the '.' tell us how much space you show before and after '.' \\n                             #15 mean full length of string 4 means after . length of string \",\n",
       "  \"print('%15.5e'%(36540))  # the '.' tell us how much space you show before and after '.' \\n                             #15 mean full length of string 4 means after . length of string \",\n",
       "  \"print('%15.5e'%(3654))  # the '.' tell us how much space you show before and after '.' \\n                             #15 mean full length of string 4 means after . length of string \",\n",
       "  \"print('%15.5e'%(36541))  # the '.' tell us how much space you show before and after '.' \\n                             #15 mean full length of string 4 means after . length of string \",\n",
       "  \"print('%15.5e'%(36541))  # the '.' tell us how much space you show before and after '.' \\n                             #15 mean full length of string 4 means after . length of string \",\n",
       "  \"print('%15.5e'%(36541))  # the '.' tell us how much space you show before and after '.' \\nprint('%15.5E'%(36541))   #15 mean full length of string 4 means after . length of string \",\n",
       "  \"print('%20'%(10))\",\n",
       "  \"print('%2as'%(10))\",\n",
       "  \"print('%2aszxcv'%(10))\",\n",
       "  \"print('%2'%(10))\",\n",
       "  \"print('%2a'%(10))\",\n",
       "  \"print('%2z'%(10))\",\n",
       "  \"print('%2c'%(10))\",\n",
       "  \"print('%2c'%(10))\",\n",
       "  \"print('%2v'%(10))\",\n",
       "  \"print('%2b'%(10))\",\n",
       "  \"print('%2n'%(10))\",\n",
       "  \"print('%2m'%(10))\",\n",
       "  \"print('%2a'%(10))\",\n",
       "  \"print('%2q'%(10))\",\n",
       "  \"print('%2a'%(10))\",\n",
       "  \"print('%2d'%(10))\",\n",
       "  \"print('%2d'%(10))\",\n",
       "  \"print('%2f'%(10))\",\n",
       "  \"print('%2f'%(10))\",\n",
       "  \"print('%2f'%(10))\",\n",
       "  \"print('%.2f'%(10))\",\n",
       "  \"print('%10.2f'%(10))\",\n",
       "  \"print('%10.2f'%(10))\",\n",
       "  \"print('%f'%(10))\",\n",
       "  \"print('%o'%(10))\",\n",
       "  \"print('%O'%(10))\",\n",
       "  \"print('%o'%(10))\",\n",
       "  \"print('%10o'%(10))\",\n",
       "  \"print('%2o'%(10))\",\n",
       "  \"print('%2o'%(10))\\nprint('%2o'%(10))\",\n",
       "  \"print('%2o'%(10))\\nprint('%20o'%(10))\",\n",
       "  \"print('%2o'%(10))\\nprint('%.2o'%(10))\",\n",
       "  \"print('%2o'%(10))\\nprint('%.20o'%(10))\",\n",
       "  \"print('%2o'%(10))\\nprint('%.2o'%(10))\",\n",
       "  \"print('%2o'%(10))\\nprint('%.3o'%(10))\",\n",
       "  \"print('%10.3o'%(10))\\nprint('%10.5o'%(10))\",\n",
       "  \"print('%10.3o'%(10))\\nprint('%10.5o'%(10))\",\n",
       "  \"print('%10.1o'%(10))\\nprint('%10.3o'%(10))\\nprint('%10.5o'%(10))\",\n",
       "  \"print('%10.1o'%(10))\\nprint('%10.3o'%(10))\\nprint('%10.5o'%(10))\",\n",
       "  \"print('%5x'%(45))\",\n",
       "  \"print('%5.5x'%(45))\",\n",
       "  \"print('%5x'%(45))\",\n",
       "  \"print('%5x'%(45))\\nprint('%5.4x'%(45))\\nprint('%5.4X'%(45))\",\n",
       "  \"print('only one percentage sign %%'%())\",\n",
       "  \"print('%5x'%(45))\",\n",
       "  \"print('%5X'%(45))\",\n",
       "  \"print('%#5X'%(45))\",\n",
       "  \"print('%5X'%(45))\",\n",
       "  \"print('%#5X'%(45))\",\n",
       "  \"print('%#10X'%(45))\",\n",
       "  \"print('%#5X'%(45))\",\n",
       "  \"print('%5X'%(45))\",\n",
       "  \"print('%5X'%(45))\\nprint('%5$X'%(45))\",\n",
       "  \"print('%5X'%(45))\\nprint('%5#X'%(45))\",\n",
       "  \"print('%5X'%(45))\\nprint('%#5X'%(45))\",\n",
       "  \"print('%5X'%(45))\\nprint('%#5X'%(45))\\n\\nprint('%5.4X'%(45))\\nprint('%#5.4X'%(45))\",\n",
       "  \"print('%5X'%(45))\\nprint('%#5X'%(45))\\n\\nprint('\\\\n%5.4X'%(45))\\nprint('%#5.4X'%(45))\",\n",
       "  'hex(45)',\n",
       "  \"print('%5X'%(45))\\nprint('%#5X'%(45))\\n\\nprint('\\\\n%5.4X'%(45))\\nprint('%#5.4X'%(45))\",\n",
       "  \"print('%5X'%(45))\\nprint('%#5X'%(45))\\n\\nprint('\\\\n%5.4X'%(45))\\nprint('%#5.4X'%(45))\",\n",
       "  \"print('%#5o'%(10))\",\n",
       "  \"print('%#5o'%(10))\",\n",
       "  \"print('%d'%(10))\",\n",
       "  \"print('%#d'%(10))\",\n",
       "  \"print('%+d'%(10))\",\n",
       "  \"print('%+d'%(-10))\",\n",
       "  \"print('%+d'%(-10))\",\n",
       "  \"print('%-d'%(-10))\",\n",
       "  \"print('%-d'%(10))\",\n",
       "  \"print('%-d'%(10))\",\n",
       "  \"print('%+d'%(10))\",\n",
       "  \"print('%-d'%(10))\",\n",
       "  \"print('%*d'%(10))\",\n",
       "  \"print('%+d'%(10))\",\n",
       "  \"print('%+d'%(  10))\",\n",
       "  \"print('%#5o'%( 10))\",\n",
       "  \"print('%+d'%(  10))\",\n",
       "  'print(\\'%+d\\'%(10))\\nprint(\"% d\"% (42))\\n\\nprint(\"%+2d\"% (42))\\nprint(\"% 2d\"% (42))\\n\\nprint(\"%2d\"% (42))',\n",
       "  'print(\\'%+d\\'% (10))\\nprint(\"% d\"% (10))\\n\\nprint(\"%+2d\"% (42))\\nprint(\"% 2d\"% (42))\\n\\nprint(\"%2d\"% (42))',\n",
       "  '\"First argument {0} second argument {1}\".format(10,20)',\n",
       "  '\"First argument {3} second argument {1}\".format(10,20)',\n",
       "  '\"First argument {} second argument {1}\".format(10,20)',\n",
       "  '\"First argument {} second argument {}\".format(10,20)',\n",
       "  '\"First argument {} second argument {}\".format(10,20)',\n",
       "  '\"First argument {0} second argument {1}\".format(10,20)',\n",
       "  'print(\"First argument {} second argument {}\".format(10,20)) # either u not define index\\nprint(\"First argument {0} second argument {1}\".format(10,20)) # or define index',\n",
       "  'print(\"First argument {} second argument {}\".format(10,20)) # either u not define index\\nprint(\"First argument {0} second argument {1}\".format(10,20)) # or define index\\nprint(\"second argument {1} first argument {0}\".format(10,20)) # or define index',\n",
       "  'print(\"First argument {} second argument {}\".format(10,20)) # either u not define index\\nprint(\"First argument {0} second argument {1}\".format(10,20)) # or define index\\nprint(\"second argument {1} first argument {0}\".format(10,20)) # or define index',\n",
       "  'print(\"First argument {0:3d} second argument {1:o}\".format(584.6513,79545.615)) ',\n",
       "  'print(\"First argument {0:3d} second argument {1:X}\".format(584.6513,79545.615)) ',\n",
       "  'print(\"First argument {0:3d} second argument {1:2d}\".format(584.6513,79545.615)) ',\n",
       "  'print(\"First argument {0:3d} second argument {1:2d}\".format(584.6513,79545.615)) ',\n",
       "  'print(\"First argument {0:3d} second argument {1:2d}\".format(584.6513,79545.615)) ',\n",
       "  '\\n\"Second argument: {1:3d}, first one: {0:7.2f}\".format(47.42,11)',\n",
       "  '\\n\"Second argument: {1:3d}, first one: {0:7.2f}\".format(47.42,11)',\n",
       "  'print(\"First argument {0:3d} second argument {1:2d}\".format(58445,79545.615)) ',\n",
       "  'print(\"First argument {0:3d} second argument {1:2f}\".format(58445,79545.615)) ',\n",
       "  'print(\"First argument {0:3d} second argument {1:2f}\".format(56548445,79545.615)) ',\n",
       "  'print(\"First argument {0:3d} second argument {1:2f}\".format(565,79545.615)) ',\n",
       "  'print(\"First argument {0:3.2d} second argument {1:2f}\".format(565,79545.615)) ',\n",
       "  'print(\"First argument {0:3d} second argument {1:2f}\".format(565,79545.615)) ',\n",
       "  'print(\"First argument {0} second argument {1:2f}\".format(565,79545.615)) ',\n",
       "  'print(\"First argument [0] second argument {1:2f}\".format(565,79545.615)) ',\n",
       "  'print(\"First argument [0] second argument {1:2f}\".format(565,79545.615)) ',\n",
       "  'print(\"First argument (0) second argument {1:2f}\".format(565,79545.615)) ',\n",
       "  'print(\"First argument (0) second argument {0:2d}\".format(565,79545.615)) ',\n",
       "  'print(\"First argument (0) second argument {}\".format(565,79545.615)) ',\n",
       "  'print(\"First argument  second argument {}\".format(565,79545.615)) ',\n",
       "  'print(\"First argument  second argument {}\".format(565,79545.615)) ',\n",
       "  'print(\"First argument  second argument {1}\".format(565,79545.615)) ',\n",
       "  'print(\"First argument  second argument {1}\".format(565,79545.615)) \\nprint(\"First argument {0:2d} second argument {1:3f}\".format(565,79545.615)) ',\n",
       "  'print(\"First argument [0] second argument {1}\".format(565,79545.615)) \\nprint(\"First argument (0) second argument {1}\".format(565,79545.615)) ',\n",
       "  '# can be use more than once\\nprint(\"First argument {1:10.2f} second argument {1:10.5f}\".format(565,79545.615)) ',\n",
       "  '# can be use more than once\\nprint(\"First argument {1:10.5f} second argument {1:10.5f}\".format(565,79545.615)) ',\n",
       "  '# can be use more than once\\nprint(\"First argument {1:10.2f} second argument {1:10.5f}\".format(565,79545.615)) ',\n",
       "  '# can be use more than once\\nprint(\"First argument {1:10.1f} second argument {1:10.5f}\".format(565,79545.615)) ',\n",
       "  '# can be use more than once\\nprint(\"First argument {1:10.2f} second argument {1:10.5f}\".format(565,79545.615)) ',\n",
       "  '# keyword parameters\\nprint(\"First argument {a} second argument {b}\".format(a=565,b=79545.615)) ',\n",
       "  'print(\"First argument {0:<20s} second argument {1:6.2f}\".format(565,79545.615)) ',\n",
       "  'print(\"First argument {0:<20s} second argument {1:6.2f}\".format(\"565654\",79545.615)) ',\n",
       "  'print(\"First argument {0:<20s} second argument {1:6.2f}\".format(\"565654\",79545.615)) ',\n",
       "  'print(\"First argument {0:<20s} second argument {1:6.2f}\".format(\"565654\",79545.615)) \\nprint(\"First argument {0:>20s} second argument {1:6.2f}\".format(\"565654\",79545.615)) ',\n",
       "  'x = 378\\nprint(\"The value is {:06d}\".format(x))\\nx = -378\\nprint(\"The value is {:06d}\".format(x))\\nprint(\"The value is {:,}\".format(x))\\nprint(\"The value is {0:6,d}\".format(x))\\nx = 5897653423.89676\\nprint(\"The value is {0:12,.3f}\".format(x))',\n",
       "  'x = 378\\nprint(\"The value is {:06d}\".format(x))\\nx = -378\\nprint(\"The value is {:06d}\".format(x))\\nprint(\"The value is {:,}\".format(x))\\nprint(\"The value is {0:6,d}\".format(x))',\n",
       "  'x = 5897653423.89676\\nprint(\"The value is {0:12,.3f}\".format(x))',\n",
       "  'x = 5897653423.89676\\nprint(\"The value is {0:12,.4f}\".format(x))',\n",
       "  'x = 5897653423.89676\\nprint(\"The value is {0:12,.4f}\".format(x))',\n",
       "  'x = 5897653423.89676\\nprint(\"The value is {0:12,.3f}\".format(x))',\n",
       "  'x = 5897653423.89676\\nprint(\"The value is {0:11,.3f}\".format(x))',\n",
       "  'x = 5897653423.89676\\nprint(\"The value is {0:10,.3f}\".format(x))',\n",
       "  'x = 5897653423.89676\\nprint(\"The value is {0:10,.3f}\".format(x))',\n",
       "  'x = 5897653423.89676\\nprint(\"The value is {0:12,.3f}\".format(x))',\n",
       "  'x = 5897653423.89676\\nprint(\"The value is {0:12,.3f}\".format(x))',\n",
       "  'x = 5897653423.89676\\nprint(\"The value is {0:,.3f}\".format(x))',\n",
       "  'x = 5897653423.89676\\nprint(\"The value is {0:,.3f}\".format(x))',\n",
       "  'x = 5897653423.89676\\nprint(\"The value is {0:12,.3f}\".format(x))',\n",
       "  'x = 5897653423.89676\\nprint(\"The value is {0:,.3f}\".format(x))',\n",
       "  'x = 5897653423.89676\\nprint(\"The value is {0:.3f}\".format(x))',\n",
       "  'x = 5897653423.89676\\nprint(\"The value is {0:,.3f}\".format(x))',\n",
       "  'x = 5897653423.89676\\nprint(\"The value is {0:,.3f}\".format(x))',\n",
       "  'print(\"First argument {0:<20s} second argument {1:6.2f}\".format(\"565654\",79545.615)) \\nprint(\"First argument {0:>20s} second argument {1:6.2f}\".format(\"565654\",79545.615)) ',\n",
       "  'x = 378\\nprint(\"The value is {:06d}\".format(x))\\nx = -378\\nprint(\"The value is {:06d}\".format(x))\\nprint(\"The value is {:,}\".format(x))\\nprint(\"The value is {0:6,d}\".format(x))',\n",
       "  'x = 5897653423.89676\\nprint(\"The value is {0:,.3f}\".format(x))',\n",
       "  'print(\"First argument {0:<20s} second argument {1:6.2f}\".format(\"565654\",79545.615)) \\nprint(\"First argument {0:>20s} second argument {1:6.2f}\".format(\"565654\",79545.615)) ',\n",
       "  'x = 378\\nprint(\"The value is {:06d}\".format(x))\\nx = -378\\nprint(\"The value is {:06d}\".format(x))\\nprint(\"The value is {:,}\".format(x))\\nprint(\"The value is {0:6,d}\".format(x))',\n",
       "  'x = 5897653423.89676\\nprint(\"The value is {0:,.3f}\".format(x))',\n",
       "  'data = dict(province=\"Ontario\",capital=\"Toronto\")\\n\\nprint(\"The capital of {province} is {capital}\".format(**data))',\n",
       "  'data = dict(province=\"Ontario\",capital=\"Toronto\")\\n\\nprint(\"The capital of {province} is {capital}\".format(**data))\\ndata',\n",
       "  'data = dict(province=\"Ontario\",capital=\"Toronto\")\\n\\nprint(\"The capital of {province} is {capital}\".format(**data))\\n*data',\n",
       "  'data = dict(province=\"Ontario\",capital=\"Toronto\")\\n\\nprint(\"The capital of {province} is {capital}\".format(**data))\\n**data',\n",
       "  'data = dict(province=\"Ontario\",capital=\"Toronto\")\\n\\nprint(\"The capital of {province} is {capital}\".format(**data))\\n(**data)',\n",
       "  'data = dict(province=\"Ontario\",capital=\"Toronto\")\\n\\nprint(\"The capital of {province} is {capital}\".format(**data))\\nprint(**data)',\n",
       "  'data = dict(province=\"Ontario\",capital=\"Toronto\")\\n\\nprint(\"The capital of {province} is {capital}\".format(**data))',\n",
       "  'data = dict(province=\"Ontario\",capital=\"Toronto\")\\n\\nprint(\"The capital of {province} is {capital}\".format(data))',\n",
       "  'data = dict(province=\"Ontario\",capital=\"Toronto\")\\n\\nprint(\"The capital of {province} is {capital}\".format(*data))',\n",
       "  'data = dict(province=\"Ontario\",capital=\"Toronto\")\\n\\nprint(\"The capital of {province} is {capital}\".format(**data))',\n",
       "  'data = dict(province=\"Ontario\",capital=\"Toronto\")\\n\\nprint(\"The capital of {province} is {capital}\".format(**data))\\n#The double \"*\" in front of data turns data automatically into the form \\'province=\"Ontario\",capital=\"Toronto\"\\'.',\n",
       "  'capital_country = {\"United States\" : \"Washington\", \\n                   \"US\" : \"Washington\", \\n                   \"Canada\" : \"Ottawa\",\\n                   \"Germany\": \"Berlin\",\\n                   \"France\" : \"Paris\",\\n                   \"England\" : \"London\",\\n                   \"UK\" : \"London\",\\n                   \"Switzerland\" : \"Bern\",\\n                   \"Austria\" : \"Vienna\",\\n                   \"Netherlands\" : \"Amsterdam\"}\\n\\nprint(\"Countries and their capitals:\")\\nfor c in capital_country:\\n    print(\"{country}: {capital}\".format(country=c, capital=capital_country[c]))',\n",
       "  'locals()',\n",
       "  \"a = 42\\nb = 451\\ndef f(): return 'sucks'\\nlocals()\",\n",
       "  \"a = 42\\nb = 451\\ndef f(): return 'sucks'\\nlocals()\",\n",
       "  \"a = 42\\nb = 451\\ndef f(): return 'sucks'\\nlocals()\",\n",
       "  \"a = 42\\nb = 451\\ndef f(): return 'sucks'\\nlocals()\"],\n",
       " 'Out': {97: '0x2d',\n",
       "  119: 'First argument 10 second argument 20',\n",
       "  122: 'First argument 10 second argument 20',\n",
       "  123: 'First argument 10 second argument 20',\n",
       "  124: 'First argument 10 second argument 20',\n",
       "  133: 'Second argument:  11, first one:   47.42',\n",
       "  134: 'Second argument:  11, first one:   47.42',\n",
       "  187: {'province': 'Ontario', 'capital': 'Toronto'},\n",
       "  198: {...},\n",
       "  199: {...},\n",
       "  200: {...},\n",
       "  201: {...}},\n",
       " 'get_ipython': <bound method InteractiveShell.get_ipython of <ipykernel.zmqshell.ZMQInteractiveShell object at 0x000001BD85158710>>,\n",
       " 'exit': <IPython.core.autocall.ZMQExitAutocall at 0x1bd859ab978>,\n",
       " 'quit': <IPython.core.autocall.ZMQExitAutocall at 0x1bd859ab978>,\n",
       " '_': {...},\n",
       " '__': {...},\n",
       " '___': {...},\n",
       " '_i': \"a = 42\\nb = 451\\ndef f(): return 'sucks'\\nlocals()\",\n",
       " '_ii': \"a = 42\\nb = 451\\ndef f(): return 'sucks'\\nlocals()\",\n",
       " '_iii': \"a = 42\\nb = 451\\ndef f(): return 'sucks'\\nlocals()\",\n",
       " '_i1': \"import sys\\nprint('value1','value2' ,sep=' ', end='\\\\n', file = sys.stdout, flush=False)\",\n",
       " 'sys': <module 'sys' (built-in)>,\n",
       " '_i2': \"print('a','b')\\nprint('a','b',sep='-')\",\n",
       " '_i3': \"fl = open('sample.txt','w')\\nprint('this is sample text to check whether print() is print or not? ',file=fl)\\nfl.close()\",\n",
       " 'fl': <_io.TextIOWrapper name='sample.txt' mode='w' encoding='cp1252'>,\n",
       " '_i4': \"k=set('python')\\nprint(k)\",\n",
       " 'k': {'h', 'n', 'o', 'p', 't', 'y'},\n",
       " '_i5': \"l = [12,123.131]\\nprint(l[0],l[1],sep=' ** ')\",\n",
       " 'l': [12, 123.131],\n",
       " '_i6': '# string concatenation\\nprint(l[0]+\" ** \"+l[1])',\n",
       " '_i7': '# string concatenation\\nprint(str(l[0])+\" ** \"+str(l[1]))',\n",
       " '_i8': \"print('maths %3d science %12.2f'%(123132,123123.123123))\",\n",
       " '_i9': \"print('maths %3d science %121.2f'%(123132,123123.123123)) # % = string modulo operator\",\n",
       " '_i10': \"print('maths %3d science %120.2f'%(123132,123123.123123)) # % = string modulo operator\",\n",
       " '_i11': \"print('maths %3d science %100.2f'%(123132,123123.123123)) # % = string modulo operator\",\n",
       " '_i12': \"print('maths %3d science %10.2f'%(123132,123123.123123)) # % = string modulo operator\",\n",
       " '_i13': \"print('maths %3d science %20.2f'%(123132,123123.123123)) # % = string modulo operator\",\n",
       " '_i14': \"print('maths %30d science %20.2f'%(123132,123123.123123)) # % = string modulo operator\",\n",
       " '_i15': \"print('asdfsadf % ')\",\n",
       " '_i16': \"print('%10.3e'%())  # \",\n",
       " '_i17': \"print('%10.3e'%(300))  # \",\n",
       " '_i18': \"print('%10.3e'%(300000))  # \",\n",
       " '_i19': \"print('%10.3e'%(30000000))  # \",\n",
       " '_i20': \"print('%100.3e'%(30000000))  # \",\n",
       " '_i21': \"print('%100.3e'%(30000000))  # \",\n",
       " '_i22': \"print('%10.3e'%(30000000))  # \",\n",
       " '_i23': \"print('%10.4e'%(30000000))  # \",\n",
       " '_i24': \"print('%5.4e'%(30000000))  # the '.' tell us how much space you show before and after '.' \",\n",
       " '_i25': \"print('%10.4e'%(30000000))  # the '.' tell us how much space you show before and after '.' \",\n",
       " '_i26': \"print('%20.4e'%(30000000))  # the '.' tell us how much space you show before and after '.' \",\n",
       " '_i27': \"print('%10.4e'%(30000000))  # the '.' tell us how much space you show before and after '.' \",\n",
       " '_i28': \"print('%12.4e'%(30000000))  # the '.' tell us how much space you show before and after '.' \",\n",
       " '_i29': \"print('%11.4e'%(30000000))  # the '.' tell us how much space you show before and after '.' \",\n",
       " '_i30': \"print('%10.4e'%(30000000))  # the '.' tell us how much space you show before and after '.' \",\n",
       " '_i31': \"print('%8.4e'%(30000000))  # the '.' tell us how much space you show before and after '.' \",\n",
       " '_i32': \"print('%15.4e'%(30000000))  # the '.' tell us how much space you show before and after '.' \\n                             #15 mean full length of string 4 means after . length of string \",\n",
       " '_i33': \"print('%15.5e'%(30000000))  # the '.' tell us how much space you show before and after '.' \\n                             #15 mean full length of string 4 means after . length of string \",\n",
       " '_i34': \"print('%15.5e'%(365400))  # the '.' tell us how much space you show before and after '.' \\n                             #15 mean full length of string 4 means after . length of string \",\n",
       " '_i35': \"print('%15.5e'%(36540))  # the '.' tell us how much space you show before and after '.' \\n                             #15 mean full length of string 4 means after . length of string \",\n",
       " '_i36': \"print('%15.5e'%(3654))  # the '.' tell us how much space you show before and after '.' \\n                             #15 mean full length of string 4 means after . length of string \",\n",
       " '_i37': \"print('%15.5e'%(36541))  # the '.' tell us how much space you show before and after '.' \\n                             #15 mean full length of string 4 means after . length of string \",\n",
       " '_i38': \"print('%15.5e'%(36541))  # the '.' tell us how much space you show before and after '.' \\n                             #15 mean full length of string 4 means after . length of string \",\n",
       " '_i39': \"print('%15.5e'%(36541))  # the '.' tell us how much space you show before and after '.' \\nprint('%15.5E'%(36541))   #15 mean full length of string 4 means after . length of string \",\n",
       " '_i40': \"print('%20'%(10))\",\n",
       " '_i41': \"print('%2as'%(10))\",\n",
       " '_i42': \"print('%2aszxcv'%(10))\",\n",
       " '_i43': \"print('%2'%(10))\",\n",
       " '_i44': \"print('%2a'%(10))\",\n",
       " '_i45': \"print('%2z'%(10))\",\n",
       " '_i46': \"print('%2c'%(10))\",\n",
       " '_i47': \"print('%2c'%(10))\",\n",
       " '_i48': \"print('%2v'%(10))\",\n",
       " '_i49': \"print('%2b'%(10))\",\n",
       " '_i50': \"print('%2n'%(10))\",\n",
       " '_i51': \"print('%2m'%(10))\",\n",
       " '_i52': \"print('%2a'%(10))\",\n",
       " '_i53': \"print('%2q'%(10))\",\n",
       " '_i54': \"print('%2a'%(10))\",\n",
       " '_i55': \"print('%2d'%(10))\",\n",
       " '_i56': \"print('%2d'%(10))\",\n",
       " '_i57': \"print('%2f'%(10))\",\n",
       " '_i58': \"print('%2f'%(10))\",\n",
       " '_i59': \"print('%2f'%(10))\",\n",
       " '_i60': \"print('%.2f'%(10))\",\n",
       " '_i61': \"print('%10.2f'%(10))\",\n",
       " '_i62': \"print('%10.2f'%(10))\",\n",
       " '_i63': \"print('%f'%(10))\",\n",
       " '_i64': \"print('%o'%(10))\",\n",
       " '_i65': \"print('%O'%(10))\",\n",
       " '_i66': \"print('%o'%(10))\",\n",
       " '_i67': \"print('%10o'%(10))\",\n",
       " '_i68': \"print('%2o'%(10))\",\n",
       " '_i69': \"print('%2o'%(10))\\nprint('%2o'%(10))\",\n",
       " '_i70': \"print('%2o'%(10))\\nprint('%20o'%(10))\",\n",
       " '_i71': \"print('%2o'%(10))\\nprint('%.2o'%(10))\",\n",
       " '_i72': \"print('%2o'%(10))\\nprint('%.20o'%(10))\",\n",
       " '_i73': \"print('%2o'%(10))\\nprint('%.2o'%(10))\",\n",
       " '_i74': \"print('%2o'%(10))\\nprint('%.3o'%(10))\",\n",
       " '_i75': \"print('%10.3o'%(10))\\nprint('%10.5o'%(10))\",\n",
       " '_i76': \"print('%10.3o'%(10))\\nprint('%10.5o'%(10))\",\n",
       " '_i77': \"print('%10.1o'%(10))\\nprint('%10.3o'%(10))\\nprint('%10.5o'%(10))\",\n",
       " '_i78': \"print('%10.1o'%(10))\\nprint('%10.3o'%(10))\\nprint('%10.5o'%(10))\",\n",
       " '_i79': \"print('%5x'%(45))\",\n",
       " '_i80': \"print('%5.5x'%(45))\",\n",
       " '_i81': \"print('%5x'%(45))\",\n",
       " '_i82': \"print('%5x'%(45))\\nprint('%5.4x'%(45))\\nprint('%5.4X'%(45))\",\n",
       " '_i83': \"print('only one percentage sign %%'%())\",\n",
       " '_i84': \"print('%5x'%(45))\",\n",
       " '_i85': \"print('%5X'%(45))\",\n",
       " '_i86': \"print('%#5X'%(45))\",\n",
       " '_i87': \"print('%5X'%(45))\",\n",
       " '_i88': \"print('%#5X'%(45))\",\n",
       " '_i89': \"print('%#10X'%(45))\",\n",
       " '_i90': \"print('%#5X'%(45))\",\n",
       " '_i91': \"print('%5X'%(45))\",\n",
       " '_i92': \"print('%5X'%(45))\\nprint('%5$X'%(45))\",\n",
       " '_i93': \"print('%5X'%(45))\\nprint('%5#X'%(45))\",\n",
       " '_i94': \"print('%5X'%(45))\\nprint('%#5X'%(45))\",\n",
       " '_i95': \"print('%5X'%(45))\\nprint('%#5X'%(45))\\n\\nprint('%5.4X'%(45))\\nprint('%#5.4X'%(45))\",\n",
       " '_i96': \"print('%5X'%(45))\\nprint('%#5X'%(45))\\n\\nprint('\\\\n%5.4X'%(45))\\nprint('%#5.4X'%(45))\",\n",
       " '_i97': 'hex(45)',\n",
       " '_97': '0x2d',\n",
       " '_i98': \"print('%5X'%(45))\\nprint('%#5X'%(45))\\n\\nprint('\\\\n%5.4X'%(45))\\nprint('%#5.4X'%(45))\",\n",
       " '_i99': \"print('%5X'%(45))\\nprint('%#5X'%(45))\\n\\nprint('\\\\n%5.4X'%(45))\\nprint('%#5.4X'%(45))\",\n",
       " '_i100': \"print('%#5o'%(10))\",\n",
       " '_i101': \"print('%#5o'%(10))\",\n",
       " '_i102': \"print('%d'%(10))\",\n",
       " '_i103': \"print('%#d'%(10))\",\n",
       " '_i104': \"print('%+d'%(10))\",\n",
       " '_i105': \"print('%+d'%(-10))\",\n",
       " '_i106': \"print('%+d'%(-10))\",\n",
       " '_i107': \"print('%-d'%(-10))\",\n",
       " '_i108': \"print('%-d'%(10))\",\n",
       " '_i109': \"print('%-d'%(10))\",\n",
       " '_i110': \"print('%+d'%(10))\",\n",
       " '_i111': \"print('%-d'%(10))\",\n",
       " '_i112': \"print('%*d'%(10))\",\n",
       " '_i113': \"print('%+d'%(10))\",\n",
       " '_i114': \"print('%+d'%(  10))\",\n",
       " '_i115': \"print('%#5o'%( 10))\",\n",
       " '_i116': \"print('%+d'%(  10))\",\n",
       " '_i117': 'print(\\'%+d\\'%(10))\\nprint(\"% d\"% (42))\\n\\nprint(\"%+2d\"% (42))\\nprint(\"% 2d\"% (42))\\n\\nprint(\"%2d\"% (42))',\n",
       " '_i118': 'print(\\'%+d\\'% (10))\\nprint(\"% d\"% (10))\\n\\nprint(\"%+2d\"% (42))\\nprint(\"% 2d\"% (42))\\n\\nprint(\"%2d\"% (42))',\n",
       " '_i119': '\"First argument {0} second argument {1}\".format(10,20)',\n",
       " '_119': 'First argument 10 second argument 20',\n",
       " '_i120': '\"First argument {3} second argument {1}\".format(10,20)',\n",
       " '_i121': '\"First argument {} second argument {1}\".format(10,20)',\n",
       " '_i122': '\"First argument {} second argument {}\".format(10,20)',\n",
       " '_122': 'First argument 10 second argument 20',\n",
       " '_i123': '\"First argument {} second argument {}\".format(10,20)',\n",
       " '_123': 'First argument 10 second argument 20',\n",
       " '_i124': '\"First argument {0} second argument {1}\".format(10,20)',\n",
       " '_124': 'First argument 10 second argument 20',\n",
       " '_i125': 'print(\"First argument {} second argument {}\".format(10,20)) # either u not define index\\nprint(\"First argument {0} second argument {1}\".format(10,20)) # or define index',\n",
       " '_i126': 'print(\"First argument {} second argument {}\".format(10,20)) # either u not define index\\nprint(\"First argument {0} second argument {1}\".format(10,20)) # or define index\\nprint(\"second argument {1} first argument {0}\".format(10,20)) # or define index',\n",
       " '_i127': 'print(\"First argument {} second argument {}\".format(10,20)) # either u not define index\\nprint(\"First argument {0} second argument {1}\".format(10,20)) # or define index\\nprint(\"second argument {1} first argument {0}\".format(10,20)) # or define index',\n",
       " '_i128': 'print(\"First argument {0:3d} second argument {1:o}\".format(584.6513,79545.615)) ',\n",
       " '_i129': 'print(\"First argument {0:3d} second argument {1:X}\".format(584.6513,79545.615)) ',\n",
       " '_i130': 'print(\"First argument {0:3d} second argument {1:2d}\".format(584.6513,79545.615)) ',\n",
       " '_i131': 'print(\"First argument {0:3d} second argument {1:2d}\".format(584.6513,79545.615)) ',\n",
       " '_i132': 'print(\"First argument {0:3d} second argument {1:2d}\".format(584.6513,79545.615)) ',\n",
       " '_i133': '\\n\"Second argument: {1:3d}, first one: {0:7.2f}\".format(47.42,11)',\n",
       " '_133': 'Second argument:  11, first one:   47.42',\n",
       " '_i134': '\\n\"Second argument: {1:3d}, first one: {0:7.2f}\".format(47.42,11)',\n",
       " '_134': 'Second argument:  11, first one:   47.42',\n",
       " '_i135': 'print(\"First argument {0:3d} second argument {1:2d}\".format(58445,79545.615)) ',\n",
       " '_i136': 'print(\"First argument {0:3d} second argument {1:2f}\".format(58445,79545.615)) ',\n",
       " '_i137': 'print(\"First argument {0:3d} second argument {1:2f}\".format(56548445,79545.615)) ',\n",
       " '_i138': 'print(\"First argument {0:3d} second argument {1:2f}\".format(565,79545.615)) ',\n",
       " '_i139': 'print(\"First argument {0:3.2d} second argument {1:2f}\".format(565,79545.615)) ',\n",
       " '_i140': 'print(\"First argument {0:3d} second argument {1:2f}\".format(565,79545.615)) ',\n",
       " '_i141': 'print(\"First argument {0} second argument {1:2f}\".format(565,79545.615)) ',\n",
       " '_i142': 'print(\"First argument [0] second argument {1:2f}\".format(565,79545.615)) ',\n",
       " '_i143': 'print(\"First argument [0] second argument {1:2f}\".format(565,79545.615)) ',\n",
       " '_i144': 'print(\"First argument (0) second argument {1:2f}\".format(565,79545.615)) ',\n",
       " '_i145': 'print(\"First argument (0) second argument {0:2d}\".format(565,79545.615)) ',\n",
       " '_i146': 'print(\"First argument (0) second argument {}\".format(565,79545.615)) ',\n",
       " '_i147': 'print(\"First argument  second argument {}\".format(565,79545.615)) ',\n",
       " '_i148': 'print(\"First argument  second argument {}\".format(565,79545.615)) ',\n",
       " '_i149': 'print(\"First argument  second argument {1}\".format(565,79545.615)) ',\n",
       " '_i150': 'print(\"First argument  second argument {1}\".format(565,79545.615)) \\nprint(\"First argument {0:2d} second argument {1:3f}\".format(565,79545.615)) ',\n",
       " '_i151': 'print(\"First argument [0] second argument {1}\".format(565,79545.615)) \\nprint(\"First argument (0) second argument {1}\".format(565,79545.615)) ',\n",
       " '_i152': '# can be use more than once\\nprint(\"First argument {1:10.2f} second argument {1:10.5f}\".format(565,79545.615)) ',\n",
       " '_i153': '# can be use more than once\\nprint(\"First argument {1:10.5f} second argument {1:10.5f}\".format(565,79545.615)) ',\n",
       " '_i154': '# can be use more than once\\nprint(\"First argument {1:10.2f} second argument {1:10.5f}\".format(565,79545.615)) ',\n",
       " '_i155': '# can be use more than once\\nprint(\"First argument {1:10.1f} second argument {1:10.5f}\".format(565,79545.615)) ',\n",
       " '_i156': '# can be use more than once\\nprint(\"First argument {1:10.2f} second argument {1:10.5f}\".format(565,79545.615)) ',\n",
       " '_i157': '# keyword parameters\\nprint(\"First argument {a} second argument {b}\".format(a=565,b=79545.615)) ',\n",
       " '_i158': 'print(\"First argument {0:<20s} second argument {1:6.2f}\".format(565,79545.615)) ',\n",
       " '_i159': 'print(\"First argument {0:<20s} second argument {1:6.2f}\".format(\"565654\",79545.615)) ',\n",
       " '_i160': 'print(\"First argument {0:<20s} second argument {1:6.2f}\".format(\"565654\",79545.615)) ',\n",
       " '_i161': 'print(\"First argument {0:<20s} second argument {1:6.2f}\".format(\"565654\",79545.615)) \\nprint(\"First argument {0:>20s} second argument {1:6.2f}\".format(\"565654\",79545.615)) ',\n",
       " '_i162': 'x = 378\\nprint(\"The value is {:06d}\".format(x))\\nx = -378\\nprint(\"The value is {:06d}\".format(x))\\nprint(\"The value is {:,}\".format(x))\\nprint(\"The value is {0:6,d}\".format(x))\\nx = 5897653423.89676\\nprint(\"The value is {0:12,.3f}\".format(x))',\n",
       " 'x': 5897653423.89676,\n",
       " '_i163': 'x = 378\\nprint(\"The value is {:06d}\".format(x))\\nx = -378\\nprint(\"The value is {:06d}\".format(x))\\nprint(\"The value is {:,}\".format(x))\\nprint(\"The value is {0:6,d}\".format(x))',\n",
       " '_i164': 'x = 5897653423.89676\\nprint(\"The value is {0:12,.3f}\".format(x))',\n",
       " '_i165': 'x = 5897653423.89676\\nprint(\"The value is {0:12,.4f}\".format(x))',\n",
       " '_i166': 'x = 5897653423.89676\\nprint(\"The value is {0:12,.4f}\".format(x))',\n",
       " '_i167': 'x = 5897653423.89676\\nprint(\"The value is {0:12,.3f}\".format(x))',\n",
       " '_i168': 'x = 5897653423.89676\\nprint(\"The value is {0:11,.3f}\".format(x))',\n",
       " '_i169': 'x = 5897653423.89676\\nprint(\"The value is {0:10,.3f}\".format(x))',\n",
       " '_i170': 'x = 5897653423.89676\\nprint(\"The value is {0:10,.3f}\".format(x))',\n",
       " '_i171': 'x = 5897653423.89676\\nprint(\"The value is {0:12,.3f}\".format(x))',\n",
       " '_i172': 'x = 5897653423.89676\\nprint(\"The value is {0:12,.3f}\".format(x))',\n",
       " '_i173': 'x = 5897653423.89676\\nprint(\"The value is {0:,.3f}\".format(x))',\n",
       " '_i174': 'x = 5897653423.89676\\nprint(\"The value is {0:,.3f}\".format(x))',\n",
       " '_i175': 'x = 5897653423.89676\\nprint(\"The value is {0:12,.3f}\".format(x))',\n",
       " '_i176': 'x = 5897653423.89676\\nprint(\"The value is {0:,.3f}\".format(x))',\n",
       " '_i177': 'x = 5897653423.89676\\nprint(\"The value is {0:.3f}\".format(x))',\n",
       " '_i178': 'x = 5897653423.89676\\nprint(\"The value is {0:,.3f}\".format(x))',\n",
       " '_i179': 'x = 5897653423.89676\\nprint(\"The value is {0:,.3f}\".format(x))',\n",
       " '_i180': 'print(\"First argument {0:<20s} second argument {1:6.2f}\".format(\"565654\",79545.615)) \\nprint(\"First argument {0:>20s} second argument {1:6.2f}\".format(\"565654\",79545.615)) ',\n",
       " '_i181': 'x = 378\\nprint(\"The value is {:06d}\".format(x))\\nx = -378\\nprint(\"The value is {:06d}\".format(x))\\nprint(\"The value is {:,}\".format(x))\\nprint(\"The value is {0:6,d}\".format(x))',\n",
       " '_i182': 'x = 5897653423.89676\\nprint(\"The value is {0:,.3f}\".format(x))',\n",
       " '_i183': 'print(\"First argument {0:<20s} second argument {1:6.2f}\".format(\"565654\",79545.615)) \\nprint(\"First argument {0:>20s} second argument {1:6.2f}\".format(\"565654\",79545.615)) ',\n",
       " '_i184': 'x = 378\\nprint(\"The value is {:06d}\".format(x))\\nx = -378\\nprint(\"The value is {:06d}\".format(x))\\nprint(\"The value is {:,}\".format(x))\\nprint(\"The value is {0:6,d}\".format(x))',\n",
       " '_i185': 'x = 5897653423.89676\\nprint(\"The value is {0:,.3f}\".format(x))',\n",
       " '_i186': 'data = dict(province=\"Ontario\",capital=\"Toronto\")\\n\\nprint(\"The capital of {province} is {capital}\".format(**data))',\n",
       " 'data': {'province': 'Ontario', 'capital': 'Toronto'},\n",
       " '_i187': 'data = dict(province=\"Ontario\",capital=\"Toronto\")\\n\\nprint(\"The capital of {province} is {capital}\".format(**data))\\ndata',\n",
       " '_187': {'province': 'Ontario', 'capital': 'Toronto'},\n",
       " '_i188': 'data = dict(province=\"Ontario\",capital=\"Toronto\")\\n\\nprint(\"The capital of {province} is {capital}\".format(**data))\\n*data',\n",
       " '_i189': 'data = dict(province=\"Ontario\",capital=\"Toronto\")\\n\\nprint(\"The capital of {province} is {capital}\".format(**data))\\n**data',\n",
       " '_i190': 'data = dict(province=\"Ontario\",capital=\"Toronto\")\\n\\nprint(\"The capital of {province} is {capital}\".format(**data))\\n(**data)',\n",
       " '_i191': 'data = dict(province=\"Ontario\",capital=\"Toronto\")\\n\\nprint(\"The capital of {province} is {capital}\".format(**data))\\nprint(**data)',\n",
       " '_i192': 'data = dict(province=\"Ontario\",capital=\"Toronto\")\\n\\nprint(\"The capital of {province} is {capital}\".format(**data))',\n",
       " '_i193': 'data = dict(province=\"Ontario\",capital=\"Toronto\")\\n\\nprint(\"The capital of {province} is {capital}\".format(data))',\n",
       " '_i194': 'data = dict(province=\"Ontario\",capital=\"Toronto\")\\n\\nprint(\"The capital of {province} is {capital}\".format(*data))',\n",
       " '_i195': 'data = dict(province=\"Ontario\",capital=\"Toronto\")\\n\\nprint(\"The capital of {province} is {capital}\".format(**data))',\n",
       " '_i196': 'data = dict(province=\"Ontario\",capital=\"Toronto\")\\n\\nprint(\"The capital of {province} is {capital}\".format(**data))\\n#The double \"*\" in front of data turns data automatically into the form \\'province=\"Ontario\",capital=\"Toronto\"\\'.',\n",
       " '_i197': 'capital_country = {\"United States\" : \"Washington\", \\n                   \"US\" : \"Washington\", \\n                   \"Canada\" : \"Ottawa\",\\n                   \"Germany\": \"Berlin\",\\n                   \"France\" : \"Paris\",\\n                   \"England\" : \"London\",\\n                   \"UK\" : \"London\",\\n                   \"Switzerland\" : \"Bern\",\\n                   \"Austria\" : \"Vienna\",\\n                   \"Netherlands\" : \"Amsterdam\"}\\n\\nprint(\"Countries and their capitals:\")\\nfor c in capital_country:\\n    print(\"{country}: {capital}\".format(country=c, capital=capital_country[c]))',\n",
       " 'capital_country': {'United States': 'Washington',\n",
       "  'US': 'Washington',\n",
       "  'Canada': 'Ottawa',\n",
       "  'Germany': 'Berlin',\n",
       "  'France': 'Paris',\n",
       "  'England': 'London',\n",
       "  'UK': 'London',\n",
       "  'Switzerland': 'Bern',\n",
       "  'Austria': 'Vienna',\n",
       "  'Netherlands': 'Amsterdam'},\n",
       " 'c': 'Netherlands',\n",
       " '_i198': 'locals()',\n",
       " '_198': {...},\n",
       " '_i199': \"a = 42\\nb = 451\\ndef f(): return 'sucks'\\nlocals()\",\n",
       " 'a': 42,\n",
       " 'b': 451,\n",
       " 'f': <function __main__.f()>,\n",
       " '_199': {...},\n",
       " '_i200': \"a = 42\\nb = 451\\ndef f(): return 'sucks'\\nlocals()\",\n",
       " '_200': {...},\n",
       " '_i201': \"a = 42\\nb = 451\\ndef f(): return 'sucks'\\nlocals()\",\n",
       " '_201': {...},\n",
       " '_i202': \"a = 42\\nb = 451\\ndef f(): return 'sucks'\\nlocals()\"}"
      ]
     },
     "execution_count": 202,
     "metadata": {},
     "output_type": "execute_result"
    }
   ],
   "source": [
    "a = 42\n",
    "b = 451\n",
    "def f(): return 'sucks'\n",
    "locals()"
   ]
  },
  {
   "cell_type": "code",
   "execution_count": 206,
   "metadata": {},
   "outputs": [
    {
     "data": {
      "text/plain": [
       "\"a = 42\\nb = 451\\ndef f(): return 'sucks'\\nlocals()\""
      ]
     },
     "execution_count": 206,
     "metadata": {},
     "output_type": "execute_result"
    }
   ],
   "source": [
    "# it means every time we run each cell it store each variable at some scope\n",
    "_i202"
   ]
  },
  {
   "cell_type": "code",
   "execution_count": 218,
   "metadata": {},
   "outputs": [
    {
     "name": "stdout",
     "output_type": "stream",
     "text": [
      "a=42, b=451 and f=<function f at 0x000001BD85B7E840>\n",
      "a=42, b=451 and f=<function f at 0x000001BD85B7E840>\n"
     ]
    }
   ],
   "source": [
    "# it use when we have so many parameters in format function\n",
    "print(\"a={a}, b={b} and f={f}\".format(**locals()))  # double start open the dictionary\n",
    "\n",
    "print(\"a={a}, b={b} and f={f}\".format(a=a,b=b,f=f))\n"
   ]
  },
  {
   "cell_type": "markdown",
   "metadata": {},
   "source": [
    "Python 3.6 introduces formatted string literals. They are prefixed with an 'f'. The formatting syntax is similar to the format strings accepted by str.format(). Like the format string of format method, they contain replacement fields formed with curly braces. The replacement fields are expressions, which are evaluated at run time, and then formatted using the format() protocol."
   ]
  },
  {
   "cell_type": "code",
   "execution_count": 220,
   "metadata": {},
   "outputs": [
    {
     "name": "stdout",
     "output_type": "stream",
     "text": [
      "Price in Euro: 11.23\n",
      "Price in Swiss Franks: 12.195780000000001\n",
      "Price in Swiss Franks: {price * 1.086}\n",
      "Price in Swiss Franks: 12.195780000000001\n",
      "Price in Swiss Franks: 12.20\n",
      "Price in Swiss Franks: 12.20\n",
      "     bread:\n",
      "    butter:\n",
      "       tea:\n"
     ]
    }
   ],
   "source": [
    "price = 11.23\n",
    "print(f\"Price in Euro: {price}\")\n",
    "print(f\"Price in Swiss Franks: {price * 1.086}\")\n",
    "print(\"Price in Swiss Franks: {price * 1.086}\")\n",
    "print('Price in Swiss Franks: 12.195780000000001')\n",
    "print(f\"Price in Swiss Franks: {price * 1.086:5.2f}\")\n",
    "print('Price in Swiss Franks: 12.20')\n",
    "for article in [\"bread\", \"butter\", \"tea\"]:\n",
    "     print(f\"{article:>10}:\")"
   ]
  }
 ],
 "metadata": {
  "kernelspec": {
   "display_name": "Python 3",
   "language": "python",
   "name": "python3"
  },
  "language_info": {
   "codemirror_mode": {
    "name": "ipython",
    "version": 3
   },
   "file_extension": ".py",
   "mimetype": "text/x-python",
   "name": "python",
   "nbconvert_exporter": "python",
   "pygments_lexer": "ipython3",
   "version": "3.6.5"
  }
 },
 "nbformat": 4,
 "nbformat_minor": 2
}
