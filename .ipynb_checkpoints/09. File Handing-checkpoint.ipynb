{
 "cells": [
  {
   "cell_type": "markdown",
   "metadata": {},
   "source": [
    "# File Handling"
   ]
  },
  {
   "cell_type": "markdown",
   "metadata": {},
   "source": [
    "Three types of mode\n",
    "1. read   (r)\n",
    "2. append (a)\n",
    "3. write  (w)"
   ]
  },
  {
   "cell_type": "markdown",
   "metadata": {},
   "source": [
    "# Read\n",
    "modes\n",
    "1. r  (read )\n",
    "2. r+  (read and write)\n",
    "3. rb (read binary file)\n",
    "4. rb+ (read and write file)\n",
    "\n",
    "file must be exists in a system\n",
    "pointer in left\n",
    "\n",
    "# Append\n",
    "modes\n",
    "1. a  (append )\n",
    "2. a+  (append and write)\n",
    "3. ab (append binary file)\n",
    "4. ab+ (append and write file)\n",
    " \n",
    "it create a file when it is not present in a system\n",
    "pointer is at end point\n",
    "# Write\n",
    "modes\n",
    "1. w  (write )\n",
    "2. w+  (read and write)\n",
    "3. wb (write binary file)\n",
    "4. wb+ (write and write file)\n",
    " \n",
    " overwrite the existing file if it present else it create a new file\n",
    " "
   ]
  },
  {
   "cell_type": "code",
   "execution_count": 2,
   "metadata": {},
   "outputs": [
    {
     "name": "stdout",
     "output_type": "stream",
     "text": [
      "['_CHUNK_SIZE', '__class__', '__del__', '__delattr__', '__dict__', '__dir__', '__doc__', '__enter__', '__eq__', '__exit__', '__format__', '__ge__', '__getattribute__', '__getstate__', '__gt__', '__hash__', '__init__', '__init_subclass__', '__iter__', '__le__', '__lt__', '__ne__', '__new__', '__next__', '__reduce__', '__reduce_ex__', '__repr__', '__setattr__', '__sizeof__', '__str__', '__subclasshook__', '_checkClosed', '_checkReadable', '_checkSeekable', '_checkWritable', '_finalizing', 'buffer', 'close', 'closed', 'detach', 'encoding', 'errors', 'fileno', 'flush', 'isatty', 'line_buffering', 'mode', 'name', 'newlines', 'read', 'readable', 'readline', 'readlines', 'seek', 'seekable', 'tell', 'truncate', 'writable', 'write', 'writelines']\n",
      "0\n",
      "True\n",
      "0\n",
      "01. Introduction to Python.ipynb\n",
      "False\n"
     ]
    }
   ],
   "source": [
    "# open is used to open a file\n",
    "fp = open('01. Introduction to Python.ipynb')\n",
    "\n",
    "print(dir(fp))\n",
    "print(fp.tell())\n",
    "print(fp.readable())\n",
    "print(fp.seek(0))\n",
    "print(fp.name)\n",
    "print(fp.writable())"
   ]
  },
  {
   "cell_type": "code",
   "execution_count": 8,
   "metadata": {},
   "outputs": [
    {
     "data": {
      "text/plain": [
       "'   \"source\": [\\n'"
      ]
     },
     "execution_count": 8,
     "metadata": {},
     "output_type": "execute_result"
    }
   ],
   "source": [
    "line = fp.readline() # read line by line\n",
    "line"
   ]
  },
  {
   "cell_type": "code",
   "execution_count": 10,
   "metadata": {},
   "outputs": [
    {
     "data": {
      "text/plain": [
       "0"
      ]
     },
     "execution_count": 10,
     "metadata": {},
     "output_type": "execute_result"
    }
   ],
   "source": [
    "fp.tell()\n",
    "\n",
    "fp.seek(0)\n",
    "\n",
    "fp.tell()"
   ]
  },
  {
   "cell_type": "code",
   "execution_count": 13,
   "metadata": {},
   "outputs": [
    {
     "name": "stdout",
     "output_type": "stream",
     "text": [
      "<_io.TextIOWrapper name='01. Introduction to Python.ipynb' mode='r' encoding='cp1252'>\n"
     ]
    }
   ],
   "source": [
    "print(fp) # reference to the data"
   ]
  },
  {
   "cell_type": "code",
   "execution_count": 26,
   "metadata": {},
   "outputs": [
    {
     "name": "stdout",
     "output_type": "stream",
     "text": [
      "hello world\n",
      "hello worldNew one\n"
     ]
    }
   ],
   "source": [
    "with open('New_text.txt','w+') as fp:\n",
    "    a = fp.write('hello world')  # writing something into a file\n",
    "    fp.seek(0)                   # place the cursor position to the first position in a file\n",
    "    data = fp.read()             # read the data\n",
    "    print(data)\n",
    "    \n",
    "    a = fp.write('New one')\n",
    "    fp.seek(0)\n",
    "    data = fp.read()\n",
    "    print(data)\n",
    "    \n",
    "    fp.close()\n",
    "# w+ : (write mode) override the file    \n",
    "# r+ : (read write mode) dont override the file"
   ]
  },
  {
   "cell_type": "code",
   "execution_count": 27,
   "metadata": {},
   "outputs": [
    {
     "name": "stdout",
     "output_type": "stream",
     "text": [
      "<class 'str'>\n",
      "hello worldNew one\n"
     ]
    }
   ],
   "source": [
    "# Read in one go\n",
    "poem = open('New_text.txt').read()\n",
    "print(type(poem))\n",
    "print(poem)"
   ]
  },
  {
   "cell_type": "code",
   "execution_count": 37,
   "metadata": {},
   "outputs": [
    {
     "name": "stdout",
     "output_type": "stream",
     "text": [
      "\n",
      "brown\n",
      "16\n",
      "The colour green\n"
     ]
    }
   ],
   "source": [
    "# Read and write to the same file\n",
    "fh = open('New_text.txt', 'w+') # write mode override the file's datat\n",
    "fh.write('The colour brown')\n",
    "z = fh.read()\n",
    "print(z) # It doesn't print anything because cursor at the last position\n",
    "\n",
    "# Go to the 12th byte in the file, counting starts with 0\n",
    "fh.seek(11)   \n",
    "print(fh.read(5)) # read 5 characters\n",
    "print(fh.tell()) # return current cursor postion\n",
    "fh.seek(11)      # move cursor position to 11th index\n",
    "fh.write('green')\n",
    "fh.seek(0)\n",
    "content = fh.read()\n",
    "print(content)"
   ]
  },
  {
   "cell_type": "markdown",
   "metadata": {},
   "source": [
    "# Pickle module\n",
    "\n",
    "We don't mean what the heading says. On the contrary, we want to prevent any nasty situation, like loosing the data, which your Python program has calculated. So, we will show you, how you can save your data in an easy way that you or better your program can reread them at a later date again. We are \"pickling\" the data, so that nothing gets lost.\n",
    "\n",
    "Python offers for this purpose a module, which is called \"pickle\". With the algorithms of the pickle module we can serialize and de-serialize Python object structures. \"Pickling\" denotes the process which converts a Python object hierarchy into a byte stream, and \"unpickling\" on the other hand is the inverse operation, i.e. the byte stream is converted back into an object hierarchy. What we call pickling (and unpickling) is also known as \"serialization\" or \"flattening\" a data structure.\n",
    "\n",
    "An object can be dumped with the dump method of the pickle module:\n",
    "\n",
    "`pickle.dump(obj, file[,protocol, *, fix_imports=True])`\n",
    "\n",
    "dump() writes a pickled representation of obj to the open file object file. The optional protocol argument tells the pickler to use the given protocol:\n",
    "1. Protocol version 0 is the original (before Python3) human-readable (ascii) protocol and is backwards compatible with previous versions of Python\n",
    "2. Protocol version 1 is the old binary format which is also compatible with previous versions of Python.\n",
    "3. Protocol version 2 was introduced in Python 2.3. It provides much more efficient pickling of new-style classes.\n",
    "4. Protocol version 3 was introduced with Python 3.0. It has explicit support for bytes and cannot be unpickled by Python 2. x pickle modules. It's the recommended protocol of Python 3.x.\n",
    "\n",
    "The default protocol of Python3 is 3."
   ]
  },
  {
   "cell_type": "code",
   "execution_count": 39,
   "metadata": {},
   "outputs": [],
   "source": [
    "import pickle as p"
   ]
  },
  {
   "cell_type": "code",
   "execution_count": 43,
   "metadata": {},
   "outputs": [],
   "source": [
    "place = ['jaipur','delhi','sri-lanka','alwar']\n",
    "fh = open('data.pkl','wb') # write binary mode [ create if file doesn't exist ]\n",
    "p.dump(place, fh)\n",
    "fh.close()"
   ]
  },
  {
   "cell_type": "code",
   "execution_count": 44,
   "metadata": {},
   "outputs": [
    {
     "ename": "NameError",
     "evalue": "name 'place' is not defined",
     "output_type": "error",
     "traceback": [
      "\u001b[1;31m---------------------------------------------------------------------------\u001b[0m",
      "\u001b[1;31mNameError\u001b[0m                                 Traceback (most recent call last)",
      "\u001b[1;32m<ipython-input-44-d1e5e640c45d>\u001b[0m in \u001b[0;36m<module>\u001b[1;34m()\u001b[0m\n\u001b[0;32m      1\u001b[0m \u001b[1;32mdel\u001b[0m \u001b[0mplace\u001b[0m\u001b[1;33m\u001b[0m\u001b[0m\n\u001b[1;32m----> 2\u001b[1;33m \u001b[0mplace\u001b[0m\u001b[1;33m\u001b[0m\u001b[0m\n\u001b[0m",
      "\u001b[1;31mNameError\u001b[0m: name 'place' is not defined"
     ]
    }
   ],
   "source": [
    "del place\n",
    "place"
   ]
  },
  {
   "cell_type": "code",
   "execution_count": 48,
   "metadata": {},
   "outputs": [
    {
     "data": {
      "text/plain": [
       "['jaipur', 'delhi', 'sri-lanka', 'alwar']"
      ]
     },
     "execution_count": 48,
     "metadata": {},
     "output_type": "execute_result"
    }
   ],
   "source": [
    "fh = open('data.pkl','rb') # read binary mode\n",
    "place = p.load(fh)\n",
    "place \n",
    "# aah haa"
   ]
  },
  {
   "cell_type": "code",
   "execution_count": 49,
   "metadata": {},
   "outputs": [],
   "source": [
    "import pickle\n",
    "\n",
    "fh = open(\"data.pkl\",\"bw\")\n",
    "programming_languages = [\"Python\", \"Perl\", \"C++\", \"Java\", \"Lisp\"]\n",
    "python_dialects = [\"Jython\", \"IronPython\", \"CPython\",'IPython']\n",
    "pickle_object = (programming_languages, python_dialects)\n",
    "pickle.dump(pickle_object,fh)\n",
    "fh.close()"
   ]
  },
  {
   "cell_type": "code",
   "execution_count": 52,
   "metadata": {},
   "outputs": [
    {
     "data": {
      "text/plain": [
       "(['Python', 'Perl', 'C++', 'Java', 'Lisp'],\n",
       " ['Jython', 'IronPython', 'CPython', 'IPython'])"
      ]
     },
     "execution_count": 52,
     "metadata": {},
     "output_type": "execute_result"
    }
   ],
   "source": [
    "fh = open('data.pkl','rb')\n",
    "a,b = pickle.load(fh)\n",
    "a,b"
   ]
  },
  {
   "cell_type": "markdown",
   "metadata": {},
   "source": [
    "# Shelve module \n",
    "\n",
    "One drawback of the pickle module is that it is only capable of pickling one object at the time, which has to be unpickled in one go. Let's imagine this data object is a dictionary. It may be desirable that we don't have to save and load every time the whole dictionary, but save and load just a single value corresponding to just one key. The shelve module is the solution to this request. A \"shelf\" - as used in the shelve module - is a persistent, dictionary-like object. The difference with dbm databases is that the values (not the keys!) in a shelf can be essentially arbitrary Python objects -- anything that the \"pickle\" module can handle. This includes most class instances, recursive data types, and objects containing lots of shared sub-objects. The keys have to be strings.\n",
    "\n",
    "The shelve module can be easily used. Actually, it is as easy as using a dictionary in Python. Before we can use a shelf object, we have to import the module. After this, we have to open a shelve object with the shelve method open. The open method opens a special shelf file for reading and writing:\n"
   ]
  },
  {
   "cell_type": "code",
   "execution_count": 53,
   "metadata": {},
   "outputs": [],
   "source": [
    "import shelve"
   ]
  },
  {
   "cell_type": "code",
   "execution_count": 54,
   "metadata": {},
   "outputs": [],
   "source": [
    "s = shelve.open('myshelve')"
   ]
  },
  {
   "cell_type": "code",
   "execution_count": 66,
   "metadata": {},
   "outputs": [
    {
     "name": "stdout",
     "output_type": "stream",
     "text": [
      "street\n",
      "country\n"
     ]
    }
   ],
   "source": [
    "s['street'] = \"ANAISUF-479 asf\"\n",
    "s['country'] = \"India\"\n",
    "for keys in s:\n",
    "    print(keys)\n",
    "    \n",
    "s.close()"
   ]
  },
  {
   "cell_type": "code",
   "execution_count": 68,
   "metadata": {
    "collapsed": true
   },
   "outputs": [
    {
     "ename": "ValueError",
     "evalue": "invalid operation on closed shelf",
     "output_type": "error",
     "traceback": [
      "\u001b[1;31m---------------------------------------------------------------------------\u001b[0m",
      "\u001b[1;31mValueError\u001b[0m                                Traceback (most recent call last)",
      "\u001b[1;32m<ipython-input-68-3a70608fc9d8>\u001b[0m in \u001b[0;36m<module>\u001b[1;34m()\u001b[0m\n\u001b[1;32m----> 1\u001b[1;33m \u001b[1;32mfor\u001b[0m \u001b[0mkeys\u001b[0m \u001b[1;32min\u001b[0m \u001b[0ms\u001b[0m\u001b[1;33m:\u001b[0m\u001b[1;33m\u001b[0m\u001b[0m\n\u001b[0m\u001b[0;32m      2\u001b[0m     \u001b[0mprint\u001b[0m\u001b[1;33m(\u001b[0m\u001b[0mkeys\u001b[0m\u001b[1;33m)\u001b[0m \u001b[1;31m# shelve closed buddy\u001b[0m\u001b[1;33m\u001b[0m\u001b[0m\n",
      "\u001b[1;32mC:\\Users\\GirrajJangid\\Anaconda3\\lib\\shelve.py\u001b[0m in \u001b[0;36m__iter__\u001b[1;34m(self)\u001b[0m\n\u001b[0;32m     93\u001b[0m \u001b[1;33m\u001b[0m\u001b[0m\n\u001b[0;32m     94\u001b[0m     \u001b[1;32mdef\u001b[0m \u001b[0m__iter__\u001b[0m\u001b[1;33m(\u001b[0m\u001b[0mself\u001b[0m\u001b[1;33m)\u001b[0m\u001b[1;33m:\u001b[0m\u001b[1;33m\u001b[0m\u001b[0m\n\u001b[1;32m---> 95\u001b[1;33m         \u001b[1;32mfor\u001b[0m \u001b[0mk\u001b[0m \u001b[1;32min\u001b[0m \u001b[0mself\u001b[0m\u001b[1;33m.\u001b[0m\u001b[0mdict\u001b[0m\u001b[1;33m.\u001b[0m\u001b[0mkeys\u001b[0m\u001b[1;33m(\u001b[0m\u001b[1;33m)\u001b[0m\u001b[1;33m:\u001b[0m\u001b[1;33m\u001b[0m\u001b[0m\n\u001b[0m\u001b[0;32m     96\u001b[0m             \u001b[1;32myield\u001b[0m \u001b[0mk\u001b[0m\u001b[1;33m.\u001b[0m\u001b[0mdecode\u001b[0m\u001b[1;33m(\u001b[0m\u001b[0mself\u001b[0m\u001b[1;33m.\u001b[0m\u001b[0mkeyencoding\u001b[0m\u001b[1;33m)\u001b[0m\u001b[1;33m\u001b[0m\u001b[0m\n\u001b[0;32m     97\u001b[0m \u001b[1;33m\u001b[0m\u001b[0m\n",
      "\u001b[1;32mC:\\Users\\GirrajJangid\\Anaconda3\\lib\\shelve.py\u001b[0m in \u001b[0;36mclosed\u001b[1;34m(self, *args)\u001b[0m\n\u001b[0;32m     68\u001b[0m \u001b[1;33m\u001b[0m\u001b[0m\n\u001b[0;32m     69\u001b[0m     \u001b[1;32mdef\u001b[0m \u001b[0mclosed\u001b[0m\u001b[1;33m(\u001b[0m\u001b[0mself\u001b[0m\u001b[1;33m,\u001b[0m \u001b[1;33m*\u001b[0m\u001b[0margs\u001b[0m\u001b[1;33m)\u001b[0m\u001b[1;33m:\u001b[0m\u001b[1;33m\u001b[0m\u001b[0m\n\u001b[1;32m---> 70\u001b[1;33m         \u001b[1;32mraise\u001b[0m \u001b[0mValueError\u001b[0m\u001b[1;33m(\u001b[0m\u001b[1;34m'invalid operation on closed shelf'\u001b[0m\u001b[1;33m)\u001b[0m\u001b[1;33m\u001b[0m\u001b[0m\n\u001b[0m\u001b[0;32m     71\u001b[0m     \u001b[0m__iter__\u001b[0m \u001b[1;33m=\u001b[0m \u001b[0m__len__\u001b[0m \u001b[1;33m=\u001b[0m \u001b[0m__getitem__\u001b[0m \u001b[1;33m=\u001b[0m \u001b[0m__setitem__\u001b[0m \u001b[1;33m=\u001b[0m \u001b[0m__delitem__\u001b[0m \u001b[1;33m=\u001b[0m \u001b[0mkeys\u001b[0m \u001b[1;33m=\u001b[0m \u001b[0mclosed\u001b[0m\u001b[1;33m\u001b[0m\u001b[0m\n\u001b[0;32m     72\u001b[0m \u001b[1;33m\u001b[0m\u001b[0m\n",
      "\u001b[1;31mValueError\u001b[0m: invalid operation on closed shelf"
     ]
    }
   ],
   "source": [
    "for keys in s:\n",
    "    print(keys) # shelve closed buddy"
   ]
  },
  {
   "cell_type": "code",
   "execution_count": 69,
   "metadata": {},
   "outputs": [
    {
     "name": "stdout",
     "output_type": "stream",
     "text": [
      "ANAISUF-479 asf\n"
     ]
    }
   ],
   "source": [
    "s = shelve.open('myshelve')\n",
    "print(s['street'])"
   ]
  },
  {
   "cell_type": "code",
   "execution_count": 71,
   "metadata": {},
   "outputs": [
    {
     "data": {
      "text/plain": [
       "{'country': 'India', 'street': 'ANAISUF-479 asf'}"
      ]
     },
     "execution_count": 71,
     "metadata": {},
     "output_type": "execute_result"
    }
   ],
   "source": [
    "dict(s) # casting whole shelve to dictionary"
   ]
  }
 ],
 "metadata": {
  "kernelspec": {
   "display_name": "Python 3",
   "language": "python",
   "name": "python3"
  },
  "language_info": {
   "codemirror_mode": {
    "name": "ipython",
    "version": 3
   },
   "file_extension": ".py",
   "mimetype": "text/x-python",
   "name": "python",
   "nbconvert_exporter": "python",
   "pygments_lexer": "ipython3",
   "version": "3.6.5"
  }
 },
 "nbformat": 4,
 "nbformat_minor": 2
}
