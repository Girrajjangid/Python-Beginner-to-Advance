{
 "cells": [
  {
   "cell_type": "markdown",
   "metadata": {},
   "source": [
    "# Collection\n",
    "\n",
    "These are the most common used functions\n",
    "\n",
    "1. namedtuple\n",
    "2. Counter\n",
    "3. deque\n",
    "4. OrderedDict\n",
    "5. defaultDict\n",
    "\n"
   ]
  },
  {
   "cell_type": "code",
   "execution_count": 1,
   "metadata": {},
   "outputs": [],
   "source": [
    "########################\n",
    "# 1. namedtuple\n",
    "########################\n",
    "from collections import namedtuple"
   ]
  },
  {
   "cell_type": "code",
   "execution_count": 2,
   "metadata": {},
   "outputs": [],
   "source": [
    "Point = namedtuple('point',['x','y']) # return new subclass of tuple"
   ]
  },
  {
   "cell_type": "code",
   "execution_count": 3,
   "metadata": {},
   "outputs": [
    {
     "data": {
      "text/plain": [
       "60"
      ]
     },
     "execution_count": 3,
     "metadata": {},
     "output_type": "execute_result"
    }
   ],
   "source": [
    "pt1 = Point(5,10)\n",
    "pt2 = Point(2,5)\n",
    "dot_product = ( pt1.x * pt2.x) + ( pt1.y * pt2.y)\n",
    "dot_product"
   ]
  },
  {
   "cell_type": "code",
   "execution_count": 4,
   "metadata": {},
   "outputs": [
    {
     "name": "stdout",
     "output_type": "stream",
     "text": [
      "Car(Price=100000, Mileage=30, Colour='Cyan', Class='Y')\n",
      "Y\n"
     ]
    }
   ],
   "source": [
    "Car = namedtuple('Car','Price Mileage Colour Class')\n",
    "xyz = Car(Price = 100000, Mileage = 30, Colour = 'Cyan', Class = 'Y')\n",
    "print(xyz)\n",
    "print(xyz.Class)"
   ]
  },
  {
   "cell_type": "code",
   "execution_count": 5,
   "metadata": {},
   "outputs": [
    {
     "name": "stdout",
     "output_type": "stream",
     "text": [
      "{'a': 1, 'c': 3, 'd': 4, 'b': 2, 'e': 5}\n",
      "OrderedDict([('a', 1), ('c', 3), ('b', 2), ('d', 4), ('e', 5)])\n"
     ]
    }
   ],
   "source": [
    "#################\n",
    "# 2. orderdict\n",
    "#################\n",
    "from collections import OrderedDict\n",
    "od = {}  # unordered dictionary\n",
    "od['a'] = 1\n",
    "od['c'] = 3\n",
    "od['d'] = 4\n",
    "od['b'] = 2\n",
    "od['e'] = 5\n",
    "print(od)\n",
    "od = OrderedDict() # ordered dictionary\n",
    "od['a'] = 1\n",
    "od['c'] = 3\n",
    "od['b'] = 2\n",
    "od['d'] = 4\n",
    "od['e'] = 5\n",
    "print(od)"
   ]
  },
  {
   "cell_type": "code",
   "execution_count": 6,
   "metadata": {},
   "outputs": [
    {
     "name": "stdout",
     "output_type": "stream",
     "text": [
      "0\n",
      "OrderedDict()\n"
     ]
    }
   ],
   "source": [
    "from collections import OrderedDict\n",
    "d = OrderedDict()\n",
    "for i in range(int(input())):\n",
    "    x =  input().split()\n",
    "    if (' '.join(x[0:-1])) in d:\n",
    "        d[' '.join(x[0:-1])] += int(x[-1])\n",
    "    else:\n",
    "        d[' '.join(x[0:-1])] = int(x[-1])\n",
    "print(d)"
   ]
  },
  {
   "cell_type": "markdown",
   "metadata": {},
   "source": []
  },
  {
   "cell_type": "code",
   "execution_count": 7,
   "metadata": {},
   "outputs": [],
   "source": [
    "for i in range(len(d)):\n",
    "    print(\"{} {}\".format(list(d.keys())[i],list(d.values())[i]))"
   ]
  },
  {
   "cell_type": "code",
   "execution_count": 8,
   "metadata": {},
   "outputs": [
    {
     "name": "stdout",
     "output_type": "stream",
     "text": [
      "0\n"
     ]
    }
   ],
   "source": [
    "from collections import OrderedDict\n",
    "d = OrderedDict()\n",
    "for i in range(int(input())):\n",
    "    x =  input()\n",
    "    if x in d:\n",
    "        d[x] += 1\n",
    "    else:\n",
    "        d[x] = 1\n"
   ]
  },
  {
   "cell_type": "code",
   "execution_count": 9,
   "metadata": {},
   "outputs": [
    {
     "name": "stdout",
     "output_type": "stream",
     "text": [
      "0\n",
      "\n"
     ]
    }
   ],
   "source": [
    "print(len(d))\n",
    "print(*(list(d.values())))\n"
   ]
  },
  {
   "cell_type": "code",
   "execution_count": 10,
   "metadata": {},
   "outputs": [
    {
     "name": "stdout",
     "output_type": "stream",
     "text": [
      "one\n",
      "two\n",
      "three\n",
      "two\n",
      "three\n",
      "four\n",
      "three\n",
      "Counter({'three': 3, 'two': 2, 'one': 1, 'four': 1})\n"
     ]
    }
   ],
   "source": [
    "#######################################\n",
    "# 3. counter\n",
    "# Tally occurrences of words in a list\n",
    "#######################################\n",
    "from collections import Counter\n",
    "cnt = Counter()\n",
    "l = ['one','two','three','two','three','four','three']\n",
    "for i in l:\n",
    "    print(i)\n",
    "    cnt[i] += 1\n",
    "print(cnt)"
   ]
  },
  {
   "cell_type": "code",
   "execution_count": 11,
   "metadata": {},
   "outputs": [
    {
     "data": {
      "text/plain": [
       "deque(['3', '1', 9, 8, 7, 6, 5, 4, 3, 2, 1])"
      ]
     },
     "execution_count": 11,
     "metadata": {},
     "output_type": "execute_result"
    }
   ],
   "source": [
    "#####################\n",
    "# 4. deque\n",
    "#####################\n",
    "from collections import deque\n",
    "d = deque()\n",
    "\n",
    "d.append(1)  # [1]\n",
    "\n",
    "d.appendleft(2)  # [2,1]\n",
    "\n",
    "d.clear()  # []\n",
    "\n",
    "d.extend('1')  # ['1']\n",
    "d.extendleft('1234') # ['4','3','2','1','1']\n",
    "\n",
    "d.count('1')\n",
    "d.pop() # ['4','3','2','1']\n",
    "d.popleft() # ['3','2','1']\n",
    "d.remove('2') # ['3','1']\n",
    "d.reverse() # ['1','3']\n",
    "\n",
    "d.extend([1,2,3,4,5,6,7,8,9]) # extend take iterator # ['1','3',1,2,3,4,5,6,7,8,9]\n",
    "d.reverse() # [9,8,7,6,5,4,3,2,'3','1']\n",
    "d.rotate(2) # rotate toward right 2 indices {move last 2 elements on front}\n",
    "d"
   ]
  },
  {
   "cell_type": "code",
   "execution_count": 12,
   "metadata": {},
   "outputs": [
    {
     "name": "stdout",
     "output_type": "stream",
     "text": [
      "0\n"
     ]
    }
   ],
   "source": [
    "from collections import deque\n",
    "d  = deque()\n",
    "for i in range(int(input())):\n",
    "    x = list(input().split())\n",
    "    if x[0]=='append':\n",
    "        d.append(int(x[1]))\n",
    "    elif x[0]=='appendleft':\n",
    "        d.appendleft(int(x[1]))\n",
    "    elif x[0]=='pop':\n",
    "        d.pop()\n",
    "    elif x[0]=='popleft':\n",
    "        d.popleft()\n"
   ]
  },
  {
   "cell_type": "code",
   "execution_count": 13,
   "metadata": {},
   "outputs": [
    {
     "name": "stdout",
     "output_type": "stream",
     "text": [
      "0\n"
     ]
    }
   ],
   "source": [
    "k = 0\n",
    "from collections import deque\n",
    "for i in range(int(input())):\n",
    "    n = []\n",
    "    l = int(input())\n",
    "    c = deque(map(int,input().split()))\n",
    "    for j in range(l-1):\n",
    "        if (c[k] >= c[-1]) and (c[k] >= c[k+1]): \n",
    "            n.append(c.popleft())\n",
    "        elif c[-1] >= c[k] and (c[k] >= c[k+1]):\n",
    "            n.append(c.pop())\n",
    "        else:\n",
    "            print('No')\n",
    "            break\n",
    "        if len(c)==1:\n",
    "            if c[0] >= n[-1]:\n",
    "                print('No')\n",
    "                break\n",
    "            else:\n",
    "                print('Yes')\n",
    "                break"
   ]
  },
  {
   "cell_type": "code",
   "execution_count": 14,
   "metadata": {},
   "outputs": [
    {
     "name": "stdout",
     "output_type": "stream",
     "text": [
      "0\n"
     ]
    }
   ],
   "source": [
    "for t in range(int(input())):\n",
    "    input()\n",
    "    lst = list(map(int, input().split()))\n",
    "    l = len(lst)\n",
    "    i = 0\n",
    "    while i < l - 1 and lst[i] >= lst[i+1]:\n",
    "        i += 1\n",
    "    while i < l - 1 and lst[i] <= lst[i+1]:\n",
    "        i += 1\n",
    "    print (\"Yes\" if i == l - 1 else \"No\")"
   ]
  },
  {
   "cell_type": "code",
   "execution_count": 15,
   "metadata": {},
   "outputs": [
    {
     "name": "stdout",
     "output_type": "stream",
     "text": [
      "0\n",
      "0 1\n"
     ]
    },
    {
     "data": {
      "text/plain": [
       "[None]"
      ]
     },
     "execution_count": 15,
     "metadata": {},
     "output_type": "execute_result"
    }
   ],
   "source": [
    "from collections import Counter, OrderedDict\n",
    "\n",
    "class OrderedCounter(Counter, OrderedDict):\n",
    "    pass\n",
    "[print(*c) for c in OrderedCounter(sorted(input())).most_common(3)]"
   ]
  },
  {
   "cell_type": "code",
   "execution_count": 16,
   "metadata": {},
   "outputs": [
    {
     "name": "stdout",
     "output_type": "stream",
     "text": [
      "0\n",
      "Stuart 1\n"
     ]
    }
   ],
   "source": [
    "# MINIONS PROBLEMS\n",
    "s = input()\n",
    "vowels = 'AEIOU'\n",
    "kevsc = 0\n",
    "stusc = 0\n",
    "for i in range(len(s)):\n",
    "    if s[i] in vowels:\n",
    "        kevsc += (len(s)-i)\n",
    "    else:\n",
    "        stusc += (len(s)-i)\n",
    "if kevsc > stusc:\n",
    "    print (\"Kevin\", kevsc)\n",
    "elif kevsc < stusc:\n",
    "    print (\"Stuart\", stusc)\n",
    "else:\n",
    "    print (\"Draw\")"
   ]
  },
  {
   "cell_type": "code",
   "execution_count": 17,
   "metadata": {},
   "outputs": [
    {
     "name": "stdout",
     "output_type": "stream",
     "text": [
      "0\n"
     ]
    },
    {
     "ename": "IndexError",
     "evalue": "list index out of range",
     "output_type": "error",
     "traceback": [
      "\u001b[1;31m---------------------------------------------------------------------------\u001b[0m",
      "\u001b[1;31mIndexError\u001b[0m                                Traceback (most recent call last)",
      "\u001b[1;32m<ipython-input-17-a5ced3d053a9>\u001b[0m in \u001b[0;36m<module>\u001b[1;34m()\u001b[0m\n\u001b[0;32m      4\u001b[0m \u001b[1;32mfor\u001b[0m \u001b[0mi\u001b[0m \u001b[1;32min\u001b[0m \u001b[0mrange\u001b[0m\u001b[1;33m(\u001b[0m\u001b[0mint\u001b[0m\u001b[1;33m(\u001b[0m\u001b[0mx\u001b[0m\u001b[1;33m[\u001b[0m\u001b[1;36m0\u001b[0m\u001b[1;33m]\u001b[0m\u001b[1;33m)\u001b[0m\u001b[1;33m)\u001b[0m\u001b[1;33m:\u001b[0m\u001b[1;33m\u001b[0m\u001b[0m\n\u001b[0;32m      5\u001b[0m     \u001b[0ma\u001b[0m\u001b[1;33m.\u001b[0m\u001b[0mappend\u001b[0m\u001b[1;33m(\u001b[0m\u001b[0minput\u001b[0m\u001b[1;33m(\u001b[0m\u001b[1;33m)\u001b[0m\u001b[1;33m.\u001b[0m\u001b[0mstrip\u001b[0m\u001b[1;33m(\u001b[0m\u001b[1;33m)\u001b[0m\u001b[1;33m)\u001b[0m\u001b[1;33m\u001b[0m\u001b[0m\n\u001b[1;32m----> 6\u001b[1;33m \u001b[1;32mfor\u001b[0m \u001b[0mi\u001b[0m \u001b[1;32min\u001b[0m \u001b[0mrange\u001b[0m\u001b[1;33m(\u001b[0m\u001b[0mint\u001b[0m\u001b[1;33m(\u001b[0m\u001b[0mx\u001b[0m\u001b[1;33m[\u001b[0m\u001b[1;36m1\u001b[0m\u001b[1;33m]\u001b[0m\u001b[1;33m)\u001b[0m\u001b[1;33m)\u001b[0m\u001b[1;33m:\u001b[0m\u001b[1;33m\u001b[0m\u001b[0m\n\u001b[0m\u001b[0;32m      7\u001b[0m     \u001b[0mb\u001b[0m\u001b[1;33m.\u001b[0m\u001b[0mappend\u001b[0m\u001b[1;33m(\u001b[0m\u001b[0minput\u001b[0m\u001b[1;33m(\u001b[0m\u001b[1;33m)\u001b[0m\u001b[1;33m.\u001b[0m\u001b[0mstrip\u001b[0m\u001b[1;33m(\u001b[0m\u001b[1;33m)\u001b[0m\u001b[1;33m)\u001b[0m\u001b[1;33m\u001b[0m\u001b[0m\n\u001b[0;32m      8\u001b[0m \u001b[1;32mfor\u001b[0m \u001b[0mi\u001b[0m \u001b[1;32min\u001b[0m \u001b[0mrange\u001b[0m\u001b[1;33m(\u001b[0m\u001b[0mlen\u001b[0m\u001b[1;33m(\u001b[0m\u001b[0mb\u001b[0m\u001b[1;33m)\u001b[0m\u001b[1;33m)\u001b[0m\u001b[1;33m:\u001b[0m\u001b[1;33m\u001b[0m\u001b[0m\n",
      "\u001b[1;31mIndexError\u001b[0m: list index out of range"
     ]
    }
   ],
   "source": [
    "x=input().split()\n",
    "a=[]\n",
    "b=[]\n",
    "for i in range(int(x[0])):\n",
    "    a.append(input().strip())\n",
    "for i in range(int(x[1])):\n",
    "    b.append(input().strip())\n",
    "for i in range(len(b)):\n",
    "    if b[i] in a:\n",
    "        for j in range(a.count(b[i])):\n",
    "            print('{} '.format( a.index( b[i] ) + 1), end = '' )\n",
    "            a[a.index(b[i])] = '*'\n",
    "        print()\n",
    "    else:\n",
    "\n",
    "        print('{}'.format(-1))"
   ]
  },
  {
   "cell_type": "code",
   "execution_count": null,
   "metadata": {},
   "outputs": [],
   "source": [
    "# DEfault Dict\n",
    "\n",
    "from collections import defaultdict\n",
    "d = defaultdict(list)\n",
    "n, m = list(map(int, input().split()))\n",
    "\n",
    "for i in range(n):\n",
    "    d[input()].append(i + 1)\n",
    "\n",
    "for i in range(m):\n",
    "    print(' '.join(map(str, d[input()])) or -1)"
   ]
  },
  {
   "cell_type": "code",
   "execution_count": null,
   "metadata": {},
   "outputs": [],
   "source": [
    "n,m =  input().split(); n = int(n); m = int(m)\n",
    "a = list(map(int,input().split()))\n",
    "b = list(map(int,input().split()))\n",
    "x = 0\n",
    "for i in list(map(int,input().split())):\n",
    "    if i in a:\n",
    "        x += 1\n",
    "    elif i in b:\n",
    "        x -= 1\n",
    "print(x)\n",
    "\n"
   ]
  },
  {
   "cell_type": "code",
   "execution_count": null,
   "metadata": {},
   "outputs": [],
   "source": [
    "n, m = input().split()\n",
    "sc_ar = input().split()\n",
    "A = set(input().split())\n",
    "B = set(input().split())\n",
    "print (sum([(i in A) - (i in B) for i in sc_ar]))\n"
   ]
  }
 ],
 "metadata": {
  "kernelspec": {
   "display_name": "Python 3",
   "language": "python",
   "name": "python3"
  },
  "language_info": {
   "codemirror_mode": {
    "name": "ipython",
    "version": 3
   },
   "file_extension": ".py",
   "mimetype": "text/x-python",
   "name": "python",
   "nbconvert_exporter": "python",
   "pygments_lexer": "ipython3",
   "version": "3.6.5"
  }
 },
 "nbformat": 4,
 "nbformat_minor": 2
}
