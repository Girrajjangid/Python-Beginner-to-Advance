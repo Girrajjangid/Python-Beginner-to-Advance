{
 "cells": [
  {
   "cell_type": "markdown",
   "metadata": {},
   "source": [
    "# Introduction\n",
    "OOP is one of the most powerful tools of Python, but nevertheless you don't have to use it, i.e. you can write powerful and efficient programs without it as well.\n",
    "\n",
    "Though many computer scientists and programmers consider OOP to be a modern programming paradigm, the roots go back to 1960s. The first programming language to use objects was Simula 67. As the name implies, Simula 67 was introduced in the year 1967. A major breakthrough for object-oriented programming came with the programming language Smalltalk in the 1970s.\n",
    "\n",
    "The major principle of OOPs\n",
    "1. Encapsulation\n",
    "2. Data Abstraction\n",
    "3. Polymorphism\n",
    "4. Inheritance\n",
    "\n",
    "Before we start with the section on the way OOP is used in Python, we want to give you a general idea about object-oriented programming. For this purpose, we would like to draw your attention to a public library. Let's think about a huge one, like the \"British Library\" in London or the \"New York Public Library\" in New York. If it helps, you can imagine the libraries in Paris, Berlin, Ottawa or Toronto1 as well. Each of these contain an organized collection of books, periodicals, newspapers, audiobooks, films and so on.\n",
    "\n",
    "Generally, there are two opposed ways of keeping the stock in a library. You can use a \"closed access\" method that is the stock is not displayed on open shelves. In this system, trained staff brings the books and other publications to the users on demand. Another way of running a library is open-access shelving, also known as \"open shelves\". \"Open\" means open to all the users of the library not only specially trained staff. In this case the books are openly displayed. Imperative languages like C could be seen as open-access shelving libraries. The user can do everything. It's up to the user to find the books and to put them back at the right shelf. Even though this is great for the user, it might lead to serious problems in the long run. For example some books will be misplaced, so it's hard to find them again. As you may have guessed already, \"closed access\" can be compared to object oriented programming. The analogy can be seen like this: The books and other publications, which a library offers, are like the data in an object-oriented program. Access to the books is restricted like access to the data is restricted in OOP. Getting or returning a book is only possible via the staff. The staff functions like the methods in OOP, which control the access to the data. So, the data, - often called attributes, - in such a program can be seen as being hidden and protected by a shell, and it can only be accessed by special functions, usually called methods in the OOP context. Putting the data behind a \"shell\" is called Encapsulation.\n",
    "So a library can be regarded as a class and a book is an instance or an object of this class. Generally speaking, an object is defined by a class. A class is a formal description of how an object is designed, i.e. which attributes and methods it has. These objects are called instances as well. The expressions are in most cases used synonymously. A class should not be confused with an object.\n"
   ]
  },
  {
   "cell_type": "code",
   "execution_count": 3,
   "metadata": {},
   "outputs": [
    {
     "name": "stdout",
     "output_type": "stream",
     "text": [
      "<class 'int'>\n"
     ]
    }
   ],
   "source": [
    "x = 42\n",
    "print(type(x)) # x is object of int class"
   ]
  },
  {
   "cell_type": "code",
   "execution_count": 4,
   "metadata": {},
   "outputs": [
    {
     "name": "stdout",
     "output_type": "stream",
     "text": [
      "<class 'function'>\n"
     ]
    }
   ],
   "source": [
    "def f():\n",
    "    return 0\n",
    "print(type(f)) # f is object of funtion class"
   ]
  },
  {
   "cell_type": "markdown",
   "metadata": {},
   "source": [
    "# Minimal class in Python"
   ]
  },
  {
   "cell_type": "code",
   "execution_count": 5,
   "metadata": {},
   "outputs": [],
   "source": [
    "class Robot:\n",
    "    pass"
   ]
  },
  {
   "cell_type": "code",
   "execution_count": 13,
   "metadata": {},
   "outputs": [
    {
     "name": "stdout",
     "output_type": "stream",
     "text": [
      "False\n",
      "True\n"
     ]
    }
   ],
   "source": [
    "a = Robot()\n",
    "b = Robot()\n",
    "b2 = b\n",
    "print(a == b)\n",
    "print(b == b2)"
   ]
  },
  {
   "cell_type": "markdown",
   "metadata": {},
   "source": [
    "## Attributes\n",
    "Attributes are created inside of a class definition, as we will soon learn. We can dynamically create arbitrary new attributes for existing instances of a class. We do this by joining an arbitrary name to the instance name, separated by a dot \".\"."
   ]
  },
  {
   "cell_type": "code",
   "execution_count": 14,
   "metadata": {},
   "outputs": [
    {
     "name": "stdout",
     "output_type": "stream",
     "text": [
      "Robot_1 Robot_2\n"
     ]
    }
   ],
   "source": [
    "# Class Robot has no attributes but we can create dynamically also\n",
    "a.name = \"Robot_1\"\n",
    "a.size = \"10 feet\"\n",
    "\n",
    "b.name = \"Robot_2\"\n",
    "b.size = \"20_feet\"\n",
    "\n",
    "print(a.name,b.name)"
   ]
  },
  {
   "cell_type": "markdown",
   "metadata": {},
   "source": [
    "What is happening internally?\n",
    "\n",
    "If you want to know, what's happening internally: The instances possess dictionaries __dict__, which they use to store their attributes and their corresponding values:"
   ]
  },
  {
   "cell_type": "code",
   "execution_count": 17,
   "metadata": {},
   "outputs": [
    {
     "data": {
      "text/plain": [
       "{'name': 'Robot_1', 'size': '10 feet'}"
      ]
     },
     "execution_count": 17,
     "metadata": {},
     "output_type": "execute_result"
    }
   ],
   "source": [
    "a.__dict__ # Now you may think 'a' is a object of class Robot and we dont define any method then how this method call??"
   ]
  },
  {
   "cell_type": "code",
   "execution_count": 19,
   "metadata": {},
   "outputs": [
    {
     "name": "stdout",
     "output_type": "stream",
     "text": [
      "<class '__main__.Robot'>\n"
     ]
    }
   ],
   "source": [
    "print(type(a))  # 'a' is object of __main__.Robot class"
   ]
  },
  {
   "cell_type": "markdown",
   "metadata": {},
   "source": [
    "Attributes can be bound to class names as well. In this case, each instance will possess this name as well. Watch out, what happens, if you assign the same name to an instance:"
   ]
  },
  {
   "cell_type": "code",
   "execution_count": 34,
   "metadata": {},
   "outputs": [
    {
     "data": {
      "text/plain": [
       "'Kuka'"
      ]
     },
     "execution_count": 34,
     "metadata": {},
     "output_type": "execute_result"
    }
   ],
   "source": [
    "class Robot(object):\n",
    "    pass\n",
    "\n",
    "x = Robot()\n",
    "Robot.brand = \"Kuka\"  # This create Global instance in Robot class which access by all instances\n",
    "x.brand # Now 'x' accessing global instance"
   ]
  },
  {
   "cell_type": "code",
   "execution_count": 35,
   "metadata": {},
   "outputs": [
    {
     "data": {
      "text/plain": [
       "'Kuka'"
      ]
     },
     "execution_count": 35,
     "metadata": {},
     "output_type": "execute_result"
    }
   ],
   "source": [
    "x.brand = \"Thales\"  # creating local instance for 'x' reference\n",
    "Robot.brand  # Accessing global"
   ]
  },
  {
   "cell_type": "code",
   "execution_count": 36,
   "metadata": {},
   "outputs": [
    {
     "data": {
      "text/plain": [
       "'Kuka'"
      ]
     },
     "execution_count": 36,
     "metadata": {},
     "output_type": "execute_result"
    }
   ],
   "source": [
    "y = Robot()\n",
    "y.brand # Still accessing global"
   ]
  },
  {
   "cell_type": "code",
   "execution_count": 41,
   "metadata": {},
   "outputs": [
    {
     "data": {
      "text/plain": [
       "('India', 'Thales')"
      ]
     },
     "execution_count": 41,
     "metadata": {},
     "output_type": "execute_result"
    }
   ],
   "source": [
    "Robot.brand = \"India\"\n",
    "y.brand, x.brand\n",
    "# object never access global instance if that present in their own scope like 'x' has brand value so it access own value\n",
    "# 'y' don't have brand value so it access global instance (I don't use variable word because these are not variables these \n",
    "# are objects)"
   ]
  },
  {
   "cell_type": "code",
   "execution_count": 42,
   "metadata": {},
   "outputs": [
    {
     "data": {
      "text/plain": [
       "({'brand': 'Thales'}, {})"
      ]
     },
     "execution_count": 42,
     "metadata": {},
     "output_type": "execute_result"
    }
   ],
   "source": [
    "x.__dict__ , y.__dict__ # now 'X' has brand 'y' don't"
   ]
  },
  {
   "cell_type": "code",
   "execution_count": 43,
   "metadata": {},
   "outputs": [
    {
     "data": {
      "text/plain": [
       "mappingproxy({'__dict__': <attribute '__dict__' of 'Robot' objects>,\n",
       "              '__doc__': None,\n",
       "              '__module__': '__main__',\n",
       "              '__weakref__': <attribute '__weakref__' of 'Robot' objects>,\n",
       "              'brand': 'India'})"
      ]
     },
     "execution_count": 43,
     "metadata": {},
     "output_type": "execute_result"
    }
   ],
   "source": [
    "Robot.__dict__"
   ]
  },
  {
   "cell_type": "markdown",
   "metadata": {},
   "source": [
    "#####  If you try to access y.brand, Python checks first, if \"brand\" is a key of the y.__dict__ dictionary. If it is not, Python checks, if \"brand\" is a key of the Robot.__dict__. If so, the value can be retrieved.\n",
    "\n",
    "If an attribute name is not in included in either of the dictionary, the attribute name is not defined. If you try to access a non-existing attribute, you will raise an AttributeError:"
   ]
  },
  {
   "cell_type": "code",
   "execution_count": 44,
   "metadata": {},
   "outputs": [
    {
     "ename": "AttributeError",
     "evalue": "'Robot' object has no attribute 'name'",
     "output_type": "error",
     "traceback": [
      "\u001b[1;31m---------------------------------------------------------------------------\u001b[0m",
      "\u001b[1;31mAttributeError\u001b[0m                            Traceback (most recent call last)",
      "\u001b[1;32m<ipython-input-44-7a8bb287c399>\u001b[0m in \u001b[0;36m<module>\u001b[1;34m()\u001b[0m\n\u001b[1;32m----> 1\u001b[1;33m \u001b[0mx\u001b[0m\u001b[1;33m.\u001b[0m\u001b[0mname\u001b[0m\u001b[1;33m\u001b[0m\u001b[0m\n\u001b[0m",
      "\u001b[1;31mAttributeError\u001b[0m: 'Robot' object has no attribute 'name'"
     ]
    }
   ],
   "source": [
    "x.name"
   ]
  },
  {
   "cell_type": "markdown",
   "metadata": {},
   "source": [
    "By using the function `getattr`, you can prevent this exception, if you provide a default value as the third argument:"
   ]
  },
  {
   "cell_type": "code",
   "execution_count": 53,
   "metadata": {},
   "outputs": [
    {
     "data": {
      "text/plain": [
       "'Thales'"
      ]
     },
     "execution_count": 53,
     "metadata": {},
     "output_type": "execute_result"
    }
   ],
   "source": [
    "getattr(x, 'brand', \"This is not print\") # 'x' already have brand attribute"
   ]
  },
  {
   "cell_type": "code",
   "execution_count": 54,
   "metadata": {},
   "outputs": [
    {
     "data": {
      "text/plain": [
       "'This will print'"
      ]
     },
     "execution_count": 54,
     "metadata": {},
     "output_type": "execute_result"
    }
   ],
   "source": [
    "getattr(x, 'name', \"This will print\") # 'x' don't have name attribute"
   ]
  },
  {
   "cell_type": "code",
   "execution_count": 56,
   "metadata": {},
   "outputs": [
    {
     "data": {
      "text/plain": [
       "{'brand': 'Thales'}"
      ]
     },
     "execution_count": 56,
     "metadata": {},
     "output_type": "execute_result"
    }
   ],
   "source": [
    "x.__dict__"
   ]
  },
  {
   "cell_type": "markdown",
   "metadata": {},
   "source": [
    "Binding attributes to objects is a general concept in Python. Even function names can be attributed. You can bind an attribute to a function name in the same way, we have done so far to other instances of classes:"
   ]
  },
  {
   "cell_type": "code",
   "execution_count": 61,
   "metadata": {},
   "outputs": [
    {
     "data": {
      "text/plain": [
       "100"
      ]
     },
     "execution_count": 61,
     "metadata": {},
     "output_type": "execute_result"
    }
   ],
   "source": [
    "def f():\n",
    "    return 100\n",
    "\n",
    "f()"
   ]
  },
  {
   "cell_type": "code",
   "execution_count": 62,
   "metadata": {},
   "outputs": [
    {
     "data": {
      "text/plain": [
       "100"
      ]
     },
     "execution_count": 62,
     "metadata": {},
     "output_type": "execute_result"
    }
   ],
   "source": [
    "f.a = 100\n",
    "f.a"
   ]
  },
  {
   "cell_type": "code",
   "execution_count": 68,
   "metadata": {},
   "outputs": [
    {
     "name": "stdout",
     "output_type": "stream",
     "text": [
      "10\n"
     ]
    }
   ],
   "source": [
    "def f(x):\n",
    "    f.counter = getattr(f, \"counter\", 0) + 1 \n",
    "    return \"Monty Python\"\n",
    "        \n",
    "\n",
    "for i in range(10):\n",
    "    f(i)\n",
    "    \n",
    "print(f.counter)"
   ]
  },
  {
   "cell_type": "code",
   "execution_count": 9,
   "metadata": {},
   "outputs": [
    {
     "name": "stdout",
     "output_type": "stream",
     "text": [
      "-5\n",
      "You cannot call 'suma' function through object reference.\n",
      "You can call them through class name\n",
      "15\n"
     ]
    }
   ],
   "source": [
    "class Arth:\n",
    "    \n",
    "    def suma(a, b):\n",
    "        return a + b\n",
    "    \n",
    "    def subtract(self, a, b):\n",
    "        return a - b\n",
    "\n",
    "obj_a = Arth()\n",
    "a,b = 5,10\n",
    "\n",
    "print(obj_a.subtract(a,b))\n",
    "\n",
    "try:\n",
    "    obj_a.suma(a,b)\n",
    "except :\n",
    "    print(\"You cannot call 'suma' function through object reference.\\nYou can call them through class name\")\n",
    "    \n",
    "print(Arth.suma(a,b))    "
   ]
  },
  {
   "cell_type": "code",
   "execution_count": 27,
   "metadata": {},
   "outputs": [
    {
     "name": "stdout",
     "output_type": "stream",
     "text": [
      "your values is  12\n",
      " This is function \n",
      "Robot class used to represent different function\n"
     ]
    }
   ],
   "source": [
    "class robot:\n",
    "    \"\"\"Robot class used to represent different function\"\"\"\n",
    "    \n",
    "    def func(self,q):\n",
    "        \"\"\" This is function \"\"\"\n",
    "        print('your values is ',q)\n",
    "\n",
    "obj = robot()\n",
    "obj.func(12)\n",
    "print(obj.func.__doc__) # function doc string\n",
    "print(obj.__doc__)      # Class doc string\n"
   ]
  },
  {
   "cell_type": "code",
   "execution_count": 32,
   "metadata": {},
   "outputs": [
    {
     "name": "stdout",
     "output_type": "stream",
     "text": [
      "1 , 1 , 1 , 1 , \n",
      "2 , 2 , 2 , 2 , \n",
      "name =  12\n",
      "t =  55\n",
      "self.name =  1\n",
      "name =  12\n",
      "t =  66\n",
      "self.name =  2\n",
      "100000\n",
      "100000\n"
     ]
    }
   ],
   "source": [
    "name = 100000\n",
    "class robot:\n",
    "    name = 12 # name is class variable not a global\n",
    "    \n",
    "    def __init__(self,x,y,z,p):\n",
    "        self.name = x\n",
    "        self.height = y\n",
    "        self.weight = z\n",
    "        self.color = p\n",
    "        print(self.name,end=' , ')\n",
    "        print(self.height,end=' , ')\n",
    "        print(self.weight,end=' , ')\n",
    "        print(self.color,end=' , ')\n",
    "        print()\n",
    "    \n",
    "    def fun1(self,t):\n",
    "        print('name = ',robot.name)    # global names access\n",
    "        print('t = ',t) \n",
    "        print(\"self.name = \",self.name)# init name access\n",
    "     \n",
    "    def fun2(self):\n",
    "        print(name)   # access global name\n",
    "        \n",
    "obj1=robot(1,1,1,1)\n",
    "obj2=robot(2,2,2,2)\n",
    "\n",
    "obj1.fun1(55)\n",
    "obj2.fun1(66)\n",
    "\n",
    "obj1.fun2()\n",
    "obj2.fun2()        "
   ]
  },
  {
   "cell_type": "code",
   "execution_count": 33,
   "metadata": {},
   "outputs": [
    {
     "name": "stdout",
     "output_type": "stream",
     "text": [
      "name =  changed\n",
      "t =  90\n",
      "self.name =  1\n"
     ]
    }
   ],
   "source": [
    "robot.name = \"changed\"\n",
    "obj1.fun1(90)"
   ]
  },
  {
   "cell_type": "code",
   "execution_count": null,
   "metadata": {},
   "outputs": [],
   "source": [
    "class Complex(object):\n",
    "    def __init__(self, real, imaginary):\n",
    "        self.real =real\n",
    "        self.imaginary = imaginary\n",
    "    def __add__(self, no):\n",
    "        return Complex(self.real + no.real , self.imaginary + no.imaginary)        \n",
    "    def __sub__(self, no):\n",
    "        return Complex(self.real - no.real , self.imaginary - no.imaginary)\n",
    "    def __mul__(self, no):\n",
    "        a = self.real\n",
    "        b = self.imaginary\n",
    "        c = no.real\n",
    "        d = no.imaginary\n",
    "        real_mult = (a * c) - (b * d)\n",
    "        imag_mult = (a * d) + (b * c)\n",
    "        return Complex(real_mult,imag_mult)\n",
    "    def __truediv__(self, no):\n",
    "        x = no.real**2 + no.imaginary**2\n",
    "        a =(self.real * no.real + self.imaginary * no.imaginary) / x\n",
    "        b =(-no.imaginary * self.real + self.imaginary * no.real) / x\n",
    "        return Complex(a,b)\n",
    "    def mod(self):\n",
    "        a = self.real\n",
    "        b = self.imaginary\n",
    "        return Complex(math.sqrt(a**2 + b**2),0)\n",
    "\n",
    "    def __str__(self):\n",
    "        if self.imaginary == 0:\n",
    "            result = \"%.2f+0.00i\" % (self.real)\n",
    "        elif self.real == 0:\n",
    "            if self.imaginary >= 0:\n",
    "                result = \"0.00+%.2fi\" % (self.imaginary)\n",
    "            else:\n",
    "                result = \"0.00-%.2fi\" % (abs(self.imaginary))\n",
    "        elif self.imaginary > 0:\n",
    "            result = \"%.2f+%.2fi\" % (self.real, self.imaginary)\n",
    "        else:\n",
    "            result = \"%.2f-%.2fi\" % (self.real, abs(self.imaginary))\n",
    "        return result"
   ]
  },
  {
   "cell_type": "code",
   "execution_count": null,
   "metadata": {},
   "outputs": [],
   "source": []
  },
  {
   "cell_type": "code",
   "execution_count": null,
   "metadata": {},
   "outputs": [],
   "source": [
    "import numpy as np\n",
    "class Points(object):\n",
    "    def __init__(self, x, y, z):\n",
    "        self.x = x\n",
    "        self.y = y\n",
    "        self.z = z\n",
    "    def __sub__(self, no):\n",
    "        self.x = no.x - self.x\n",
    "        self.y = no.y - self.y\n",
    "        self.z = no.z - self.z\n",
    "        return self\n",
    "    def dot(self, no):\n",
    "        return np.dot([self.x , self.y , self.z] , [no.x , no.y , no.z])\n",
    "    def cross(self, no):\n",
    "        x = np.cross([self.x , self.y , self.z] , [no.x , no.y , no.z])\n",
    "        self.x = x[0]\n",
    "        self.y = x[1]\n",
    "        self.z = x[2]\n",
    "        return self\n",
    "    def absolute(self):\n",
    "        return pow((self.x ** 2 + self.y ** 2 + self.z ** 2), 0.5)\n"
   ]
  },
  {
   "cell_type": "code",
   "execution_count": null,
   "metadata": {},
   "outputs": [],
   "source": []
  },
  {
   "cell_type": "code",
   "execution_count": null,
   "metadata": {},
   "outputs": [],
   "source": [
    "points = list()\n",
    "for i in range(4):\n",
    "        a = list(map(float, input().split()))\n",
    "        points.append(a)\n",
    "a, b, c, d = Points(*points[0]), Points(*points[1]), Points(*points[2]), Points(*points[3])\n",
    "x = (b - a).cross(c - b)\n",
    "y = (c - b).cross(d - c)\n",
    "angle = math.acos(x.dot(y) / (x.absolute() * y.absolute()))\n",
    "print(\"%.2f\" % math.degrees(angle))"
   ]
  },
  {
   "cell_type": "code",
   "execution_count": null,
   "metadata": {},
   "outputs": [],
   "source": []
  },
  {
   "cell_type": "code",
   "execution_count": null,
   "metadata": {},
   "outputs": [],
   "source": [
    "a, b, c, d = Points(*points[0]), Points(*points[1]), Points(*points[2]), Points(*points[3])\n",
    "x = (b - a).cross(c - b)\n",
    "y = (c - b).cross(d - c)\n",
    "angle = math.acos(x.dot(y) / (x.absolute() * y.absolute()))\n",
    "print(\"%.2f\" % math.degrees(angle))"
   ]
  },
  {
   "cell_type": "code",
   "execution_count": null,
   "metadata": {},
   "outputs": [],
   "source": []
  },
  {
   "cell_type": "code",
   "execution_count": null,
   "metadata": {},
   "outputs": [],
   "source": [
    "import math\n",
    "class Points(object):\n",
    "    def __init__(self, x, y, z):\n",
    "        self.x=x\n",
    "        self.y=y\n",
    "        self.z=z\n",
    "\n",
    "    def __sub__(self, no):\n",
    "        return  Points((self.x-no.x),(self.y-no.y),(self.z-no.z))\n",
    "\n",
    "    def dot(self, no):\n",
    "        return (self.x*no.x)+(self.y*no.y)+(self.z*no.z)\n",
    "\n",
    "    def cross(self, no):\n",
    "        return Points((self.y*no.z-self.z*no.y),(self.z*no.x-self.x*no.z),(self.x*no.y-self.y*no.x))\n",
    "        \n",
    "    def absolute(self):\n",
    "        return pow((self.x ** 2 + self.y ** 2 + self.z ** 2), 0.5)\n",
    "if __name__ == '__main__':\n",
    "    points = list()\n",
    "    for i in range(4):\n",
    "        a = list(map(float, input().split()))\n",
    "        points.append(a)\n",
    "\n",
    "    a, b, c, d = Points(*points[0]), Points(*points[1]), Points(*points[2]), Points(*points[3])\n",
    "    x = (b - a).cross(c - b)\n",
    "    y = (c - b).cross(d - c)\n",
    "    angle = math.acos(x.dot(y) / (x.absolute() * y.absolute()))\n",
    "\n",
    "    print(\"%.2f\" % math.degrees(angle))"
   ]
  },
  {
   "cell_type": "code",
   "execution_count": null,
   "metadata": {},
   "outputs": [],
   "source": []
  },
  {
   "cell_type": "code",
   "execution_count": null,
   "metadata": {},
   "outputs": [],
   "source": []
  },
  {
   "cell_type": "code",
   "execution_count": null,
   "metadata": {},
   "outputs": [],
   "source": []
  },
  {
   "cell_type": "code",
   "execution_count": null,
   "metadata": {},
   "outputs": [],
   "source": []
  }
 ],
 "metadata": {
  "kernelspec": {
   "display_name": "Python 3",
   "language": "python",
   "name": "python3"
  },
  "language_info": {
   "codemirror_mode": {
    "name": "ipython",
    "version": 3
   },
   "file_extension": ".py",
   "mimetype": "text/x-python",
   "name": "python",
   "nbconvert_exporter": "python",
   "pygments_lexer": "ipython3",
   "version": "3.6.5"
  }
 },
 "nbformat": 4,
 "nbformat_minor": 2
}
