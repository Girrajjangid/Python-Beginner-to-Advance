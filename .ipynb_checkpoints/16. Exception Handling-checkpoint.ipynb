{
 "cells": [
  {
   "cell_type": "markdown",
   "metadata": {},
   "source": [
    "These three classes are not in Exception class\n",
    "1. generator exit\n",
    "2. System exit\n",
    "3. keyboard error\n",
    " this three exceptions all exceptions are sub classes of Exception\n",
    "\n"
   ]
  },
  {
   "cell_type": "code",
   "execution_count": 20,
   "metadata": {},
   "outputs": [
    {
     "name": "stdout",
     "output_type": "stream",
     "text": [
      "Enter a number : 10\n",
      "\n",
      "else execute\n",
      "\n",
      "finally execute\n"
     ]
    }
   ],
   "source": [
    "try:\n",
    "    x = int(input('Enter a number : '))\n",
    "    y = 1/2\n",
    "except Exception as return_value:\n",
    "    print('\\nException = ',return_value)\n",
    "\n",
    "else:  # it execute when there is no exception ocuure and it always above the (finally statement)\n",
    "    print('\\nelse execute')\n",
    "\n",
    "finally:  # it always execute weather error occur or not\n",
    "    print('\\nfinally execute')"
   ]
  },
  {
   "cell_type": "code",
   "execution_count": 32,
   "metadata": {},
   "outputs": [
    {
     "name": "stdout",
     "output_type": "stream",
     "text": [
      "thik hai\n",
      "e =  Error occured\n"
     ]
    }
   ],
   "source": [
    "# custom handling\n",
    "def fun(num):\n",
    "    try:\n",
    "        if num<=0:\n",
    "            raise ZeroDivisionError('Error occured')\n",
    "        else :\n",
    "            print('thik hai')\n",
    "    except ZeroDivisionError as e:\n",
    "        print('e = ',e)\n",
    "\n",
    "fun(12)\n",
    "fun(-9856)\n",
    "\n",
    "# if we dont want to specified what type of error occured\n",
    "\n"
   ]
  },
  {
   "cell_type": "code",
   "execution_count": 41,
   "metadata": {},
   "outputs": [],
   "source": [
    "def new(num):\n",
    "    try:\n",
    "        assert num > 0 , \"assert error occured\" # it raise when condition false\n",
    "    except AssertionError as a:\n",
    "        print(a)\n",
    "new(12)\n",
    "new(24)"
   ]
  },
  {
   "cell_type": "code",
   "execution_count": null,
   "metadata": {
    "collapsed": true
   },
   "outputs": [],
   "source": []
  }
 ],
 "metadata": {
  "kernelspec": {
   "display_name": "Python 3",
   "language": "python",
   "name": "python3"
  },
  "language_info": {
   "codemirror_mode": {
    "name": "ipython",
    "version": 3
   },
   "file_extension": ".py",
   "mimetype": "text/x-python",
   "name": "python",
   "nbconvert_exporter": "python",
   "pygments_lexer": "ipython3",
   "version": "3.6.5"
  }
 },
 "nbformat": 4,
 "nbformat_minor": 2
}
