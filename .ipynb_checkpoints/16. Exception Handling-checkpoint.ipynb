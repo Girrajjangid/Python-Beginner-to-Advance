{
 "cells": [
  {
   "cell_type": "markdown",
   "metadata": {},
   "source": [
    "# Exception handling\n",
    "\n",
    "An exception is an error that happens during the execution of a program. Exceptions are known to non-programmers as instances that do not conform to a general rule. The name \"exception\" in computer science has this meaning as well: It implies that the problem (the exception) doesn't occur frequently, i.e. the exception is the \"exception to the rule\". Exception handling is a construct in some programming languages to handle or deal with errors automatically. Many programming languages like C++, Objective-C, PHP, Java, Ruby, Python, and many others have built-in support for exception handling.\n",
    "\n",
    "Error handling is generally resolved by saving the state of execution at the moment the error occurred and interrupting the normal flow of the program to execute a special function or piece of code, which is known as the exception handler. Depending on the kind of error (\"division by zero\", \"file open error\" and so on) which had occurred, the error handler can \"fix\" the problem and the programm can be continued afterwards with the previously saved data.\n"
   ]
  },
  {
   "cell_type": "markdown",
   "metadata": {},
   "source": [
    "# Exception handling in python\n",
    "\n",
    "Exceptions handling in Python is very similar to Java. The code, which harbours the risk of an exception, is embedded in a try block. But whereas in Java exceptions are caught by catch clauses, we have statements introduced by an \"except\" keyword in Python. It's possible to create \"custom-made\" exceptions: With the raise statement it's possible to force a specified exception to occur.\n",
    "\n",
    "Let's look at a simple example. Assuming we want to ask the user to enter an integer number. If we use a input(), the input will be a string, which we have to cast into an integer. If the input has not been a valid integer, we will generate (raise) a ValueError. We show this in the following interactive session:"
   ]
  },
  {
   "cell_type": "code",
   "execution_count": 1,
   "metadata": {},
   "outputs": [
    {
     "name": "stdout",
     "output_type": "stream",
     "text": [
      "Enter your age: 12.5\n"
     ]
    },
    {
     "ename": "ValueError",
     "evalue": "invalid literal for int() with base 10: '12.5'",
     "output_type": "error",
     "traceback": [
      "\u001b[1;31m---------------------------------------------------------------------------\u001b[0m",
      "\u001b[1;31mValueError\u001b[0m                                Traceback (most recent call last)",
      "\u001b[1;32m<ipython-input-1-7173100ced7d>\u001b[0m in \u001b[0;36m<module>\u001b[1;34m()\u001b[0m\n\u001b[1;32m----> 1\u001b[1;33m \u001b[0ma\u001b[0m \u001b[1;33m=\u001b[0m \u001b[0mint\u001b[0m\u001b[1;33m(\u001b[0m\u001b[0minput\u001b[0m\u001b[1;33m(\u001b[0m\u001b[1;34m\"Enter your age: \"\u001b[0m\u001b[1;33m)\u001b[0m\u001b[1;33m)\u001b[0m\u001b[1;33m\u001b[0m\u001b[0m\n\u001b[0m\u001b[0;32m      2\u001b[0m \u001b[0ma\u001b[0m\u001b[1;33m\u001b[0m\u001b[0m\n",
      "\u001b[1;31mValueError\u001b[0m: invalid literal for int() with base 10: '12.5'"
     ]
    }
   ],
   "source": [
    "a = int(input(\"Enter your age: \"))\n",
    "a"
   ]
  },
  {
   "cell_type": "code",
   "execution_count": 11,
   "metadata": {},
   "outputs": [
    {
     "name": "stdout",
     "output_type": "stream",
     "text": [
      "Enter your age: 12.5\n",
      " that's not your age idiot\n"
     ]
    }
   ],
   "source": [
    "try:\n",
    "    global a\n",
    "    a = int(input(\"Enter your age: \"))\n",
    "    print(a)\n",
    "except ValueError:\n",
    "    print(\"That's not your age idiot\")"
   ]
  },
  {
   "cell_type": "markdown",
   "metadata": {},
   "source": [
    "These three classes are not in Exception class\n",
    "1. generator exit\n",
    "2. System exit\n",
    "3. keyboard error\n",
    " this three exceptions all exceptions are sub classes of Exception\n",
    "\n"
   ]
  },
  {
   "cell_type": "code",
   "execution_count": 20,
   "metadata": {},
   "outputs": [
    {
     "name": "stdout",
     "output_type": "stream",
     "text": [
      "Enter a number : 10\n",
      "\n",
      "else execute\n",
      "\n",
      "finally execute\n"
     ]
    }
   ],
   "source": [
    "try:\n",
    "    x = int(input('Enter a number : '))\n",
    "    y = 1/2\n",
    "except Exception as return_value:\n",
    "    print('\\nException = ',return_value)\n",
    "\n",
    "else:  # it execute when there is no exception ocuure and it always above the (finally statement)\n",
    "    print('\\nelse execute')\n",
    "\n",
    "finally:  # it always execute weather error occur or not\n",
    "    print('\\nfinally execute')"
   ]
  },
  {
   "cell_type": "code",
   "execution_count": 32,
   "metadata": {},
   "outputs": [
    {
     "name": "stdout",
     "output_type": "stream",
     "text": [
      "thik hai\n",
      "e =  Error occured\n"
     ]
    }
   ],
   "source": [
    "# custom handling\n",
    "def fun(num):\n",
    "    try:\n",
    "        if num<=0:\n",
    "            raise ZeroDivisionError('Error occured')\n",
    "        else :\n",
    "            print('thik hai')\n",
    "    except ZeroDivisionError as e:\n",
    "        print('e = ',e)\n",
    "\n",
    "fun(12)\n",
    "fun(-9856)\n",
    "\n",
    "# if we dont want to specified what type of error occured\n",
    "\n"
   ]
  },
  {
   "cell_type": "code",
   "execution_count": 41,
   "metadata": {},
   "outputs": [],
   "source": [
    "def new(num):\n",
    "    try:\n",
    "        assert num > 0 , \"assert error occured\" # it raise when condition false\n",
    "    except AssertionError as a:\n",
    "        print(a)\n",
    "new(12)\n",
    "new(24)"
   ]
  },
  {
   "cell_type": "code",
   "execution_count": null,
   "metadata": {
    "collapsed": true
   },
   "outputs": [],
   "source": []
  }
 ],
 "metadata": {
  "kernelspec": {
   "display_name": "Python 3",
   "language": "python",
   "name": "python3"
  },
  "language_info": {
   "codemirror_mode": {
    "name": "ipython",
    "version": 3
   },
   "file_extension": ".py",
   "mimetype": "text/x-python",
   "name": "python",
   "nbconvert_exporter": "python",
   "pygments_lexer": "ipython3",
   "version": "3.6.5"
  }
 },
 "nbformat": 4,
 "nbformat_minor": 2
}
