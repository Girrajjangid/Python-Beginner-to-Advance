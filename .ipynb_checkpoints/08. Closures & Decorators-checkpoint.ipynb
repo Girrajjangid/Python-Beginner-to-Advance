{
 "cells": [
  {
   "cell_type": "markdown",
   "metadata": {},
   "source": [
    "Decorators belong most probably to the most beautiful and most powerful design possibilities in Python, but at the same time the concept is considered by many as complicated to get into. To be precise, the usage of decorates is very easy, but writing decorators can be complicated, especially if you are not experienced with decorators and some functional programming concepts. \n",
    "\n",
    "Even though it is the same underlying concept, we have two different kinds of decorators in Python:\n",
    "\n",
    "1. Function decorators\n",
    "2. Class decorators\n",
    "\n",
    "A decorator in Python is any callable Python object that is used to modify a function or a class. A reference to a function \"func\" or a class \"C\" is passed to a decorator and the decorator returns a modified function or class. The modified functions or classes usually contain calls to the original function \"func\" or class \"C\""
   ]
  },
  {
   "cell_type": "code",
   "execution_count": 2,
   "metadata": {},
   "outputs": [],
   "source": [
    "import numpy as np"
   ]
  },
  {
   "cell_type": "code",
   "execution_count": 12,
   "metadata": {},
   "outputs": [
    {
     "data": {
      "text/plain": [
       "11"
      ]
     },
     "execution_count": 12,
     "metadata": {},
     "output_type": "execute_result"
    }
   ],
   "source": [
    "def suc(x):\n",
    "    return x+1\n",
    "suc(10)"
   ]
  },
  {
   "cell_type": "code",
   "execution_count": 13,
   "metadata": {},
   "outputs": [],
   "source": [
    "succesor = suc"
   ]
  },
  {
   "cell_type": "code",
   "execution_count": 14,
   "metadata": {},
   "outputs": [
    {
     "data": {
      "text/plain": [
       "11"
      ]
     },
     "execution_count": 14,
     "metadata": {},
     "output_type": "execute_result"
    }
   ],
   "source": [
    "succesor(10)"
   ]
  },
  {
   "cell_type": "code",
   "execution_count": 15,
   "metadata": {},
   "outputs": [
    {
     "data": {
      "text/plain": [
       "11"
      ]
     },
     "execution_count": 15,
     "metadata": {},
     "output_type": "execute_result"
    }
   ],
   "source": [
    "del suc\n",
    "succesor(10)"
   ]
  },
  {
   "cell_type": "code",
   "execution_count": 16,
   "metadata": {},
   "outputs": [
    {
     "name": "stdout",
     "output_type": "stream",
     "text": [
      "This is the function 'f'\n",
      "I am calling 'g' now:\n",
      "Hi, it's me 'g'\n",
      "Thanks for calling me\n"
     ]
    }
   ],
   "source": [
    "# function inside a function\n",
    "def f():\n",
    "    \n",
    "    def g():\n",
    "        print(\"Hi, it's me 'g'\")\n",
    "        print(\"Thanks for calling me\")\n",
    "        \n",
    "    print(\"This is the function 'f'\")\n",
    "    print(\"I am calling 'g' now:\")\n",
    "    g()\n",
    "\n",
    "    \n",
    "f()"
   ]
  },
  {
   "cell_type": "code",
   "execution_count": 17,
   "metadata": {},
   "outputs": [
    {
     "name": "stdout",
     "output_type": "stream",
     "text": [
      "It's 68.0 degrees!\n"
     ]
    }
   ],
   "source": [
    "def temperature(t):\n",
    "    def celsius2fahrenheit(x):\n",
    "        return 9 * x / 5 + 32\n",
    "\n",
    "    result = \"It's \" + str(celsius2fahrenheit(t)) + \" degrees!\" \n",
    "    return result\n",
    "\n",
    "print(temperature(20))"
   ]
  },
  {
   "cell_type": "markdown",
   "metadata": {},
   "source": [
    "we can pass functions - or better \"references to functions\" - as parameters to a function."
   ]
  },
  {
   "cell_type": "code",
   "execution_count": 20,
   "metadata": {},
   "outputs": [
    {
     "name": "stdout",
     "output_type": "stream",
     "text": [
      "inside the function f \n",
      "function G() is called\n"
     ]
    }
   ],
   "source": [
    "# Function as a parameter\n",
    "def g():\n",
    "    print(\"function G() is called\")\n",
    "\n",
    "def f(func):  # we are passing reference to the function \n",
    "    print(\"inside the function f \")\n",
    "    func()\n",
    "\n",
    "f(g)"
   ]
  },
  {
   "cell_type": "markdown",
   "metadata": {},
   "source": [
    "# Call by reference"
   ]
  },
  {
   "cell_type": "code",
   "execution_count": 25,
   "metadata": {},
   "outputs": [
    {
     "name": "stdout",
     "output_type": "stream",
     "text": [
      "[1, 2, 3, 4, 5, 2]\n",
      "[1, 2, 3, 4, 5, 2]\n"
     ]
    }
   ],
   "source": [
    "def lis(l):\n",
    "    # call by reference\n",
    "    l.append(2)\n",
    "    return l\n",
    "\n",
    "l1 = [1,2,3,4,5]\n",
    "\n",
    "print(lis(l1))\n",
    "print(l1)"
   ]
  },
  {
   "cell_type": "code",
   "execution_count": 26,
   "metadata": {},
   "outputs": [
    {
     "name": "stdout",
     "output_type": "stream",
     "text": [
      "2\n",
      "[1, 2, 3, 4, 5]\n"
     ]
    }
   ],
   "source": [
    "def lis(l):\n",
    "    # here I change the reference of l to int class value which is 2 in this case\n",
    "    l = 2\n",
    "    return l\n",
    "\n",
    "l1 = [1,2,3,4,5]\n",
    "\n",
    "print(lis(l1))\n",
    "print(l1)"
   ]
  },
  {
   "cell_type": "code",
   "execution_count": 30,
   "metadata": {},
   "outputs": [
    {
     "name": "stdout",
     "output_type": "stream",
     "text": [
      "[1, 2, 3, 4, 5, 2]\n",
      "[1, 2, 3, 4, 5]\n"
     ]
    }
   ],
   "source": [
    "def lis(l):\n",
    "    l.append(2)\n",
    "    return l\n",
    "\n",
    "l1 = [1,2,3,4,5]\n",
    "\n",
    "print(lis(l1[:])) # slice is the new copy of that original list\n",
    "print(l1)"
   ]
  },
  {
   "cell_type": "code",
   "execution_count": 35,
   "metadata": {},
   "outputs": [
    {
     "name": "stdout",
     "output_type": "stream",
     "text": [
      "inside the function f \n",
      "function G() is called\n",
      "function G() is called\n",
      "func real name is  g\n",
      "f real name is     f\n",
      "g real name is     g\n"
     ]
    }
   ],
   "source": [
    "def g():\n",
    "    print(\"function G() is called\")\n",
    "\n",
    "def f(func):  # we are passing reference to the function \n",
    "    print(\"inside the function f \")\n",
    "    func()  # passed reference to global function so it can also be accessable\n",
    "    g()  # global function so it can acessable\n",
    "    print('func real name is ',func.__name__)\n",
    "    print('f real name is    ',f.__name__)\n",
    "    print('g real name is    ',g.__name__)\n",
    "    \n",
    "\n",
    "f(g)"
   ]
  },
  {
   "cell_type": "code",
   "execution_count": 37,
   "metadata": {},
   "outputs": [
    {
     "name": "stdout",
     "output_type": "stream",
     "text": [
      "Original name of func is : t\n",
      "0\n",
      "1\n",
      "4\n",
      "9\n",
      "16\n",
      "25\n",
      "36\n",
      "49\n",
      "64\n",
      "81\n"
     ]
    }
   ],
   "source": [
    "def t(i):\n",
    "    return i*i\n",
    "\n",
    "def new(func):\n",
    "    print('Original name of func is :',func.__name__)\n",
    "    for i in range(10):\n",
    "        print(func(i))\n",
    "        \n",
    "new(t)"
   ]
  },
  {
   "cell_type": "code",
   "execution_count": 54,
   "metadata": {},
   "outputs": [
    {
     "data": {
      "text/plain": [
       "'Summation of passed list is:  55'"
      ]
     },
     "execution_count": 54,
     "metadata": {},
     "output_type": "execute_result"
    }
   ],
   "source": [
    "# Function return function\n",
    "def summation(*x):\n",
    "    \n",
    "    def dosum(a):\n",
    "        s = 0\n",
    "        for i in a:\n",
    "            s+=i\n",
    "        return s\n",
    "        \n",
    "    return \"Summation of passed list is:  \" + str(dosum(x))\n",
    "    \n",
    "summation(1,2,3,4,5,6,7,8,9,10)"
   ]
  },
  {
   "cell_type": "markdown",
   "metadata": {},
   "source": [
    "# A simple decorator\n",
    "\n",
    "we use decorators to modify the results of a function without changing the actual function"
   ]
  },
  {
   "cell_type": "code",
   "execution_count": 62,
   "metadata": {},
   "outputs": [
    {
     "name": "stdout",
     "output_type": "stream",
     "text": [
      "We call foo before decoration:\n",
      "Hi, foo has been called with Hi\n",
      "#########\n",
      "We now decorate foo with f:\n",
      "#########\n",
      "We call foo after decoration:\n",
      "Before calling foo\n",
      "Hi, foo has been called with 42\n",
      "After calling foo\n"
     ]
    }
   ],
   "source": [
    "def our_decorator(func):\n",
    "    \n",
    "    def function_wrapper(x):\n",
    "        print(\"Before calling \" + func.__name__)\n",
    "        func(x)\n",
    "        print(\"After calling \" + func.__name__)\n",
    "    \n",
    "    return function_wrapper\n",
    "\n",
    "def foo(x):\n",
    "    print(\"Hi, foo has been called with \" + str(x))\n",
    "\n",
    "print(\"We call foo before decoration:\")\n",
    "foo(\"Hi\")\n",
    "\n",
    "print('#########')    \n",
    "\n",
    "print(\"We now decorate foo with f:\")\n",
    "foo = our_decorator(foo)  # our_decorator return reference of function_wrapper so foo == function_wrapper\n",
    "\n",
    "print('#########')\n",
    "\n",
    "print(\"We call foo after decoration:\")\n",
    "foo(42)  # now we call function_wrapper with x=42 where func == already foo we assign them above by passing in our_decorator"
   ]
  },
  {
   "cell_type": "markdown",
   "metadata": {},
   "source": [
    "# We will do a proper decoration now. The decoration occurrs in the line before the function header. The \"@\" is followed by the decorator function name. "
   ]
  },
  {
   "cell_type": "code",
   "execution_count": 7,
   "metadata": {},
   "outputs": [
    {
     "ename": "NameError",
     "evalue": "name 'function_wrapper' is not defined",
     "output_type": "error",
     "traceback": [
      "\u001b[1;31m---------------------------------------------------------------------------\u001b[0m",
      "\u001b[1;31mNameError\u001b[0m                                 Traceback (most recent call last)",
      "\u001b[1;32m<ipython-input-7-85723fbcab15>\u001b[0m in \u001b[0;36m<module>\u001b[1;34m()\u001b[0m\n\u001b[0;32m     17\u001b[0m \u001b[1;33m\u001b[0m\u001b[0m\n\u001b[0;32m     18\u001b[0m \u001b[1;31m#foo(\"Hi\")\u001b[0m\u001b[1;33m\u001b[0m\u001b[1;33m\u001b[0m\u001b[0m\n\u001b[1;32m---> 19\u001b[1;33m \u001b[0mfunction_wrapper\u001b[0m\u001b[1;33m(\u001b[0m\u001b[1;34m'x'\u001b[0m\u001b[1;33m)\u001b[0m\u001b[1;33m\u001b[0m\u001b[0m\n\u001b[0m",
      "\u001b[1;31mNameError\u001b[0m: name 'function_wrapper' is not defined"
     ]
    }
   ],
   "source": [
    "def our_decorator(func):\n",
    "    \n",
    "    def function_wrapper(x):\n",
    "        print(\"Before calling \" + func.__name__)\n",
    "        func(x)\n",
    "        print(\"After calling \" + func.__name__)\n",
    "    \n",
    "    return function_wrapper\n",
    "\n",
    "\n",
    "#@our_decorator  \n",
    "def foo(x):\n",
    "    print(\"Hi, foo has been called with \" + str(x))\n",
    "\n",
    "    \n",
    "#foo = our_decorator(foo)\n",
    "\n",
    "#foo(\"Hi\")\n",
    "function_wrapper('x')"
   ]
  },
  {
   "cell_type": "code",
   "execution_count": 102,
   "metadata": {},
   "outputs": [
    {
     "name": "stdout",
     "output_type": "stream",
     "text": [
      "Before calling succ\n",
      "11\n",
      "After calling succ\n"
     ]
    }
   ],
   "source": [
    "\n",
    "def our_decorator(func ):\n",
    "    \n",
    "    def function_wrapper(x):\n",
    "        print(\"Before calling \" + func.__name__)\n",
    "        res = func(x)\n",
    "        print(res)\n",
    "        print(\"After calling \" + func.__name__)\n",
    "    \n",
    "    return function_wrapper\n",
    "\n",
    "\n",
    "@our_decorator  # @function means after this statement which ever function comes this statement's function assign to them\n",
    "                # like succ = our_decorator(succ)\n",
    "def succ(n):\n",
    "    return (n + 1) \n",
    "\n",
    "#succ = our_decorator(succ)\n",
    "\n",
    "succ(10)"
   ]
  },
  {
   "cell_type": "code",
   "execution_count": 103,
   "metadata": {},
   "outputs": [
    {
     "name": "stdout",
     "output_type": "stream",
     "text": [
      "Before calling sin\n",
      "9.265358966049026e-05\n",
      "After calling sin\n",
      "Before calling cos\n",
      "-0.9999999957076562\n",
      "After calling cos\n"
     ]
    }
   ],
   "source": [
    "from math import sin, cos\n",
    "\n",
    "def our_decorator(func):\n",
    "    \n",
    "    def function_wrapper(x):\n",
    "        print(\"Before calling \" + func.__name__)\n",
    "        res = func(x)\n",
    "        print(res)\n",
    "        print(\"After calling \" + func.__name__)\n",
    "    \n",
    "    return function_wrapper\n",
    "\n",
    "sin = our_decorator(sin)\n",
    "cos = our_decorator(cos)\n",
    "\n",
    "for f in [sin, cos]:\n",
    "    f(3.1415)"
   ]
  },
  {
   "cell_type": "markdown",
   "metadata": {},
   "source": [
    "Summarizing we can say that a decorator in Python is a callable Python object that is used to modify a function, method or class definition. The original object, the one which is going to be modified, is passed to a decorator as an argument. The decorator returns a modified object, e.g. a modified function, which is bound to the name used in the definition."
   ]
  },
  {
   "cell_type": "markdown",
   "metadata": {},
   "source": [
    "# Closures\n",
    "\n",
    "closure means in python: function returns function where outer function return a function"
   ]
  },
  {
   "cell_type": "code",
   "execution_count": 15,
   "metadata": {},
   "outputs": [
    {
     "name": "stdout",
     "output_type": "stream",
     "text": [
      "<function hello.<locals>.hi at 0x000001FB1B6832F0> \n",
      "\n",
      "\n",
      "Hello  world\n",
      "\n",
      "Hello  world\n",
      "None\n"
     ]
    }
   ],
   "source": [
    "# closure: funtion inside funtion where outer function return a function\n",
    "def hello(x):\n",
    "    def hi():\n",
    "        print('Hello',x)\n",
    "    return hi\n",
    "k=hello(' world')\n",
    "print(k,'\\n\\n')\n",
    "\n",
    "k()\n",
    "print()\n",
    "print(k())"
   ]
  },
  {
   "cell_type": "code",
   "execution_count": 16,
   "metadata": {},
   "outputs": [
    {
     "name": "stdout",
     "output_type": "stream",
     "text": [
      "<class 'tuple'>\n",
      "(<function new.<locals>.one at 0x000001FB1B5CDD90>, <function new.<locals>.two at 0x000001FB1B5CD950>)\n",
      "one  kyo aaaa\n",
      "one\n",
      "\n",
      "two  kyo aaaa\n",
      "None\n"
     ]
    }
   ],
   "source": [
    "def new(x):\n",
    "    def one():\n",
    "        nonlocal x\n",
    "        x='kyo '+ x\n",
    "        print('one ',x)\n",
    "        return 'one'\n",
    "    def two():\n",
    "        #x=x+'ass' throw an error\n",
    "        print('two ',x)\n",
    "    return one,two\n",
    "k=new('aaaa')\n",
    "\n",
    "print(type(k))\n",
    "print(k)\n",
    "print(k[0]())\n",
    "print()\n",
    "print(k[1]())\n"
   ]
  },
  {
   "cell_type": "code",
   "execution_count": 24,
   "metadata": {},
   "outputs": [
    {
     "name": "stdout",
     "output_type": "stream",
     "text": [
      "***************************************\n",
      "             girraj jangid             \n",
      "***************************************\n"
     ]
    }
   ],
   "source": [
    "# decorator\n",
    "\n",
    "def hello(myfun):\n",
    "    def hi(name):\n",
    "        print('*'*(len(name)*3))\n",
    "        myfun(name)\n",
    "        print(\"*\"*(len(name)*3))\n",
    "    return hi\n",
    "\n",
    "def hey(var):\n",
    "    print(var.center(len(var*3)))\n",
    "\n",
    "hey = hello(hey)\n",
    "hey('girraj jangid')"
   ]
  },
  {
   "cell_type": "code",
   "execution_count": 27,
   "metadata": {},
   "outputs": [
    {
     "name": "stdout",
     "output_type": "stream",
     "text": [
      "***************************************\n",
      "             girraj jangid             \n",
      "***************************************\n"
     ]
    }
   ],
   "source": [
    "# decorator\n",
    "\n",
    "def hello(myfun):\n",
    "    def hi(name):\n",
    "        print('*'*(len(name)*3))\n",
    "        myfun(name)\n",
    "        print(\"*\"*(len(name)*3))\n",
    "    return hi\n",
    "\n",
    "@hello\n",
    "def hey(var):\n",
    "    print(var.center(len(var*3)))\n",
    "\n",
    "hey('girraj jangid')"
   ]
  },
  {
   "cell_type": "markdown",
   "metadata": {},
   "source": [
    "#### So, what we try to do here, we decorate the output of function 'hey' without any changing in 'hey' function. You wil see more about this concept in flask web application"
   ]
  },
  {
   "cell_type": "code",
   "execution_count": 28,
   "metadata": {},
   "outputs": [
    {
     "name": "stdout",
     "output_type": "stream",
     "text": [
      "---------------------------\n",
      "\n",
      "***************************\n",
      "         asdasdasd         \n",
      "***************************\n",
      "\n",
      "---------------------------\n"
     ]
    }
   ],
   "source": [
    "def decorate(oldfunc):\n",
    "    \n",
    "    def worker():\n",
    "        name='asdasdasd'\n",
    "        k=len(name)*3\n",
    "        print('-'*k)\n",
    "        print()\n",
    "        oldfunc(name)\n",
    "        print()\n",
    "        print('-'*k)\n",
    "    return worker\n",
    "\n",
    "n_hi2 = decorate(n_hi)\n",
    "\n",
    "n_hi2()"
   ]
  },
  {
   "cell_type": "code",
   "execution_count": 29,
   "metadata": {},
   "outputs": [
    {
     "name": "stdout",
     "output_type": "stream",
     "text": [
      "enter a number :1\n",
      "**********\n",
      "\n",
      "prime no\n",
      "\n",
      "**********\n"
     ]
    }
   ],
   "source": [
    "# decorate prime function\n",
    "from  math import sqrt\n",
    "\n",
    "def prime(num,c=2):\n",
    "    if num%c==0:\n",
    "        return print('not a prime')\n",
    "    if c<=round(sqrt(num)+1):\n",
    "        return prime(num,c+1)\n",
    "    return print('prime no')\n",
    "\n",
    "def decorate_prime(prime):\n",
    "    def new_prime(num):\n",
    "        print('*'*10)\n",
    "        print()\n",
    "        prime(num)\n",
    "        print()\n",
    "        print('*'*10)\n",
    "    return new_prime\n",
    "\n",
    "new=decorate_prime(prime)\n",
    "new(int(input('enter a number :')))"
   ]
  }
 ],
 "metadata": {
  "kernelspec": {
   "display_name": "Python 3",
   "language": "python",
   "name": "python3"
  },
  "language_info": {
   "codemirror_mode": {
    "name": "ipython",
    "version": 3
   },
   "file_extension": ".py",
   "mimetype": "text/x-python",
   "name": "python",
   "nbconvert_exporter": "python",
   "pygments_lexer": "ipython3",
   "version": "3.6.5"
  }
 },
 "nbformat": 4,
 "nbformat_minor": 2
}
