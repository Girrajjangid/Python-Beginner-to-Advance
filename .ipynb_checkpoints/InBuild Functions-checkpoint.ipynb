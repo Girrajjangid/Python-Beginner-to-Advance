{
 "cells": [
  {
   "cell_type": "code",
   "execution_count": 27,
   "metadata": {},
   "outputs": [
    {
     "name": "stdout",
     "output_type": "stream",
     "text": [
      "1 2\n",
      "3 4\n",
      "(1, 3) (1, 4) (2, 3) (2, 4)\n"
     ]
    }
   ],
   "source": []
  },
  {
   "cell_type": "code",
   "execution_count": 25,
   "metadata": {},
   "outputs": [
    {
     "name": "stdout",
     "output_type": "stream",
     "text": [
      "1 2 3 4 5 6\n",
      "1 2 3\n"
     ]
    },
    {
     "ename": "ValueError",
     "evalue": "invalid literal for int() with base 10: '1 2 3'",
     "output_type": "error",
     "traceback": [
      "\u001b[1;31m---------------------------------------------------------------------------\u001b[0m",
      "\u001b[1;31mValueError\u001b[0m                                Traceback (most recent call last)",
      "\u001b[1;32m<ipython-input-25-731e3eb49c86>\u001b[0m in \u001b[0;36m<module>\u001b[1;34m()\u001b[0m\n\u001b[0;32m      1\u001b[0m \u001b[0ml\u001b[0m\u001b[1;33m=\u001b[0m\u001b[0mlist\u001b[0m\u001b[1;33m(\u001b[0m\u001b[0mmap\u001b[0m\u001b[1;33m(\u001b[0m\u001b[0mint\u001b[0m\u001b[1;33m,\u001b[0m\u001b[0minput\u001b[0m\u001b[1;33m(\u001b[0m\u001b[1;33m)\u001b[0m\u001b[1;33m.\u001b[0m\u001b[0mstrip\u001b[0m\u001b[1;33m(\u001b[0m\u001b[1;33m)\u001b[0m\u001b[1;33m.\u001b[0m\u001b[0msplit\u001b[0m\u001b[1;33m(\u001b[0m\u001b[1;33m)\u001b[0m\u001b[1;33m)\u001b[0m\u001b[1;33m)\u001b[0m\u001b[1;33m\u001b[0m\u001b[0m\n\u001b[1;32m----> 2\u001b[1;33m \u001b[0mn\u001b[0m\u001b[1;33m=\u001b[0m\u001b[0mint\u001b[0m\u001b[1;33m(\u001b[0m\u001b[0minput\u001b[0m\u001b[1;33m(\u001b[0m\u001b[1;33m)\u001b[0m\u001b[1;33m)\u001b[0m\u001b[1;33m\u001b[0m\u001b[0m\n\u001b[0m\u001b[0;32m      3\u001b[0m \u001b[0mprint\u001b[0m\u001b[1;33m(\u001b[0m\u001b[0ml\u001b[0m\u001b[1;33m,\u001b[0m\u001b[0mn\u001b[0m\u001b[1;33m)\u001b[0m\u001b[1;33m\u001b[0m\u001b[0m\n",
      "\u001b[1;31mValueError\u001b[0m: invalid literal for int() with base 10: '1 2 3'"
     ]
    }
   ],
   "source": [
    "l=\n",
    "print(l,n)"
   ]
  },
  {
   "cell_type": "markdown",
   "metadata": {},
   "source": [
    "# permutations"
   ]
  },
  {
   "cell_type": "code",
   "execution_count": 10,
   "metadata": {},
   "outputs": [
    {
     "name": "stdout",
     "output_type": "stream",
     "text": [
      "[(3, 2, 1), (3, 1, 2), (2, 3, 1), (2, 1, 3), (1, 3, 2), (1, 2, 3)]\n",
      "[(3, 2), (3, 1), (2, 3), (2, 1), (1, 3), (1, 2)]\n"
     ]
    }
   ],
   "source": [
    "from itertools import permutations\n",
    "import itertools\n",
    "l=[3,2,1]\n",
    "print(list(permutations(l)))  #all possibles arrangments\n",
    "\n",
    "print(list(permutations(l,2))) # 2 is length of each tuple\n",
    "\n",
    "print(itertools.combinations())"
   ]
  },
  {
   "cell_type": "code",
   "execution_count": 101,
   "metadata": {},
   "outputs": [
    {
     "name": "stdout",
     "output_type": "stream",
     "text": [
      "ABCD 3\n",
      "ABC\n",
      "ABD\n",
      "ACB\n",
      "ACD\n",
      "ADB\n",
      "ADC\n",
      "BAC\n",
      "BAD\n",
      "BCA\n",
      "BCD\n",
      "BDA\n",
      "BDC\n",
      "CAB\n",
      "CAD\n",
      "CBA\n",
      "CBD\n",
      "CDA\n",
      "CDB\n",
      "DAB\n",
      "DAC\n",
      "DBA\n",
      "DBC\n",
      "DCA\n",
      "DCB\n"
     ]
    }
   ],
   "source": [
    "n=list(input().split())\n",
    "x=list(permutations(n[0],int(n[1])))\n",
    "\n",
    "x.sort()\n",
    "for i in x:\n",
    "    if int(n[1])==2:\n",
    "            print('{}{}'.format(i[0],i[1]))\n",
    "    if int(n[1])==1:\n",
    "            print('{}'.format(i[0]))\n",
    "    if int(n[1])==3:\n",
    "            print('{}{}{}'.format(i[0],i[1],i[2]))\n",
    "    if int(n[1])==4:\n",
    "            print('{}{}{}{}'.format(i[0],i[1],i[2],i[3]))\n",
    "    if int(n[1])==5:\n",
    "            print('{}{}{}{}{}'.format(i[0],i[1],i[2],i[3],i[4]))\n",
    "    if int(n[1])==6:\n",
    "            print('{}{}{}{}{}{}'.format(i[0],i[1],i[2],i[3],i[4],i[5]))\n",
    "    "
   ]
  },
  {
   "cell_type": "markdown",
   "metadata": {},
   "source": [
    "# Combinations "
   ]
  },
  {
   "cell_type": "code",
   "execution_count": 7,
   "metadata": {},
   "outputs": [
    {
     "name": "stdout",
     "output_type": "stream",
     "text": [
      "[(1, 2, 3)]\n",
      "\n",
      "[('1', '2', '3'), ('1', '2', '4'), ('1', '2', '5'), ('1', '3', '4'), ('1', '3', '5'), ('1', '4', '5'), ('2', '3', '4'), ('2', '3', '5'), ('2', '4', '5'), ('3', '4', '5')]\n",
      "\n",
      "[(1, 1, 3), (1, 1, 3), (1, 1, 3), (1, 1, 3), (1, 3, 3), (1, 3, 3), (1, 3, 3), (1, 3, 3), (1, 3, 3), (1, 3, 3), (1, 3, 3), (1, 3, 3), (1, 3, 3), (1, 3, 3), (1, 3, 3), (1, 3, 3), (3, 3, 3), (3, 3, 3), (3, 3, 3), (3, 3, 3)]\n"
     ]
    }
   ],
   "source": [
    "from itertools import combinations\n",
    "z=[1,2,3]\n",
    "print(list(combinations(z,3)))\n",
    "print()\n",
    "\n",
    "c='12345'\n",
    "print(list(combinations(c,3)))\n",
    "print()\n",
    "\n",
    "a=[1,1,3,3,3,3]\n",
    "print(list(combinations(a,3)))\n"
   ]
  },
  {
   "cell_type": "code",
   "execution_count": 114,
   "metadata": {},
   "outputs": [
    {
     "name": "stdout",
     "output_type": "stream",
     "text": [
      "[(10, 30), (10, 45), (30, 45), (10, 30, 45)]\n",
      "988\n"
     ]
    }
   ],
   "source": [
    "import itertools \n",
    "weight = 50\n",
    "w1 = [10,30,45]\n",
    "v1 = [888,100,50]\n",
    "di = dict(zip(w1,v1))\n",
    "c = w1.copy()\n",
    "c = []\n",
    "for i in range(2,len(w1)+1):\n",
    "    c.extend(list(itertools.combinations(w1,i)))\n",
    "max1 = 0\n",
    "for k in di:\n",
    "    if k <= weight:\n",
    "        if di[k] >= max1:\n",
    "            max1 = di[k]\n",
    "for i in c:\n",
    "    if len(i) > 1 :\n",
    "        if sum(i) <= weight:\n",
    "            s = 0\n",
    "            for j in i:\n",
    "                s+=di[j]\n",
    "            if s >= max1:\n",
    "                max1 = s        \n",
    "print(c)\n",
    "print(max1)"
   ]
  },
  {
   "cell_type": "markdown",
   "metadata": {},
   "source": [
    "### print(di)\n",
    "t = (20,10)\n",
    "print(sum(list(di.values())))\n",
    "s = 0\n",
    "\n",
    "for i in t:\n",
    "    s+=di[i]\n",
    "weight = 50\n",
    "w1 = [10,20,30]\n",
    "v1 = [60,100,220]\n",
    "di = dict(zip(w1,v1))\n",
    "c = w1.copy()\n",
    "for i in range(2,len(w1)+1):\n",
    "    c.extend(list(itertools.combinations(w1,i)))\n",
    "n = []\n",
    "for i in c:\n",
    "    \n",
    "    l = [i]\n",
    "    n.append(l)\n",
    "print(n)\n",
    "print(c)"
   ]
  },
  {
   "cell_type": "code",
   "execution_count": 136,
   "metadata": {},
   "outputs": [
    {
     "name": "stdout",
     "output_type": "stream",
     "text": [
      "HACK 2\n",
      "A\n",
      "C\n",
      "H\n",
      "K\n",
      "AC\n",
      "AK\n",
      "CK\n",
      "HA\n",
      "HC\n",
      "HK\n"
     ]
    }
   ],
   "source": [
    "n=list(input().split())\n",
    "for j in range(1,int(n[1])+1):\n",
    "    x = list(combinations(n[0],j))\n",
    "    x.sort()\n",
    "    for i in x:\n",
    "        if len(i)==1:\n",
    "                print('{}'.format(i[0]))\n",
    "        if len(i)==2:\n",
    "                print('{}{}'.format(i[0],i[1]))\n",
    "        if len(i)==3:\n",
    "                print('{}{}{}'.format(i[0],i[1],i[2]))\n",
    "        if len(i)==4:\n",
    "                print('{}{}{}{}'.format(i[0],i[1],i[2],i[3]))\n",
    "        if len(i)==5:\n",
    "                print('{}{}{}{}{}'.format(i[0],i[1],i[2],i[3],i[4]))\n",
    "        if len(i)==6:\n",
    "                print('{}{}{}{}{}{}'.format(i[0],i[1],i[2],i[3],i[4],i[5]))\n"
   ]
  },
  {
   "cell_type": "code",
   "execution_count": 58,
   "metadata": {},
   "outputs": [
    {
     "name": "stdout",
     "output_type": "stream",
     "text": [
      "1+2j\n",
      "2.23606797749979\n",
      "1.1071487177940904\n"
     ]
    }
   ],
   "source": [
    "import cmath\n",
    "i=input()\n",
    "print(abs(complex(i)))\n",
    "print(cmath.phase(complex(i)))\n"
   ]
  },
  {
   "cell_type": "code",
   "execution_count": 97,
   "metadata": {},
   "outputs": [
    {
     "name": "stdout",
     "output_type": "stream",
     "text": [
      "63°\n"
     ]
    }
   ],
   "source": [
    "#finding angles\n",
    "import math \n",
    "ab=20\n",
    "bc=10\n",
    "ac=math.sqrt((ab**2)+(bc**2))\n",
    "mc=ac/2\n",
    "angle_c=(((ac**2)+(bc**2)-(ab**2))/(2*ac*bc))\n",
    "ang = float('%.6f'%(math.degrees(math.acos(float('%.6f'%angle_c)))))\n",
    "bm = math.sqrt((bc**2)+((mc)**2)-(2*bc*(mc)*math.cos(float('%.6f'%(ang*(math.pi/180))))))\n",
    "bm=float('%.6f'%bm)\n",
    "angle_c=(((bm**2)+(bc**2)-((mc)**2))/(2*bm*bc))\n",
    "angle_c=float('%.6f'%angle_c)\n",
    "ang = round(math.degrees(math.acos(angle_c)))\n",
    "print('{}\\u00b0'.format(ang))\n"
   ]
  },
  {
   "cell_type": "code",
   "execution_count": 125,
   "metadata": {},
   "outputs": [
    {
     "name": "stdout",
     "output_type": "stream",
     "text": [
      "1\n",
      "121\n",
      "12321\n",
      "1234321\n",
      "123454321\n"
     ]
    }
   ],
   "source": [
    "a=5\n",
    "for i in range(1,a+1):\n",
    "    #print(int('1'*i)**2)\n",
    "    print(int((10**i-1)/9)**2)\n",
    "    "
   ]
  },
  {
   "cell_type": "code",
   "execution_count": 128,
   "metadata": {},
   "outputs": [
    {
     "name": "stdout",
     "output_type": "stream",
     "text": [
      "(1, 1)\n"
     ]
    }
   ],
   "source": [
    "# divmod In built function\n",
    "print(divmod(3,2))  # 3/2=1 and remainder is 1 (1,1)  (queoints,remainder)"
   ]
  },
  {
   "cell_type": "code",
   "execution_count": 146,
   "metadata": {},
   "outputs": [
    {
     "data": {
      "text/plain": [
       "0"
      ]
     },
     "execution_count": 146,
     "metadata": {},
     "output_type": "execute_result"
    }
   ],
   "source": [
    "pow(2,4,4)"
   ]
  },
  {
   "cell_type": "code",
   "execution_count": 154,
   "metadata": {},
   "outputs": [
    {
     "name": "stdout",
     "output_type": "stream",
     "text": [
      "1\n",
      "22\n",
      "333\n",
      "4444\n"
     ]
    }
   ],
   "source": [
    "a=5\n",
    "for i in range(1,a):\n",
    "    print(int((10**i-1)/9)*i)\n",
    "    "
   ]
  },
  {
   "cell_type": "code",
   "execution_count": 3,
   "metadata": {},
   "outputs": [
    {
     "data": {
      "text/plain": [
       "['1**2', '+', '2**2']"
      ]
     },
     "execution_count": 3,
     "metadata": {},
     "output_type": "execute_result"
    }
   ],
   "source": [
    "s  = '1**2 + 2**2'\n",
    "s.split()"
   ]
  },
  {
   "cell_type": "markdown",
   "metadata": {},
   "source": [
    "# Polynomial"
   ]
  },
  {
   "cell_type": "code",
   "execution_count": 4,
   "metadata": {},
   "outputs": [
    {
     "name": "stdout",
     "output_type": "stream",
     "text": [
      "1 4\n",
      "x**3 + x**2 + x + 1\n",
      "True\n"
     ]
    }
   ],
   "source": [
    "# eval (it is a function which evaluate a polonomial function)\n",
    "ui = input().split()\n",
    "x = int(ui[0])\n",
    "print(eval(input()) == int(ui[1]))"
   ]
  },
  {
   "cell_type": "code",
   "execution_count": 10,
   "metadata": {},
   "outputs": [
    {
     "name": "stdout",
     "output_type": "stream",
     "text": [
      "5\n",
      "None\n"
     ]
    }
   ],
   "source": [
    "print(eval('print(2 + 3)'))\n",
    "      "
   ]
  },
  {
   "cell_type": "code",
   "execution_count": 20,
   "metadata": {},
   "outputs": [
    {
     "name": "stdout",
     "output_type": "stream",
     "text": [
      "5 3\n",
      "10 2 5\n",
      "7 1 0\n",
      "9 9 9\n",
      "1 23 12\n",
      "6 5 9\n",
      "1\n",
      "[(10, 7, 9, 1, 6), (2, 1, 9, 23, 5), (5, 0, 9, 12, 9)]\n"
     ]
    }
   ],
   "source": [
    "nm = input().split()\n",
    "n = int(nm[0])\n",
    "m = int(nm[1])\n",
    "arr = []\n",
    "for _ in range(n):\n",
    "    arr.append(list(map(int, input().rstrip().split())))\n",
    "k = int(input())\n",
    "l = list(zip(*arr))\n",
    "a = sorted(l[k])\n",
    "print(a)\n",
    "print(arr)\n",
    "for i in a:\n",
    "    for j in arr:\n",
    "        if i == j[k]:\n",
    "            print(*j)\n",
    "        \n",
    "        "
   ]
  },
  {
   "cell_type": "code",
   "execution_count": 12,
   "metadata": {},
   "outputs": [
    {
     "data": {
      "text/html": [
       "<div>\n",
       "<style>\n",
       "    .dataframe thead tr:only-child th {\n",
       "        text-align: right;\n",
       "    }\n",
       "\n",
       "    .dataframe thead th {\n",
       "        text-align: left;\n",
       "    }\n",
       "\n",
       "    .dataframe tbody tr th {\n",
       "        vertical-align: top;\n",
       "    }\n",
       "</style>\n",
       "<table border=\"1\" class=\"dataframe\">\n",
       "  <thead>\n",
       "    <tr style=\"text-align: right;\">\n",
       "      <th></th>\n",
       "      <th>0</th>\n",
       "      <th>1</th>\n",
       "      <th>2</th>\n",
       "      <th>3</th>\n",
       "      <th>4</th>\n",
       "    </tr>\n",
       "  </thead>\n",
       "  <tbody>\n",
       "    <tr>\n",
       "      <th>0</th>\n",
       "      <td>1</td>\n",
       "      <td>2</td>\n",
       "      <td>3</td>\n",
       "      <td>4</td>\n",
       "      <td>5</td>\n",
       "    </tr>\n",
       "    <tr>\n",
       "      <th>1</th>\n",
       "      <td>7</td>\n",
       "      <td>8</td>\n",
       "      <td>4</td>\n",
       "      <td>5</td>\n",
       "      <td>1</td>\n",
       "    </tr>\n",
       "  </tbody>\n",
       "</table>\n",
       "</div>"
      ],
      "text/plain": [
       "   0  1  2  3  4\n",
       "0  1  2  3  4  5\n",
       "1  7  8  4  5  1"
      ]
     },
     "execution_count": 12,
     "metadata": {},
     "output_type": "execute_result"
    }
   ],
   "source": [
    "5 3\n",
    "10 2 5\n",
    "7 1 0\n",
    "9 9 9\n",
    "1 23 12\n",
    "6 5 9\n",
    "1"
   ]
  },
  {
   "cell_type": "code",
   "execution_count": 28,
   "metadata": {},
   "outputs": [
    {
     "ename": "AttributeError",
     "evalue": "'list' object has no attribute 'split'",
     "output_type": "error",
     "traceback": [
      "\u001b[1;31m---------------------------------------------------------------------------\u001b[0m",
      "\u001b[1;31mAttributeError\u001b[0m                            Traceback (most recent call last)",
      "\u001b[1;32m<ipython-input-28-76d0e7f83726>\u001b[0m in \u001b[0;36m<module>\u001b[1;34m()\u001b[0m\n\u001b[0;32m      1\u001b[0m \u001b[0mrows\u001b[0m \u001b[1;33m=\u001b[0m \u001b[0marr\u001b[0m\u001b[1;33m\u001b[0m\u001b[0m\n\u001b[0;32m      2\u001b[0m \u001b[0mK\u001b[0m \u001b[1;33m=\u001b[0m \u001b[1;36m1\u001b[0m\u001b[1;33m\u001b[0m\u001b[0m\n\u001b[1;32m----> 3\u001b[1;33m \u001b[1;32mfor\u001b[0m \u001b[0mrow\u001b[0m \u001b[1;32min\u001b[0m \u001b[0msorted\u001b[0m\u001b[1;33m(\u001b[0m\u001b[0mrows\u001b[0m\u001b[1;33m,\u001b[0m \u001b[0mkey\u001b[0m\u001b[1;33m=\u001b[0m\u001b[1;32mlambda\u001b[0m \u001b[0mrow\u001b[0m\u001b[1;33m:\u001b[0m \u001b[0mint\u001b[0m\u001b[1;33m(\u001b[0m\u001b[0mrow\u001b[0m\u001b[1;33m.\u001b[0m\u001b[0msplit\u001b[0m\u001b[1;33m(\u001b[0m\u001b[1;33m)\u001b[0m\u001b[1;33m[\u001b[0m\u001b[0mK\u001b[0m\u001b[1;33m]\u001b[0m\u001b[1;33m)\u001b[0m\u001b[1;33m)\u001b[0m\u001b[1;33m:\u001b[0m\u001b[1;33m\u001b[0m\u001b[0m\n\u001b[0m\u001b[0;32m      4\u001b[0m     \u001b[0mprint\u001b[0m\u001b[1;33m(\u001b[0m\u001b[0mrow\u001b[0m\u001b[1;33m)\u001b[0m\u001b[1;33m\u001b[0m\u001b[0m\n",
      "\u001b[1;32m<ipython-input-28-76d0e7f83726>\u001b[0m in \u001b[0;36m<lambda>\u001b[1;34m(row)\u001b[0m\n\u001b[0;32m      1\u001b[0m \u001b[0mrows\u001b[0m \u001b[1;33m=\u001b[0m \u001b[0marr\u001b[0m\u001b[1;33m\u001b[0m\u001b[0m\n\u001b[0;32m      2\u001b[0m \u001b[0mK\u001b[0m \u001b[1;33m=\u001b[0m \u001b[1;36m1\u001b[0m\u001b[1;33m\u001b[0m\u001b[0m\n\u001b[1;32m----> 3\u001b[1;33m \u001b[1;32mfor\u001b[0m \u001b[0mrow\u001b[0m \u001b[1;32min\u001b[0m \u001b[0msorted\u001b[0m\u001b[1;33m(\u001b[0m\u001b[0mrows\u001b[0m\u001b[1;33m,\u001b[0m \u001b[0mkey\u001b[0m\u001b[1;33m=\u001b[0m\u001b[1;32mlambda\u001b[0m \u001b[0mrow\u001b[0m\u001b[1;33m:\u001b[0m \u001b[0mint\u001b[0m\u001b[1;33m(\u001b[0m\u001b[0mrow\u001b[0m\u001b[1;33m.\u001b[0m\u001b[0msplit\u001b[0m\u001b[1;33m(\u001b[0m\u001b[1;33m)\u001b[0m\u001b[1;33m[\u001b[0m\u001b[0mK\u001b[0m\u001b[1;33m]\u001b[0m\u001b[1;33m)\u001b[0m\u001b[1;33m)\u001b[0m\u001b[1;33m:\u001b[0m\u001b[1;33m\u001b[0m\u001b[0m\n\u001b[0m\u001b[0;32m      4\u001b[0m     \u001b[0mprint\u001b[0m\u001b[1;33m(\u001b[0m\u001b[0mrow\u001b[0m\u001b[1;33m)\u001b[0m\u001b[1;33m\u001b[0m\u001b[0m\n",
      "\u001b[1;31mAttributeError\u001b[0m: 'list' object has no attribute 'split'"
     ]
    }
   ],
   "source": [
    "rows = arr\n",
    "K = 1\n",
    "for row in sorted(rows, key=lambda row: int(row.split()[K])):\n",
    "    print(row)"
   ]
  },
  {
   "cell_type": "code",
   "execution_count": 34,
   "metadata": {},
   "outputs": [
    {
     "name": "stdout",
     "output_type": "stream",
     "text": [
      "1\n",
      "2 4 5  2\n",
      "True\n"
     ]
    }
   ],
   "source": [
    "# Palendrom check\n",
    "n = int(input())\n",
    "arr = input().split()\n",
    "print(all(int(i)>= 0 for i in arr) and any(i == i[::-1] for i in arr))"
   ]
  },
  {
   "cell_type": "code",
   "execution_count": 57,
   "metadata": {},
   "outputs": [
    {
     "name": "stdout",
     "output_type": "stream",
     "text": [
      "ginortS1324\n"
     ]
    }
   ],
   "source": [
    "l = []\n",
    "u = []\n",
    "o = []\n",
    "e = []\n",
    "for i in 'Sorting1234':\n",
    "    if i.isupper():\n",
    "        u.append(i)\n",
    "    elif i.islower():\n",
    "        l.append(i)\n",
    "    elif i.isdigit():\n",
    "        if int(i)%2 == 0:\n",
    "            e.append(i)\n",
    "        else :\n",
    "            o.append(i)\n",
    "l.sort()\n",
    "u.sort()\n",
    "o.sort()\n",
    "e.sort()\n",
    "l = ''.join(l)\n",
    "u = ''.join(u)\n",
    "o = ''.join(o)\n",
    "e = ''.join(e)\n",
    "print(l+u+o+e)\n",
    "    "
   ]
  },
  {
   "cell_type": "markdown",
   "metadata": {},
   "source": [
    "# Email verfication"
   ]
  },
  {
   "cell_type": "code",
   "execution_count": 58,
   "metadata": {},
   "outputs": [
    {
     "name": "stdout",
     "output_type": "stream",
     "text": [
      "girraj.jangid@gmail.com\n",
      "[]\n"
     ]
    }
   ],
   "source": [
    "def fun(s):\n",
    "    email = s\n",
    "    try:\n",
    "        username, url = email.split(\"@\")\n",
    "        website, extension = url.split(\".\")\n",
    "    except ValueError:\n",
    "        return False\n",
    "    \n",
    "    if username.replace(\"-\", \"\").replace(\"_\", \"\").isalnum() is False:\n",
    "        return False\n",
    "    elif website.isalnum() is False:\n",
    "        return False\n",
    "    elif len(extension) > 3:\n",
    "        return False\n",
    "    else:\n",
    "        return True\n",
    "print(list(filter(fun,input())))"
   ]
  },
  {
   "cell_type": "code",
   "execution_count": 89,
   "metadata": {},
   "outputs": [
    {
     "data": {
      "text/plain": [
       "1"
      ]
     },
     "execution_count": 89,
     "metadata": {},
     "output_type": "execute_result"
    }
   ],
   "source": [
    "from functools import reduce\n",
    "#reduce(lambda x,y:x+y,list(map(int,input().split())),-20)\n",
    "from math import gcd\n",
    "reduce( gcd , [1,3,10],2)"
   ]
  },
  {
   "cell_type": "code",
   "execution_count": 93,
   "metadata": {},
   "outputs": [
    {
     "data": {
      "text/plain": [
       "['__abs__',\n",
       " '__abstractmethods__',\n",
       " '__add__',\n",
       " '__bool__',\n",
       " '__ceil__',\n",
       " '__class__',\n",
       " '__complex__',\n",
       " '__copy__',\n",
       " '__deepcopy__',\n",
       " '__delattr__',\n",
       " '__dir__',\n",
       " '__divmod__',\n",
       " '__doc__',\n",
       " '__eq__',\n",
       " '__float__',\n",
       " '__floor__',\n",
       " '__floordiv__',\n",
       " '__format__',\n",
       " '__ge__',\n",
       " '__getattribute__',\n",
       " '__gt__',\n",
       " '__hash__',\n",
       " '__init__',\n",
       " '__init_subclass__',\n",
       " '__le__',\n",
       " '__lt__',\n",
       " '__mod__',\n",
       " '__module__',\n",
       " '__mul__',\n",
       " '__ne__',\n",
       " '__neg__',\n",
       " '__new__',\n",
       " '__pos__',\n",
       " '__pow__',\n",
       " '__radd__',\n",
       " '__rdivmod__',\n",
       " '__reduce__',\n",
       " '__reduce_ex__',\n",
       " '__repr__',\n",
       " '__rfloordiv__',\n",
       " '__rmod__',\n",
       " '__rmul__',\n",
       " '__round__',\n",
       " '__rpow__',\n",
       " '__rsub__',\n",
       " '__rtruediv__',\n",
       " '__setattr__',\n",
       " '__sizeof__',\n",
       " '__slots__',\n",
       " '__str__',\n",
       " '__sub__',\n",
       " '__subclasshook__',\n",
       " '__truediv__',\n",
       " '__trunc__',\n",
       " '_abc_cache',\n",
       " '_abc_negative_cache',\n",
       " '_abc_negative_cache_version',\n",
       " '_abc_registry',\n",
       " '_add',\n",
       " '_denominator',\n",
       " '_div',\n",
       " '_mul',\n",
       " '_numerator',\n",
       " '_operator_fallbacks',\n",
       " '_richcmp',\n",
       " '_sub',\n",
       " 'conjugate',\n",
       " 'denominator',\n",
       " 'from_decimal',\n",
       " 'from_float',\n",
       " 'imag',\n",
       " 'limit_denominator',\n",
       " 'numerator',\n",
       " 'real']"
      ]
     },
     "execution_count": 93,
     "metadata": {},
     "output_type": "execute_result"
    }
   ],
   "source": [
    "# hypotanius\n",
    "from fractions import Fraction\n",
    "import fractions\n",
    "import math\n",
    "math.hypot(4,3)\n",
    "dir(Fraction)"
   ]
  },
  {
   "cell_type": "code",
   "execution_count": 95,
   "metadata": {},
   "outputs": [
    {
     "data": {
      "text/plain": [
       "['__abs__',\n",
       " '__abstractmethods__',\n",
       " '__add__',\n",
       " '__bool__',\n",
       " '__ceil__',\n",
       " '__class__',\n",
       " '__complex__',\n",
       " '__copy__',\n",
       " '__deepcopy__',\n",
       " '__delattr__',\n",
       " '__dir__',\n",
       " '__divmod__',\n",
       " '__doc__',\n",
       " '__eq__',\n",
       " '__float__',\n",
       " '__floor__',\n",
       " '__floordiv__',\n",
       " '__format__',\n",
       " '__ge__',\n",
       " '__getattribute__',\n",
       " '__gt__',\n",
       " '__hash__',\n",
       " '__init__',\n",
       " '__init_subclass__',\n",
       " '__le__',\n",
       " '__lt__',\n",
       " '__mod__',\n",
       " '__module__',\n",
       " '__mul__',\n",
       " '__ne__',\n",
       " '__neg__',\n",
       " '__new__',\n",
       " '__pos__',\n",
       " '__pow__',\n",
       " '__radd__',\n",
       " '__rdivmod__',\n",
       " '__reduce__',\n",
       " '__reduce_ex__',\n",
       " '__repr__',\n",
       " '__rfloordiv__',\n",
       " '__rmod__',\n",
       " '__rmul__',\n",
       " '__round__',\n",
       " '__rpow__',\n",
       " '__rsub__',\n",
       " '__rtruediv__',\n",
       " '__setattr__',\n",
       " '__sizeof__',\n",
       " '__slots__',\n",
       " '__str__',\n",
       " '__sub__',\n",
       " '__subclasshook__',\n",
       " '__truediv__',\n",
       " '__trunc__',\n",
       " '_abc_cache',\n",
       " '_abc_negative_cache',\n",
       " '_abc_negative_cache_version',\n",
       " '_abc_registry',\n",
       " '_add',\n",
       " '_denominator',\n",
       " '_div',\n",
       " '_mul',\n",
       " '_numerator',\n",
       " '_operator_fallbacks',\n",
       " '_richcmp',\n",
       " '_sub',\n",
       " 'conjugate',\n",
       " 'denominator',\n",
       " 'from_decimal',\n",
       " 'from_float',\n",
       " 'imag',\n",
       " 'limit_denominator',\n",
       " 'numerator',\n",
       " 'real']"
      ]
     },
     "execution_count": 95,
     "metadata": {},
     "output_type": "execute_result"
    }
   ],
   "source": [
    "dir(Fraction)"
   ]
  },
  {
   "cell_type": "code",
   "execution_count": 2,
   "metadata": {},
   "outputs": [
    {
     "name": "stdout",
     "output_type": "stream",
     "text": [
      "3\n",
      "1 2\n",
      "3 4\n",
      "10 6\n"
     ]
    }
   ],
   "source": [
    "from fractions import Fraction\n",
    "from functools import reduce\n",
    "fracs = []\n",
    "for _ in range(int(input())):\n",
    "    fracs.append(Fraction(*map(int, input().split())))\n"
   ]
  },
  {
   "cell_type": "code",
   "execution_count": 16,
   "metadata": {},
   "outputs": [
    {
     "name": "stdout",
     "output_type": "stream",
     "text": [
      "5 8\n"
     ]
    }
   ],
   "source": [
    "def product(fracs):\n",
    "    t = reduce(lambda x,y :x*y  , fracs)\n",
    "    return t.numerator, t.denominator\n",
    "result = product(fracs)\n",
    "print(*result)\n",
    "    \n"
   ]
  },
  {
   "cell_type": "code",
   "execution_count": null,
   "metadata": {
    "collapsed": true
   },
   "outputs": [],
   "source": []
  }
 ],
 "metadata": {
  "kernelspec": {
   "display_name": "Python 3",
   "language": "python",
   "name": "python3"
  },
  "language_info": {
   "codemirror_mode": {
    "name": "ipython",
    "version": 3
   },
   "file_extension": ".py",
   "mimetype": "text/x-python",
   "name": "python",
   "nbconvert_exporter": "python",
   "pygments_lexer": "ipython3",
   "version": "3.6.5"
  }
 },
 "nbformat": 4,
 "nbformat_minor": 2
}
