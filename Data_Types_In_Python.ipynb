{
 "cells": [
  {
   "cell_type": "markdown",
   "metadata": {},
   "source": [
    "# Data Types"
   ]
  },
  {
   "cell_type": "markdown",
   "metadata": {},
   "source": [
    "1. Numbers\n",
    "2. Strings     (44 functions)\n",
    "3. List        (11 functions)\n",
    "4. Dictionary  (11 functions)\n",
    "5. Tuple       (2  functions)\n",
    "6. Sets        (17 functions)\n",
    "7. frogenset"
   ]
  },
  {
   "cell_type": "markdown",
   "metadata": {},
   "source": [
    "# 1.Numbers"
   ]
  },
  {
   "cell_type": "markdown",
   "metadata": {},
   "source": [
    "There are three built-in data types for numbers\n",
    "1. Integers (8 classes)\n",
    "2. Floats (7 classes)\n",
    "3. Complex (3 classes)\n"
   ]
  },
  {
   "cell_type": "code",
   "execution_count": 9,
   "metadata": {},
   "outputs": [
    {
     "name": "stdout",
     "output_type": "stream",
     "text": [
      "a = 117419  type of a =  <class 'int'>\n",
      "a1 = 117419  type of a1 =  <class 'int'>\n",
      "b = 0xf type = b <class 'str'>\n",
      "c = 15\n",
      "0xc0ffee in integer =  12648430\n",
      "\n",
      "Directory of complex class ::\n",
      " ['__abs__', '__add__', '__bool__', '__class__', '__delattr__', '__dir__', '__divmod__', '__doc__', '__eq__', '__float__', '__floordiv__', '__format__', '__ge__', '__getattribute__', '__getnewargs__', '__gt__', '__hash__', '__init__', '__init_subclass__', '__int__', '__le__', '__lt__', '__mod__', '__mul__', '__ne__', '__neg__', '__new__', '__pos__', '__pow__', '__radd__', '__rdivmod__', '__reduce__', '__reduce_ex__', '__repr__', '__rfloordiv__', '__rmod__', '__rmul__', '__rpow__', '__rsub__', '__rtruediv__', '__setattr__', '__sizeof__', '__str__', '__sub__', '__subclasshook__', '__truediv__', 'conjugate', 'imag', 'real']\n",
      "\n",
      "Directory of integer class ::\n",
      " ['__abs__', '__add__', '__and__', '__bool__', '__ceil__', '__class__', '__delattr__', '__dir__', '__divmod__', '__doc__', '__eq__', '__float__', '__floor__', '__floordiv__', '__format__', '__ge__', '__getattribute__', '__getnewargs__', '__gt__', '__hash__', '__index__', '__init__', '__init_subclass__', '__int__', '__invert__', '__le__', '__lshift__', '__lt__', '__mod__', '__mul__', '__ne__', '__neg__', '__new__', '__or__', '__pos__', '__pow__', '__radd__', '__rand__', '__rdivmod__', '__reduce__', '__reduce_ex__', '__repr__', '__rfloordiv__', '__rlshift__', '__rmod__', '__rmul__', '__ror__', '__round__', '__rpow__', '__rrshift__', '__rshift__', '__rsub__', '__rtruediv__', '__rxor__', '__setattr__', '__sizeof__', '__str__', '__sub__', '__subclasshook__', '__truediv__', '__trunc__', '__xor__', 'bit_length', 'conjugate', 'denominator', 'from_bytes', 'imag', 'numerator', 'real', 'to_bytes']\n"
     ]
    }
   ],
   "source": [
    "a = 0b11100101010101011 # value of 'a' = '117419' in integer\n",
    "print('a =',a,\" type of a = \",type(a)) \n",
    "a1 = 117419\n",
    "print('a1 =',a1,\" type of a1 = \",type(a1)) \n",
    "\n",
    "b = hex(15)  \n",
    "print('b =',b,\"type = b\",type(b))\n",
    "c = 0xf  # x represent that next value is in hexdecimal form\n",
    "print('c =',c)\n",
    "m =0xc0ffee\n",
    "print('0xc0ffee in integer = ',(m))\n",
    "print(\"\\nDirectory of complex class ::\\n\",dir(2j+5j)) # only 'j' is used as coeffient of imaginary value\n",
    "print(\"\\nDirectory of integer class ::\\n\",dir(1))"
   ]
  },
  {
   "cell_type": "code",
   "execution_count": 10,
   "metadata": {},
   "outputs": [
    {
     "name": "stdout",
     "output_type": "stream",
     "text": [
      "Type of x  <class 'int'>\n",
      "Type of y  <class 'float'>\n",
      "Type  of z  <class 'complex'>\n"
     ]
    }
   ],
   "source": [
    "x = 45\n",
    "y = 56.78\n",
    "z = 1235+34.34j\n",
    "print(\"Type of x \",type(x))\n",
    "print(\"Type of y \",type(y))\n",
    "print(\"Type  of z \",type(z))"
   ]
  },
  {
   "cell_type": "code",
   "execution_count": 13,
   "metadata": {},
   "outputs": [
    {
     "name": "stdout",
     "output_type": "stream",
     "text": [
      "X =  5\n",
      "Y =  6.34\n",
      "Z =  (17+45j)\n",
      "12.0\n"
     ]
    }
   ],
   "source": [
    "print(\"X = \",x)\n",
    "print(\"Y = \",y)\n",
    "print(\"Z = \",z)\n",
    "x = 5\n",
    "y = 6.34\n",
    "z1 = 12 + 45j\n",
    "print((z1.real))\n",
    "z = x+z1\n"
   ]
  },
  {
   "cell_type": "markdown",
   "metadata": {},
   "source": [
    "# 2.Strings"
   ]
  },
  {
   "cell_type": "raw",
   "metadata": {},
   "source": [
    "1. 'single quoted string'\n",
    "2. \"Double quoted string\"\n",
    "3 . \"\"\" you can initlize a para directly in python.\n",
    "this is line 2nd.\n",
    "this is line 3rd.\n",
    "    para spaces\"\"\"\n",
    "    "
   ]
  },
  {
   "cell_type": "code",
   "execution_count": null,
   "metadata": {},
   "outputs": [],
   "source": [
    "x = \"he is so good in cricket.\"\n",
    "y = 'yeah, you are'     'right.'\n",
    "z = \"\"\"Python is an awesome language.\n",
    "it is developed by Guido Van Rossum in 1989.\n",
    "hello world tonth eenvironments\n",
    "    IBM and Google are those companies which adopted python \n",
    "in it's earlier phase.\n",
    "\"\"\""
   ]
  },
  {
   "cell_type": "code",
   "execution_count": 14,
   "metadata": {},
   "outputs": [
    {
     "name": "stdout",
     "output_type": "stream",
     "text": [
      "x =  5\n",
      "y =  6.34\n",
      "z =  (17+45j)\n",
      "he's not so good.\n",
      "he\"s not so good. he's not so good.\n"
     ]
    }
   ],
   "source": [
    "print('x = ',x)\n",
    "print('y = ',y)\n",
    "print('z = ',z)\n",
    "s = \"he's not so good.\" \n",
    "y = \"he\\\"s not so good.\" +\" \"+s\n",
    "print(s)\n",
    "print(y)"
   ]
  },
  {
   "cell_type": "code",
   "execution_count": 15,
   "metadata": {},
   "outputs": [
    {
     "name": "stdout",
     "output_type": "stream",
     "text": [
      "\n",
      "\n",
      "Directory of String class ::\n",
      " ['__add__', '__class__', '__contains__', '__delattr__', '__dir__', '__doc__', '__eq__', '__format__', '__ge__', '__getattribute__', '__getitem__', '__getnewargs__', '__gt__', '__hash__', '__init__', '__init_subclass__', '__iter__', '__le__', '__len__', '__lt__', '__mod__', '__mul__', '__ne__', '__new__', '__reduce__', '__reduce_ex__', '__repr__', '__rmod__', '__rmul__', '__setattr__', '__sizeof__', '__str__', '__subclasshook__', 'capitalize', 'casefold', 'center', 'count', 'encode', 'endswith', 'expandtabs', 'find', 'format', 'format_map', 'index', 'isalnum', 'isalpha', 'isdecimal', 'isdigit', 'isidentifier', 'islower', 'isnumeric', 'isprintable', 'isspace', 'istitle', 'isupper', 'join', 'ljust', 'lower', 'lstrip', 'maketrans', 'partition', 'replace', 'rfind', 'rindex', 'rjust', 'rpartition', 'rsplit', 'rstrip', 'split', 'splitlines', 'startswith', 'strip', 'swapcase', 'title', 'translate', 'upper', 'zfill']\n"
     ]
    }
   ],
   "source": [
    "print(\"\\n\\nDirectory of String class ::\\n\",dir('asd'))"
   ]
  },
  {
   "cell_type": "code",
   "execution_count": 19,
   "metadata": {},
   "outputs": [],
   "source": [
    "s = \"  ABADC vgv bg vahdsf ksdbf\\n    .  \"\n",
    "g = 'girraj jangid'\n",
    "g1 = 'hisabkj jasdaa'"
   ]
  },
  {
   "cell_type": "code",
   "execution_count": 21,
   "metadata": {},
   "outputs": [
    {
     "name": "stdout",
     "output_type": "stream",
     "text": [
      "  ABADC vgv bg vahdsf ksdbf\n",
      "    .  \n",
      "ABADC vgv bg vahdsf ksdbf\n",
      "    .\n"
     ]
    }
   ],
   "source": [
    "k = s.strip() # It removes the whitespaces\n",
    "print(s)\n",
    "print(k)"
   ]
  },
  {
   "cell_type": "code",
   "execution_count": 22,
   "metadata": {},
   "outputs": [
    {
     "name": "stdout",
     "output_type": "stream",
     "text": [
      "hello hi\n",
      "str(object='') -> str\n",
      "str(bytes_or_buffer[, encoding[, errors]]) -> str\n",
      "\n",
      "Create a new string object from the given object. If encoding or\n",
      "errors is specified, then the object must expose a data buffer\n",
      "that will be decoded using the given encoding and error handler.\n",
      "Otherwise, returns the result of object.__str__() (if defined)\n",
      "or repr(object).\n",
      "encoding defaults to sys.getdefaultencoding().\n",
      "errors defaults to 'strict'.\n",
      "***\n",
      "S.capitalize() -> str\n",
      "\n",
      "Return a capitalized version of S, i.e. make the first character\n",
      "have upper case and the rest lower case.\n",
      "***0000000000******\n",
      "['__add__', '__class__', '__contains__', '__delattr__', '__dir__', '__doc__', '__eq__', '__format__', '__ge__', '__getattribute__', '__getitem__', '__getnewargs__', '__gt__', '__hash__', '__init__', '__init_subclass__', '__iter__', '__le__', '__len__', '__lt__', '__mod__', '__mul__', '__ne__', '__new__', '__reduce__', '__reduce_ex__', '__repr__', '__rmod__', '__rmul__', '__setattr__', '__sizeof__', '__str__', '__subclasshook__', 'capitalize', 'casefold', 'center', 'count', 'encode', 'endswith', 'expandtabs', 'find', 'format', 'format_map', 'index', 'isalnum', 'isalpha', 'isdecimal', 'isdigit', 'isidentifier', 'islower', 'isnumeric', 'isprintable', 'isspace', 'istitle', 'isupper', 'join', 'ljust', 'lower', 'lstrip', 'maketrans', 'partition', 'replace', 'rfind', 'rindex', 'rjust', 'rpartition', 'rsplit', 'rstrip', 'split', 'splitlines', 'startswith', 'strip', 'swapcase', 'title', 'translate', 'upper', 'zfill']\n"
     ]
    }
   ],
   "source": [
    "one = 'hello '\n",
    "two = 'hi'\n",
    "print(one+two)\n",
    "print(s.capitalize().__doc__) # return the document of capitalize()\n",
    "print('***')\n",
    "print(s.capitalize.__doc__)x\n",
    "print('***0000000000******')\n",
    "print(dir(str))"
   ]
  },
  {
   "cell_type": "code",
   "execution_count": null,
   "metadata": {},
   "outputs": [],
   "source": [
    "s = \"      HeLlo WorLd     \"\n",
    "k = s.strip() # remove all leading and trailing spaces\n",
    "l = s.upper() #it will change all char into uppercase\n",
    "p = s.lower()\n",
    "n = s.swapcase()\n",
    "q = s.strip().capitalize()#only first charcter will be capital and rest will small"
   ]
  },
  {
   "cell_type": "code",
   "execution_count": null,
   "metadata": {},
   "outputs": [],
   "source": [
    "print(s)\n",
    "print(k)\n",
    "print(l)\n",
    "print(p)\n",
    "print(n)\n",
    "print(q)"
   ]
  },
  {
   "cell_type": "markdown",
   "metadata": {},
   "source": [
    "# String pencularity\n",
    "id()return the address of box"
   ]
  },
  {
   "cell_type": "code",
   "execution_count": null,
   "metadata": {},
   "outputs": [],
   "source": [
    "a = 'asdfasdfasdfs!df' # because of special character '!'\n",
    "b = 'asdfasdfasdfs!df' # it means both variable store at a different addresses\n",
    "print(id(a))\n",
    "print(id(b))\n",
    "print(id(b) is id(a))\n",
    "print((b)==(a))\n"
   ]
  },
  {
   "cell_type": "code",
   "execution_count": null,
   "metadata": {},
   "outputs": [],
   "source": [
    "x = 42\n",
    "y = x\n",
    "# to check x and y referencing same address we use ID() function\n",
    "print('x : ',x,\"\\ny: \",y)\n",
    "print(id(x))\n",
    "print(id(y))\n",
    "print(id(x) == id(y))"
   ]
  },
  {
   "cell_type": "code",
   "execution_count": null,
   "metadata": {},
   "outputs": [],
   "source": [
    "x = 42\n",
    "y = x\n",
    "print('x before = ',x)\n",
    "print('y before = ',y)\n",
    "x += 42\n",
    "y = 0\n",
    "print('x after = ',x)\n",
    "print('y after = ',y)\n",
    "# we can also check wether x and y refering the same object or not by using id() function\n",
    "print(id(x))   # 1654221844\n",
    "y = x\n",
    "q = 12\n",
    "print(id(q)) #1654221856"
   ]
  },
  {
   "cell_type": "code",
   "execution_count": null,
   "metadata": {},
   "outputs": [],
   "source": [
    "for i in range(1,10):\n",
    "    y = 100/i\n",
    "    print(y , end =\"  \")"
   ]
  },
  {
   "cell_type": "markdown",
   "metadata": {},
   "source": [
    "# There are two kinds of division operators:\n",
    " 1. \"true division\" performed by \"/\"\n",
    " \n",
    " 2. \"floor division\" performed by \"//\"\n",
    " \n",
    " # Operators\n",
    "  in = 'element of'"
   ]
  },
  {
   "cell_type": "code",
   "execution_count": null,
   "metadata": {},
   "outputs": [],
   "source": [
    "print(10/3)\n",
    "print(10//3)\n",
    "a = 'as'\n",
    "print(3 | 1 ) # bitwise Or\n",
    "#print(a = 'asdf') # through an error\n",
    "print(3 or 1) #boolean OR operator"
   ]
  },
  {
   "cell_type": "markdown",
   "metadata": {},
   "source": [
    "# python keywords\n",
    "\n",
    "and, as, assert, break, class, continue, def, del, elif, else,\n",
    "except, False, finally, for, from, global, if, import, in, is, \n",
    "lambda, None, nonlocal, not, or, pass, raise, return, True, try, \n",
    "while, with, yield"
   ]
  },
  {
   "cell_type": "markdown",
   "metadata": {},
   "source": [
    "# List  and String are Sequential data type"
   ]
  },
  {
   "cell_type": "raw",
   "metadata": {},
   "source": [
    "a list is just a collection of other elements.\n",
    "a element can be anything, it can be number it can string, it can be list, or any valid python object or attribute"
   ]
  },
  {
   "cell_type": "raw",
   "metadata": {},
   "source": [
    "if All elements of a list are of same type then list is known as array\n",
    "list can be homogenous or hetrogenous\n",
    "homogenous -> similar elements\n",
    "hetrogenous -> different elements"
   ]
  },
  {
   "cell_type": "markdown",
   "metadata": {},
   "source": [
    "all the arrays are lists but list can be all time a array."
   ]
  },
  {
   "cell_type": "code",
   "execution_count": null,
   "metadata": {},
   "outputs": [],
   "source": [
    "mylist = [ 1,2,3,4,57] #homogenous\n",
    "mylist2 = [ 'hi','hello','how'] #homogenous\n",
    "mylist3 = [ 1,2,3.14,5+6j,['h','i','o'],'hello','hi'] #structure"
   ]
  },
  {
   "cell_type": "code",
   "execution_count": null,
   "metadata": {},
   "outputs": [],
   "source": [
    "print(mylist)"
   ]
  },
  {
   "cell_type": "code",
   "execution_count": null,
   "metadata": {},
   "outputs": [],
   "source": [
    "print(mylist3)\n",
    "a = \"TPoyrtohnotno  ciosu rtshees  lianr gTeosrto nCtiot yb yi nB oCdaennasdeao\"\n",
    "print(a)\n",
    "print(a[::2])\n",
    "print(a[1::2])"
   ]
  },
  {
   "cell_type": "code",
   "execution_count": null,
   "metadata": {},
   "outputs": [],
   "source": [
    "l = [ 1,2,3,'hello','hi',3.14,'bye']\n",
    "print(l[4])\n",
    "print(l[-3])"
   ]
  },
  {
   "cell_type": "code",
   "execution_count": null,
   "metadata": {},
   "outputs": [],
   "source": [
    "l = [ 1,2,3,[3,4,115,6,337,8,8,10],'hi','hello']"
   ]
  },
  {
   "cell_type": "code",
   "execution_count": null,
   "metadata": {},
   "outputs": [],
   "source": [
    "l[3].sort()\n",
    "l"
   ]
  },
  {
   "cell_type": "code",
   "execution_count": null,
   "metadata": {},
   "outputs": [],
   "source": [
    "l = [\n",
    "    [3,4,435,56,53,4,2],\n",
    "    [23,4,5,[57,68,656],45,],\n",
    "    [2,3,5,56,67,545,3,4,],\n",
    "]"
   ]
  },
  {
   "cell_type": "code",
   "execution_count": null,
   "metadata": {},
   "outputs": [],
   "source": [
    "print(l[1][3][-1])"
   ]
  },
  {
   "cell_type": "code",
   "execution_count": null,
   "metadata": {},
   "outputs": [],
   "source": [
    "#l[start:end:step]\n",
    "l = [ 45,457,5,4,34,3,65,7,4324,67,4,342,345,567,]\n",
    "print(*l)"
   ]
  },
  {
   "cell_type": "code",
   "execution_count": null,
   "metadata": {},
   "outputs": [],
   "source": [
    "print(\"Python\")\n",
    "print(*\"Python\")\n",
    "l = [ 1,2,3,'python',[4,5,6],43,34,343]\n",
    "l1=l[:4]\n",
    "l2=l[4]\n",
    "l3=l[5:]\n",
    "print(l)\n",
    "print(*(l1+l2+l3))"
   ]
  },
  {
   "cell_type": "code",
   "execution_count": null,
   "metadata": {},
   "outputs": [],
   "source": [
    "l = range(5,51,5)\n",
    "print(l)\n",
    "print(*l)\n",
    "q=range(13,131,13)\n",
    "print(*q)"
   ]
  },
  {
   "cell_type": "markdown",
   "metadata": {},
   "source": [
    "# It's a kind of abbreviation for an n-times concatenation = 'as' * 4 = asasasas"
   ]
  },
  {
   "cell_type": "code",
   "execution_count": null,
   "metadata": {},
   "outputs": [],
   "source": [
    "\n",
    "l = list('23432#@$^%$^&$%^$%#pyth9723498on')\n",
    "l2=['kjhsdbfjbhsd']\n",
    "print(*l)\n",
    "print(*l2)\n",
    "print(l)\n",
    "print(l2)\n",
    "\n"
   ]
  },
  {
   "cell_type": "code",
   "execution_count": null,
   "metadata": {},
   "outputs": [],
   "source": [
    "l = list(range(1,50,3))\n",
    "print(type(l))\n",
    "print(l)\n",
    "#q=range(1,50,3)\n",
    "\n",
    "enter=int(input('Enter the number you want to print table.'))\n",
    "print(*list(range(enter,(enter*10+1),enter)))\n",
    "\n",
    "print(*list(q))\n",
    "\n"
   ]
  },
  {
   "cell_type": "code",
   "execution_count": null,
   "metadata": {},
   "outputs": [],
   "source": [
    "s = l[5:12:2]\n",
    "print(s)\n",
    "\n",
    "# sigle line table\n",
    "z = int(input(\"Enter the number you want to print table.\"))\n",
    "print(*range(z,(z*10)+1,z))"
   ]
  },
  {
   "cell_type": "code",
   "execution_count": null,
   "metadata": {},
   "outputs": [],
   "source": [
    "s = l[:5]\n",
    "print(s)\n",
    "s = l[5:]\n",
    "print(s)\n",
    "print(l)\n"
   ]
  },
  {
   "cell_type": "code",
   "execution_count": null,
   "metadata": {},
   "outputs": [],
   "source": [
    "#************* IMPORTANT *******************\n",
    "x = ['a','b','c']\n",
    "y = [x] * 2          # '*2' is not dublicate the x '*' create two new references of x so when we change \n",
    "                        #1st reference all reference changes\n",
    "y[1][1] = 'q'\n",
    "y[0][0] = '__'\n",
    "y\n"
   ]
  },
  {
   "cell_type": "code",
   "execution_count": null,
   "metadata": {},
   "outputs": [],
   "source": [
    "print(l)\n",
    "l.sort()\n",
    "print(dir(l))"
   ]
  },
  {
   "cell_type": "code",
   "execution_count": null,
   "metadata": {},
   "outputs": [],
   "source": [
    "#l.extend('qwe')  # extend takes interator as an argument \n",
    "#l.append('qwe') # appends take single argument\n",
    "#(l.insert(0 , 'girraj'))\n",
    "l.reverse()\n",
    "print(l)"
   ]
  },
  {
   "cell_type": "code",
   "execution_count": null,
   "metadata": {},
   "outputs": [],
   "source": [
    "l = [1, 4, 7, 10, 13, 16, 19, 22, 25, 28, 31, 34, 37, 40, 43, 46, 49, 'asasddasd', 'asasddasd', 'asasddasd']\n",
    "print(l)"
   ]
  },
  {
   "cell_type": "code",
   "execution_count": null,
   "metadata": {},
   "outputs": [],
   "source": [
    "s = l[::-1]\n",
    "print(s)\n",
    "print(l[-1:-10:-1])"
   ]
  },
  {
   "cell_type": "code",
   "execution_count": null,
   "metadata": {},
   "outputs": [],
   "source": [
    "l = list(range(1,128))"
   ]
  },
  {
   "cell_type": "code",
   "execution_count": null,
   "metadata": {},
   "outputs": [],
   "source": [
    "print(l)"
   ]
  },
  {
   "cell_type": "code",
   "execution_count": null,
   "metadata": {},
   "outputs": [],
   "source": [
    "print(l[-1:-16:-1])\n",
    "print(l[-15:])"
   ]
  },
  {
   "cell_type": "code",
   "execution_count": null,
   "metadata": {},
   "outputs": [],
   "source": [
    "x = len(l)\n",
    "print(x)"
   ]
  },
  {
   "cell_type": "code",
   "execution_count": null,
   "metadata": {},
   "outputs": [],
   "source": [
    "#list is a mutable data type\n",
    "l = [ 234,5,443,2,4,55,7,342,4,6,3,24 ]\n",
    "print(dir(l))\n"
   ]
  },
  {
   "cell_type": "code",
   "execution_count": null,
   "metadata": {},
   "outputs": [],
   "source": [
    "l = [12,34,45,35]\n",
    "l[2] = l[2]*3\n",
    "k = [ 'hello','hi','how']\n",
    "s = l + k \n",
    "print(l)\n",
    "x=k.pop()\n",
    "print(x)\n",
    "print(k)\n",
    "print(s)\n",
    "\n"
   ]
  },
  {
   "cell_type": "code",
   "execution_count": null,
   "metadata": {},
   "outputs": [],
   "source": [
    "n = 3*[l]\n",
    "print(n)\n",
    "n[0][0] = '__'\n",
    "print(n)\n",
    "print('****************************************')\n",
    "n = 3*l\n",
    "print(n)\n",
    "n[1] = '__'\n",
    "print(n)\n",
    "\n",
    "\n"
   ]
  },
  {
   "cell_type": "code",
   "execution_count": null,
   "metadata": {},
   "outputs": [],
   "source": [
    "l = [ 'hello','hi']\n",
    "print(l)\n",
    "l[1] = 5\n",
    "print(l)\n",
    "print(dir(l))"
   ]
  },
  {
   "cell_type": "code",
   "execution_count": null,
   "metadata": {},
   "outputs": [],
   "source": [
    "l = [range(1,100),'a']\n",
    "print(*l)"
   ]
  },
  {
   "cell_type": "code",
   "execution_count": null,
   "metadata": {},
   "outputs": [],
   "source": [
    "l = [ 23,54,46,57 ]\n",
    "k = l.copy()\n",
    "j = l\n",
    "l.sort(reverse=True)\n",
    "print(l)\n",
    "print()\n",
    "print(k)\n",
    "print(j)"
   ]
  },
  {
   "cell_type": "code",
   "execution_count": null,
   "metadata": {},
   "outputs": [],
   "source": [
    "l.append('hello')\n",
    "print(l)\n",
    "print(j)\n",
    "print(k)"
   ]
  },
  {
   "cell_type": "code",
   "execution_count": null,
   "metadata": {},
   "outputs": [],
   "source": [
    "l.insert(2,'bye')\n",
    "print(l)\n",
    "print(j)\n",
    "print(k)"
   ]
  },
  {
   "cell_type": "code",
   "execution_count": null,
   "metadata": {},
   "outputs": [],
   "source": [
    "l = [ 1,2,3]\n",
    "l.append('hello')\n",
    "l.extend('python')\n",
    "l.extend((range(0,20)))\n",
    "l.append((range(0,20)))  # appends takes only single argument\n",
    "\n",
    "print(l)"
   ]
  },
  {
   "cell_type": "code",
   "execution_count": null,
   "metadata": {},
   "outputs": [],
   "source": [
    "l = [ 'hi','hello',1,2,3]\n",
    "l.append([4,5,6])\n",
    "l.extend([7,8,9])\n",
    "print(l)\n",
    "(l[5].sort(reverse = True))\n",
    "print(l)\n",
    "if 0:\n",
    "    print('asdf')"
   ]
  },
  {
   "cell_type": "code",
   "execution_count": null,
   "metadata": {},
   "outputs": [],
   "source": [
    "k = [ 'hello','hi','how']\n",
    "x=k.pop()\n",
    "print(x)\n",
    "print(k)\n",
    "l=list(range(0,30))\n",
    "x = l.pop()\n",
    "print(l)\n",
    "print(\"Deleting \",x)\n",
    "print(l)"
   ]
  },
  {
   "cell_type": "code",
   "execution_count": null,
   "metadata": {},
   "outputs": [],
   "source": [
    "y = l.pop(1)\n",
    "x = l.pop(0)\n",
    "print(\"{} and {} are deleted from list.\".format(x,y))\n",
    "print(l)"
   ]
  },
  {
   "cell_type": "code",
   "execution_count": null,
   "metadata": {},
   "outputs": [],
   "source": [
    "l.remove([6,5,4])\n",
    "print(l)"
   ]
  },
  {
   "cell_type": "code",
   "execution_count": null,
   "metadata": {},
   "outputs": [],
   "source": [
    "l1 = [ 1,23,5,34,3,2,3235,46,5,53,4,]\n",
    "l2 = [ 'hello','jcb','java','c','Zesus','c++','perl','ruby']"
   ]
  },
  {
   "cell_type": "code",
   "execution_count": null,
   "metadata": {},
   "outputs": [],
   "source": [
    "l1.sort()\n",
    "l2.sort()\n"
   ]
  },
  {
   "cell_type": "code",
   "execution_count": null,
   "metadata": {},
   "outputs": [],
   "source": [
    "print(l1)\n",
    "print(l2)"
   ]
  },
  {
   "cell_type": "code",
   "execution_count": null,
   "metadata": {},
   "outputs": [],
   "source": [
    "l1 = [ 1,23,5,34,3,2,3235,46,5,53,4,]\n",
    "l2 = [ 'hello','jcb','java','c','Zesus','c++','perl','ruby'] # capital letter ABC comes first\n",
    "print(l1.sort(reverse = True))\n",
    "print(l2.sort())\n",
    "print(l2)\n",
    "print(l1)"
   ]
  },
  {
   "cell_type": "code",
   "execution_count": null,
   "metadata": {},
   "outputs": [],
   "source": [
    "l1.sort(reverse=True)\n",
    "l2.sort(reverse=True)\n",
    "print(l1)\n",
    "print(l2)"
   ]
  },
  {
   "cell_type": "code",
   "execution_count": null,
   "metadata": {},
   "outputs": [],
   "source": [
    "s = [ 234,5,34,34,'hello','hi',123]\n",
    "print(s)\n",
    "s.reverse()\n",
    "print(s)\n",
    "s.clear()\n",
    "print(s)"
   ]
  },
  {
   "cell_type": "code",
   "execution_count": null,
   "metadata": {},
   "outputs": [],
   "source": [
    "del s\n",
    "print(s)"
   ]
  },
  {
   "cell_type": "code",
   "execution_count": null,
   "metadata": {},
   "outputs": [],
   "source": [
    "l = [ 1,2,43,1,24,35,1,2,424,21,2,1,1,1,1,1,2,34,35,32,532,32,34,32,2]"
   ]
  },
  {
   "cell_type": "code",
   "execution_count": null,
   "metadata": {},
   "outputs": [],
   "source": [
    "print(l)\n",
    "l = (range(10,100,5))\n",
    "print(*l)\n",
    "print(l)"
   ]
  },
  {
   "cell_type": "code",
   "execution_count": null,
   "metadata": {},
   "outputs": [],
   "source": [
    "one = l.count(1)\n",
    "th = l.count(3)\n",
    "t = l.count(2)\n",
    "print(one)\n",
    "print(th)\n",
    "print(t)"
   ]
  },
  {
   "cell_type": "code",
   "execution_count": null,
   "metadata": {},
   "outputs": [],
   "source": [
    "l.append(35)\n",
    "l.sort();l=l[l.count(1):]\n",
    "print(l)"
   ]
  },
  {
   "cell_type": "code",
   "execution_count": null,
   "metadata": {},
   "outputs": [],
   "source": [
    "print(l)"
   ]
  },
  {
   "cell_type": "code",
   "execution_count": null,
   "metadata": {},
   "outputs": [],
   "source": [
    "c = l.count(35)#2\n",
    "i = l.index(35) #12\n",
    "k = l[:i] #l[0:12]\n",
    "j = l[i+c:] #l[14:]\n",
    "l = k+j\n",
    "print(l)\n",
    "print(c)\n",
    "print(i)\n",
    "print(k)\n",
    "print(j)"
   ]
  },
  {
   "cell_type": "code",
   "execution_count": null,
   "metadata": {},
   "outputs": [],
   "source": [
    "i=[1,1,1,1,5,3,8,0,5,1,6,9,4,3]\n",
    "print(i)"
   ]
  },
  {
   "cell_type": "code",
   "execution_count": null,
   "metadata": {},
   "outputs": [],
   "source": [
    "i"
   ]
  },
  {
   "cell_type": "code",
   "execution_count": null,
   "metadata": {},
   "outputs": [],
   "source": [
    "print(dir(l))"
   ]
  },
  {
   "cell_type": "code",
   "execution_count": null,
   "metadata": {},
   "outputs": [],
   "source": [
    "print(l)"
   ]
  },
  {
   "cell_type": "code",
   "execution_count": null,
   "metadata": {},
   "outputs": [],
   "source": [
    "i = [9]\n",
    "i.extend([2,3,4])\n",
    "i.append([2,3,4])\n",
    "print(i)"
   ]
  },
  {
   "cell_type": "code",
   "execution_count": null,
   "metadata": {},
   "outputs": [],
   "source": [
    "print(i.reverse())"
   ]
  },
  {
   "cell_type": "code",
   "execution_count": null,
   "metadata": {},
   "outputs": [],
   "source": [
    "i.reverse()\n",
    "print(i)"
   ]
  },
  {
   "cell_type": "code",
   "execution_count": null,
   "metadata": {},
   "outputs": [],
   "source": [
    "print(i)"
   ]
  },
  {
   "cell_type": "code",
   "execution_count": null,
   "metadata": {},
   "outputs": [],
   "source": [
    "i.reverse()\n",
    "print(i)"
   ]
  },
  {
   "cell_type": "code",
   "execution_count": null,
   "metadata": {},
   "outputs": [],
   "source": [
    "print(i.sort())"
   ]
  },
  {
   "cell_type": "code",
   "execution_count": null,
   "metadata": {},
   "outputs": [],
   "source": [
    "i.sort(reverse=True)\n",
    "print(i)"
   ]
  },
  {
   "cell_type": "code",
   "execution_count": null,
   "metadata": {},
   "outputs": [],
   "source": [
    "i.sort()\n",
    "print(i)"
   ]
  },
  {
   "cell_type": "code",
   "execution_count": null,
   "metadata": {},
   "outputs": [],
   "source": [
    "index=i.index(5)\n",
    "count=i.count(5)\n",
    "lis=i[index+count:]\n",
    "lis2=i[:index]\n",
    "l=lis2+lis\n",
    "print(l)\n",
    "l.remove(3)\n",
    "print(l)"
   ]
  },
  {
   "cell_type": "code",
   "execution_count": null,
   "metadata": {},
   "outputs": [],
   "source": [
    "# variable 'a' is not a integer variable it is a object of integer variable and reference to that object which store the 85 value\n",
    "a = 85\n",
    "print(type(a))\n",
    "class demo:\n",
    "    b = 10\n",
    "demoobj = demo()\n",
    "print(type(demoobj))\n",
    "print(type(demo.b))\n"
   ]
  },
  {
   "cell_type": "markdown",
   "metadata": {},
   "source": [
    "# Checking runtime\n",
    "augmented assigment (+=) > extend() > append() "
   ]
  },
  {
   "cell_type": "code",
   "execution_count": null,
   "metadata": {},
   "outputs": [],
   "source": [
    "import time\n",
    "print(time.time())\n",
    "n = 10000000\n",
    "start_time = time.time()\n",
    "l = []\n",
    "#for i in range(n):\n",
    " #   l = l + [i*2]  # badest assigment\n",
    "#print(time.time() - start_time)\n",
    "\n",
    "start_time = time.time()\n",
    "l = []\n",
    "for i in range(n):\n",
    "    l += [i*2]  # \"augmented assignment\" is most fastest assignment\n",
    "print(time.time() - start_time)\n",
    "\n",
    "start_time = time.time()\n",
    "l = []\n",
    "for i in range(n):\n",
    "    l.append([i*2]) # append 3rd higest\n",
    "print(time.time() - start_time)\n",
    "\n",
    "start_time = time.time()\n",
    "l = []\n",
    "for i in range(n):\n",
    "    l.extend([i*2]) #extend 2nd higest \n",
    "print(time.time() - start_time)\n"
   ]
  },
  {
   "cell_type": "code",
   "execution_count": null,
   "metadata": {},
   "outputs": [],
   "source": [
    "n= 10000\n",
    "\n",
    "start_time = time.time()\n",
    "l = []\n",
    "for i in range(n):\n",
    "    l = l + [i * 2]\n",
    "print(time.time() - start_time)\n",
    "\n",
    "start_time = time.time()\n",
    "l = []\n",
    "for i in range(n):\n",
    "    l += [i * 2]\n",
    "print(time.time() - start_time)\n",
    "\n",
    "start_time = time.time()\n",
    "l = []\n",
    "for i in range(n):\n",
    "    l.append(i * 2)\n",
    "print(time.time() - start_time)"
   ]
  },
  {
   "cell_type": "code",
   "execution_count": null,
   "metadata": {},
   "outputs": [],
   "source": [
    "l = [1,2,3,4]\n",
    "if 1 in l:\n",
    "    print('hai bhai')\n",
    "l = [l] * 3  # this '*3' create 3 same references so if we change one value all reference values updated\n",
    "print(l)\n",
    "l[0][2] = 'a'\n",
    "print(l)"
   ]
  },
  {
   "cell_type": "markdown",
   "metadata": {},
   "source": [
    "## Copying a List "
   ]
  },
  {
   "cell_type": "code",
   "execution_count": null,
   "metadata": {},
   "outputs": [],
   "source": [
    "a = 12\n",
    "b = a\n",
    "print(id(a),id(b))\n",
    "b = 10\n",
    "print(a,b)\n",
    "print(id(a),id(b))"
   ]
  },
  {
   "cell_type": "markdown",
   "metadata": {},
   "source": [
    "This is not similar in case of 'List'. Let's have a look"
   ]
  },
  {
   "cell_type": "code",
   "execution_count": null,
   "metadata": {},
   "outputs": [],
   "source": [
    "a = [1,2,3]\n",
    "b = a\n",
    "print(a,b)\n",
    "print(id(a),id(b))\n",
    "# now we change value of b\n",
    "b[0] = 99\n",
    "print(a,b)\n",
    "print(id(a),id(b))"
   ]
  },
  {
   "cell_type": "code",
   "execution_count": null,
   "metadata": {},
   "outputs": [],
   "source": [
    "from copy import deepcopy\n",
    "l1 = [1,2,[3,4]] #\n",
    "l2 = deepcopy(l1)\n",
    "print(l1,l2)\n",
    "print(id(l1),id(l2))\n",
    "print(id(l1[0]),id(l2[0]))\n",
    "print(id(l1[2]),id(l2[2]))\n"
   ]
  },
  {
   "cell_type": "markdown",
   "metadata": {},
   "source": [
    "# 3.Dictionary (11 Funtions)\n",
    "\n",
    "dictionaries are the Python implementation of an abstract data type\n",
    "\n",
    "Dictionaries don't support the sequence operation of the sequence data types like strings, tuples and lists. Dictionaries belong to the built-in mapping type, but so far they are the sole representative of this kind! "
   ]
  },
  {
   "cell_type": "code",
   "execution_count": null,
   "metadata": {},
   "outputs": [],
   "source": [
    "info = { \n",
    "        'name' : 'python',\n",
    "        'year' : 1991,\n",
    "        'Developed_by' : 'Guido Van Rossum',\n",
    "        'versions' : ['1.x','2.x','3.x'],\n",
    "        'current_version' : 3.6,\n",
    "        'frame_work' : { 'web' : [ 'Django','Flask','Web2py',],\n",
    "                        'application' : [ 'kivi','wxpython','tkinter',],\n",
    "                        'automation' : [ 'Salt','Ansible','Openstack'],\n",
    "                        'ml' : [ 'numpy','scipy','pandas','sckit-learn']\n",
    "                            }\n",
    "        \n",
    "        }"
   ]
  },
  {
   "cell_type": "code",
   "execution_count": null,
   "metadata": {},
   "outputs": [],
   "source": [
    "print(dir(info))"
   ]
  },
  {
   "cell_type": "code",
   "execution_count": null,
   "metadata": {},
   "outputs": [],
   "source": [
    "info2 = (info.copy())\n",
    "info2"
   ]
  },
  {
   "cell_type": "code",
   "execution_count": null,
   "metadata": {},
   "outputs": [],
   "source": [
    "print(info.clear())\n",
    "info\n"
   ]
  },
  {
   "cell_type": "code",
   "execution_count": null,
   "metadata": {},
   "outputs": [],
   "source": [
    "info2"
   ]
  },
  {
   "cell_type": "code",
   "execution_count": null,
   "metadata": {},
   "outputs": [],
   "source": [
    "info2['frame_work']['ml'][1]"
   ]
  },
  {
   "cell_type": "code",
   "execution_count": null,
   "metadata": {},
   "outputs": [],
   "source": [
    "info2['frame_work'].pop('ml') # it takes parameter and return poped element "
   ]
  },
  {
   "cell_type": "code",
   "execution_count": null,
   "metadata": {},
   "outputs": [],
   "source": [
    "info2['frame_work'].popitem() # it doesnt take an argument it pop last element and return poped element"
   ]
  },
  {
   "cell_type": "code",
   "execution_count": null,
   "metadata": {},
   "outputs": [],
   "source": [
    "info2.keys()"
   ]
  },
  {
   "cell_type": "code",
   "execution_count": null,
   "metadata": {},
   "outputs": [],
   "source": [
    "info2.items() # returned paired values"
   ]
  },
  {
   "cell_type": "code",
   "execution_count": null,
   "metadata": {},
   "outputs": [],
   "source": [
    "print((list(info2.values())[5]['web'][1]))\n",
    "(info2['frame_work']['web'][1])"
   ]
  },
  {
   "cell_type": "code",
   "execution_count": null,
   "metadata": {},
   "outputs": [],
   "source": [
    "info2"
   ]
  },
  {
   "cell_type": "code",
   "execution_count": null,
   "metadata": {},
   "outputs": [],
   "source": [
    "print(info2.get('name')) # to get values of argumented keys\n",
    "info2.update({'KKKK':'VVVV'}) # to add subdictionary into dictionary MERGING A DICTIONARY\n",
    "info2"
   ]
  },
  {
   "cell_type": "code",
   "execution_count": null,
   "metadata": {},
   "outputs": [],
   "source": [
    "info2.setdefault('QQQQ',\"NEWNEWNEWNEWNEW\") # it insert key,value in dict if given key is not in dict\n",
    "info2"
   ]
  },
  {
   "cell_type": "markdown",
   "metadata": {},
   "source": [
    "### To measure the time required by loop"
   ]
  },
  {
   "cell_type": "code",
   "execution_count": null,
   "metadata": {},
   "outputs": [],
   "source": [
    "%%timeit d = {\"a\":123, \"b\":34, \"c\":304, \"d\":99}\n",
    "a = 0\n",
    "for key in d.keys():\n",
    "    x=d[key]\n",
    "    a+=1 "
   ]
  },
  {
   "cell_type": "code",
   "execution_count": null,
   "metadata": {},
   "outputs": [],
   "source": [
    "print(info2)\n",
    "print()\n",
    "print(list(info2.items()))"
   ]
  },
  {
   "cell_type": "code",
   "execution_count": null,
   "metadata": {},
   "outputs": [],
   "source": [
    "sections = ['A','B','C','D']\n",
    "students = [12,45,76,87]\n",
    "d = {}\n",
    "combine = list(zip(sections, students))  # zip return tuple pairs\n",
    "print(combine)\n",
    "d.update(combine)\n",
    "d"
   ]
  },
  {
   "cell_type": "code",
   "execution_count": null,
   "metadata": {},
   "outputs": [],
   "source": [
    "combine2 = [[\"Q\",44],['W',66],['T',55],['U',99]]\n",
    "d.update(combine2)\n",
    "print(d)\n",
    "d.clear()\n",
    "print(d)\n",
    "d = dict(combine2) # we can also do by this \n",
    "print(d)\n"
   ]
  },
  {
   "cell_type": "code",
   "execution_count": null,
   "metadata": {},
   "outputs": [],
   "source": [
    "l1 = [1,2,3]\n",
    "l2 = ['a','b','c']\n",
    "c = zip(l2,l1) # zip is an iterator so it only one time use i.e either we assign in some other variable or use in for loop\n",
    "a = list(c)  # Now, C is empty  and 'a' is stores c's elements\n",
    "for i in a:\n",
    "    print(i)\n",
    "for j in c:\n",
    "    print(j)\n",
    "print('@@')"
   ]
  },
  {
   "cell_type": "code",
   "execution_count": null,
   "metadata": {},
   "outputs": [],
   "source": [
    "c = zip(l1,l2)\n",
    "a = list(c)\n",
    "b = list(c)\n",
    "print('a = ',a)\n",
    "print('b = ',b)"
   ]
  },
  {
   "cell_type": "markdown",
   "metadata": {},
   "source": [
    "# 4.Tuples (2 Funtions [count,index])"
   ]
  },
  {
   "cell_type": "code",
   "execution_count": null,
   "metadata": {},
   "outputs": [],
   "source": [
    "# tuples are im-mutable i.e we cannot change if we assign some values to tuples\n",
    "tupl = tuple((range(19)))\n",
    "print(dir(tupl))\n",
    "print(type(tupl))\n",
    "print(*tupl)"
   ]
  },
  {
   "cell_type": "code",
   "execution_count": null,
   "metadata": {},
   "outputs": [],
   "source": [
    "print(tupl.count(3))\n",
    "len(tupl)"
   ]
  },
  {
   "cell_type": "code",
   "execution_count": null,
   "metadata": {},
   "outputs": [],
   "source": [
    "print(tupl.index(18))"
   ]
  },
  {
   "cell_type": "code",
   "execution_count": null,
   "metadata": {},
   "outputs": [],
   "source": [
    "for i in tupl:\n",
    "    print(i , end = \" \") \n"
   ]
  },
  {
   "cell_type": "markdown",
   "metadata": {},
   "source": [
    "# 5.Sets (17 functions) \n",
    "\n",
    "Build an unordered collection of unique elements.\n",
    "1. set automatically remove dublicate occurances\n",
    "2. its order is random"
   ]
  },
  {
   "cell_type": "code",
   "execution_count": 1,
   "metadata": {},
   "outputs": [
    {
     "name": "stdout",
     "output_type": "stream",
     "text": [
      "<class 'set'>\n",
      "['__and__', '__class__', '__contains__', '__delattr__', '__dir__', '__doc__', '__eq__', '__format__', '__ge__', '__getattribute__', '__gt__', '__hash__', '__iand__', '__init__', '__init_subclass__', '__ior__', '__isub__', '__iter__', '__ixor__', '__le__', '__len__', '__lt__', '__ne__', '__new__', '__or__', '__rand__', '__reduce__', '__reduce_ex__', '__repr__', '__ror__', '__rsub__', '__rxor__', '__setattr__', '__sizeof__', '__str__', '__sub__', '__subclasshook__', '__xor__', 'add', 'clear', 'copy', 'difference', 'difference_update', 'discard', 'intersection', 'intersection_update', 'isdisjoint', 'issubset', 'issuperset', 'pop', 'remove', 'symmetric_difference', 'symmetric_difference_update', 'union', 'update']\n",
      "{1, 2, 3, 4, 5, 6}\n"
     ]
    }
   ],
   "source": [
    "s1 = {1,2,3,4,5,6,3,4,2,3,4,5}\n",
    "print(type(s1))\n",
    "print(dir(s1))\n",
    "print(s1)"
   ]
  },
  {
   "cell_type": "code",
   "execution_count": null,
   "metadata": {},
   "outputs": [],
   "source": [
    "s2 = {2,3,1,52,2,134,23,4,23,51,11,5,7,3,2,4,2,1}   \n",
    "print('s2 :' ,s2)\n",
    "print('s1 :' ,s1)\n"
   ]
  },
  {
   "cell_type": "code",
   "execution_count": null,
   "metadata": {},
   "outputs": [],
   "source": [
    "print(\"union : \",s1.union(s2))\n",
    "print(\"differences : \",s1.difference(s2))\n",
    "print(\"intersection : \",s1.intersection(s2))\n",
    "print(\"s1 IsSubset of s2 : \",s1.issubset(s2))\n",
    "#s1.remove(99)\n"
   ]
  },
  {
   "cell_type": "code",
   "execution_count": null,
   "metadata": {},
   "outputs": [],
   "source": [
    "s1.add('asasa')\n",
    "#s1.clear()\n",
    "print('s1 : ',s1)\n",
    "s1 = s2  # keep it mind that never dublicate varibles like this bcz if u clear s1 then s2 is also clear\n",
    "print(\"s2 : \",s2)\n",
    "print(id(s1),id(s2))"
   ]
  },
  {
   "cell_type": "code",
   "execution_count": null,
   "metadata": {},
   "outputs": [],
   "source": [
    "s3 = s1.copy()\n",
    "print(id(s1),id(s2),id(s3))\n",
    "s3"
   ]
  },
  {
   "cell_type": "code",
   "execution_count": null,
   "metadata": {},
   "outputs": [],
   "source": [
    "s1.clear()\n",
    "print(s3)\n",
    "print(s1)\n",
    "s3.add(199999) # add takes exactly one argument\n",
    "print(s3.pop())  # randomly pop an element\n",
    "s3"
   ]
  },
  {
   "cell_type": "code",
   "execution_count": null,
   "metadata": {},
   "outputs": [],
   "source": [
    "s3.update(range(10))  # update takes an interator\n",
    "print(s3)"
   ]
  },
  {
   "cell_type": "code",
   "execution_count": null,
   "metadata": {},
   "outputs": [],
   "source": [
    "cities = dict(\n",
    "                    [       \n",
    "                        (\"Python\",\"Perl\"), \n",
    "                        (\"Paris\", \"Berlin\")\n",
    "                     ]\n",
    "            )\n",
    "cities"
   ]
  },
  {
   "cell_type": "code",
   "execution_count": null,
   "metadata": {},
   "outputs": [],
   "source": [
    "cities = list(\n",
    "                    {       \n",
    "                        (\"Python\",\"Perl\"), \n",
    "                        (\"Paris\", \"Berlin\")\n",
    "                    }\n",
    "            )\n",
    "cities"
   ]
  },
  {
   "cell_type": "code",
   "execution_count": null,
   "metadata": {},
   "outputs": [],
   "source": [
    "cities = str(\n",
    "                    {       \n",
    "                        (\"Python\",\"Perl\"), \n",
    "                        (\"Paris\", \"Berlin\")\n",
    "                    }\n",
    "            )\n",
    "cities"
   ]
  },
  {
   "cell_type": "code",
   "execution_count": null,
   "metadata": {},
   "outputs": [],
   "source": [
    "cities = tuple(\n",
    "                    {       \n",
    "                        (\"Python\",\"Perl\"), \n",
    "                        (\"Paris\", \"Berlin\")\n",
    "                    }\n",
    "            )\n",
    "cities"
   ]
  },
  {
   "cell_type": "code",
   "execution_count": null,
   "metadata": {},
   "outputs": [],
   "source": [
    "cities = set(  # we cannot add list as an element\n",
    "                    {       \n",
    "                        (\"Python\",\"Perl\"), \n",
    "                        (\"Paris\", \"Berlin\")\n",
    "                    }\n",
    "            )\n",
    "cities"
   ]
  },
  {
   "cell_type": "markdown",
   "metadata": {},
   "source": [
    "Actually set contains elements inorder manner which means we cannot traverse to a particular element like s[1] bcz is it not \n",
    "compulsary that 1 index element of s is always same. So, ultimately we cant able to create 2D list into set bcz if we create \n",
    "2D list then how we can traverse to that element\n",
    "\n",
    "so set is a collection of 1D array"
   ]
  },
  {
   "cell_type": "code",
   "execution_count": null,
   "metadata": {},
   "outputs": [],
   "source": [
    "name = ['girraj','naman','vikram','saransh','aayush','sristi'] \n",
    "new_set = ((name)) # it take single value not iterator   () this cannot convert list into tuple but tuple() does\n",
    "print(type(new_set))\n",
    "new_set = {'girraj','naman','vikram','saransh','aayush','sristi'}\n",
    "print(new_set)\n",
    "#new_set2 = {[1,2,3,4,5]} set cannot take list \n",
    "a = set([1,2,2,3,3,4,5,5,3,4])\n",
    "#b = {[1,2,2,3,3,4,5,5,3,4]}  # wrong way to assign set\n",
    "a\n",
    "print(dir(a))\n"
   ]
  },
  {
   "cell_type": "code",
   "execution_count": null,
   "metadata": {},
   "outputs": [],
   "source": [
    "a.update(['asdfasdf','asdfasdf','adsfasdf'])\n",
    "print(a)\n",
    "b = [1,2,3,4,5]\n",
    "print(b)\n",
    "a.difference(b)  # it is possible to take difference between list and set\n",
    "x = {\"a\",\"b\",\"c\",\"d\",\"e\"}\n",
    "y = {\"b\",\"c\"}\n",
    "z = {\"c\",\"d\"}\n",
    "print(\"x-y-z: \",x-y-z)  # similar with  \n",
    "print(\"x.difference(y) : \",x.difference(y).difference_update(z))\n",
    "x.difference_update(y)  # it take difference and remove element from 'x' \n",
    "x"
   ]
  },
  {
   "cell_type": "code",
   "execution_count": null,
   "metadata": {},
   "outputs": [],
   "source": [
    "#x.pop()   # it randomly remove element\n",
    "#x.remove('a')  # it raise exception if element not in a set\n",
    "x.discard('q')  # nothing will happen if element not in a set\n",
    "print(x)\n"
   ]
  },
  {
   "cell_type": "markdown",
   "metadata": {},
   "source": [
    "### FrozenSet\n",
    "Difference between frozenset and set is that this is immutable we cannot add or remove element from frozenset \n",
    "\n",
    "Build an immutable unordered collection of unique elements."
   ]
  },
  {
   "cell_type": "code",
   "execution_count": null,
   "metadata": {},
   "outputs": [],
   "source": [
    "frozen = frozenset([1,2,3,41,2,3,4,1,3,3,4])  # it is just like tuple in this repeatation is not allow\n",
    "print(frozen)\n",
    "print(type(frozen))\n",
    "print(dir(frozen))"
   ]
  },
  {
   "cell_type": "code",
   "execution_count": null,
   "metadata": {},
   "outputs": [],
   "source": [
    "x = {\"a\",\"b\",\"c\"}\n",
    "y = {\"c\",\"d\",\"e\"}\n",
    "print(x.isdisjoint(y)) # x and y are connected or not if they connected then return false\n",
    " \n",
    "x = {\"a\",\"b\",\"c\"}\n",
    "y = {\"d\",\"e\",\"f\"}\n",
    "print(x.isdisjoint(y))"
   ]
  },
  {
   "cell_type": "code",
   "execution_count": null,
   "metadata": {},
   "outputs": [],
   "source": [
    "x.symmetric_difference(y)  # common ke alwa sab kuch return karke dega\n"
   ]
  },
  {
   "cell_type": "code",
   "execution_count": null,
   "metadata": {},
   "outputs": [],
   "source": [
    "x = {\"a\",\"b\",\"c\",\"d\",\"e\"}\n",
    "y = {\"c\",\"d\"}\n",
    "print(x.issuperset(y))\n",
    "print(x > y)\n",
    "print(x >= y)\n",
    "print(x >= x)\n",
    "print(x > x)\n",
    "print(x.issuperset(x))"
   ]
  },
  {
   "cell_type": "code",
   "execution_count": null,
   "metadata": {},
   "outputs": [],
   "source": [
    "print(dir(frozenset))"
   ]
  }
 ],
 "metadata": {
  "kernelspec": {
   "display_name": "Python 3",
   "language": "python",
   "name": "python3"
  },
  "language_info": {
   "codemirror_mode": {
    "name": "ipython",
    "version": 3
   },
   "file_extension": ".py",
   "mimetype": "text/x-python",
   "name": "python",
   "nbconvert_exporter": "python",
   "pygments_lexer": "ipython3",
   "version": "3.6.5"
  }
 },
 "nbformat": 4,
 "nbformat_minor": 2
}
